{
 "cells": [
  {
   "cell_type": "markdown",
   "id": "f027164d",
   "metadata": {},
   "source": [
    "\n",
    "# Final Project\n",
    "# Big Data - Fall 2021\n",
    "\n",
    "## By ma5416, sp6322 & lk2849\n",
    "\n",
    "### NYPD Complaint Data Historic Public Safety\n",
    "### This dataset includes all valid felony, misdemeanor, and violation crimes reported to the New York City Police Department (NYPD)\n",
    "### https://data.cityofnewyork.us/Public-Safety/NYPD-Complaint-Data-Historic/qgea-i56i\n"
   ]
  },
  {
   "cell_type": "markdown",
   "id": "040be848",
   "metadata": {},
   "source": [
    "#### Import dependencies:"
   ]
  },
  {
   "cell_type": "code",
   "execution_count": 1,
   "id": "91fd3882",
   "metadata": {},
   "outputs": [
    {
     "name": "stdout",
     "output_type": "stream",
     "text": [
      "Python version: 3.8.8 (default, Apr 13 2021, 12:59:45) \n",
      "[Clang 10.0.0 ]\n",
      "pandas version: 1.2.4\n",
      "matplotlib version: 3.3.4\n",
      "NumPy version: 1.20.1\n",
      "SciPy version: 1.6.2\n",
      "IPython version: 7.22.0\n",
      "scikit-learn version: 0.24.1\n",
      "-------------------------\n"
     ]
    }
   ],
   "source": [
    "import sys #access to system parameters https://docs.python.org/3/library/sys.html\n",
    "print(\"Python version: {}\". format(sys.version))\n",
    "\n",
    "import pandas as pd #collection of functions for data processing and analysis modeled after R dataframes with SQL like features\n",
    "print(\"pandas version: {}\". format(pd.__version__))\n",
    "\n",
    "import matplotlib #collection of functions for scientific and publication-ready visualization\n",
    "import matplotlib as plt\n",
    "print(\"matplotlib version: {}\". format(matplotlib.__version__))\n",
    "\n",
    "import numpy as np #foundational package for scientific computing\n",
    "print(\"NumPy version: {}\". format(np.__version__))\n",
    "\n",
    "import scipy as sp #collection of functions for scientific computing and advance mathematics\n",
    "print(\"SciPy version: {}\". format(sp.__version__)) \n",
    "\n",
    "import IPython\n",
    "from IPython import display #pretty printing of dataframes in Jupyter notebook\n",
    "print(\"IPython version: {}\". format(IPython.__version__)) \n",
    "\n",
    "import sklearn #collection of machine learning algorithms\n",
    "print(\"scikit-learn version: {}\". format(sklearn.__version__))\n",
    "\n",
    "#misc libraries\n",
    "import random\n",
    "import time\n",
    "#ignore warnings\n",
    "import warnings\n",
    "warnings.filterwarnings('ignore')\n",
    "print('-'*25)\n",
    "import re\n",
    "import os\n",
    "import matplotlib.pyplot as plt\n",
    "%matplotlib inline"
   ]
  },
  {
   "cell_type": "markdown",
   "id": "f09d4a01",
   "metadata": {},
   "source": [
    "#### Download data file if it has not been downloaded already:"
   ]
  },
  {
   "cell_type": "code",
   "execution_count": 2,
   "id": "3ce97e2b",
   "metadata": {},
   "outputs": [
    {
     "name": "stdout",
     "output_type": "stream",
     "text": [
      "File NYPD_Complaint_Data_Historic.csv has already been downloaded\n"
     ]
    }
   ],
   "source": [
    "#url = 'https://data.cityofnewyork.us/api/views/qgea-i56i/rows.csv?accessType=DOWNLOAD'\n",
    "fn_src = 'https://data.cityofnewyork.us/api/views/qgea-i56i/rows.csv?accessType=DOWNLOAD'\n",
    "fn_dst = 'NYPD_Complaint_Data_Historic.csv'\n",
    "\n",
    "from six.moves import urllib\n",
    "\n",
    "if os.path.isfile(fn_dst):\n",
    "    print('File %s has already been downloaded' % fn_dst)\n",
    "else:\n",
    "    print('Fetching file %s[2.4GB]. This may take a while...' % fn_dst)\n",
    "    urllib.request.urlretrieve(fn_src, fn_dst)\n",
    "    print('File %s has been downloaded' % fn_dst)"
   ]
  },
  {
   "cell_type": "markdown",
   "id": "b7f7badb",
   "metadata": {},
   "source": [
    "#### Open a stream to the data file so we don't have to load the whole data set into main memory"
   ]
  },
  {
   "cell_type": "code",
   "execution_count": 3,
   "id": "9e79c161",
   "metadata": {},
   "outputs": [],
   "source": [
    "from openclean.pipeline import stream\n",
    "ds_full = stream(fn_dst)"
   ]
  },
  {
   "cell_type": "code",
   "execution_count": 4,
   "id": "45f70b91",
   "metadata": {},
   "outputs": [
    {
     "name": "stdout",
     "output_type": "stream",
     "text": [
      "The dataset contains 7,375,993 rows.\n"
     ]
    }
   ],
   "source": [
    "print(f'The dataset contains {ds_full.count():,} rows.')"
   ]
  },
  {
   "cell_type": "code",
   "execution_count": 5,
   "id": "0204994c",
   "metadata": {},
   "outputs": [
    {
     "data": {
      "text/html": [
       "<div>\n",
       "<style scoped>\n",
       "    .dataframe tbody tr th:only-of-type {\n",
       "        vertical-align: middle;\n",
       "    }\n",
       "\n",
       "    .dataframe tbody tr th {\n",
       "        vertical-align: top;\n",
       "    }\n",
       "\n",
       "    .dataframe thead th {\n",
       "        text-align: right;\n",
       "    }\n",
       "</style>\n",
       "<table border=\"1\" class=\"dataframe\">\n",
       "  <thead>\n",
       "    <tr style=\"text-align: right;\">\n",
       "      <th></th>\n",
       "      <th>CMPLNT_NUM</th>\n",
       "      <th>CMPLNT_FR_DT</th>\n",
       "      <th>CMPLNT_FR_TM</th>\n",
       "      <th>CMPLNT_TO_DT</th>\n",
       "      <th>CMPLNT_TO_TM</th>\n",
       "      <th>ADDR_PCT_CD</th>\n",
       "      <th>RPT_DT</th>\n",
       "      <th>KY_CD</th>\n",
       "      <th>OFNS_DESC</th>\n",
       "      <th>PD_CD</th>\n",
       "      <th>...</th>\n",
       "      <th>SUSP_SEX</th>\n",
       "      <th>TRANSIT_DISTRICT</th>\n",
       "      <th>Latitude</th>\n",
       "      <th>Longitude</th>\n",
       "      <th>Lat_Lon</th>\n",
       "      <th>PATROL_BORO</th>\n",
       "      <th>STATION_NAME</th>\n",
       "      <th>VIC_AGE_GROUP</th>\n",
       "      <th>VIC_RACE</th>\n",
       "      <th>VIC_SEX</th>\n",
       "    </tr>\n",
       "  </thead>\n",
       "  <tbody>\n",
       "    <tr>\n",
       "      <th>0</th>\n",
       "      <td>394506329</td>\n",
       "      <td>12/31/2019</td>\n",
       "      <td>17:30:00</td>\n",
       "      <td></td>\n",
       "      <td></td>\n",
       "      <td>32</td>\n",
       "      <td>12/31/2019</td>\n",
       "      <td>118</td>\n",
       "      <td>DANGEROUS WEAPONS</td>\n",
       "      <td>793</td>\n",
       "      <td>...</td>\n",
       "      <td></td>\n",
       "      <td></td>\n",
       "      <td>40.82092679700002</td>\n",
       "      <td>-73.94332421899996</td>\n",
       "      <td>(40.82092679700002, -73.94332421899996)</td>\n",
       "      <td>PATROL BORO MAN NORTH</td>\n",
       "      <td></td>\n",
       "      <td>UNKNOWN</td>\n",
       "      <td>UNKNOWN</td>\n",
       "      <td>E</td>\n",
       "    </tr>\n",
       "    <tr>\n",
       "      <th>1</th>\n",
       "      <td>968873685</td>\n",
       "      <td>12/29/2019</td>\n",
       "      <td>16:31:00</td>\n",
       "      <td>12/29/2019</td>\n",
       "      <td>16:54:00</td>\n",
       "      <td>47</td>\n",
       "      <td>12/29/2019</td>\n",
       "      <td>113</td>\n",
       "      <td>FORGERY</td>\n",
       "      <td>729</td>\n",
       "      <td>...</td>\n",
       "      <td></td>\n",
       "      <td></td>\n",
       "      <td>40.885701406000074</td>\n",
       "      <td>-73.86164032499995</td>\n",
       "      <td>(40.885701406000074, -73.86164032499995)</td>\n",
       "      <td>PATROL BORO BRONX</td>\n",
       "      <td></td>\n",
       "      <td>UNKNOWN</td>\n",
       "      <td>UNKNOWN</td>\n",
       "      <td>E</td>\n",
       "    </tr>\n",
       "    <tr>\n",
       "      <th>2</th>\n",
       "      <td>509837549</td>\n",
       "      <td>12/15/2019</td>\n",
       "      <td>18:45:00</td>\n",
       "      <td></td>\n",
       "      <td></td>\n",
       "      <td>109</td>\n",
       "      <td>12/29/2019</td>\n",
       "      <td>578</td>\n",
       "      <td>HARRASSMENT 2</td>\n",
       "      <td>638</td>\n",
       "      <td>...</td>\n",
       "      <td>M</td>\n",
       "      <td></td>\n",
       "      <td>40.74228115600005</td>\n",
       "      <td>-73.81982408</td>\n",
       "      <td>(40.74228115600005, -73.81982408)</td>\n",
       "      <td>PATROL BORO QUEENS NORTH</td>\n",
       "      <td></td>\n",
       "      <td>25-44</td>\n",
       "      <td>WHITE HISPANIC</td>\n",
       "      <td>F</td>\n",
       "    </tr>\n",
       "    <tr>\n",
       "      <th>3</th>\n",
       "      <td>352454313</td>\n",
       "      <td>12/28/2019</td>\n",
       "      <td>01:00:00</td>\n",
       "      <td></td>\n",
       "      <td></td>\n",
       "      <td>47</td>\n",
       "      <td>12/28/2019</td>\n",
       "      <td>126</td>\n",
       "      <td>MISCELLANEOUS PENAL LAW</td>\n",
       "      <td>117</td>\n",
       "      <td>...</td>\n",
       "      <td>M</td>\n",
       "      <td></td>\n",
       "      <td>40.87531145100007</td>\n",
       "      <td>-73.84754521099995</td>\n",
       "      <td>(40.87531145100007, -73.84754521099995)</td>\n",
       "      <td>PATROL BORO BRONX</td>\n",
       "      <td></td>\n",
       "      <td>UNKNOWN</td>\n",
       "      <td>UNKNOWN</td>\n",
       "      <td>E</td>\n",
       "    </tr>\n",
       "    <tr>\n",
       "      <th>4</th>\n",
       "      <td>248803469</td>\n",
       "      <td>09/05/2008</td>\n",
       "      <td>21:41:00</td>\n",
       "      <td></td>\n",
       "      <td></td>\n",
       "      <td></td>\n",
       "      <td>09/05/2008</td>\n",
       "      <td>101</td>\n",
       "      <td>MURDER &amp; NON-NEGL. MANSLAUGHTER</td>\n",
       "      <td></td>\n",
       "      <td>...</td>\n",
       "      <td></td>\n",
       "      <td></td>\n",
       "      <td>40.698827283</td>\n",
       "      <td>-73.938819047</td>\n",
       "      <td>(40.698827283, -73.938819047)</td>\n",
       "      <td></td>\n",
       "      <td></td>\n",
       "      <td>25-44</td>\n",
       "      <td>BLACK</td>\n",
       "      <td>M</td>\n",
       "    </tr>\n",
       "    <tr>\n",
       "      <th>5</th>\n",
       "      <td>293718737</td>\n",
       "      <td>12/27/2019</td>\n",
       "      <td>22:00:00</td>\n",
       "      <td></td>\n",
       "      <td></td>\n",
       "      <td>9</td>\n",
       "      <td>12/27/2019</td>\n",
       "      <td>107</td>\n",
       "      <td>BURGLARY</td>\n",
       "      <td>223</td>\n",
       "      <td>...</td>\n",
       "      <td></td>\n",
       "      <td></td>\n",
       "      <td>40.72075882100006</td>\n",
       "      <td>-73.98046642299995</td>\n",
       "      <td>(40.72075882100006, -73.98046642299995)</td>\n",
       "      <td>PATROL BORO MAN SOUTH</td>\n",
       "      <td></td>\n",
       "      <td>UNKNOWN</td>\n",
       "      <td>UNKNOWN</td>\n",
       "      <td>M</td>\n",
       "    </tr>\n",
       "    <tr>\n",
       "      <th>6</th>\n",
       "      <td>552685226</td>\n",
       "      <td>12/27/2019</td>\n",
       "      <td>20:10:00</td>\n",
       "      <td>12/27/2019</td>\n",
       "      <td>20:15:00</td>\n",
       "      <td>79</td>\n",
       "      <td>12/27/2019</td>\n",
       "      <td>117</td>\n",
       "      <td>DANGEROUS DRUGS</td>\n",
       "      <td>521</td>\n",
       "      <td>...</td>\n",
       "      <td></td>\n",
       "      <td></td>\n",
       "      <td>40.695958362000056</td>\n",
       "      <td>-73.93763162199998</td>\n",
       "      <td>(40.695958362000056, -73.93763162199998)</td>\n",
       "      <td>PATROL BORO BKLYN NORTH</td>\n",
       "      <td></td>\n",
       "      <td>UNKNOWN</td>\n",
       "      <td>UNKNOWN</td>\n",
       "      <td>E</td>\n",
       "    </tr>\n",
       "    <tr>\n",
       "      <th>7</th>\n",
       "      <td>134037758</td>\n",
       "      <td>12/26/2019</td>\n",
       "      <td>20:00:00</td>\n",
       "      <td>12/27/2019</td>\n",
       "      <td>07:15:00</td>\n",
       "      <td>101</td>\n",
       "      <td>12/27/2019</td>\n",
       "      <td>341</td>\n",
       "      <td>PETIT LARCENY</td>\n",
       "      <td>321</td>\n",
       "      <td>...</td>\n",
       "      <td></td>\n",
       "      <td></td>\n",
       "      <td>40.61157006600007</td>\n",
       "      <td>-73.74736517199995</td>\n",
       "      <td>(40.61157006600007, -73.74736517199995)</td>\n",
       "      <td>PATROL BORO QUEENS SOUTH</td>\n",
       "      <td></td>\n",
       "      <td>25-44</td>\n",
       "      <td>WHITE HISPANIC</td>\n",
       "      <td>F</td>\n",
       "    </tr>\n",
       "    <tr>\n",
       "      <th>8</th>\n",
       "      <td>855385879</td>\n",
       "      <td>12/26/2019</td>\n",
       "      <td>19:57:00</td>\n",
       "      <td></td>\n",
       "      <td></td>\n",
       "      <td>44</td>\n",
       "      <td>12/26/2019</td>\n",
       "      <td>361</td>\n",
       "      <td>OFF. AGNST PUB ORD SENSBLTY &amp;</td>\n",
       "      <td>639</td>\n",
       "      <td>...</td>\n",
       "      <td>F</td>\n",
       "      <td></td>\n",
       "      <td>40.84023413800003</td>\n",
       "      <td>-73.91768411399994</td>\n",
       "      <td>(40.84023413800003, -73.91768411399994)</td>\n",
       "      <td>PATROL BORO BRONX</td>\n",
       "      <td></td>\n",
       "      <td>18-24</td>\n",
       "      <td>BLACK</td>\n",
       "      <td>F</td>\n",
       "    </tr>\n",
       "    <tr>\n",
       "      <th>9</th>\n",
       "      <td>241602326</td>\n",
       "      <td>12/25/2019</td>\n",
       "      <td>23:00:00</td>\n",
       "      <td>12/26/2019</td>\n",
       "      <td>14:25:00</td>\n",
       "      <td>20</td>\n",
       "      <td>12/26/2019</td>\n",
       "      <td>341</td>\n",
       "      <td>PETIT LARCENY</td>\n",
       "      <td>321</td>\n",
       "      <td>...</td>\n",
       "      <td></td>\n",
       "      <td></td>\n",
       "      <td>40.77287456000005</td>\n",
       "      <td>-73.98954212299998</td>\n",
       "      <td>(40.77287456000005, -73.98954212299998)</td>\n",
       "      <td>PATROL BORO MAN NORTH</td>\n",
       "      <td></td>\n",
       "      <td>45-64</td>\n",
       "      <td>BLACK</td>\n",
       "      <td>M</td>\n",
       "    </tr>\n",
       "  </tbody>\n",
       "</table>\n",
       "<p>10 rows × 35 columns</p>\n",
       "</div>"
      ],
      "text/plain": [
       "  CMPLNT_NUM CMPLNT_FR_DT CMPLNT_FR_TM CMPLNT_TO_DT CMPLNT_TO_TM ADDR_PCT_CD  \\\n",
       "0  394506329   12/31/2019     17:30:00                                    32   \n",
       "1  968873685   12/29/2019     16:31:00   12/29/2019     16:54:00          47   \n",
       "2  509837549   12/15/2019     18:45:00                                   109   \n",
       "3  352454313   12/28/2019     01:00:00                                    47   \n",
       "4  248803469   09/05/2008     21:41:00                                         \n",
       "5  293718737   12/27/2019     22:00:00                                     9   \n",
       "6  552685226   12/27/2019     20:10:00   12/27/2019     20:15:00          79   \n",
       "7  134037758   12/26/2019     20:00:00   12/27/2019     07:15:00         101   \n",
       "8  855385879   12/26/2019     19:57:00                                    44   \n",
       "9  241602326   12/25/2019     23:00:00   12/26/2019     14:25:00          20   \n",
       "\n",
       "       RPT_DT KY_CD                        OFNS_DESC PD_CD  ... SUSP_SEX  \\\n",
       "0  12/31/2019   118                DANGEROUS WEAPONS   793  ...            \n",
       "1  12/29/2019   113                          FORGERY   729  ...            \n",
       "2  12/29/2019   578                    HARRASSMENT 2   638  ...        M   \n",
       "3  12/28/2019   126          MISCELLANEOUS PENAL LAW   117  ...        M   \n",
       "4  09/05/2008   101  MURDER & NON-NEGL. MANSLAUGHTER        ...            \n",
       "5  12/27/2019   107                         BURGLARY   223  ...            \n",
       "6  12/27/2019   117                  DANGEROUS DRUGS   521  ...            \n",
       "7  12/27/2019   341                    PETIT LARCENY   321  ...            \n",
       "8  12/26/2019   361    OFF. AGNST PUB ORD SENSBLTY &   639  ...        F   \n",
       "9  12/26/2019   341                    PETIT LARCENY   321  ...            \n",
       "\n",
       "  TRANSIT_DISTRICT            Latitude           Longitude  \\\n",
       "0                    40.82092679700002  -73.94332421899996   \n",
       "1                   40.885701406000074  -73.86164032499995   \n",
       "2                    40.74228115600005        -73.81982408   \n",
       "3                    40.87531145100007  -73.84754521099995   \n",
       "4                         40.698827283       -73.938819047   \n",
       "5                    40.72075882100006  -73.98046642299995   \n",
       "6                   40.695958362000056  -73.93763162199998   \n",
       "7                    40.61157006600007  -73.74736517199995   \n",
       "8                    40.84023413800003  -73.91768411399994   \n",
       "9                    40.77287456000005  -73.98954212299998   \n",
       "\n",
       "                                    Lat_Lon               PATROL_BORO  \\\n",
       "0   (40.82092679700002, -73.94332421899996)     PATROL BORO MAN NORTH   \n",
       "1  (40.885701406000074, -73.86164032499995)         PATROL BORO BRONX   \n",
       "2         (40.74228115600005, -73.81982408)  PATROL BORO QUEENS NORTH   \n",
       "3   (40.87531145100007, -73.84754521099995)         PATROL BORO BRONX   \n",
       "4             (40.698827283, -73.938819047)                             \n",
       "5   (40.72075882100006, -73.98046642299995)     PATROL BORO MAN SOUTH   \n",
       "6  (40.695958362000056, -73.93763162199998)   PATROL BORO BKLYN NORTH   \n",
       "7   (40.61157006600007, -73.74736517199995)  PATROL BORO QUEENS SOUTH   \n",
       "8   (40.84023413800003, -73.91768411399994)         PATROL BORO BRONX   \n",
       "9   (40.77287456000005, -73.98954212299998)     PATROL BORO MAN NORTH   \n",
       "\n",
       "  STATION_NAME VIC_AGE_GROUP        VIC_RACE VIC_SEX  \n",
       "0                    UNKNOWN         UNKNOWN       E  \n",
       "1                    UNKNOWN         UNKNOWN       E  \n",
       "2                      25-44  WHITE HISPANIC       F  \n",
       "3                    UNKNOWN         UNKNOWN       E  \n",
       "4                      25-44           BLACK       M  \n",
       "5                    UNKNOWN         UNKNOWN       M  \n",
       "6                    UNKNOWN         UNKNOWN       E  \n",
       "7                      25-44  WHITE HISPANIC       F  \n",
       "8                      18-24           BLACK       F  \n",
       "9                      45-64           BLACK       M  \n",
       "\n",
       "[10 rows x 35 columns]"
      ]
     },
     "execution_count": 5,
     "metadata": {},
     "output_type": "execute_result"
    }
   ],
   "source": [
    "ds_full.head()"
   ]
  },
  {
   "cell_type": "markdown",
   "id": "4d5bbecc",
   "metadata": {},
   "source": [
    "#### Use openclean to profile the data set:"
   ]
  },
  {
   "cell_type": "code",
   "execution_count": 6,
   "id": "f94c0908",
   "metadata": {},
   "outputs": [],
   "source": [
    "from openclean.profiling.column import DefaultColumnProfiler\n",
    "\n",
    "#profiles = ds.profile(default_profiler=DefaultColumnProfiler)\n",
    "profiles = ds_full.profile(default_profiler=DefaultColumnProfiler)"
   ]
  },
  {
   "cell_type": "code",
   "execution_count": 7,
   "id": "ede647a1",
   "metadata": {
    "scrolled": false
   },
   "outputs": [
    {
     "data": {
      "text/html": [
       "<div>\n",
       "<style scoped>\n",
       "    .dataframe tbody tr th:only-of-type {\n",
       "        vertical-align: middle;\n",
       "    }\n",
       "\n",
       "    .dataframe tbody tr th {\n",
       "        vertical-align: top;\n",
       "    }\n",
       "\n",
       "    .dataframe thead th {\n",
       "        text-align: right;\n",
       "    }\n",
       "</style>\n",
       "<table border=\"1\" class=\"dataframe\">\n",
       "  <thead>\n",
       "    <tr style=\"text-align: right;\">\n",
       "      <th></th>\n",
       "      <th>total</th>\n",
       "      <th>empty</th>\n",
       "      <th>distinct</th>\n",
       "      <th>uniqueness</th>\n",
       "      <th>entropy</th>\n",
       "    </tr>\n",
       "  </thead>\n",
       "  <tbody>\n",
       "    <tr>\n",
       "      <th>CMPLNT_NUM</th>\n",
       "      <td>7375993</td>\n",
       "      <td>0</td>\n",
       "      <td>7373143</td>\n",
       "      <td>9.996136e-01</td>\n",
       "      <td>22.813633</td>\n",
       "    </tr>\n",
       "    <tr>\n",
       "      <th>CMPLNT_FR_DT</th>\n",
       "      <td>7375993</td>\n",
       "      <td>655</td>\n",
       "      <td>8606</td>\n",
       "      <td>1.166862e-03</td>\n",
       "      <td>12.425578</td>\n",
       "    </tr>\n",
       "    <tr>\n",
       "      <th>CMPLNT_FR_TM</th>\n",
       "      <td>7375993</td>\n",
       "      <td>48</td>\n",
       "      <td>1441</td>\n",
       "      <td>1.953648e-04</td>\n",
       "      <td>8.136466</td>\n",
       "    </tr>\n",
       "    <tr>\n",
       "      <th>CMPLNT_TO_DT</th>\n",
       "      <td>7375993</td>\n",
       "      <td>1704204</td>\n",
       "      <td>6825</td>\n",
       "      <td>1.203324e-03</td>\n",
       "      <td>12.417984</td>\n",
       "    </tr>\n",
       "    <tr>\n",
       "      <th>CMPLNT_TO_TM</th>\n",
       "      <td>7375993</td>\n",
       "      <td>1699541</td>\n",
       "      <td>1441</td>\n",
       "      <td>2.538558e-04</td>\n",
       "      <td>8.862856</td>\n",
       "    </tr>\n",
       "    <tr>\n",
       "      <th>ADDR_PCT_CD</th>\n",
       "      <td>7375993</td>\n",
       "      <td>2166</td>\n",
       "      <td>77</td>\n",
       "      <td>1.044234e-05</td>\n",
       "      <td>6.148690</td>\n",
       "    </tr>\n",
       "    <tr>\n",
       "      <th>RPT_DT</th>\n",
       "      <td>7375993</td>\n",
       "      <td>0</td>\n",
       "      <td>5479</td>\n",
       "      <td>7.428152e-04</td>\n",
       "      <td>12.405384</td>\n",
       "    </tr>\n",
       "    <tr>\n",
       "      <th>KY_CD</th>\n",
       "      <td>7375993</td>\n",
       "      <td>0</td>\n",
       "      <td>74</td>\n",
       "      <td>1.003255e-05</td>\n",
       "      <td>4.170727</td>\n",
       "    </tr>\n",
       "    <tr>\n",
       "      <th>OFNS_DESC</th>\n",
       "      <td>7375993</td>\n",
       "      <td>18823</td>\n",
       "      <td>71</td>\n",
       "      <td>9.650450e-06</td>\n",
       "      <td>4.006583</td>\n",
       "    </tr>\n",
       "    <tr>\n",
       "      <th>PD_CD</th>\n",
       "      <td>7375993</td>\n",
       "      <td>6278</td>\n",
       "      <td>432</td>\n",
       "      <td>5.861828e-05</td>\n",
       "      <td>5.913459</td>\n",
       "    </tr>\n",
       "    <tr>\n",
       "      <th>PD_DESC</th>\n",
       "      <td>7375993</td>\n",
       "      <td>6278</td>\n",
       "      <td>422</td>\n",
       "      <td>5.726137e-05</td>\n",
       "      <td>5.904814</td>\n",
       "    </tr>\n",
       "    <tr>\n",
       "      <th>CRM_ATPT_CPTD_CD</th>\n",
       "      <td>7375993</td>\n",
       "      <td>7</td>\n",
       "      <td>2</td>\n",
       "      <td>2.711502e-07</td>\n",
       "      <td>0.124481</td>\n",
       "    </tr>\n",
       "    <tr>\n",
       "      <th>LAW_CAT_CD</th>\n",
       "      <td>7375993</td>\n",
       "      <td>0</td>\n",
       "      <td>3</td>\n",
       "      <td>4.067249e-07</td>\n",
       "      <td>1.373922</td>\n",
       "    </tr>\n",
       "    <tr>\n",
       "      <th>BORO_NM</th>\n",
       "      <td>7375993</td>\n",
       "      <td>11329</td>\n",
       "      <td>5</td>\n",
       "      <td>6.789176e-07</td>\n",
       "      <td>2.162442</td>\n",
       "    </tr>\n",
       "    <tr>\n",
       "      <th>LOC_OF_OCCUR_DESC</th>\n",
       "      <td>7375993</td>\n",
       "      <td>1543800</td>\n",
       "      <td>5</td>\n",
       "      <td>8.573104e-07</td>\n",
       "      <td>1.241785</td>\n",
       "    </tr>\n",
       "    <tr>\n",
       "      <th>PREM_TYP_DESC</th>\n",
       "      <td>7375993</td>\n",
       "      <td>40745</td>\n",
       "      <td>74</td>\n",
       "      <td>1.008828e-05</td>\n",
       "      <td>3.579655</td>\n",
       "    </tr>\n",
       "    <tr>\n",
       "      <th>JURIS_DESC</th>\n",
       "      <td>7375993</td>\n",
       "      <td>0</td>\n",
       "      <td>25</td>\n",
       "      <td>3.389374e-06</td>\n",
       "      <td>0.668693</td>\n",
       "    </tr>\n",
       "    <tr>\n",
       "      <th>JURISDICTION_CODE</th>\n",
       "      <td>7375993</td>\n",
       "      <td>6278</td>\n",
       "      <td>25</td>\n",
       "      <td>3.392261e-06</td>\n",
       "      <td>0.668795</td>\n",
       "    </tr>\n",
       "    <tr>\n",
       "      <th>PARKS_NM</th>\n",
       "      <td>7375993</td>\n",
       "      <td>3229345</td>\n",
       "      <td>1206</td>\n",
       "      <td>2.908373e-04</td>\n",
       "      <td>0.110850</td>\n",
       "    </tr>\n",
       "    <tr>\n",
       "      <th>HADEVELOPT</th>\n",
       "      <td>7375993</td>\n",
       "      <td>7029181</td>\n",
       "      <td>279</td>\n",
       "      <td>8.044704e-04</td>\n",
       "      <td>7.277703</td>\n",
       "    </tr>\n",
       "    <tr>\n",
       "      <th>HOUSING_PSA</th>\n",
       "      <td>7375993</td>\n",
       "      <td>1241432</td>\n",
       "      <td>5103</td>\n",
       "      <td>8.318444e-04</td>\n",
       "      <td>1.216803</td>\n",
       "    </tr>\n",
       "    <tr>\n",
       "      <th>X_COORD_CD</th>\n",
       "      <td>7375993</td>\n",
       "      <td>17339</td>\n",
       "      <td>71343</td>\n",
       "      <td>9.695115e-03</td>\n",
       "      <td>14.595751</td>\n",
       "    </tr>\n",
       "    <tr>\n",
       "      <th>Y_COORD_CD</th>\n",
       "      <td>7375993</td>\n",
       "      <td>17339</td>\n",
       "      <td>73933</td>\n",
       "      <td>1.004708e-02</td>\n",
       "      <td>14.744968</td>\n",
       "    </tr>\n",
       "    <tr>\n",
       "      <th>SUSP_AGE_GROUP</th>\n",
       "      <td>7375993</td>\n",
       "      <td>4795235</td>\n",
       "      <td>111</td>\n",
       "      <td>4.301062e-05</td>\n",
       "      <td>2.113260</td>\n",
       "    </tr>\n",
       "    <tr>\n",
       "      <th>SUSP_RACE</th>\n",
       "      <td>7375993</td>\n",
       "      <td>3426694</td>\n",
       "      <td>8</td>\n",
       "      <td>2.025676e-06</td>\n",
       "      <td>2.224526</td>\n",
       "    </tr>\n",
       "    <tr>\n",
       "      <th>SUSP_SEX</th>\n",
       "      <td>7375993</td>\n",
       "      <td>3560008</td>\n",
       "      <td>3</td>\n",
       "      <td>7.861666e-07</td>\n",
       "      <td>1.323637</td>\n",
       "    </tr>\n",
       "    <tr>\n",
       "      <th>TRANSIT_DISTRICT</th>\n",
       "      <td>7375993</td>\n",
       "      <td>7212494</td>\n",
       "      <td>12</td>\n",
       "      <td>7.339494e-05</td>\n",
       "      <td>3.437520</td>\n",
       "    </tr>\n",
       "    <tr>\n",
       "      <th>Latitude</th>\n",
       "      <td>7375993</td>\n",
       "      <td>17339</td>\n",
       "      <td>205539</td>\n",
       "      <td>2.793160e-02</td>\n",
       "      <td>15.828371</td>\n",
       "    </tr>\n",
       "    <tr>\n",
       "      <th>Longitude</th>\n",
       "      <td>7375993</td>\n",
       "      <td>17339</td>\n",
       "      <td>201311</td>\n",
       "      <td>2.735704e-02</td>\n",
       "      <td>15.797580</td>\n",
       "    </tr>\n",
       "    <tr>\n",
       "      <th>Lat_Lon</th>\n",
       "      <td>7375993</td>\n",
       "      <td>17339</td>\n",
       "      <td>198552</td>\n",
       "      <td>2.698211e-02</td>\n",
       "      <td>15.677861</td>\n",
       "    </tr>\n",
       "    <tr>\n",
       "      <th>PATROL_BORO</th>\n",
       "      <td>7375993</td>\n",
       "      <td>6735</td>\n",
       "      <td>8</td>\n",
       "      <td>1.085591e-06</td>\n",
       "      <td>2.898560</td>\n",
       "    </tr>\n",
       "    <tr>\n",
       "      <th>STATION_NAME</th>\n",
       "      <td>7375993</td>\n",
       "      <td>7212494</td>\n",
       "      <td>372</td>\n",
       "      <td>2.275243e-03</td>\n",
       "      <td>7.617040</td>\n",
       "    </tr>\n",
       "    <tr>\n",
       "      <th>VIC_AGE_GROUP</th>\n",
       "      <td>7375993</td>\n",
       "      <td>1638445</td>\n",
       "      <td>202</td>\n",
       "      <td>3.520668e-05</td>\n",
       "      <td>2.201239</td>\n",
       "    </tr>\n",
       "    <tr>\n",
       "      <th>VIC_RACE</th>\n",
       "      <td>7375993</td>\n",
       "      <td>309</td>\n",
       "      <td>8</td>\n",
       "      <td>1.084645e-06</td>\n",
       "      <td>2.323077</td>\n",
       "    </tr>\n",
       "    <tr>\n",
       "      <th>VIC_SEX</th>\n",
       "      <td>7375993</td>\n",
       "      <td>308</td>\n",
       "      <td>5</td>\n",
       "      <td>6.779031e-07</td>\n",
       "      <td>1.846472</td>\n",
       "    </tr>\n",
       "  </tbody>\n",
       "</table>\n",
       "</div>"
      ],
      "text/plain": [
       "                     total    empty  distinct    uniqueness    entropy\n",
       "CMPLNT_NUM         7375993        0   7373143  9.996136e-01  22.813633\n",
       "CMPLNT_FR_DT       7375993      655      8606  1.166862e-03  12.425578\n",
       "CMPLNT_FR_TM       7375993       48      1441  1.953648e-04   8.136466\n",
       "CMPLNT_TO_DT       7375993  1704204      6825  1.203324e-03  12.417984\n",
       "CMPLNT_TO_TM       7375993  1699541      1441  2.538558e-04   8.862856\n",
       "ADDR_PCT_CD        7375993     2166        77  1.044234e-05   6.148690\n",
       "RPT_DT             7375993        0      5479  7.428152e-04  12.405384\n",
       "KY_CD              7375993        0        74  1.003255e-05   4.170727\n",
       "OFNS_DESC          7375993    18823        71  9.650450e-06   4.006583\n",
       "PD_CD              7375993     6278       432  5.861828e-05   5.913459\n",
       "PD_DESC            7375993     6278       422  5.726137e-05   5.904814\n",
       "CRM_ATPT_CPTD_CD   7375993        7         2  2.711502e-07   0.124481\n",
       "LAW_CAT_CD         7375993        0         3  4.067249e-07   1.373922\n",
       "BORO_NM            7375993    11329         5  6.789176e-07   2.162442\n",
       "LOC_OF_OCCUR_DESC  7375993  1543800         5  8.573104e-07   1.241785\n",
       "PREM_TYP_DESC      7375993    40745        74  1.008828e-05   3.579655\n",
       "JURIS_DESC         7375993        0        25  3.389374e-06   0.668693\n",
       "JURISDICTION_CODE  7375993     6278        25  3.392261e-06   0.668795\n",
       "PARKS_NM           7375993  3229345      1206  2.908373e-04   0.110850\n",
       "HADEVELOPT         7375993  7029181       279  8.044704e-04   7.277703\n",
       "HOUSING_PSA        7375993  1241432      5103  8.318444e-04   1.216803\n",
       "X_COORD_CD         7375993    17339     71343  9.695115e-03  14.595751\n",
       "Y_COORD_CD         7375993    17339     73933  1.004708e-02  14.744968\n",
       "SUSP_AGE_GROUP     7375993  4795235       111  4.301062e-05   2.113260\n",
       "SUSP_RACE          7375993  3426694         8  2.025676e-06   2.224526\n",
       "SUSP_SEX           7375993  3560008         3  7.861666e-07   1.323637\n",
       "TRANSIT_DISTRICT   7375993  7212494        12  7.339494e-05   3.437520\n",
       "Latitude           7375993    17339    205539  2.793160e-02  15.828371\n",
       "Longitude          7375993    17339    201311  2.735704e-02  15.797580\n",
       "Lat_Lon            7375993    17339    198552  2.698211e-02  15.677861\n",
       "PATROL_BORO        7375993     6735         8  1.085591e-06   2.898560\n",
       "STATION_NAME       7375993  7212494       372  2.275243e-03   7.617040\n",
       "VIC_AGE_GROUP      7375993  1638445       202  3.520668e-05   2.201239\n",
       "VIC_RACE           7375993      309         8  1.084645e-06   2.323077\n",
       "VIC_SEX            7375993      308         5  6.779031e-07   1.846472"
      ]
     },
     "execution_count": 7,
     "metadata": {},
     "output_type": "execute_result"
    }
   ],
   "source": [
    "profiles.stats()"
   ]
  },
  {
   "cell_type": "code",
   "execution_count": 8,
   "id": "5f894ade",
   "metadata": {},
   "outputs": [
    {
     "name": "stdout",
     "output_type": "stream",
     "text": [
      "Schema\n",
      "------\n",
      "  'CMPLNT_NUM' (int)\n",
      "  'CMPLNT_FR_DT' (date)\n",
      "  'CMPLNT_FR_TM' (date)\n",
      "  'CMPLNT_TO_DT' (date)\n",
      "  'CMPLNT_TO_TM' (date)\n",
      "  'ADDR_PCT_CD' (int)\n",
      "  'RPT_DT' (date)\n",
      "  'KY_CD' (int)\n",
      "  'OFNS_DESC' (str)\n",
      "  'PD_CD' (int)\n",
      "  'PD_DESC' (str)\n",
      "  'CRM_ATPT_CPTD_CD' (str)\n",
      "  'LAW_CAT_CD' (str)\n",
      "  'BORO_NM' (str)\n",
      "  'LOC_OF_OCCUR_DESC' (str)\n",
      "  'PREM_TYP_DESC' (str)\n",
      "  'JURIS_DESC' (str)\n",
      "  'JURISDICTION_CODE' (int)\n",
      "  'PARKS_NM' (str)\n",
      "  'HADEVELOPT' (str)\n",
      "  'HOUSING_PSA' (int)\n",
      "  'X_COORD_CD' (int)\n",
      "  'Y_COORD_CD' (int)\n",
      "  'SUSP_AGE_GROUP' (int)\n",
      "  'SUSP_RACE' (str)\n",
      "  'SUSP_SEX' (str)\n",
      "  'TRANSIT_DISTRICT' (int)\n",
      "  'Latitude' (float)\n",
      "  'Longitude' (float)\n",
      "  'Lat_Lon' (str)\n",
      "  'PATROL_BORO' (str)\n",
      "  'STATION_NAME' (str)\n",
      "  'VIC_AGE_GROUP' (int)\n",
      "  'VIC_RACE' (str)\n",
      "  'VIC_SEX' (str)\n"
     ]
    }
   ],
   "source": [
    "# Print the most frequent data type for each column.\n",
    "\n",
    "print('Schema\\n------')\n",
    "for col in ds_full.columns:\n",
    "    p = profiles.column(col)\n",
    "    print(\"  '{}' ({})\".format(col, p['datatypes']['distinct'].most_common(1)[0][0]))"
   ]
  },
  {
   "cell_type": "markdown",
   "id": "05dec675",
   "metadata": {},
   "source": [
    "### Field Name & Description:\n",
    "    'CMPLNT_NUM' (int)                 Complaint Number\n",
    "    'CMPLNT_FR_DT' (date)              Complaint From Date\n",
    "    'CMPLNT_FR_TM' (date)              Complaint From Time\n",
    "    'CMPLNT_TO_DT' (date)              Complaint To Date\n",
    "    'CMPLNT_TO_TM' (date)              Complaint To Time\n",
    "    'ADDR_PCT_CD' (int)                Code of Precinct in which the Incident Occured\n",
    "    'RPT_DT' (date)                    Report Date\n",
    "    'KY_CD' (int)                      \"Key Code\": Offense Classification Code (3 digits)\n",
    "    'OFNS_DESC' (str)                  Offense Description\n",
    "    'PD_CD' (int)                      PD Code of Offense. More granular than Key Code\n",
    "    'PD_DESC' (str)                    PD Description of Offense.\n",
    "    'CRM_ATPT_CPTD_CD' (str)           Whether Crime was Atempted or Completed (values: 'COMPLETED', 'ATTEMPTED')\n",
    "    'LAW_CAT_CD' (str)                 Level of Offense (values: 'FELONY', 'VIOLATION', 'MISDEMEANOR')\n",
    "    'BORO_NM' (str)                    Name of Borough in which Incident Occurred\n",
    "    'LOC_OF_OCCUR_DESC' (str)          Description of where the incident occurred with respect to the premises\n",
    "                                       (values:'FRONT OF', 'REAR OF', 'OUTSIDE', 'INSIDE', 'OPPOSITE OF')\n",
    "    'PREM_TYP_DESC' (str)              Description of the type of premises in which the Incident Occurred\n",
    "    'JURIS_DESC' (str)                 Description of Jurisdiction in which Incident Occurred\n",
    "    'JURISDICTION_CODE' (int)          Jurisdiction Code\n",
    "    'PARKS_NM' (str)                   Name of Park in which Incident Occurred, if Applicable\n",
    "    'HADEVELOPT' (str)                 Name of NYCHA Housing Development in which Incident Occurred, if Applicable\n",
    "    'HOUSING_PSA' (int)                Housing PSA\n",
    "    'X_COORD_CD' (int)                 X-coordinate, New York State Plane Coordinate System\n",
    "    'Y_COORD_CD' (int)                 Y-coordinate, New York State Plane Coordinate System\n",
    "    'SUSP_AGE_GROUP' (int)             Age Group of Suspect\n",
    "    'SUSP_RACE' (str)                  Race of Suspect\n",
    "    'SUSP_SEX' (str)                   Sex of Suspect\n",
    "    'TRANSIT_DISTRICT' (int)           Transit-District code\n",
    "    'Latitude' (float)                 Global Latitude of Location where Incident Occurred\n",
    "    'Longitude' (float)                Global Longitude of Location where Incident Occured\n",
    "    'Lat_Lon' (str)                    'Latitude' and 'Longitude' together\n",
    "    'PATROL_BORO' (str)                Patrol Borough\n",
    "    'STATION_NAME' (str)               Station Name\n",
    "    'VIC_AGE_GROUP' (int)              Age Group of Victim\n",
    "    'VIC_RACE' (str)                   Race of Victim\n",
    "    'VIC_SEX' (str)                    Sex of Victim\n",
    "    \n",
    "    \n",
    "    (Note: some field descriptions were taken from https://www1.nyc.gov/assets/nypd/downloads/pdf/analysis_and_planning/incident_level_data_footnotes.pdf)\n",
    "   "
   ]
  },
  {
   "cell_type": "markdown",
   "id": "7a6aa557",
   "metadata": {},
   "source": [
    "## Profiling & Cleaning of each field in the data set"
   ]
  },
  {
   "cell_type": "code",
   "execution_count": 9,
   "id": "b4eb8a18",
   "metadata": {},
   "outputs": [
    {
     "data": {
      "text/html": [
       "<div>\n",
       "<style scoped>\n",
       "    .dataframe tbody tr th:only-of-type {\n",
       "        vertical-align: middle;\n",
       "    }\n",
       "\n",
       "    .dataframe tbody tr th {\n",
       "        vertical-align: top;\n",
       "    }\n",
       "\n",
       "    .dataframe thead th {\n",
       "        text-align: right;\n",
       "    }\n",
       "</style>\n",
       "<table border=\"1\" class=\"dataframe\">\n",
       "  <thead>\n",
       "    <tr style=\"text-align: right;\">\n",
       "      <th></th>\n",
       "      <th>min</th>\n",
       "      <th>max</th>\n",
       "    </tr>\n",
       "  </thead>\n",
       "  <tbody>\n",
       "    <tr>\n",
       "      <th>int</th>\n",
       "      <td>100000065</td>\n",
       "      <td>999999904</td>\n",
       "    </tr>\n",
       "  </tbody>\n",
       "</table>\n",
       "</div>"
      ],
      "text/plain": [
       "           min        max\n",
       "int  100000065  999999904"
      ]
     },
     "execution_count": 9,
     "metadata": {},
     "output_type": "execute_result"
    }
   ],
   "source": [
    "profiles.minmax('CMPLNT_NUM')"
   ]
  },
  {
   "cell_type": "raw",
   "id": "e0d0bd4b",
   "metadata": {},
   "source": [
    "Note that CMPLNT_NUM has less unique values than there are rows in the data set. This means that there are at least\n",
    "some rows that have the same CMPLNT_NUM value, which might mean that they are both records referring to the same incident"
   ]
  },
  {
   "cell_type": "code",
   "execution_count": 10,
   "id": "a43b1c3d",
   "metadata": {},
   "outputs": [
    {
     "data": {
      "text/html": [
       "<div>\n",
       "<style scoped>\n",
       "    .dataframe tbody tr th:only-of-type {\n",
       "        vertical-align: middle;\n",
       "    }\n",
       "\n",
       "    .dataframe tbody tr th {\n",
       "        vertical-align: top;\n",
       "    }\n",
       "\n",
       "    .dataframe thead th {\n",
       "        text-align: right;\n",
       "    }\n",
       "</style>\n",
       "<table border=\"1\" class=\"dataframe\">\n",
       "  <thead>\n",
       "    <tr style=\"text-align: right;\">\n",
       "      <th></th>\n",
       "      <th>min</th>\n",
       "      <th>max</th>\n",
       "    </tr>\n",
       "  </thead>\n",
       "  <tbody>\n",
       "    <tr>\n",
       "      <th>date</th>\n",
       "      <td>1010-05-14 00:00:00</td>\n",
       "      <td>2020-12-31</td>\n",
       "    </tr>\n",
       "  </tbody>\n",
       "</table>\n",
       "</div>"
      ],
      "text/plain": [
       "                      min        max\n",
       "date  1010-05-14 00:00:00 2020-12-31"
      ]
     },
     "execution_count": 10,
     "metadata": {},
     "output_type": "execute_result"
    }
   ],
   "source": [
    "profiles.minmax('CMPLNT_FR_DT')"
   ]
  },
  {
   "cell_type": "code",
   "execution_count": 11,
   "id": "b30aeca8",
   "metadata": {},
   "outputs": [],
   "source": [
    "from datetime import datetime\n",
    "#datetime.strptime('2014-12-04', '%Y-%m-%d').date()\n",
    "\n",
    "\n",
    "def validate_date(sourceValue):\n",
    "    dummy_date = datetime.strptime(\"01/01/1000\", '%m/%d/%Y').date()\n",
    "    \n",
    "    try:\n",
    "        source_date = sourceValue\n",
    "        start_date = datetime.strptime(\"01/01/2006\", '%m/%d/%Y').date()\n",
    "        end_date = datetime.strptime(\"12/31/2019\", '%m/%d/%Y').date()\n",
    "    \n",
    "        if source_date == '':\n",
    "            source_date = dummy_date\n",
    "        \n",
    "        source_date = datetime.strptime(sourceValue, '%m/%d/%Y').date()\n",
    "        \n",
    "        if source_date >= start_date and source_date <= end_date:\n",
    "            return source_date\n",
    "        else:\n",
    "            return dummy_date\n",
    "    except:\n",
    "        return dummy_date\n",
    "    \n",
    "\n",
    "ds_full = ds_full.update('CMPLNT_FR_DT', validate_date)"
   ]
  },
  {
   "cell_type": "code",
   "execution_count": 12,
   "id": "ebc644cc",
   "metadata": {},
   "outputs": [
    {
     "data": {
      "text/html": [
       "<div>\n",
       "<style scoped>\n",
       "    .dataframe tbody tr th:only-of-type {\n",
       "        vertical-align: middle;\n",
       "    }\n",
       "\n",
       "    .dataframe tbody tr th {\n",
       "        vertical-align: top;\n",
       "    }\n",
       "\n",
       "    .dataframe thead th {\n",
       "        text-align: right;\n",
       "    }\n",
       "</style>\n",
       "<table border=\"1\" class=\"dataframe\">\n",
       "  <thead>\n",
       "    <tr style=\"text-align: right;\">\n",
       "      <th></th>\n",
       "      <th>min</th>\n",
       "      <th>max</th>\n",
       "    </tr>\n",
       "  </thead>\n",
       "  <tbody>\n",
       "    <tr>\n",
       "      <th>date</th>\n",
       "      <td>2021-11-22</td>\n",
       "      <td>2021-11-22 23:59:00</td>\n",
       "    </tr>\n",
       "  </tbody>\n",
       "</table>\n",
       "</div>"
      ],
      "text/plain": [
       "            min                 max\n",
       "date 2021-11-22 2021-11-22 23:59:00"
      ]
     },
     "execution_count": 12,
     "metadata": {},
     "output_type": "execute_result"
    }
   ],
   "source": [
    "profiles.minmax('CMPLNT_FR_TM')"
   ]
  },
  {
   "cell_type": "code",
   "execution_count": 13,
   "id": "285443e9",
   "metadata": {},
   "outputs": [
    {
     "data": {
      "text/html": [
       "<div>\n",
       "<style scoped>\n",
       "    .dataframe tbody tr th:only-of-type {\n",
       "        vertical-align: middle;\n",
       "    }\n",
       "\n",
       "    .dataframe tbody tr th {\n",
       "        vertical-align: top;\n",
       "    }\n",
       "\n",
       "    .dataframe thead th {\n",
       "        text-align: right;\n",
       "    }\n",
       "</style>\n",
       "<table border=\"1\" class=\"dataframe\">\n",
       "  <thead>\n",
       "    <tr style=\"text-align: right;\">\n",
       "      <th></th>\n",
       "      <th>min</th>\n",
       "      <th>max</th>\n",
       "    </tr>\n",
       "  </thead>\n",
       "  <tbody>\n",
       "    <tr>\n",
       "      <th>date</th>\n",
       "      <td>1010-10-15 00:00:00</td>\n",
       "      <td>2090-04-06</td>\n",
       "    </tr>\n",
       "  </tbody>\n",
       "</table>\n",
       "</div>"
      ],
      "text/plain": [
       "                      min        max\n",
       "date  1010-10-15 00:00:00 2090-04-06"
      ]
     },
     "execution_count": 13,
     "metadata": {},
     "output_type": "execute_result"
    }
   ],
   "source": [
    "profiles.minmax('CMPLNT_TO_DT')"
   ]
  },
  {
   "cell_type": "code",
   "execution_count": 14,
   "id": "79f94179",
   "metadata": {},
   "outputs": [],
   "source": [
    "ds_full = ds_full.update('CMPLNT_TO_DT', validate_date)"
   ]
  },
  {
   "cell_type": "code",
   "execution_count": 15,
   "id": "a343e050",
   "metadata": {},
   "outputs": [
    {
     "data": {
      "text/html": [
       "<div>\n",
       "<style scoped>\n",
       "    .dataframe tbody tr th:only-of-type {\n",
       "        vertical-align: middle;\n",
       "    }\n",
       "\n",
       "    .dataframe tbody tr th {\n",
       "        vertical-align: top;\n",
       "    }\n",
       "\n",
       "    .dataframe thead th {\n",
       "        text-align: right;\n",
       "    }\n",
       "</style>\n",
       "<table border=\"1\" class=\"dataframe\">\n",
       "  <thead>\n",
       "    <tr style=\"text-align: right;\">\n",
       "      <th></th>\n",
       "      <th>min</th>\n",
       "      <th>max</th>\n",
       "    </tr>\n",
       "  </thead>\n",
       "  <tbody>\n",
       "    <tr>\n",
       "      <th>date</th>\n",
       "      <td>2021-11-22 00:00:00</td>\n",
       "      <td>2021-11-22 23:59:00</td>\n",
       "    </tr>\n",
       "    <tr>\n",
       "      <th>str</th>\n",
       "      <td>24:00:00</td>\n",
       "      <td>24:00:00</td>\n",
       "    </tr>\n",
       "  </tbody>\n",
       "</table>\n",
       "</div>"
      ],
      "text/plain": [
       "                      min                  max\n",
       "date  2021-11-22 00:00:00  2021-11-22 23:59:00\n",
       "str              24:00:00             24:00:00"
      ]
     },
     "execution_count": 15,
     "metadata": {},
     "output_type": "execute_result"
    }
   ],
   "source": [
    "profiles.minmax('CMPLNT_TO_TM')"
   ]
  },
  {
   "cell_type": "code",
   "execution_count": 16,
   "id": "5954c8a7",
   "metadata": {},
   "outputs": [
    {
     "data": {
      "text/html": [
       "<div>\n",
       "<style scoped>\n",
       "    .dataframe tbody tr th:only-of-type {\n",
       "        vertical-align: middle;\n",
       "    }\n",
       "\n",
       "    .dataframe tbody tr th {\n",
       "        vertical-align: top;\n",
       "    }\n",
       "\n",
       "    .dataframe thead th {\n",
       "        text-align: right;\n",
       "    }\n",
       "</style>\n",
       "<table border=\"1\" class=\"dataframe\">\n",
       "  <thead>\n",
       "    <tr style=\"text-align: right;\">\n",
       "      <th></th>\n",
       "      <th>min</th>\n",
       "      <th>max</th>\n",
       "    </tr>\n",
       "  </thead>\n",
       "  <tbody>\n",
       "    <tr>\n",
       "      <th>int</th>\n",
       "      <td>1</td>\n",
       "      <td>123</td>\n",
       "    </tr>\n",
       "  </tbody>\n",
       "</table>\n",
       "</div>"
      ],
      "text/plain": [
       "     min  max\n",
       "int    1  123"
      ]
     },
     "execution_count": 16,
     "metadata": {},
     "output_type": "execute_result"
    }
   ],
   "source": [
    "profiles.minmax('ADDR_PCT_CD')"
   ]
  },
  {
   "cell_type": "code",
   "execution_count": 17,
   "id": "e1ec42fc",
   "metadata": {},
   "outputs": [
    {
     "data": {
      "text/plain": [
       "[('75', 237049),\n",
       " ('43', 189629),\n",
       " ('44', 184214),\n",
       " ('40', 178413),\n",
       " ('14', 166925),\n",
       " ('46', 155839),\n",
       " ('52', 154649),\n",
       " ('73', 151060),\n",
       " ('120', 145011),\n",
       " ('67', 139888)]"
      ]
     },
     "execution_count": 17,
     "metadata": {},
     "output_type": "execute_result"
    }
   ],
   "source": [
    "profiles.column('ADDR_PCT_CD').get('topValues')"
   ]
  },
  {
   "cell_type": "code",
   "execution_count": 18,
   "id": "1a3da386",
   "metadata": {},
   "outputs": [
    {
     "data": {
      "text/html": [
       "<div>\n",
       "<style scoped>\n",
       "    .dataframe tbody tr th:only-of-type {\n",
       "        vertical-align: middle;\n",
       "    }\n",
       "\n",
       "    .dataframe tbody tr th {\n",
       "        vertical-align: top;\n",
       "    }\n",
       "\n",
       "    .dataframe thead th {\n",
       "        text-align: right;\n",
       "    }\n",
       "</style>\n",
       "<table border=\"1\" class=\"dataframe\">\n",
       "  <thead>\n",
       "    <tr style=\"text-align: right;\">\n",
       "      <th></th>\n",
       "      <th>min</th>\n",
       "      <th>max</th>\n",
       "    </tr>\n",
       "  </thead>\n",
       "  <tbody>\n",
       "    <tr>\n",
       "      <th>date</th>\n",
       "      <td>2006-01-01</td>\n",
       "      <td>2020-12-31</td>\n",
       "    </tr>\n",
       "  </tbody>\n",
       "</table>\n",
       "</div>"
      ],
      "text/plain": [
       "            min        max\n",
       "date 2006-01-01 2020-12-31"
      ]
     },
     "execution_count": 18,
     "metadata": {},
     "output_type": "execute_result"
    }
   ],
   "source": [
    "profiles.minmax('RPT_DT')"
   ]
  },
  {
   "cell_type": "code",
   "execution_count": 19,
   "id": "390cd56c",
   "metadata": {},
   "outputs": [],
   "source": [
    "ds_full = ds_full.update('RPT_DT', validate_date)"
   ]
  },
  {
   "cell_type": "code",
   "execution_count": 20,
   "id": "6b5d7d48",
   "metadata": {},
   "outputs": [
    {
     "data": {
      "text/html": [
       "<div>\n",
       "<style scoped>\n",
       "    .dataframe tbody tr th:only-of-type {\n",
       "        vertical-align: middle;\n",
       "    }\n",
       "\n",
       "    .dataframe tbody tr th {\n",
       "        vertical-align: top;\n",
       "    }\n",
       "\n",
       "    .dataframe thead th {\n",
       "        text-align: right;\n",
       "    }\n",
       "</style>\n",
       "<table border=\"1\" class=\"dataframe\">\n",
       "  <thead>\n",
       "    <tr style=\"text-align: right;\">\n",
       "      <th></th>\n",
       "      <th>min</th>\n",
       "      <th>max</th>\n",
       "    </tr>\n",
       "  </thead>\n",
       "  <tbody>\n",
       "    <tr>\n",
       "      <th>int</th>\n",
       "      <td>101</td>\n",
       "      <td>881</td>\n",
       "    </tr>\n",
       "  </tbody>\n",
       "</table>\n",
       "</div>"
      ],
      "text/plain": [
       "     min  max\n",
       "int  101  881"
      ]
     },
     "execution_count": 20,
     "metadata": {},
     "output_type": "execute_result"
    }
   ],
   "source": [
    "profiles.minmax('KY_CD')"
   ]
  },
  {
   "cell_type": "code",
   "execution_count": 21,
   "id": "d7ed8392",
   "metadata": {},
   "outputs": [
    {
     "data": {
      "text/plain": [
       "[('341', 1244164),\n",
       " ('578', 945459),\n",
       " ('344', 774250),\n",
       " ('109', 638981),\n",
       " ('351', 619342),\n",
       " ('361', 383375),\n",
       " ('235', 342576),\n",
       " ('106', 286139),\n",
       " ('105', 266449),\n",
       " ('107', 254293)]"
      ]
     },
     "execution_count": 21,
     "metadata": {},
     "output_type": "execute_result"
    }
   ],
   "source": [
    "profiles.column('KY_CD').get('topValues')"
   ]
  },
  {
   "cell_type": "code",
   "execution_count": 22,
   "id": "4f64653b",
   "metadata": {},
   "outputs": [
    {
     "data": {
      "text/plain": [
       "[('PETIT LARCENY', 1244155),\n",
       " ('HARRASSMENT 2', 945389),\n",
       " ('ASSAULT 3 & RELATED OFFENSES', 774177),\n",
       " ('CRIMINAL MISCHIEF & RELATED OF', 744951),\n",
       " ('GRAND LARCENY', 638972),\n",
       " ('DANGEROUS DRUGS', 427058),\n",
       " ('OFF. AGNST PUB ORD SENSBLTY &', 383332),\n",
       " ('FELONY ASSAULT', 286085),\n",
       " ('ROBBERY', 266447),\n",
       " ('BURGLARY', 254292)]"
      ]
     },
     "execution_count": 22,
     "metadata": {},
     "output_type": "execute_result"
    }
   ],
   "source": [
    "profiles.column('OFNS_DESC').get('topValues')"
   ]
  },
  {
   "cell_type": "code",
   "execution_count": 23,
   "id": "f1045b05",
   "metadata": {
    "scrolled": true
   },
   "outputs": [
    {
     "data": {
      "text/plain": [
       "Counter({'DANGEROUS WEAPONS': 161447,\n",
       "         'FORGERY': 72712,\n",
       "         'HARRASSMENT 2': 945389,\n",
       "         'MISCELLANEOUS PENAL LAW': 185789,\n",
       "         'MURDER & NON-NEGL. MANSLAUGHTER': 6278,\n",
       "         'BURGLARY': 254292,\n",
       "         'DANGEROUS DRUGS': 427058,\n",
       "         'PETIT LARCENY': 1244155,\n",
       "         'OFF. AGNST PUB ORD SENSBLTY &': 383332,\n",
       "         'GRAND LARCENY': 638972,\n",
       "         'FELONY ASSAULT': 286085,\n",
       "         'ASSAULT 3 & RELATED OFFENSES': 774177,\n",
       "         'ARSON': 17658,\n",
       "         'RAPE': 21648,\n",
       "         'SEX CRIMES': 88030,\n",
       "         'GRAND LARCENY OF MOTOR VEHICLE': 133845,\n",
       "         'ROBBERY': 266447,\n",
       "         'CRIMINAL MISCHIEF & RELATED OF': 744951,\n",
       "         'THEFT-FRAUD': 76655,\n",
       "         'VEHICLE AND TRAFFIC LAWS': 91809,\n",
       "         'CRIMINAL TRESPASS': 82135,\n",
       "         'OFFENSES INVOLVING FRAUD': 23076,\n",
       "         'FRAUDS': 44473,\n",
       "         'OFFENSES AGAINST PUBLIC ADMINI': 137502,\n",
       "         'OFFENSES AGAINST THE PERSON': 18170,\n",
       "         'ADMINISTRATIVE CODE': 16287,\n",
       "         'INTOXICATED & IMPAIRED DRIVING': 96386,\n",
       "         'ESCAPE 3': 206,\n",
       "         'NYS LAWS-UNCLASSIFIED FELONY': 6909,\n",
       "         'POSSESSION OF STOLEN PROPERTY': 37315,\n",
       "         'THEFT OF SERVICES': 4529,\n",
       "         'KIDNAPPING & RELATED OFFENSES': 2878,\n",
       "         'OTHER OFFENSES RELATED TO THEF': 16236,\n",
       "         'UNAUTHORIZED USE OF A VEHICLE': 22015,\n",
       "         \"BURGLAR'S TOOLS\": 3847,\n",
       "         'ENDAN WELFARE INCOMP': 269,\n",
       "         'FRAUDULENT ACCOSTING': 3444,\n",
       "         'AGRICULTURE & MRKTS LAW-UNCLASSIFIED': 711,\n",
       "         'OTHER STATE LAWS (NON PENAL LA': 6851,\n",
       "         'OFFENSES AGAINST PUBLIC SAFETY': 1046,\n",
       "         'GAMBLING': 3061,\n",
       "         'PETIT LARCENY OF MOTOR VEHICLE': 1334,\n",
       "         'ALCOHOLIC BEVERAGE CONTROL LAW': 1277,\n",
       "         '': 18823,\n",
       "         'OFFENSES RELATED TO CHILDREN': 1691,\n",
       "         'ANTICIPATORY OFFENSES': 128,\n",
       "         'LOITERING/GAMBLING (CARDS, DIC': 245,\n",
       "         'FELONY SEX CRIMES': 18,\n",
       "         'HOMICIDE-NEGLIGENT,UNCLASSIFIE': 172,\n",
       "         'PROSTITUTION & RELATED OFFENSES': 1384,\n",
       "         'JOSTLING': 447,\n",
       "         'CHILD ABANDONMENT/NON SUPPORT': 459,\n",
       "         'OTHER STATE LAWS': 292,\n",
       "         'KIDNAPPING': 48,\n",
       "         'NYS LAWS-UNCLASSIFIED VIOLATION': 56,\n",
       "         'DISORDERLY CONDUCT': 1025,\n",
       "         'DISRUPTION OF A RELIGIOUS SERV': 55,\n",
       "         'OFFENSES AGAINST MARRIAGE UNCL': 4,\n",
       "         'HOMICIDE-NEGLIGENT-VEHICLE': 104,\n",
       "         'INTOXICATED/IMPAIRED DRIVING': 61,\n",
       "         'KIDNAPPING AND RELATED OFFENSES': 3,\n",
       "         'UNLAWFUL POSS. WEAP. ON SCHOOL': 70,\n",
       "         'OTHER TRAFFIC INFRACTION': 15,\n",
       "         'OTHER STATE LAWS (NON PENAL LAW)': 11,\n",
       "         'FORTUNE TELLING': 12,\n",
       "         'NEW YORK CITY HEALTH CODE': 93,\n",
       "         'LOITERING': 23,\n",
       "         'ABORTION': 7,\n",
       "         'UNDER THE INFLUENCE OF DRUGS': 3,\n",
       "         'ADMINISTRATIVE CODES': 19,\n",
       "         'LOITERING FOR DRUG PURPOSES': 23,\n",
       "         'LOITERING/DEVIATE SEX': 16})"
      ]
     },
     "execution_count": 23,
     "metadata": {},
     "output_type": "execute_result"
    }
   ],
   "source": [
    "ds_full.distinct('OFNS_DESC')"
   ]
  },
  {
   "cell_type": "code",
   "execution_count": 24,
   "id": "c45793ea",
   "metadata": {},
   "outputs": [
    {
     "data": {
      "text/html": [
       "<div>\n",
       "<style scoped>\n",
       "    .dataframe tbody tr th:only-of-type {\n",
       "        vertical-align: middle;\n",
       "    }\n",
       "\n",
       "    .dataframe tbody tr th {\n",
       "        vertical-align: top;\n",
       "    }\n",
       "\n",
       "    .dataframe thead th {\n",
       "        text-align: right;\n",
       "    }\n",
       "</style>\n",
       "<table border=\"1\" class=\"dataframe\">\n",
       "  <thead>\n",
       "    <tr style=\"text-align: right;\">\n",
       "      <th></th>\n",
       "      <th>min</th>\n",
       "      <th>max</th>\n",
       "    </tr>\n",
       "  </thead>\n",
       "  <tbody>\n",
       "    <tr>\n",
       "      <th>int</th>\n",
       "      <td>100</td>\n",
       "      <td>975</td>\n",
       "    </tr>\n",
       "  </tbody>\n",
       "</table>\n",
       "</div>"
      ],
      "text/plain": [
       "     min  max\n",
       "int  100  975"
      ]
     },
     "execution_count": 24,
     "metadata": {},
     "output_type": "execute_result"
    }
   ],
   "source": [
    "profiles.minmax('PD_CD')"
   ]
  },
  {
   "cell_type": "code",
   "execution_count": 25,
   "id": "f803b27a",
   "metadata": {},
   "outputs": [
    {
     "data": {
      "text/plain": [
       "[('101', 640218),\n",
       " ('638', 613331),\n",
       " ('639', 374673),\n",
       " ('333', 364252),\n",
       " ('637', 332066),\n",
       " ('338', 302018),\n",
       " ('254', 259062),\n",
       " ('321', 237811),\n",
       " ('109', 232452),\n",
       " ('259', 208063)]"
      ]
     },
     "execution_count": 25,
     "metadata": {},
     "output_type": "execute_result"
    }
   ],
   "source": [
    "profiles.column('PD_CD').get('topValues')"
   ]
  },
  {
   "cell_type": "code",
   "execution_count": 26,
   "id": "131b20da",
   "metadata": {
    "scrolled": true
   },
   "outputs": [
    {
     "data": {
      "text/plain": [
       "[('ASSAULT 3', 640218),\n",
       " ('HARASSMENT,SUBD 3,4,5', 613331),\n",
       " ('AGGRAVATED HARASSMENT 2', 374673),\n",
       " ('LARCENY,PETIT FROM STORE-SHOPL', 364252),\n",
       " ('HARASSMENT,SUBD 1,CIVILIAN', 332066),\n",
       " ('LARCENY,PETIT FROM BUILDING,UN', 302018),\n",
       " ('MISCHIEF, CRIMINAL 4, OF MOTOR', 259062),\n",
       " ('LARCENY,PETIT FROM AUTO', 237811),\n",
       " ('ASSAULT 2,1,UNCLASSIFIED', 232452),\n",
       " ('CRIMINAL MISCHIEF,UNCLASSIFIED 4', 208063)]"
      ]
     },
     "execution_count": 26,
     "metadata": {},
     "output_type": "execute_result"
    }
   ],
   "source": [
    "profiles.column('PD_DESC').get('topValues')"
   ]
  },
  {
   "cell_type": "code",
   "execution_count": 27,
   "id": "7889010e",
   "metadata": {},
   "outputs": [
    {
     "data": {
      "text/plain": [
       "Counter({'WEAPONS POSSESSION 3': 56612,\n",
       "         'FORGERY,ETC.,UNCLASSIFIED-FELO': 60754,\n",
       "         'HARASSMENT,SUBD 3,4,5': 613331,\n",
       "         'RECKLESS ENDANGERMENT 1': 27671,\n",
       "         '': 6278,\n",
       "         'BURGLARY,RESIDENCE,NIGHT': 55288,\n",
       "         'CONTROLLED SUBSTANCE, SALE 5': 7853,\n",
       "         'LARCENY,PETIT FROM AUTO': 237811,\n",
       "         'AGGRAVATED HARASSMENT 2': 374673,\n",
       "         'LARCENY,GRAND FROM STORE-SHOPL': 24843,\n",
       "         'LARCENY,PETIT BY ACQUIRING LOS': 11742,\n",
       "         'ASSAULT 2,1,UNCLASSIFIED': 232452,\n",
       "         'OBSTR BREATH/CIRCUL': 25907,\n",
       "         'LARCENY,PETIT FROM OPEN AREAS,': 113412,\n",
       "         'ARSON 2,3,4': 11456,\n",
       "         'LARCENY,PETIT FROM STORE-SHOPL': 364252,\n",
       "         'RAPE 3': 3107,\n",
       "         'SEXUAL ABUSE 3,2': 42771,\n",
       "         'LARCENY,PETIT OF LICENSE PLATE': 55147,\n",
       "         'LARCENY,GRAND OF AUTO': 116902,\n",
       "         'ASSAULT 3': 640218,\n",
       "         'SEXUAL ABUSE': 4554,\n",
       "         'ROBBERY,CLOTHING': 746,\n",
       "         'MISCHIEF, CRIMINAL 4, OF MOTOR': 259062,\n",
       "         'RAPE 1': 14033,\n",
       "         'CRIMINAL MISCHIEF 4TH, GRAFFIT': 140045,\n",
       "         'RAPE 2': 2135,\n",
       "         'ROBBERY,OPEN AREA UNCLASSIFIED': 114674,\n",
       "         'BURGLARY,TRUCK DAY': 7478,\n",
       "         'HARASSMENT,SUBD 1,CIVILIAN': 332066,\n",
       "         'LARCENY,GRAND FROM RESIDENCE, UNATTENDED': 18109,\n",
       "         'LARCENY,PETIT OF BICYCLE': 46776,\n",
       "         'FRAUD,UNCLASSIFIED-FELONY': 73871,\n",
       "         'CONTROLLED SUBSTANCE,SALE 3': 6111,\n",
       "         'WEAPONS POSSESSION 1 & 2': 15638,\n",
       "         'LEAVING SCENE-ACCIDENT-PERSONA': 69490,\n",
       "         'LARCENY,GRAND FROM VEHICLE/MOTORCYCLE': 73659,\n",
       "         'STRANGULATION 1ST': 26785,\n",
       "         'ROBBERY,CAR JACKING': 2598,\n",
       "         'ROBBERY,RESIDENTIAL COMMON AREA': 21189,\n",
       "         'TRESPASS 3, CRIMINAL': 9846,\n",
       "         'LARCENY,PETIT FROM BUILDING,UN': 302018,\n",
       "         'FORGERY,ETC.-MISD.': 22820,\n",
       "         'MENACING,UNCLASSIFIED': 107041,\n",
       "         'BURGLARY,COMMERCIAL,NIGHT': 36675,\n",
       "         'FRAUD,UNCLASSIFIED-MISDEMEANOR': 25753,\n",
       "         'CONTROLLED SUBSTANCE, POSSESSI': 131923,\n",
       "         'ROBBERY,DWELLING': 10707,\n",
       "         'CRIMINAL CONTEMPT 1': 93850,\n",
       "         'WEAPONS, POSSESSION, ETC': 88490,\n",
       "         'ROBBERY,DELIVERY PERSON': 1909,\n",
       "         'CONTROLLED SUBSTANCE,POSSESS.': 21668,\n",
       "         'CONTROLLED SUBSTANCE,INTENT TO': 28056,\n",
       "         'LARCENY,PETIT BY FALSE PROMISE': 14091,\n",
       "         'ARSON, MOTOR VEHICLE 1 2 3 & 4': 5997,\n",
       "         'SODOMY 1': 5603,\n",
       "         'BURGLARY,UNCLASSIFIED,NIGHT': 3660,\n",
       "         'BURGLARY,TRUCK NIGHT': 4951,\n",
       "         'LARCENY,GRAND FROM PERSON,PICK': 19199,\n",
       "         'MARIJUANA, SALE 4 & 5': 12843,\n",
       "         'RESISTING ARREST': 34772,\n",
       "         'ASSAULT POLICE/PEACE OFFICER': 25790,\n",
       "         'SEXUAL MISCONDUCT,INTERCOURSE': 4627,\n",
       "         'ROBBERY,BICYCLE': 2741,\n",
       "         'LARCENY,GRAND FROM PERSON,UNCL': 52941,\n",
       "         'CONTROLLED SUBSTANCE,SALE 2': 1107,\n",
       "         'CHILD, ENDANGERING WELFARE': 22340,\n",
       "         'ROBBERY,BEGIN AS SHOPLIFTING': 5233,\n",
       "         'ROBBERY,NECKCHAIN/JEWELRY': 7242,\n",
       "         'LARCENY,GRAND OF BICYCLE': 10878,\n",
       "         'MAKING TERRORISTIC THREAT': 1583,\n",
       "         'LARCENY,GRAND FROM OPEN AREAS, UNATTENDED': 40566,\n",
       "         'RECKLESS ENDANGERMENT 2': 14337,\n",
       "         'ROBBERY,BANK': 3835,\n",
       "         'MARIJUANA, POSSESSION': 7058,\n",
       "         'LARCENY,GRAND BY ACQUIRING LOST CREDIT CARD': 8385,\n",
       "         'ROBBERY,PERSONAL ELECTRONIC DEVICE': 40096,\n",
       "         'LARCENY,GRAND BY IDENTITY THEFT-UNCLASSIFIED': 2652,\n",
       "         'ESCAPE 2,1': 335,\n",
       "         'FORGERY,M.V. REGISTRATION': 6536,\n",
       "         'AGGRAVATED CRIMINAL CONTEMPT': 2565,\n",
       "         'LARCENY,PETIT OF VEHICLE ACCES': 46708,\n",
       "         'ROBBERY,BODEGA/CONVENIENCE STORE': 3223,\n",
       "         'PUBLIC ADMINISTATION,UNCLASS M': 33061,\n",
       "         'LARCENY,GRAND BY THEFT OF CREDIT CARD': 52142,\n",
       "         'ROBBERY,POCKETBOOK/CARRIED BAG': 11862,\n",
       "         'SALE SCHOOL GROUNDS 4': 596,\n",
       "         'BURGLARY,RESIDENCE,DAY': 99261,\n",
       "         'ROBBERY,HOME INVASION': 4824,\n",
       "         'SODOMY 3': 560,\n",
       "         'RAPE 1,ATTEMPT': 2374,\n",
       "         'POSSESSION HYPODERMIC INSTRUME': 752,\n",
       "         'IMPERSONATION 2, PUBLIC SERVAN': 17826,\n",
       "         'ADM.CODE,UNCLASSIFIED MISDEMEA': 13587,\n",
       "         'FORGERY,DRIVERS LICENSE': 4767,\n",
       "         'RECKLESS DRIVING': 967,\n",
       "         'THEFT,RELATED OFFENSES,UNCLASS': 2588,\n",
       "         'BURGLARY,COMMERCIAL,DAY': 16625,\n",
       "         'INTOXICATED DRIVING,ALCOHOL': 95508,\n",
       "         'LARCENY,GRAND BY DISHONEST EMP': 10154,\n",
       "         'LARCENY,GRAND FROM PERSON, BAG OPEN/DIP': 8980,\n",
       "         'CRIMINAL MISCHIEF,UNCLASSIFIED 4': 208063,\n",
       "         'LARCENY,GRAND FROM EATERY, UNATTENDED': 8085,\n",
       "         'MARIJUANA, POSSESSION 4 & 5': 198706,\n",
       "         'TRESPASS 2, CRIMINAL': 72289,\n",
       "         'ESCAPE 3': 206,\n",
       "         'BRIBERY,PUBLIC ADMINISTRATION': 14101,\n",
       "         'CONTEMPT,CRIMINAL': 23606,\n",
       "         'OBSCENE MATERIAL - UNDER 17 YE': 1613,\n",
       "         'PETIT LARCENY-CHECK FROM MAILB': 3190,\n",
       "         'BURGLARY,COMMERCIAL,UNKNOWN TI': 6060,\n",
       "         'AGGRAVATED HARASSMENT 1': 5065,\n",
       "         'LEWDNESS,PUBLIC': 12025,\n",
       "         'MISCHIEF, CRIMINAL 3 & 2, OF M': 57449,\n",
       "         'ROBBERY,PUBLIC PLACE INSIDE': 8483,\n",
       "         'OBSCENITY 1': 265,\n",
       "         'LARCENY,GRAND OF VEHICULAR/MOTORCYCLE ACCESSORIES': 19125,\n",
       "         'COURSE OF SEXUAL CONDUCT AGAIN': 416,\n",
       "         'NY STATE LAWS,UNCLASSIFIED FEL': 6675,\n",
       "         'STOLEN PROPERTY-MOTOR VEH 2ND,': 2635,\n",
       "         'LARCENY,PETIT FROM BUILDING,UNATTENDED, PACKAGE THEFT INSIDE': 14472,\n",
       "         'LARCENY,GRAND FROM RETAIL STORE, UNATTENDED': 8136,\n",
       "         'CONTROLLED SUBSTANCE,SALE 1': 3328,\n",
       "         'SODOMY 2': 329,\n",
       "         'LARCENY,GRAND BY OPEN/COMPROMISE CELL PHONE ACCT': 7437,\n",
       "         'MARIJUANA, POSSESSION 1, 2 & 3': 4302,\n",
       "         'MISCHIEF,CRIMINAL,    UNCL 2ND': 54273,\n",
       "         'LARCENY,PETIT FROM BUILDING,UNATTENDED, PACKAGE THEFT OUTSIDE': 5971,\n",
       "         'LARCENY,GRAND BY CREDIT CARD ACCT COMPROMISE-EXISTING ACCT': 11381,\n",
       "         'UNAUTH. SALE OF TRANS. SERVICE': 4529,\n",
       "         'LARCENY, GRAND OF AUTO - ATTEM': 1339,\n",
       "         'CUSTODIAL INTERFERENCE 1': 993,\n",
       "         'LARCENY,GRAND OF MOTORCYCLE': 12909,\n",
       "         'MENACING,PEACE OFFICER': 1020,\n",
       "         'UNAUTHORIZED USE VEHICLE 2': 8487,\n",
       "         'LARCENY,GRAND FROM BUILDING (NON-RESIDENCE) UNATTENDED': 136687,\n",
       "         'MISCHIEF, CRIMINAL 4, BY FIRE': 8870,\n",
       "         'VIOLATION OF ORDER OF PROTECTI': 45910,\n",
       "         'LARCENY,GRAND BY BANK ACCT COMPROMISE-REPRODUCED CHECK': 20947,\n",
       "         'IMPERSONATION 1, POLICE OFFICE': 2929,\n",
       "         'ROBBERY,LICENSED FOR HIRE VEHICLE': 1005,\n",
       "         'BURGLARY,RESIDENCE,UNKNOWN TIM': 19259,\n",
       "         'ROBBERY,BAR/RESTAURANT': 622,\n",
       "         'LARCENY,GRAND BY FALSE PROMISE-IN PERSON CONTACT': 4094,\n",
       "         'ASSAULT OTHER PUBLIC SERVICE EMPLOYEE': 878,\n",
       "         'UNLAWFUL DISCLOSURE OF AN INTIMATE IMAGE': 697,\n",
       "         'LARCENY,PETIT BY CREDIT CARD U': 9150,\n",
       "         'LARCENY,GRAND FROM PERSON,PERSONAL ELECTRONIC DEVICE(SNATCH)': 12686,\n",
       "         'LARCENY,GRAND BY BANK ACCT COMPROMISE-ATM TRANSACTION': 8254,\n",
       "         'STOLEN PROPERTY 3,POSSESSION': 23980,\n",
       "         'CRIMINAL MIS 2 & 3': 6050,\n",
       "         'DRUG PARAPHERNALIA,   POSSESSE': 2791,\n",
       "         'THEFT OF SERVICES, UNCLASSIFIE': 15982,\n",
       "         'LARCENY,GRAND BY OPEN CREDIT CARD (NEW ACCT)': 10304,\n",
       "         'LARCENY,GRAND BY FALSE PROMISE-NOT IN PERSON CONTACT': 11389,\n",
       "         'UNAUTHORIZED USE VEHICLE 3': 22015,\n",
       "         'LARCENY,GRAND FROM PERSON,LUSH WORKER(SLEEPING/UNCON VICTIM)': 4433,\n",
       "         'LARCENY,GRAND FROM PERSON,PURS': 10929,\n",
       "         'LARCENY,PETIT BY DISHONEST EMP': 7624,\n",
       "         'LARCENY,GRAND PERSON,NECK CHAI': 3839,\n",
       "         'LARCENY,PETIT FROM TRUCK': 2960,\n",
       "         'BURGLARS TOOLS,UNCLASSIFIED': 3847,\n",
       "         'LARCENY,GRAND BY EXTORTION': 6792,\n",
       "         'STOLEN PROPERTY 2,1,POSSESSION': 10294,\n",
       "         'AGGRAVATED SEXUAL ASBUSE': 4390,\n",
       "         'LARCENY,GRAND BY ACQUIRING LOS': 10388,\n",
       "         'TRESPASS 4,CRIMINAL SUB 2': 3089,\n",
       "         'ROBBERY,ATM LOCATION': 748,\n",
       "         'LARCENY,GRAND BY BANK ACCT COMPROMISE-UNAUTHORIZED PURCHASE': 1731,\n",
       "         'BURGLARY,UNCLASSIFIED,UNKNOWN': 1903,\n",
       "         'LARCENY,PETIT BY CHECK USE': 7588,\n",
       "         'FALSE REPORT UNCLASSIFIED': 7940,\n",
       "         'LARCENY,GRAND BY BANK ACCT COMPROMISE-TELLER': 1827,\n",
       "         'PUBLIC ADMINISTRATION,UNCLASSI': 4532,\n",
       "         'LARCENY,GRAND FROM RESIDENCE/BUILDING,UNATTENDED, PACKAGE THEFT INSIDE': 862,\n",
       "         'ADM.CODE,UNCLASSIFIED VIOLATIO': 431,\n",
       "         'BAIL JUMPING 1 & 2': 717,\n",
       "         'ROBBERY,UNLICENSED FOR HIRE VEHICLE': 2062,\n",
       "         'BURGLARY, TRUCK UNKNOWN TIME': 371,\n",
       "         'LARCENY,GRAND FROM NIGHT CLUB, UNATTENDED': 5925,\n",
       "         'LARCENY,GRAND BY BANK ACCT COMPROMISE-UNCLASSIFIED': 5129,\n",
       "         'ROBBERY,COMMERCIAL UNCLASSIFIED': 13392,\n",
       "         'ROBBERY,GAS STATION': 1012,\n",
       "         'BAIL JUMPING 3': 1977,\n",
       "         'INCOMPETENT PERSON,RECKLESSY ENDANGERING': 179,\n",
       "         'RECKLESS ENDANGERMENT OF PROPE': 1979,\n",
       "         'ACCOSTING,FRAUDULENT': 3444,\n",
       "         'LARCENY,GRAND BY OPEN BANK ACCT': 494,\n",
       "         'ROBBERY, CHAIN STORE': 3448,\n",
       "         'IMPRISONMENT 2,UNLAWFUL': 2210,\n",
       "         'LARCENY,GRAND FROM TRUCK, UNATTENDED': 962,\n",
       "         'LARCENY,GRAND FROM RESIDENCE/BUILDING,UNATTENDED, PACKAGE THEFT OUTSIDE': 380,\n",
       "         'ROBBERY,LICENSED MEDALLION CAB': 1949,\n",
       "         'CUSTODIAL INTERFERENCE 2': 1383,\n",
       "         'PROMOTING A SEXUAL PERFORMANCE': 428,\n",
       "         'TRAFFIC,UNCLASSIFIED MISDEMEAN': 21352,\n",
       "         'ABANDON ANIMAL': 290,\n",
       "         'MENACING 1ST DEGREE (VICT PEAC': 1197,\n",
       "         'TAX LAW': 4556,\n",
       "         'BRIBERY,COMMERCIAL': 127,\n",
       "         'TAMPERING 3,2, CRIMINAL': 1136,\n",
       "         'PUBLIC SAFETY,UNCLASSIFIED MIS': 427,\n",
       "         'TORTURE/INJURE ANIMAL CRUELTY': 381,\n",
       "         'FALSE REPORT 1,FIRE': 967,\n",
       "         'PETIT LARCENY OF ANIMAL': 396,\n",
       "         'FALSE REPORT BOMB': 551,\n",
       "         'BURGLARY,UNCLASSIFIED,DAY': 1854,\n",
       "         'FORGERY,PRESCRIPTION': 655,\n",
       "         'COMPUTER UNAUTH. USE/TAMPER': 363,\n",
       "         'GAMBLING 2,PROMOTING,UNCLASSIF': 2315,\n",
       "         'AGRICULTURE & MARKETS LAW,UNCL': 466,\n",
       "         'MENACING 1ST DEGREE (VICT NOT': 1093,\n",
       "         'EXPOSURE OF A PERSON': 315,\n",
       "         'ASSEMBLY,UNLAWFUL': 1183,\n",
       "         'KIDNAPPING 2': 427,\n",
       "         'CONTROLLED SUBSTANCE, INTENT T': 4868,\n",
       "         'LARCENY,GRAND OF TRUCK': 1422,\n",
       "         'ASSAULT SCHOOL SAFETY AGENT': 74,\n",
       "         'MARIJUANA, SALE 1, 2 & 3': 1208,\n",
       "         'KIDNAPPING 1': 215,\n",
       "         'TAMPERING 1,CRIMINAL': 7146,\n",
       "         'LARCENY,PETIT OF MOTORCYCLE': 328,\n",
       "         'LARCENY,PETIT FROM COIN MACHIN': 374,\n",
       "         'ROBBERY,ON BUS/ OR BUS DRIVER': 649,\n",
       "         'COERCION 2': 239,\n",
       "         'GAMBLING 2, PROMOTING, BOOKMAK': 38,\n",
       "         'ALCOHOLIC BEVERAGE CONTROL LAW': 1277,\n",
       "         'FALSE ALARM FIRE': 184,\n",
       "         'ROBBERY,CHECK CASHING BUSINESS': 293,\n",
       "         'SEXUAL MISCONDUCT,DEVIATE': 348,\n",
       "         'MISCHIEF, CRIMINAL 3&2, BY FIR': 652,\n",
       "         'TRESPASS 1,CRIMINAL': 2908,\n",
       "         'PRIVACY,OFFENSES AGAINST,UNCLA': 34,\n",
       "         'CHECK,BAD': 534,\n",
       "         'CRIMINAL DISPOSAL FIREARM 1 &': 667,\n",
       "         'CHILD,ALCOHOL SALE TO': 1456,\n",
       "         'IMPRISONMENT 1,UNLAWFUL': 1243,\n",
       "         'BRIBERY, POLICE OFFICER': 731,\n",
       "         'LARCENY,PETIT OF TRUCK': 6,\n",
       "         'GAMBLING 1,PROMOTING,BOOKMAKIN': 48,\n",
       "         'LARCENY, GRAND OF MOPED': 1275,\n",
       "         'CAUSE SPI/KILL ANIMAL': 233,\n",
       "         'SUPP. ACT TERR 2ND': 122,\n",
       "         'FACILITATION 4, CRIMINAL': 68,\n",
       "         'COMPUTER TAMPER/TRESSPASS': 589,\n",
       "         'LOITERING,GAMBLING,OTHER': 245,\n",
       "         'CONSPIRACY 4, 3': 62,\n",
       "         'STALKING COMMIT SEX OFFENSE': 18,\n",
       "         'CONSPIRACY 2, 1': 154,\n",
       "         'EAVESDROPPING': 151,\n",
       "         'HOMICIDE,NEGLIGENT,UNCLASSIFIE': 172,\n",
       "         'RECORDS,FALSIFY-TAMPER': 115,\n",
       "         'PROSTITUTION': 217,\n",
       "         'ARSON 1': 206,\n",
       "         'JOSTLING': 447,\n",
       "         'CHILD ABANDONMENT': 459,\n",
       "         'NY STATE LAWS,UNCLASSIFIED VIO': 238,\n",
       "         'GAMBLING, DEVICE, POSSESSION': 470,\n",
       "         'FACILITATION 3,2,1, CRIMINAL': 19,\n",
       "         'LURING A CHILD': 58,\n",
       "         'SALE SCHOOL GROUNDS': 5,\n",
       "         'COERCION 1': 1641,\n",
       "         'INAPPROPIATE SHELTER DOG LEFT': 35,\n",
       "         'NY STATE LAWS,UNCLASSIFIED MIS': 1768,\n",
       "         'ROBBERY,OF TRUCK DRIVER': 223,\n",
       "         'LARCENY, PETIT OF MOPED': 441,\n",
       "         'GAMBLING 1,PROMOTING,POLICY': 93,\n",
       "         'CONTROLLED SUBSTANCE, SALE 4': 587,\n",
       "         'RIOT 2/INCITING': 911,\n",
       "         'INCOMPETENT PERSON,KNOWINGLY ENDANGERING': 90,\n",
       "         'FORGERY-ILLEGAL POSSESSION,VEH': 987,\n",
       "         'PROSTITUTION, PATRONIZING 4, 3': 742,\n",
       "         'DISORDERLY CONDUCT': 1038,\n",
       "         'LARCENY,GRAND OF BOAT': 83,\n",
       "         'IMPAIRED DRIVING,DRUG': 939,\n",
       "         'ASSAULT TRAFFIC AGENT': 107,\n",
       "         'POSS METH MANUFACT MATERIAL': 8,\n",
       "         'DIS. CON.,AGGRAVATED': 55,\n",
       "         'MATERIAL              OFFENSIV': 317,\n",
       "         'USE OF A CHILD IN A SEXUAL PER': 54,\n",
       "         'UNLAWFUL SALE SYNTHETIC MARIJUANA': 36,\n",
       "         'POSTING ADVERTISEMENTS': 27,\n",
       "         'SEX TRAFFICKING': 109,\n",
       "         'IMITATION PISTOL/AIR RIFLE': 426,\n",
       "         'ROBBERY, PAYROLL': 244,\n",
       "         'LARCENY,GRAND FROM BOAT, UNATTENDED': 152,\n",
       "         'LARCENY,GRAND FROM PIER, UNATTENDED': 331,\n",
       "         'NUISANCE,CRIMINAL,UNCLASSIFIED': 370,\n",
       "         'ROBBERY,PHARMACY': 1112,\n",
       "         'LARCENY,PETIT FROM BOAT': 186,\n",
       "         'MANUFACTURE UNAUTHORIZED RECOR': 1035,\n",
       "         'PARKR&R,UNCLASSIFIED VIOLATION': 187,\n",
       "         'PUBLIC HEALTH LAW,UNCLASSIFIED': 157,\n",
       "         'PLACE FALSE BOMB': 16,\n",
       "         'LOITERING TO PROMOTE PROSTITUT': 68,\n",
       "         'INCEST 3': 1,\n",
       "         'HEALTHCARE/RENT.REG.': 57,\n",
       "         'POSSESS PARAPHERNALIA/ANIMAL FIGHTING': 5,\n",
       "         'MONEY LAUNDERING 1 & 2': 62,\n",
       "         'ROBBERY,HIJACKING': 36,\n",
       "         'NEGLECT/POISON ANIMAL': 31,\n",
       "         'FIREARMS LICENSING LAWS': 16,\n",
       "         'TERRORISM PROVIDE SUPPORT': 26,\n",
       "         'PERJURY 3,ETC.': 101,\n",
       "         'SALES OF PRESCRIPTION': 48,\n",
       "         'LARCENY,PETIT FROM PIER': 196,\n",
       "         'MARRIAGE,OFFENSES AGAINST,UNCL': 4,\n",
       "         'POSSES OR CARRY A KNIFE': 156,\n",
       "         'PERJURY 2,1,ETC': 120,\n",
       "         'BIGAMY': 23,\n",
       "         'END WELFARE VULNERABLE ELDERLY PERSON': 75,\n",
       "         'CONTROLLED SUBSTANCE,POSSESS.-': 272,\n",
       "         'LARCENY,PETIT OF AUTO': 541,\n",
       "         'ALCOHOLIC BEVERAGES,PUBLIC CON': 220,\n",
       "         'RIOT 1': 186,\n",
       "         'OBSCENITY, PERFORMANCE 3': 98,\n",
       "         'DRUG, INJECTION OF': 29,\n",
       "         'PROSTITUTION 4,PROMOTING&SECUR': 112,\n",
       "         'SEX CRIMES': 156,\n",
       "         'ROBBERY,LIQUOR STORE': 226,\n",
       "         'SOLICITATION 3,2,1, CRIMINAL': 29,\n",
       "         'SOLICITATION 4, CRIMINAL': 25,\n",
       "         'THEFT OF SERVICES- CABLE TV SE': 424,\n",
       "         'PROSTITUTION 3, PROMOTING UNDE': 20,\n",
       "         'MISCHIEF 1,CRIMINAL,EXPLOSIVE': 49,\n",
       "         'PARK R&R,GAMBLING': 39,\n",
       "         'VEHICULAR ASSAULT (INTOX DRIVE': 280,\n",
       "         'HOMICIDE, NEGLIGENT, VEHICLE,': 88,\n",
       "         'AIRPOLLUTION': 5,\n",
       "         'GAMBLING 2, PROMOTING, POLICY-': 97,\n",
       "         'FIREWORKS': 11,\n",
       "         'GENERAL BUSINESS LAW,TICKET SP': 299,\n",
       "         'FIREWORKS, SALE': 597,\n",
       "         'FIREWORKS, POSSESS/USE': 266,\n",
       "         'BRIBERY,FRAUD': 68,\n",
       "         'STOLEN PROP-MOTOR VEHICLE 3RD,': 155,\n",
       "         'WOUNDS,REPORTING OF': 22,\n",
       "         'CONFINING ANIMAL IN VEHICLE/SHELTER': 21,\n",
       "         'TAMPERING WITH A WITNESS': 225,\n",
       "         'PROSTITUTION 3,PROMOTING BUSIN': 42,\n",
       "         'EDUCATION LAW': 13,\n",
       "         'NUISANCE, CRIMINAL': 51,\n",
       "         'RADIO DEVICES,UNLAWFUL POSSESS': 40,\n",
       "         'LARCENY,PETIT OF BOAT': 30,\n",
       "         'STOLEN PROPERTY 2,POSSESSION B': 252,\n",
       "         'CONSPIRACY 6, 5': 35,\n",
       "         'LABOR TRAFFICKING': 3,\n",
       "         'UNLAWFUL POSS. WEAPON UPON SCH': 70,\n",
       "         'PROSTITUTION 2, COMPULSORY': 38,\n",
       "         'OBSCENITY, MATERIAL 3': 30,\n",
       "         'SOLICITATION 5,CRIMINAL': 18,\n",
       "         'CIGARETTE,NO TAX STAMP,POSSESS': 217,\n",
       "         'DISSEMINATING A FALSE SEX OFFEND': 5,\n",
       "         'TRAFFIC,UNCLASSIFIED INFRACTIO': 15,\n",
       "         'GENERAL BUSINESS LAW / UNCLASSIFIED': 11,\n",
       "         'A.B.C.,FALSE PROOF OF AGE': 36,\n",
       "         'ROBBERY,DOCTOR/DENTIST OFFICE': 65,\n",
       "         'LARCENY,GRAND BY FALSE PROMISE': 3355,\n",
       "         'SALE OF UNAUTHORIZED RECORDING': 1244,\n",
       "         'LARCENY,GRAND FROM COIN MACHIN': 51,\n",
       "         'BURGLARY,UNKNOWN TIME': 907,\n",
       "         'USURY,CRIMINAL': 5,\n",
       "         'N.Y.C. TRANSIT AUTH. R&R': 55,\n",
       "         'GRAND LARCENY-CHECK FROM MAILB': 260,\n",
       "         'DOG STEALING': 41,\n",
       "         'CREDIT CARD,UNLAWFUL USE OF': 21,\n",
       "         'FORTUNE TELLING': 12,\n",
       "         'APPEARANCE TICKET FAIL TO RESP': 80,\n",
       "         'CHILD,OFFENSES AGAINST,UNCLASS': 101,\n",
       "         'EDUCATION LAW,UNCLASSIFIED': 14,\n",
       "         'LARCENY,PETIT FROM PARKING MET': 68,\n",
       "         'HEALTH CODE,UNCLASSIFIED MISDE': 57,\n",
       "         'INCEST': 10,\n",
       "         'PEDDLING,UNLAWFUL': 150,\n",
       "         'ABSCONDING FROM WORK RELEASE 2': 22,\n",
       "         'PROSTITUTION 2, UNDER 16': 20,\n",
       "         'GYPSY CAB': 9,\n",
       "         'PROSTITUTION, PATRONIZING 2, 1': 8,\n",
       "         'HEALTH CODE,VIOLATION': 35,\n",
       "         'NOISE,UNECESSARY': 22,\n",
       "         'AGGRAVATED GRAND LARCENY OF ATM': 1,\n",
       "         'ENTERPRISE CORRUPTION': 17,\n",
       "         'BUILDING MATERIAL': 17,\n",
       "         'LARCENY,GRAND BY CREDIT CARD COMPROMISE-UNAUTHORIZE PURCHASE': 15,\n",
       "         'LABOR LAW,EMPLOYING CHILDREN': 118,\n",
       "         'LOITERING,UNCLASSIFIED': 21,\n",
       "         'CHILD,LICENSED PREMISES': 3,\n",
       "         'PUBLIC HEALTH LAW,GLUE,UNLAWFU': 12,\n",
       "         'LOITERING FOR PROSTITUTION OR': 10,\n",
       "         'HOMICIDE,NEGLIGENT,VEHICLE': 16,\n",
       "         'LARCENY, PETIT OF AUTO - ATTEM': 18,\n",
       "         'WEAPONS,PROHIBITED USE': 7,\n",
       "         'GRAFFITI (ADMINISTRATIVE CODE-': 41,\n",
       "         'ABORTION 1': 7,\n",
       "         'WEAPONS,MFR,TRANSPORT,ETC.': 13,\n",
       "         'ATTEND/SPECTATOR ANIMAL FIGHTING': 4,\n",
       "         'BREED/TRAIN/HOST ANIMAL FIGHTING': 9,\n",
       "         'POSSESSION ANTI-SECURITY ITEM': 14,\n",
       "         'LOITERING,SCHOOL': 2,\n",
       "         'FIREWORKS PREV CONV 5 YEARS': 3,\n",
       "         'UNDER THE INFLUENCE OF DRUGS': 3,\n",
       "         'HIND PROSEC. TERR 2': 1,\n",
       "         'PROSTITUTION,PERMITTING': 5,\n",
       "         'PUBLIC HEALTH LAW,GLUE,INHALAT': 1,\n",
       "         'PROMOTING SUICIDE ATTEMPT': 4,\n",
       "         'EDUCATION LAW, TRUANCY': 2,\n",
       "         'FAC. SEXUAL OFFENSE W/CONTROLL': 5,\n",
       "         'LARCENY,GRAND FROM PARKING MET': 4,\n",
       "         'LOITERING 1ST DEGREE FOR DRUG': 23,\n",
       "         'AIR POLLUTION-MOTOR VEH (ADM C': 2,\n",
       "         'SODOMY,CONSENSUAL': 3,\n",
       "         'PROSTITUTION 1, UNDER 11': 3,\n",
       "         'LOITERING,DEVIATE SEX': 16,\n",
       "         'NAVIGATION LAW': 2,\n",
       "         'ABORTIONAL ARTICLES,ISSUING': 1,\n",
       "         'WEAPONS,PROHIBITED USE IMITATI': 2,\n",
       "         'USE CHILD TO COMMIT CONT SUB OFF': 1,\n",
       "         'SMOKING TRANSPORTATION FACILIT': 1,\n",
       "         'ABORTION 2, 1, SELF': 1,\n",
       "         'EDUCATION LAW,STREET TRADE': 1,\n",
       "         'ANARCHY,CRIMINAL': 1,\n",
       "         'ENVIRONMENTAL CONTROL BOARD': 1,\n",
       "         'WEAPONS DISPOSITION OF': 3})"
      ]
     },
     "execution_count": 27,
     "metadata": {},
     "output_type": "execute_result"
    }
   ],
   "source": [
    "ds_full.distinct('PD_DESC')"
   ]
  },
  {
   "cell_type": "code",
   "execution_count": 28,
   "id": "86c7e860",
   "metadata": {},
   "outputs": [
    {
     "data": {
      "text/plain": [
       "Counter({'COMPLETED': 7250300, 'ATTEMPTED': 125686, '': 7})"
      ]
     },
     "execution_count": 28,
     "metadata": {},
     "output_type": "execute_result"
    }
   ],
   "source": [
    "ds_full.distinct('CRM_ATPT_CPTD_CD')"
   ]
  },
  {
   "cell_type": "code",
   "execution_count": 29,
   "id": "f59d9123",
   "metadata": {},
   "outputs": [],
   "source": [
    "def validate_crime_indicator(sourceValue):\n",
    "    UNKNOWN = \"UNKNOWN\"\n",
    "    \n",
    "    try:\n",
    "        crime_indicator_list = [\"COMPLETED\", \"ATTEMPTED\", \"FAILED\", \"INTERRUPTED PREMATURELY\"]\n",
    "        \n",
    "        if sourceValue in crime_indicator_list:\n",
    "            return sourceValue\n",
    "        else:\n",
    "            return UNKNOWN\n",
    "    except:\n",
    "        return UNKNOWN\n",
    "\n",
    "    \n",
    "ds_full = ds_full.update('CRM_ATPT_CPTD_CD', validate_crime_indicator)"
   ]
  },
  {
   "cell_type": "code",
   "execution_count": 30,
   "id": "ae190e5f",
   "metadata": {
    "scrolled": true
   },
   "outputs": [
    {
     "data": {
      "text/plain": [
       "Counter({'FELONY': 2275064, 'VIOLATION': 960209, 'MISDEMEANOR': 4140720})"
      ]
     },
     "execution_count": 30,
     "metadata": {},
     "output_type": "execute_result"
    }
   ],
   "source": [
    "ds_full.distinct('LAW_CAT_CD')"
   ]
  },
  {
   "cell_type": "code",
   "execution_count": 31,
   "id": "e41fbd8b",
   "metadata": {},
   "outputs": [],
   "source": [
    "def validate_law_cat_cd(sourceValue):\n",
    "    UNKNOWN = \"UNKNOWN\"\n",
    "    \n",
    "    try:\n",
    "        values = [\"FELONY\", \"MISDEMEANOR\", \"VIOLATION\"] \n",
    "        \n",
    "        if sourceValue in values:\n",
    "            return sourceValue\n",
    "        else:\n",
    "            return UNKNOWN\n",
    "    except:\n",
    "        return UNKNOWN\n",
    "\n",
    "    \n",
    "ds_full = ds_full.update('LAW_CAT_CD', validate_law_cat_cd)"
   ]
  },
  {
   "cell_type": "code",
   "execution_count": 32,
   "id": "1f5d764c",
   "metadata": {
    "scrolled": true
   },
   "outputs": [
    {
     "data": {
      "text/plain": [
       "Counter({'MANHATTAN': 1771637,\n",
       "         'BRONX': 1599801,\n",
       "         'QUEENS': 1463554,\n",
       "         '': 11329,\n",
       "         'BROOKLYN': 2186681,\n",
       "         'STATEN ISLAND': 342991})"
      ]
     },
     "execution_count": 32,
     "metadata": {},
     "output_type": "execute_result"
    }
   ],
   "source": [
    "ds_full.distinct('BORO_NM')"
   ]
  },
  {
   "cell_type": "code",
   "execution_count": 33,
   "id": "da63e60d",
   "metadata": {},
   "outputs": [],
   "source": [
    "def validate_boro_nm(sourceValue):\n",
    "    UNKNOWN = \"UNKNOWN\"\n",
    "    \n",
    "    try:\n",
    "        values = [\"BRONX\",\"BROOKLYN\",\"MANHATTAN\",\"QUEENS\",\"STATEN ISLAND\"]\n",
    "        \n",
    "        if sourceValue in values:\n",
    "            return sourceValue\n",
    "        else:\n",
    "            return UNKNOWN\n",
    "    except:\n",
    "        return UNKNOWN\n",
    "\n",
    "    \n",
    "ds_full = ds_full.update('BORO_NM', validate_boro_nm)"
   ]
  },
  {
   "cell_type": "code",
   "execution_count": 34,
   "id": "11929119",
   "metadata": {
    "scrolled": false
   },
   "outputs": [
    {
     "data": {
      "text/plain": [
       "Counter({'': 1543800,\n",
       "         'FRONT OF': 1727410,\n",
       "         'REAR OF': 157302,\n",
       "         'OUTSIDE': 3813,\n",
       "         'INSIDE': 3747880,\n",
       "         'OPPOSITE OF': 195788})"
      ]
     },
     "execution_count": 34,
     "metadata": {},
     "output_type": "execute_result"
    }
   ],
   "source": [
    "ds_full.distinct('LOC_OF_OCCUR_DESC')"
   ]
  },
  {
   "cell_type": "code",
   "execution_count": 35,
   "id": "859ad5a1",
   "metadata": {
    "scrolled": true
   },
   "outputs": [
    {
     "data": {
      "text/plain": [
       "[('STREET', 2352311),\n",
       " ('RESIDENCE - APT. HOUSE', 1564899),\n",
       " ('RESIDENCE-HOUSE', 725940),\n",
       " ('RESIDENCE - PUBLIC HOUSING', 553247),\n",
       " ('OTHER', 199770),\n",
       " ('COMMERCIAL BUILDING', 190978),\n",
       " ('CHAIN STORE', 167139),\n",
       " ('TRANSIT - NYC SUBWAY', 160448),\n",
       " ('DEPARTMENT STORE', 144809),\n",
       " ('GROCERY/BODEGA', 94682)]"
      ]
     },
     "execution_count": 35,
     "metadata": {},
     "output_type": "execute_result"
    }
   ],
   "source": [
    "profiles.column('PREM_TYP_DESC').get('topValues')"
   ]
  },
  {
   "cell_type": "code",
   "execution_count": 36,
   "id": "0d2c392e",
   "metadata": {
    "scrolled": false
   },
   "outputs": [
    {
     "data": {
      "text/plain": [
       "Counter({'STREET': 2352311,\n",
       "         '': 40745,\n",
       "         'RESIDENCE - APT. HOUSE': 1564899,\n",
       "         'DEPARTMENT STORE': 144809,\n",
       "         'OTHER': 199770,\n",
       "         'RESIDENCE-HOUSE': 725940,\n",
       "         'RESIDENCE - PUBLIC HOUSING': 553247,\n",
       "         'ABANDONED BUILDING': 2827,\n",
       "         'HOSPITAL': 35193,\n",
       "         'DRUG STORE': 70116,\n",
       "         'CEMETERY': 854,\n",
       "         'PUBLIC BUILDING': 43986,\n",
       "         'FOOD SUPERMARKET': 40053,\n",
       "         'COMMERCIAL BUILDING': 190978,\n",
       "         'GYM/FITNESS FACILITY': 22943,\n",
       "         'CHAIN STORE': 167139,\n",
       "         'BUS STOP': 6212,\n",
       "         'GROCERY/BODEGA': 94682,\n",
       "         'FAST FOOD': 36335,\n",
       "         'STORE UNCLASSIFIED': 31669,\n",
       "         'HOTEL/MOTEL': 33547,\n",
       "         'RESTAURANT/DINER': 85640,\n",
       "         'BANK': 30868,\n",
       "         'BRIDGE': 7743,\n",
       "         'SHOE': 5142,\n",
       "         'PARKING LOT/GARAGE (PUBLIC)': 40170,\n",
       "         'CHURCH': 12912,\n",
       "         'ATM': 6088,\n",
       "         'HIGHWAY/PARKWAY': 21915,\n",
       "         'PUBLIC SCHOOL': 85002,\n",
       "         'PARK/PLAYGROUND': 84334,\n",
       "         'HOMELESS SHELTER': 4132,\n",
       "         'BUS (NYC TRANSIT)': 16135,\n",
       "         'BUS TERMINAL': 5347,\n",
       "         'GAS STATION': 17714,\n",
       "         'LIQUOR STORE': 5994,\n",
       "         'CONSTRUCTION SITE': 13051,\n",
       "         'CLOTHING/BOUTIQUE': 61835,\n",
       "         'SOCIAL CLUB/POLICY': 4505,\n",
       "         'OPEN AREAS (OPEN LOTS)': 10620,\n",
       "         'BAR/NIGHT CLUB': 78705,\n",
       "         'MAILBOX OUTSIDE': 6253,\n",
       "         'TUNNEL': 3811,\n",
       "         'SMALL MERCHANT': 29531,\n",
       "         'BUS (OTHER)': 3683,\n",
       "         'AIRPORT TERMINAL': 19184,\n",
       "         'BEAUTY & NAIL SALON': 19619,\n",
       "         'TRANSIT - NYC SUBWAY': 160448,\n",
       "         'DOCTOR/DENTIST OFFICE': 17775,\n",
       "         'CANDY STORE': 9420,\n",
       "         'SYNAGOGUE': 2723,\n",
       "         'PARKING LOT/GARAGE (PRIVATE)': 39232,\n",
       "         'TAXI (LIVERY LICENSED)': 6806,\n",
       "         'CHECK CASHING BUSINESS': 8211,\n",
       "         'JEWELRY': 5285,\n",
       "         'DRY CLEANER/LAUNDRY': 15772,\n",
       "         'TELECOMM. STORE': 10811,\n",
       "         'TRANSIT FACILITY (OTHER)': 6045,\n",
       "         'TAXI (YELLOW LICENSED)': 6896,\n",
       "         'VARIETY STORE': 10021,\n",
       "         'STORAGE FACILITY': 6728,\n",
       "         'FACTORY/WAREHOUSE': 7512,\n",
       "         'MARINA/PIER': 3070,\n",
       "         'PRIVATE/PAROCHIAL SCHOOL': 8472,\n",
       "         'TAXI/LIVERY (UNLICENSED)': 1223,\n",
       "         'BOOK/CARD': 2449,\n",
       "         'FERRY/FERRY TERMINAL': 2118,\n",
       "         'OTHER HOUSE OF WORSHIP': 1059,\n",
       "         'DAYCARE FACILITY': 53,\n",
       "         'MAILBOX INSIDE': 733,\n",
       "         'VIDEO STORE': 2262,\n",
       "         'MOSQUE': 1080,\n",
       "         'PHOTO/COPY': 967,\n",
       "         'LOAN COMPANY': 495,\n",
       "         'TRAMWAY': 139})"
      ]
     },
     "execution_count": 36,
     "metadata": {},
     "output_type": "execute_result"
    }
   ],
   "source": [
    "ds_full.distinct('PREM_TYP_DESC')"
   ]
  },
  {
   "cell_type": "code",
   "execution_count": 37,
   "id": "a67ebf93",
   "metadata": {
    "scrolled": true
   },
   "outputs": [
    {
     "data": {
      "text/plain": [
       "[('N.Y. POLICE DEPT', 6556968),\n",
       " ('N.Y. HOUSING POLICE', 562181),\n",
       " ('N.Y. TRANSIT POLICE', 163810),\n",
       " ('PORT AUTHORITY', 34258),\n",
       " ('OTHER', 24147),\n",
       " ('DEPT OF CORRECTIONS', 9638),\n",
       " ('POLICE DEPT NYC', 8955),\n",
       " ('TRI-BORO BRDG TUNNL', 5677),\n",
       " ('HEALTH & HOSP CORP', 3692),\n",
       " ('N.Y. STATE POLICE', 1883)]"
      ]
     },
     "execution_count": 37,
     "metadata": {},
     "output_type": "execute_result"
    }
   ],
   "source": [
    "profiles.column('JURIS_DESC').get('topValues')"
   ]
  },
  {
   "cell_type": "code",
   "execution_count": 38,
   "id": "34d4ecd5",
   "metadata": {
    "scrolled": false
   },
   "outputs": [
    {
     "data": {
      "text/plain": [
       "Counter({'N.Y. POLICE DEPT': 6556968,\n",
       "         'METRO NORTH': 822,\n",
       "         'N.Y. HOUSING POLICE': 562181,\n",
       "         'N.Y. STATE POLICE': 1883,\n",
       "         'DEPT OF CORRECTIONS': 9638,\n",
       "         'OTHER': 24147,\n",
       "         'HEALTH & HOSP CORP': 3692,\n",
       "         'N.Y. TRANSIT POLICE': 163810,\n",
       "         'PORT AUTHORITY': 34258,\n",
       "         'U.S. PARK POLICE': 282,\n",
       "         'STATN IS RAPID TRANS': 439,\n",
       "         'NYC PARKS': 1125,\n",
       "         'TRI-BORO BRDG TUNNL': 5677,\n",
       "         'NEW YORK CITY SHERIFF OFFICE': 279,\n",
       "         'N.Y. STATE PARKS': 456,\n",
       "         'LONG ISLAND RAILRD': 548,\n",
       "         'NYS DEPT TAX AND FINANCE': 106,\n",
       "         'CONRAIL': 16,\n",
       "         'AMTRACK': 188,\n",
       "         'FIRE DEPT (FIRE MARSHAL)': 477,\n",
       "         'POLICE DEPT NYC': 8955,\n",
       "         'SEA GATE POLICE DEPT': 30,\n",
       "         'NYC DEPT ENVIRONMENTAL PROTECTION': 14,\n",
       "         'NYS DEPT ENVIRONMENTAL CONSERVATION': 1,\n",
       "         'DISTRICT ATTORNEY OFFICE': 1})"
      ]
     },
     "execution_count": 38,
     "metadata": {},
     "output_type": "execute_result"
    }
   ],
   "source": [
    "ds_full.distinct('JURIS_DESC')"
   ]
  },
  {
   "cell_type": "code",
   "execution_count": 39,
   "id": "49f0d60e",
   "metadata": {},
   "outputs": [
    {
     "data": {
      "text/plain": [
       "[('0', 6551341),\n",
       " ('2', 561564),\n",
       " ('1', 163780),\n",
       " ('3', 34258),\n",
       " ('97', 24143),\n",
       " ('72', 9638),\n",
       " ('69', 8955),\n",
       " ('4', 5677),\n",
       " ('14', 3692),\n",
       " ('11', 1883)]"
      ]
     },
     "execution_count": 39,
     "metadata": {},
     "output_type": "execute_result"
    }
   ],
   "source": [
    "profiles.column('JURISDICTION_CODE').get('topValues')"
   ]
  },
  {
   "cell_type": "code",
   "execution_count": null,
   "id": "53dba3a3",
   "metadata": {},
   "outputs": [],
   "source": [
    "ds_full.distinct('JURISDICTION_CODE')"
   ]
  },
  {
   "cell_type": "code",
   "execution_count": null,
   "id": "91065b44",
   "metadata": {},
   "outputs": [],
   "source": [
    "profiles.column('PARKS_NM').get('topValues')"
   ]
  },
  {
   "cell_type": "code",
   "execution_count": null,
   "id": "4bb3515a",
   "metadata": {
    "scrolled": true
   },
   "outputs": [],
   "source": [
    "ds_full.distinct('PARKS_NM')"
   ]
  },
  {
   "cell_type": "code",
   "execution_count": null,
   "id": "8e57b35c",
   "metadata": {},
   "outputs": [],
   "source": [
    "profiles.column('HADEVELOPT').get('topValues')"
   ]
  },
  {
   "cell_type": "code",
   "execution_count": null,
   "id": "7ca28a02",
   "metadata": {},
   "outputs": [],
   "source": [
    "ds_full.distinct('HADEVELOPT')"
   ]
  },
  {
   "cell_type": "code",
   "execution_count": null,
   "id": "4020707b",
   "metadata": {},
   "outputs": [],
   "source": [
    "profiles.column('HOUSING_PSA').get('topValues')"
   ]
  },
  {
   "cell_type": "code",
   "execution_count": null,
   "id": "3a2c0741",
   "metadata": {},
   "outputs": [],
   "source": [
    "profiles.minmax('X_COORD_CD')"
   ]
  },
  {
   "cell_type": "code",
   "execution_count": null,
   "id": "bb6a6470",
   "metadata": {},
   "outputs": [],
   "source": [
    "profiles.minmax('Y_COORD_CD')"
   ]
  },
  {
   "cell_type": "code",
   "execution_count": null,
   "id": "fdb8f1f1",
   "metadata": {
    "scrolled": true
   },
   "outputs": [],
   "source": [
    "profiles.column('SUSP_AGE_GROUP').get('topValues')"
   ]
  },
  {
   "cell_type": "code",
   "execution_count": null,
   "id": "0da0cc33",
   "metadata": {},
   "outputs": [],
   "source": [
    "ds_full.distinct('SUSP_AGE_GROUP')"
   ]
  },
  {
   "cell_type": "code",
   "execution_count": null,
   "id": "7f614194",
   "metadata": {},
   "outputs": [],
   "source": [
    "def validate_age_group(sourceValue):\n",
    "    UNKNOWN = \"UNKNOWN\"\n",
    "    \n",
    "    try:\n",
    "        values = [\"25-44\", \"18-24\", \"45-64\", \"<18\", \"65+\",\"UNKNOWN\"]\n",
    "        \n",
    "        if sourceValue in values:\n",
    "            return sourceValue\n",
    "        else:\n",
    "            return UNKNOWN\n",
    "    except:\n",
    "        return UNKNOWN\n",
    "\n",
    "    \n",
    "ds_full = ds_full.update('SUSP_AGE_GROUP', validate_age_group)"
   ]
  },
  {
   "cell_type": "code",
   "execution_count": null,
   "id": "f94d2504",
   "metadata": {
    "scrolled": true
   },
   "outputs": [],
   "source": [
    "profiles.column('SUSP_RACE').get('topValues')"
   ]
  },
  {
   "cell_type": "code",
   "execution_count": null,
   "id": "a3a5481f",
   "metadata": {},
   "outputs": [],
   "source": [
    "ds_full.distinct('SUSP_RACE')"
   ]
  },
  {
   "cell_type": "code",
   "execution_count": null,
   "id": "f5b01cfe",
   "metadata": {},
   "outputs": [],
   "source": [
    "def validate_race(sourceValue):\n",
    "    UNKNOWN = \"UNKNOWN\"\n",
    "    \n",
    "    try:\n",
    "        values = [\"UNKNOWN\", \"WHITE HISPANIC\", \"BLACK\", \"BLACK HISPANIC\", \"WHITE\", \"ASIAN / PACIFIC ISLANDER\",\"AMERICAN INDIAN/ALASKAN NATIVE\", \"OTHER\"]\n",
    "        \n",
    "        if sourceValue in values:\n",
    "            return sourceValue\n",
    "        else:\n",
    "            return UNKNOWN\n",
    "    except:\n",
    "        return UNKNOWN\n",
    "\n",
    "    \n",
    "ds_full = ds_full.update('SUSP_RACE', validate_race)"
   ]
  },
  {
   "cell_type": "code",
   "execution_count": null,
   "id": "25e84d47",
   "metadata": {
    "scrolled": true
   },
   "outputs": [],
   "source": [
    "profiles.column('SUSP_SEX').get('topValues')"
   ]
  },
  {
   "cell_type": "code",
   "execution_count": null,
   "id": "4fa677ae",
   "metadata": {},
   "outputs": [],
   "source": [
    "ds_full.distinct('SUSP_SEX')"
   ]
  },
  {
   "cell_type": "code",
   "execution_count": null,
   "id": "5d594476",
   "metadata": {},
   "outputs": [],
   "source": [
    "def validate_sex(sourceValue):\n",
    "    UNKNOWN = \"U\"\n",
    "    \n",
    "    try:\n",
    "        values = [\"M\", \"F\", \"U\"] \n",
    "        \n",
    "        if sourceValue in values:\n",
    "            return sourceValue\n",
    "        else:\n",
    "            return UNKNOWN\n",
    "    except:\n",
    "        return UNKNOWN\n",
    "\n",
    "    \n",
    "ds_full = ds_full.update('SUSP_SEX', validate_sex)"
   ]
  },
  {
   "cell_type": "code",
   "execution_count": null,
   "id": "c11ae746",
   "metadata": {},
   "outputs": [],
   "source": [
    "profiles.column('TRANSIT_DISTRICT').get('topValues')"
   ]
  },
  {
   "cell_type": "code",
   "execution_count": null,
   "id": "75146a51",
   "metadata": {},
   "outputs": [],
   "source": [
    "profiles.minmax('Latitude')"
   ]
  },
  {
   "cell_type": "code",
   "execution_count": null,
   "id": "b918c6b0",
   "metadata": {},
   "outputs": [],
   "source": [
    "def validate_lat(sourceValue):\n",
    "    UNKNOWN = -999\n",
    "    \n",
    "    try:\n",
    "        if sourceValue >= 40 and sourceValue <= 41:  \n",
    "            return sourceValue\n",
    "        else:\n",
    "            return UNKNOWN\n",
    "    except:\n",
    "        return UNKNOWN\n",
    "\n",
    "    \n",
    "ds_full = ds_full.update('Latitude', validate_lat)"
   ]
  },
  {
   "cell_type": "code",
   "execution_count": null,
   "id": "e4597465",
   "metadata": {},
   "outputs": [],
   "source": [
    "profiles.minmax('Longitude')"
   ]
  },
  {
   "cell_type": "code",
   "execution_count": null,
   "id": "1520c876",
   "metadata": {},
   "outputs": [],
   "source": [
    "def validate_long(sourceValue):\n",
    "    UNKNOWN = -999\n",
    "    \n",
    "    try:\n",
    "        if sourceValue >= -74 and sourceValue <= -73:  \n",
    "            return sourceValue\n",
    "        else:\n",
    "            return UNKNOWN\n",
    "    except:\n",
    "        return UNKNOWN\n",
    "\n",
    "    \n",
    "ds_full = ds_full.update('Latitude', validate_long)"
   ]
  },
  {
   "cell_type": "code",
   "execution_count": null,
   "id": "bdecf174",
   "metadata": {
    "scrolled": true
   },
   "outputs": [],
   "source": [
    "profiles.minmax('Lat_Lon')"
   ]
  },
  {
   "cell_type": "code",
   "execution_count": null,
   "id": "5533972c",
   "metadata": {
    "scrolled": true
   },
   "outputs": [],
   "source": [
    "profiles.column('PATROL_BORO').get('topValues')"
   ]
  },
  {
   "cell_type": "code",
   "execution_count": null,
   "id": "d618bbe8",
   "metadata": {},
   "outputs": [],
   "source": [
    "ds_full.distinct('PATROL_BORO')"
   ]
  },
  {
   "cell_type": "code",
   "execution_count": null,
   "id": "2bdf5734",
   "metadata": {
    "scrolled": true
   },
   "outputs": [],
   "source": [
    "profiles.column('STATION_NAME').get('topValues')"
   ]
  },
  {
   "cell_type": "code",
   "execution_count": null,
   "id": "21d54df2",
   "metadata": {},
   "outputs": [],
   "source": [
    "profiles.column('VIC_AGE_GROUP').get('topValues')"
   ]
  },
  {
   "cell_type": "code",
   "execution_count": null,
   "id": "7084b9a0",
   "metadata": {},
   "outputs": [],
   "source": [
    "ds_full.distinct('VIC_AGE_GROUP')"
   ]
  },
  {
   "cell_type": "code",
   "execution_count": null,
   "id": "26929241",
   "metadata": {},
   "outputs": [],
   "source": [
    "ds_full = ds_full.update('VIC_AGE_GROUP', validate_age_group)"
   ]
  },
  {
   "cell_type": "code",
   "execution_count": null,
   "id": "d1d8f80b",
   "metadata": {},
   "outputs": [],
   "source": [
    "profiles.column('VIC_RACE').get('topValues')"
   ]
  },
  {
   "cell_type": "code",
   "execution_count": null,
   "id": "d41ab482",
   "metadata": {},
   "outputs": [],
   "source": [
    "ds_full.distinct('VIC_RACE')"
   ]
  },
  {
   "cell_type": "code",
   "execution_count": null,
   "id": "6e647acc",
   "metadata": {},
   "outputs": [],
   "source": [
    "ds_full = ds_full.update('VIC_RACE', validate_race)"
   ]
  },
  {
   "cell_type": "code",
   "execution_count": null,
   "id": "588d4ada",
   "metadata": {},
   "outputs": [],
   "source": [
    "profiles.column('VIC_SEX').get('topValues')"
   ]
  },
  {
   "cell_type": "code",
   "execution_count": null,
   "id": "314087e8",
   "metadata": {},
   "outputs": [],
   "source": [
    "ds_full.distinct('VIC_SEX')"
   ]
  },
  {
   "cell_type": "code",
   "execution_count": null,
   "id": "56db3ba9",
   "metadata": {},
   "outputs": [],
   "source": [
    "ds_full = ds_full.update('VIC_SEX', validate_sex)"
   ]
  },
  {
   "cell_type": "code",
   "execution_count": null,
   "id": "8edb8969",
   "metadata": {},
   "outputs": [],
   "source": [
    "SELECTED_COLUMNS = [\\\n",
    "    'CMPLNT_NUM',\\\n",
    "    'CMPLNT_FR_DT',\\\n",
    "    'CMPLNT_FR_TM',\\\n",
    "    'CMPLNT_TO_DT',\\\n",
    "    'CMPLNT_TO_TM'\n",
    "    'ADDR_PCT_CD',\\\n",
    "    'RPT_DT',\\\n",
    "    'KY_CD',\\\n",
    "    'OFNS_DESC',\\\n",
    "    'PD_CD',\\\n",
    "    'PD_DESC',\\\n",
    "    'CRM_ATPT_CPTD_CD',\\\n",
    "    'LAW_CAT_CD',\\\n",
    "    'BORO_NM',\\\n",
    "    'LOC_OF_OCCUR_DESC',\\\n",
    "    'PREM_TYP_DESC',\\\n",
    "    'JURIS_DESC',\\\n",
    "    'JURISDICTION_CODE',\\\n",
    "    'PARKS_NM',\\\n",
    "    'HADEVELOPT',\\\n",
    "    'HOUSING_PSA',\\\n",
    "    'SUSP_AGE_GROUP',\\\n",
    "    'SUSP_RACE',\\\n",
    "    'SUSP_SEX',\\\n",
    "    'TRANSIT_DISTRICT',\\\n",
    "    'Latitude',\\\n",
    "    'Longitude',\\\n",
    "    'PATROL_BORO',\\\n",
    "    'STATION_NAME',\\\n",
    "    'VIC_AGE_GROUP',\\\n",
    "    'VIC_RACE',\\\n",
    "    'VIC_SEX'\\\n",
    "]\n",
    "\n",
    "ds_full = ds_full.select(SELECTED_COLUMNS)"
   ]
  },
  {
   "cell_type": "code",
   "execution_count": null,
   "id": "46876a83",
   "metadata": {},
   "outputs": [],
   "source": []
  }
 ],
 "metadata": {
  "kernelspec": {
   "display_name": "Python 3",
   "language": "python",
   "name": "python3"
  },
  "language_info": {
   "codemirror_mode": {
    "name": "ipython",
    "version": 3
   },
   "file_extension": ".py",
   "mimetype": "text/x-python",
   "name": "python",
   "nbconvert_exporter": "python",
   "pygments_lexer": "ipython3",
   "version": "3.8.8"
  }
 },
 "nbformat": 4,
 "nbformat_minor": 5
}
