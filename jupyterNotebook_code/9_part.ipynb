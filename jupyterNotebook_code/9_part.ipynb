{
 "cells": [
  {
   "cell_type": "markdown",
   "id": "85567ad2",
   "metadata": {},
   "source": [
    "#### Import dependencies:"
   ]
  },
  {
   "cell_type": "code",
   "execution_count": 1,
   "id": "83969f76",
   "metadata": {},
   "outputs": [
    {
     "name": "stdout",
     "output_type": "stream",
     "text": [
      "Python version: 3.8.8 (default, Apr 13 2021, 12:59:45) \n",
      "[Clang 10.0.0 ]\n",
      "pandas version: 1.2.4\n",
      "matplotlib version: 3.3.4\n",
      "NumPy version: 1.20.1\n",
      "SciPy version: 1.6.2\n",
      "IPython version: 7.29.0\n",
      "scikit-learn version: 0.24.1\n",
      "-------------------------\n"
     ]
    }
   ],
   "source": [
    "import sys #access to system parameters https://docs.python.org/3/library/sys.html\n",
    "print(\"Python version: {}\". format(sys.version))\n",
    "\n",
    "import pandas as pd #collection of functions for data processing and analysis modeled after R dataframes with SQL like features\n",
    "print(\"pandas version: {}\". format(pd.__version__))\n",
    "\n",
    "import matplotlib #collection of functions for scientific and publication-ready visualization\n",
    "import matplotlib as plt\n",
    "print(\"matplotlib version: {}\". format(matplotlib.__version__))\n",
    "\n",
    "import numpy as np #foundational package for scientific computing\n",
    "print(\"NumPy version: {}\". format(np.__version__))\n",
    "\n",
    "import scipy as sp #collection of functions for scientific computing and advance mathematics\n",
    "print(\"SciPy version: {}\". format(sp.__version__)) \n",
    "\n",
    "import IPython\n",
    "from IPython import display #pretty printing of dataframes in Jupyter notebook\n",
    "print(\"IPython version: {}\". format(IPython.__version__)) \n",
    "\n",
    "import sklearn #collection of machine learning algorithms\n",
    "print(\"scikit-learn version: {}\". format(sklearn.__version__))\n",
    "\n",
    "#misc libraries\n",
    "import random\n",
    "import time\n",
    "#ignore warnings\n",
    "import warnings\n",
    "warnings.filterwarnings('ignore')\n",
    "print('-'*25)\n",
    "import re\n",
    "import os\n",
    "import matplotlib.pyplot as plt\n",
    "%matplotlib inline"
   ]
  },
  {
   "cell_type": "markdown",
   "id": "478c9793",
   "metadata": {},
   "source": [
    "#### Download data file if it has not been downloaded already:"
   ]
  },
  {
   "cell_type": "code",
   "execution_count": 3,
   "id": "0a434cd3",
   "metadata": {},
   "outputs": [
    {
     "name": "stdout",
     "output_type": "stream",
     "text": [
      "Fetching file NYPD-Shooting_Incident_Data-YTD.csv[2.4GB]. This may take a while...\n",
      "File NYPD-Shooting_Incident_Data-YTD.csv has been downloaded\n"
     ]
    }
   ],
   "source": [
    "#url = 'https://data.cityofnewyork.us/api/views/qgea-i56i/rows.csv?accessType=DOWNLOAD'\n",
    "fn_src = 'https://data.cityofnewyork.us/api/views/5ucz-vwe8/rows.csv?accessType=DOWNLOAD'\n",
    "fn_dst = 'NYPD-Shooting_Incident_Data-YTD.csv'\n",
    "\n",
    "from six.moves import urllib\n",
    "\n",
    "if os.path.isfile(fn_dst):\n",
    "    print('File %s has already been downloaded' % fn_dst)\n",
    "else:\n",
    "    print('Fetching file %s[2.4GB]. This may take a while...' % fn_dst)\n",
    "    urllib.request.urlretrieve(fn_src, fn_dst)\n",
    "    print('File %s has been downloaded' % fn_dst)"
   ]
  },
  {
   "cell_type": "markdown",
   "id": "0de7358c",
   "metadata": {},
   "source": [
    "#### Open a stream to the data file so we don't have to load the whole data set into main memory"
   ]
  },
  {
   "cell_type": "code",
   "execution_count": 4,
   "id": "0f21342b",
   "metadata": {},
   "outputs": [],
   "source": [
    "from openclean.pipeline import stream\n",
    "ds_full = stream(fn_dst)"
   ]
  },
  {
   "cell_type": "code",
   "execution_count": 5,
   "id": "d86d93fa",
   "metadata": {},
   "outputs": [
    {
     "name": "stdout",
     "output_type": "stream",
     "text": [
      "The dataset contains 1,531 rows.\n"
     ]
    }
   ],
   "source": [
    "print(f'The dataset contains {ds_full.count():,} rows.')"
   ]
  },
  {
   "cell_type": "code",
   "execution_count": 6,
   "id": "9a5fd065",
   "metadata": {},
   "outputs": [
    {
     "data": {
      "text/html": [
       "<div>\n",
       "<style scoped>\n",
       "    .dataframe tbody tr th:only-of-type {\n",
       "        vertical-align: middle;\n",
       "    }\n",
       "\n",
       "    .dataframe tbody tr th {\n",
       "        vertical-align: top;\n",
       "    }\n",
       "\n",
       "    .dataframe thead th {\n",
       "        text-align: right;\n",
       "    }\n",
       "</style>\n",
       "<table border=\"1\" class=\"dataframe\">\n",
       "  <thead>\n",
       "    <tr style=\"text-align: right;\">\n",
       "      <th></th>\n",
       "      <th>INCIDENT_KEY</th>\n",
       "      <th>OCCUR_DATE</th>\n",
       "      <th>OCCUR_TIME</th>\n",
       "      <th>BORO</th>\n",
       "      <th>PRECINCT</th>\n",
       "      <th>JURISDICTION_CODE</th>\n",
       "      <th>LOCATION_DESC</th>\n",
       "      <th>STATISTICAL_MURDER_FLAG</th>\n",
       "      <th>PERP_AGE_GROUP</th>\n",
       "      <th>PERP_SEX</th>\n",
       "      <th>PERP_RACE</th>\n",
       "      <th>VIC_AGE_GROUP</th>\n",
       "      <th>VIC_SEX</th>\n",
       "      <th>VIC_RACE</th>\n",
       "      <th>X_COORD_CD</th>\n",
       "      <th>Y_COORD_CD</th>\n",
       "      <th>Latitude</th>\n",
       "      <th>Longitude</th>\n",
       "      <th>New Georeferenced Column</th>\n",
       "    </tr>\n",
       "  </thead>\n",
       "  <tbody>\n",
       "    <tr>\n",
       "      <th>0</th>\n",
       "      <td>230162224</td>\n",
       "      <td>06/27/2021</td>\n",
       "      <td>04:34:00</td>\n",
       "      <td>BROOKLYN</td>\n",
       "      <td>75</td>\n",
       "      <td>0</td>\n",
       "      <td></td>\n",
       "      <td>false</td>\n",
       "      <td></td>\n",
       "      <td></td>\n",
       "      <td></td>\n",
       "      <td>&lt;18</td>\n",
       "      <td>M</td>\n",
       "      <td>BLACK</td>\n",
       "      <td>1014210</td>\n",
       "      <td>182758</td>\n",
       "      <td>40.668262749000064</td>\n",
       "      <td>-73.89200350499993</td>\n",
       "      <td>POINT (-73.89200350499993 40.668262749000064)</td>\n",
       "    </tr>\n",
       "    <tr>\n",
       "      <th>1</th>\n",
       "      <td>228561932</td>\n",
       "      <td>05/21/2021</td>\n",
       "      <td>21:06:00</td>\n",
       "      <td>BROOKLYN</td>\n",
       "      <td>77</td>\n",
       "      <td>0</td>\n",
       "      <td></td>\n",
       "      <td>false</td>\n",
       "      <td>&lt;18</td>\n",
       "      <td>M</td>\n",
       "      <td>BLACK</td>\n",
       "      <td>25-44</td>\n",
       "      <td>F</td>\n",
       "      <td>WHITE</td>\n",
       "      <td>994341</td>\n",
       "      <td>185941</td>\n",
       "      <td>40.677044310000035</td>\n",
       "      <td>-73.96362125499998</td>\n",
       "      <td>POINT (-73.96362125499998 40.677044310000035)</td>\n",
       "    </tr>\n",
       "    <tr>\n",
       "      <th>2</th>\n",
       "      <td>233790860</td>\n",
       "      <td>09/18/2021</td>\n",
       "      <td>23:17:00</td>\n",
       "      <td>BRONX</td>\n",
       "      <td>44</td>\n",
       "      <td>0</td>\n",
       "      <td></td>\n",
       "      <td>true</td>\n",
       "      <td></td>\n",
       "      <td></td>\n",
       "      <td></td>\n",
       "      <td>18-24</td>\n",
       "      <td>M</td>\n",
       "      <td>BLACK HISPANIC</td>\n",
       "      <td>1010270</td>\n",
       "      <td>246284</td>\n",
       "      <td>40.84263777600006</td>\n",
       "      <td>-73.90596032999997</td>\n",
       "      <td>POINT (-73.90596032999997 40.84263777600006)</td>\n",
       "    </tr>\n",
       "    <tr>\n",
       "      <th>3</th>\n",
       "      <td>225295736</td>\n",
       "      <td>03/07/2021</td>\n",
       "      <td>06:15:00</td>\n",
       "      <td>BROOKLYN</td>\n",
       "      <td>75</td>\n",
       "      <td>0</td>\n",
       "      <td></td>\n",
       "      <td>false</td>\n",
       "      <td>25-44</td>\n",
       "      <td>M</td>\n",
       "      <td>WHITE HISPANIC</td>\n",
       "      <td>25-44</td>\n",
       "      <td>F</td>\n",
       "      <td>WHITE HISPANIC</td>\n",
       "      <td>1020492</td>\n",
       "      <td>187865</td>\n",
       "      <td>40.68225681500007</td>\n",
       "      <td>-73.86933111399996</td>\n",
       "      <td>POINT (-73.86933111399996 40.68225681500007)</td>\n",
       "    </tr>\n",
       "    <tr>\n",
       "      <th>4</th>\n",
       "      <td>227647465</td>\n",
       "      <td>05/01/2021</td>\n",
       "      <td>00:22:00</td>\n",
       "      <td>BRONX</td>\n",
       "      <td>46</td>\n",
       "      <td>0</td>\n",
       "      <td></td>\n",
       "      <td>false</td>\n",
       "      <td>25-44</td>\n",
       "      <td>M</td>\n",
       "      <td>BLACK</td>\n",
       "      <td>25-44</td>\n",
       "      <td>M</td>\n",
       "      <td>BLACK</td>\n",
       "      <td>1011829</td>\n",
       "      <td>249524</td>\n",
       "      <td>40.85152588600005</td>\n",
       "      <td>-73.90031249299993</td>\n",
       "      <td>POINT (-73.90031249299993 40.85152588600005)</td>\n",
       "    </tr>\n",
       "    <tr>\n",
       "      <th>5</th>\n",
       "      <td>222848394</td>\n",
       "      <td>01/08/2021</td>\n",
       "      <td>05:50:00</td>\n",
       "      <td>MANHATTAN</td>\n",
       "      <td>23</td>\n",
       "      <td>2</td>\n",
       "      <td>MULTI DWELL - PUBLIC HOUS</td>\n",
       "      <td>false</td>\n",
       "      <td>25-44</td>\n",
       "      <td>M</td>\n",
       "      <td>WHITE HISPANIC</td>\n",
       "      <td>25-44</td>\n",
       "      <td>M</td>\n",
       "      <td>WHITE HISPANIC</td>\n",
       "      <td>998481</td>\n",
       "      <td>225704</td>\n",
       "      <td>40.78617829400008</td>\n",
       "      <td>-73.94861158899994</td>\n",
       "      <td>POINT (-73.94861158899994 40.78617829400008)</td>\n",
       "    </tr>\n",
       "    <tr>\n",
       "      <th>6</th>\n",
       "      <td>229034592</td>\n",
       "      <td>06/02/2021</td>\n",
       "      <td>14:30:00</td>\n",
       "      <td>BRONX</td>\n",
       "      <td>48</td>\n",
       "      <td>0</td>\n",
       "      <td></td>\n",
       "      <td>false</td>\n",
       "      <td></td>\n",
       "      <td></td>\n",
       "      <td></td>\n",
       "      <td>25-44</td>\n",
       "      <td>M</td>\n",
       "      <td>WHITE HISPANIC</td>\n",
       "      <td>1014004</td>\n",
       "      <td>247798</td>\n",
       "      <td>40.84678146700002</td>\n",
       "      <td>-73.89245825499995</td>\n",
       "      <td>POINT (-73.89245825499995 40.84678146700002)</td>\n",
       "    </tr>\n",
       "    <tr>\n",
       "      <th>7</th>\n",
       "      <td>225168411</td>\n",
       "      <td>03/04/2021</td>\n",
       "      <td>11:40:00</td>\n",
       "      <td>BRONX</td>\n",
       "      <td>49</td>\n",
       "      <td>0</td>\n",
       "      <td></td>\n",
       "      <td>false</td>\n",
       "      <td>25-44</td>\n",
       "      <td>M</td>\n",
       "      <td>BLACK HISPANIC</td>\n",
       "      <td>25-44</td>\n",
       "      <td>M</td>\n",
       "      <td>BLACK HISPANIC</td>\n",
       "      <td>1021657</td>\n",
       "      <td>251013</td>\n",
       "      <td>40.85557657700008</td>\n",
       "      <td>-73.86477926499998</td>\n",
       "      <td>POINT (-73.86477926499998 40.85557657700008)</td>\n",
       "    </tr>\n",
       "    <tr>\n",
       "      <th>8</th>\n",
       "      <td>224173086</td>\n",
       "      <td>02/09/2021</td>\n",
       "      <td>19:50:00</td>\n",
       "      <td>QUEENS</td>\n",
       "      <td>113</td>\n",
       "      <td>0</td>\n",
       "      <td>PVT HOUSE</td>\n",
       "      <td>false</td>\n",
       "      <td></td>\n",
       "      <td></td>\n",
       "      <td></td>\n",
       "      <td>25-44</td>\n",
       "      <td>M</td>\n",
       "      <td>BLACK</td>\n",
       "      <td>1052651</td>\n",
       "      <td>193294</td>\n",
       "      <td>40.696968027000025</td>\n",
       "      <td>-73.75332736499998</td>\n",
       "      <td>POINT (-73.75332736499998 40.696968027000025)</td>\n",
       "    </tr>\n",
       "    <tr>\n",
       "      <th>9</th>\n",
       "      <td>230232277</td>\n",
       "      <td>06/29/2021</td>\n",
       "      <td>15:32:00</td>\n",
       "      <td>MANHATTAN</td>\n",
       "      <td>34</td>\n",
       "      <td>0</td>\n",
       "      <td>HOSPITAL</td>\n",
       "      <td>false</td>\n",
       "      <td></td>\n",
       "      <td></td>\n",
       "      <td></td>\n",
       "      <td>18-24</td>\n",
       "      <td>M</td>\n",
       "      <td>BLACK</td>\n",
       "      <td>1008527</td>\n",
       "      <td>257284</td>\n",
       "      <td>40.872834434000026</td>\n",
       "      <td>-73.91222001499993</td>\n",
       "      <td>POINT (-73.91222001499993 40.872834434000026)</td>\n",
       "    </tr>\n",
       "  </tbody>\n",
       "</table>\n",
       "</div>"
      ],
      "text/plain": [
       "  INCIDENT_KEY  OCCUR_DATE OCCUR_TIME       BORO PRECINCT JURISDICTION_CODE  \\\n",
       "0    230162224  06/27/2021   04:34:00   BROOKLYN       75                 0   \n",
       "1    228561932  05/21/2021   21:06:00   BROOKLYN       77                 0   \n",
       "2    233790860  09/18/2021   23:17:00      BRONX       44                 0   \n",
       "3    225295736  03/07/2021   06:15:00   BROOKLYN       75                 0   \n",
       "4    227647465  05/01/2021   00:22:00      BRONX       46                 0   \n",
       "5    222848394  01/08/2021   05:50:00  MANHATTAN       23                 2   \n",
       "6    229034592  06/02/2021   14:30:00      BRONX       48                 0   \n",
       "7    225168411  03/04/2021   11:40:00      BRONX       49                 0   \n",
       "8    224173086  02/09/2021   19:50:00     QUEENS      113                 0   \n",
       "9    230232277  06/29/2021   15:32:00  MANHATTAN       34                 0   \n",
       "\n",
       "               LOCATION_DESC STATISTICAL_MURDER_FLAG PERP_AGE_GROUP PERP_SEX  \\\n",
       "0                                              false                           \n",
       "1                                              false            <18        M   \n",
       "2                                               true                           \n",
       "3                                              false          25-44        M   \n",
       "4                                              false          25-44        M   \n",
       "5  MULTI DWELL - PUBLIC HOUS                   false          25-44        M   \n",
       "6                                              false                           \n",
       "7                                              false          25-44        M   \n",
       "8                  PVT HOUSE                   false                           \n",
       "9                   HOSPITAL                   false                           \n",
       "\n",
       "        PERP_RACE VIC_AGE_GROUP VIC_SEX        VIC_RACE X_COORD_CD Y_COORD_CD  \\\n",
       "0                           <18       M           BLACK    1014210     182758   \n",
       "1           BLACK         25-44       F           WHITE     994341     185941   \n",
       "2                         18-24       M  BLACK HISPANIC    1010270     246284   \n",
       "3  WHITE HISPANIC         25-44       F  WHITE HISPANIC    1020492     187865   \n",
       "4           BLACK         25-44       M           BLACK    1011829     249524   \n",
       "5  WHITE HISPANIC         25-44       M  WHITE HISPANIC     998481     225704   \n",
       "6                         25-44       M  WHITE HISPANIC    1014004     247798   \n",
       "7  BLACK HISPANIC         25-44       M  BLACK HISPANIC    1021657     251013   \n",
       "8                         25-44       M           BLACK    1052651     193294   \n",
       "9                         18-24       M           BLACK    1008527     257284   \n",
       "\n",
       "             Latitude           Longitude  \\\n",
       "0  40.668262749000064  -73.89200350499993   \n",
       "1  40.677044310000035  -73.96362125499998   \n",
       "2   40.84263777600006  -73.90596032999997   \n",
       "3   40.68225681500007  -73.86933111399996   \n",
       "4   40.85152588600005  -73.90031249299993   \n",
       "5   40.78617829400008  -73.94861158899994   \n",
       "6   40.84678146700002  -73.89245825499995   \n",
       "7   40.85557657700008  -73.86477926499998   \n",
       "8  40.696968027000025  -73.75332736499998   \n",
       "9  40.872834434000026  -73.91222001499993   \n",
       "\n",
       "                        New Georeferenced Column  \n",
       "0  POINT (-73.89200350499993 40.668262749000064)  \n",
       "1  POINT (-73.96362125499998 40.677044310000035)  \n",
       "2   POINT (-73.90596032999997 40.84263777600006)  \n",
       "3   POINT (-73.86933111399996 40.68225681500007)  \n",
       "4   POINT (-73.90031249299993 40.85152588600005)  \n",
       "5   POINT (-73.94861158899994 40.78617829400008)  \n",
       "6   POINT (-73.89245825499995 40.84678146700002)  \n",
       "7   POINT (-73.86477926499998 40.85557657700008)  \n",
       "8  POINT (-73.75332736499998 40.696968027000025)  \n",
       "9  POINT (-73.91222001499993 40.872834434000026)  "
      ]
     },
     "execution_count": 6,
     "metadata": {},
     "output_type": "execute_result"
    }
   ],
   "source": [
    "ds_full.head()"
   ]
  },
  {
   "cell_type": "markdown",
   "id": "061ed236",
   "metadata": {},
   "source": [
    "#### Use openclean to profile the data set:"
   ]
  },
  {
   "cell_type": "code",
   "execution_count": 7,
   "id": "fa1442e6",
   "metadata": {},
   "outputs": [],
   "source": [
    "from openclean.profiling.column import DefaultColumnProfiler\n",
    "\n",
    "#profiles = ds.profile(default_profiler=DefaultColumnProfiler)\n",
    "profiles = ds_full.profile(default_profiler=DefaultColumnProfiler)"
   ]
  },
  {
   "cell_type": "code",
   "execution_count": 8,
   "id": "7ca18724",
   "metadata": {
    "scrolled": false
   },
   "outputs": [
    {
     "data": {
      "text/html": [
       "<div>\n",
       "<style scoped>\n",
       "    .dataframe tbody tr th:only-of-type {\n",
       "        vertical-align: middle;\n",
       "    }\n",
       "\n",
       "    .dataframe tbody tr th {\n",
       "        vertical-align: top;\n",
       "    }\n",
       "\n",
       "    .dataframe thead th {\n",
       "        text-align: right;\n",
       "    }\n",
       "</style>\n",
       "<table border=\"1\" class=\"dataframe\">\n",
       "  <thead>\n",
       "    <tr style=\"text-align: right;\">\n",
       "      <th></th>\n",
       "      <th>total</th>\n",
       "      <th>empty</th>\n",
       "      <th>distinct</th>\n",
       "      <th>uniqueness</th>\n",
       "      <th>entropy</th>\n",
       "    </tr>\n",
       "  </thead>\n",
       "  <tbody>\n",
       "    <tr>\n",
       "      <th>INCIDENT_KEY</th>\n",
       "      <td>1531</td>\n",
       "      <td>0</td>\n",
       "      <td>1195</td>\n",
       "      <td>0.780536</td>\n",
       "      <td>10.019048</td>\n",
       "    </tr>\n",
       "    <tr>\n",
       "      <th>OCCUR_DATE</th>\n",
       "      <td>1531</td>\n",
       "      <td>0</td>\n",
       "      <td>265</td>\n",
       "      <td>0.173089</td>\n",
       "      <td>7.764277</td>\n",
       "    </tr>\n",
       "    <tr>\n",
       "      <th>OCCUR_TIME</th>\n",
       "      <td>1531</td>\n",
       "      <td>0</td>\n",
       "      <td>637</td>\n",
       "      <td>0.416068</td>\n",
       "      <td>8.880947</td>\n",
       "    </tr>\n",
       "    <tr>\n",
       "      <th>BORO</th>\n",
       "      <td>1531</td>\n",
       "      <td>0</td>\n",
       "      <td>5</td>\n",
       "      <td>0.003266</td>\n",
       "      <td>1.997318</td>\n",
       "    </tr>\n",
       "    <tr>\n",
       "      <th>PRECINCT</th>\n",
       "      <td>1531</td>\n",
       "      <td>0</td>\n",
       "      <td>71</td>\n",
       "      <td>0.046375</td>\n",
       "      <td>5.522855</td>\n",
       "    </tr>\n",
       "    <tr>\n",
       "      <th>JURISDICTION_CODE</th>\n",
       "      <td>1531</td>\n",
       "      <td>1</td>\n",
       "      <td>3</td>\n",
       "      <td>0.001961</td>\n",
       "      <td>0.646980</td>\n",
       "    </tr>\n",
       "    <tr>\n",
       "      <th>LOCATION_DESC</th>\n",
       "      <td>1531</td>\n",
       "      <td>1045</td>\n",
       "      <td>14</td>\n",
       "      <td>0.028807</td>\n",
       "      <td>2.330563</td>\n",
       "    </tr>\n",
       "    <tr>\n",
       "      <th>STATISTICAL_MURDER_FLAG</th>\n",
       "      <td>1531</td>\n",
       "      <td>0</td>\n",
       "      <td>2</td>\n",
       "      <td>0.001306</td>\n",
       "      <td>0.730723</td>\n",
       "    </tr>\n",
       "    <tr>\n",
       "      <th>PERP_AGE_GROUP</th>\n",
       "      <td>1531</td>\n",
       "      <td>811</td>\n",
       "      <td>5</td>\n",
       "      <td>0.006944</td>\n",
       "      <td>1.604112</td>\n",
       "    </tr>\n",
       "    <tr>\n",
       "      <th>PERP_SEX</th>\n",
       "      <td>1531</td>\n",
       "      <td>811</td>\n",
       "      <td>2</td>\n",
       "      <td>0.002778</td>\n",
       "      <td>0.210842</td>\n",
       "    </tr>\n",
       "    <tr>\n",
       "      <th>PERP_RACE</th>\n",
       "      <td>1531</td>\n",
       "      <td>811</td>\n",
       "      <td>5</td>\n",
       "      <td>0.006944</td>\n",
       "      <td>1.392899</td>\n",
       "    </tr>\n",
       "    <tr>\n",
       "      <th>VIC_AGE_GROUP</th>\n",
       "      <td>1531</td>\n",
       "      <td>0</td>\n",
       "      <td>6</td>\n",
       "      <td>0.003919</td>\n",
       "      <td>1.640226</td>\n",
       "    </tr>\n",
       "    <tr>\n",
       "      <th>VIC_SEX</th>\n",
       "      <td>1531</td>\n",
       "      <td>0</td>\n",
       "      <td>3</td>\n",
       "      <td>0.001960</td>\n",
       "      <td>0.492890</td>\n",
       "    </tr>\n",
       "    <tr>\n",
       "      <th>VIC_RACE</th>\n",
       "      <td>1531</td>\n",
       "      <td>0</td>\n",
       "      <td>6</td>\n",
       "      <td>0.003919</td>\n",
       "      <td>1.317551</td>\n",
       "    </tr>\n",
       "    <tr>\n",
       "      <th>X_COORD_CD</th>\n",
       "      <td>1531</td>\n",
       "      <td>0</td>\n",
       "      <td>1104</td>\n",
       "      <td>0.721097</td>\n",
       "      <td>9.864584</td>\n",
       "    </tr>\n",
       "    <tr>\n",
       "      <th>Y_COORD_CD</th>\n",
       "      <td>1531</td>\n",
       "      <td>0</td>\n",
       "      <td>1113</td>\n",
       "      <td>0.726976</td>\n",
       "      <td>9.881257</td>\n",
       "    </tr>\n",
       "    <tr>\n",
       "      <th>Latitude</th>\n",
       "      <td>1531</td>\n",
       "      <td>0</td>\n",
       "      <td>1120</td>\n",
       "      <td>0.731548</td>\n",
       "      <td>9.891707</td>\n",
       "    </tr>\n",
       "    <tr>\n",
       "      <th>Longitude</th>\n",
       "      <td>1531</td>\n",
       "      <td>0</td>\n",
       "      <td>1120</td>\n",
       "      <td>0.731548</td>\n",
       "      <td>9.891707</td>\n",
       "    </tr>\n",
       "    <tr>\n",
       "      <th>New Georeferenced Column</th>\n",
       "      <td>1531</td>\n",
       "      <td>0</td>\n",
       "      <td>1120</td>\n",
       "      <td>0.731548</td>\n",
       "      <td>9.891707</td>\n",
       "    </tr>\n",
       "  </tbody>\n",
       "</table>\n",
       "</div>"
      ],
      "text/plain": [
       "                          total  empty  distinct  uniqueness    entropy\n",
       "INCIDENT_KEY               1531      0      1195    0.780536  10.019048\n",
       "OCCUR_DATE                 1531      0       265    0.173089   7.764277\n",
       "OCCUR_TIME                 1531      0       637    0.416068   8.880947\n",
       "BORO                       1531      0         5    0.003266   1.997318\n",
       "PRECINCT                   1531      0        71    0.046375   5.522855\n",
       "JURISDICTION_CODE          1531      1         3    0.001961   0.646980\n",
       "LOCATION_DESC              1531   1045        14    0.028807   2.330563\n",
       "STATISTICAL_MURDER_FLAG    1531      0         2    0.001306   0.730723\n",
       "PERP_AGE_GROUP             1531    811         5    0.006944   1.604112\n",
       "PERP_SEX                   1531    811         2    0.002778   0.210842\n",
       "PERP_RACE                  1531    811         5    0.006944   1.392899\n",
       "VIC_AGE_GROUP              1531      0         6    0.003919   1.640226\n",
       "VIC_SEX                    1531      0         3    0.001960   0.492890\n",
       "VIC_RACE                   1531      0         6    0.003919   1.317551\n",
       "X_COORD_CD                 1531      0      1104    0.721097   9.864584\n",
       "Y_COORD_CD                 1531      0      1113    0.726976   9.881257\n",
       "Latitude                   1531      0      1120    0.731548   9.891707\n",
       "Longitude                  1531      0      1120    0.731548   9.891707\n",
       "New Georeferenced Column   1531      0      1120    0.731548   9.891707"
      ]
     },
     "execution_count": 8,
     "metadata": {},
     "output_type": "execute_result"
    }
   ],
   "source": [
    "profiles.stats()"
   ]
  },
  {
   "cell_type": "code",
   "execution_count": 9,
   "id": "d8dda6a8",
   "metadata": {},
   "outputs": [
    {
     "name": "stdout",
     "output_type": "stream",
     "text": [
      "Schema\n",
      "------\n",
      "  'INCIDENT_KEY' (int)\n",
      "  'OCCUR_DATE' (date)\n",
      "  'OCCUR_TIME' (date)\n",
      "  'BORO' (str)\n",
      "  'PRECINCT' (int)\n",
      "  'JURISDICTION_CODE' (int)\n",
      "  'LOCATION_DESC' (str)\n",
      "  'STATISTICAL_MURDER_FLAG' (str)\n",
      "  'PERP_AGE_GROUP' (str)\n",
      "  'PERP_SEX' (str)\n",
      "  'PERP_RACE' (str)\n",
      "  'VIC_AGE_GROUP' (str)\n",
      "  'VIC_SEX' (str)\n",
      "  'VIC_RACE' (str)\n",
      "  'X_COORD_CD' (int)\n",
      "  'Y_COORD_CD' (int)\n",
      "  'Latitude' (float)\n",
      "  'Longitude' (float)\n",
      "  'New Georeferenced Column' (str)\n"
     ]
    }
   ],
   "source": [
    "# Print the most frequent data type for each column.\n",
    "\n",
    "print('Schema\\n------')\n",
    "for col in ds_full.columns:\n",
    "    p = profiles.column(col)\n",
    "    print(\"  '{}' ({})\".format(col, p['datatypes']['distinct'].most_common(1)[0][0]))"
   ]
  },
  {
   "cell_type": "markdown",
   "id": "5dbd1475",
   "metadata": {},
   "source": [
    "## Profiling & Cleaning of each field in the data set"
   ]
  },
  {
   "cell_type": "code",
   "execution_count": 10,
   "id": "846686a7",
   "metadata": {},
   "outputs": [
    {
     "data": {
      "text/html": [
       "<div>\n",
       "<style scoped>\n",
       "    .dataframe tbody tr th:only-of-type {\n",
       "        vertical-align: middle;\n",
       "    }\n",
       "\n",
       "    .dataframe tbody tr th {\n",
       "        vertical-align: top;\n",
       "    }\n",
       "\n",
       "    .dataframe thead th {\n",
       "        text-align: right;\n",
       "    }\n",
       "</style>\n",
       "<table border=\"1\" class=\"dataframe\">\n",
       "  <thead>\n",
       "    <tr style=\"text-align: right;\">\n",
       "      <th></th>\n",
       "      <th>min</th>\n",
       "      <th>max</th>\n",
       "    </tr>\n",
       "  </thead>\n",
       "  <tbody>\n",
       "    <tr>\n",
       "      <th>int</th>\n",
       "      <td>222524732</td>\n",
       "      <td>234323835</td>\n",
       "    </tr>\n",
       "  </tbody>\n",
       "</table>\n",
       "</div>"
      ],
      "text/plain": [
       "           min        max\n",
       "int  222524732  234323835"
      ]
     },
     "execution_count": 10,
     "metadata": {},
     "output_type": "execute_result"
    }
   ],
   "source": [
    "profiles.minmax('INCIDENT_KEY')"
   ]
  },
  {
   "cell_type": "code",
   "execution_count": null,
   "id": "33704147",
   "metadata": {},
   "outputs": [],
   "source": []
  },
  {
   "cell_type": "raw",
   "id": "d0516f18",
   "metadata": {},
   "source": [
    "Note that INCIDENT_KEY is a randomly generated persistant ID,so each row will have a unique value. So there is no use analysing it further"
   ]
  },
  {
   "cell_type": "code",
   "execution_count": 11,
   "id": "cf265f50",
   "metadata": {},
   "outputs": [
    {
     "data": {
      "text/html": [
       "<div>\n",
       "<style scoped>\n",
       "    .dataframe tbody tr th:only-of-type {\n",
       "        vertical-align: middle;\n",
       "    }\n",
       "\n",
       "    .dataframe tbody tr th {\n",
       "        vertical-align: top;\n",
       "    }\n",
       "\n",
       "    .dataframe thead th {\n",
       "        text-align: right;\n",
       "    }\n",
       "</style>\n",
       "<table border=\"1\" class=\"dataframe\">\n",
       "  <thead>\n",
       "    <tr style=\"text-align: right;\">\n",
       "      <th></th>\n",
       "      <th>min</th>\n",
       "      <th>max</th>\n",
       "    </tr>\n",
       "  </thead>\n",
       "  <tbody>\n",
       "    <tr>\n",
       "      <th>date</th>\n",
       "      <td>2021-01-01</td>\n",
       "      <td>2021-09-30</td>\n",
       "    </tr>\n",
       "  </tbody>\n",
       "</table>\n",
       "</div>"
      ],
      "text/plain": [
       "            min        max\n",
       "date 2021-01-01 2021-09-30"
      ]
     },
     "execution_count": 11,
     "metadata": {},
     "output_type": "execute_result"
    }
   ],
   "source": [
    "profiles.minmax('OCCUR_DATE')"
   ]
  },
  {
   "cell_type": "raw",
   "id": "92bfcd5f",
   "metadata": {},
   "source": [
    "This shows the data ranges from 2021-01-01 to 2021-09-30"
   ]
  },
  {
   "cell_type": "code",
   "execution_count": 12,
   "id": "aae2368f",
   "metadata": {},
   "outputs": [],
   "source": [
    "from datetime import datetime\n",
    "#datetime.strptime('2014-12-04', '%Y-%m-%d').date()\n",
    "\n",
    "\n",
    "def validate_date(sourceValue):\n",
    "    dummy_date = datetime.strptime(\"01/01/1000\", '%m/%d/%Y').date()\n",
    "    \n",
    "    try:\n",
    "        source_date = sourceValue\n",
    "        start_date = datetime.strptime(\"01/01/2006\", '%m/%d/%Y').date()\n",
    "        end_date = datetime.strptime(\"12/31/2020\", '%m/%d/%Y').date()\n",
    "    \n",
    "        if source_date == '':\n",
    "            source_date = dummy_date\n",
    "        \n",
    "        source_date = datetime.strptime(sourceValue, '%m/%d/%Y').date()\n",
    "        \n",
    "        if source_date >= start_date and source_date <= end_date:\n",
    "            return source_date\n",
    "        else:\n",
    "            return dummy_date\n",
    "    except:\n",
    "        return dummy_date\n",
    "    \n",
    "\n",
    "ds_full = ds_full.update('OCCUR_DATE', validate_date)"
   ]
  },
  {
   "cell_type": "code",
   "execution_count": 13,
   "id": "49231564",
   "metadata": {},
   "outputs": [
    {
     "data": {
      "text/html": [
       "<div>\n",
       "<style scoped>\n",
       "    .dataframe tbody tr th:only-of-type {\n",
       "        vertical-align: middle;\n",
       "    }\n",
       "\n",
       "    .dataframe tbody tr th {\n",
       "        vertical-align: top;\n",
       "    }\n",
       "\n",
       "    .dataframe thead th {\n",
       "        text-align: right;\n",
       "    }\n",
       "</style>\n",
       "<table border=\"1\" class=\"dataframe\">\n",
       "  <thead>\n",
       "    <tr style=\"text-align: right;\">\n",
       "      <th></th>\n",
       "      <th>min</th>\n",
       "      <th>max</th>\n",
       "    </tr>\n",
       "  </thead>\n",
       "  <tbody>\n",
       "    <tr>\n",
       "      <th>date</th>\n",
       "      <td>2021-12-12</td>\n",
       "      <td>2021-12-12 23:57:00</td>\n",
       "    </tr>\n",
       "  </tbody>\n",
       "</table>\n",
       "</div>"
      ],
      "text/plain": [
       "            min                 max\n",
       "date 2021-12-12 2021-12-12 23:57:00"
      ]
     },
     "execution_count": 13,
     "metadata": {},
     "output_type": "execute_result"
    }
   ],
   "source": [
    "profiles.minmax('OCCUR_TIME')"
   ]
  },
  {
   "cell_type": "code",
   "execution_count": 14,
   "id": "65d86d7e",
   "metadata": {},
   "outputs": [
    {
     "data": {
      "text/html": [
       "<div>\n",
       "<style scoped>\n",
       "    .dataframe tbody tr th:only-of-type {\n",
       "        vertical-align: middle;\n",
       "    }\n",
       "\n",
       "    .dataframe tbody tr th {\n",
       "        vertical-align: top;\n",
       "    }\n",
       "\n",
       "    .dataframe thead th {\n",
       "        text-align: right;\n",
       "    }\n",
       "</style>\n",
       "<table border=\"1\" class=\"dataframe\">\n",
       "  <thead>\n",
       "    <tr style=\"text-align: right;\">\n",
       "      <th></th>\n",
       "      <th>min</th>\n",
       "      <th>max</th>\n",
       "    </tr>\n",
       "  </thead>\n",
       "  <tbody>\n",
       "    <tr>\n",
       "      <th>int</th>\n",
       "      <td>5</td>\n",
       "      <td>122</td>\n",
       "    </tr>\n",
       "  </tbody>\n",
       "</table>\n",
       "</div>"
      ],
      "text/plain": [
       "     min  max\n",
       "int    5  122"
      ]
     },
     "execution_count": 14,
     "metadata": {},
     "output_type": "execute_result"
    }
   ],
   "source": [
    "profiles.minmax('PRECINCT')"
   ]
  },
  {
   "cell_type": "code",
   "execution_count": 15,
   "id": "f150fd82",
   "metadata": {},
   "outputs": [
    {
     "data": {
      "text/plain": [
       "[('44', 82),\n",
       " ('75', 78),\n",
       " ('42', 68),\n",
       " ('47', 66),\n",
       " ('40', 61),\n",
       " ('73', 61),\n",
       " ('48', 59),\n",
       " ('32', 51),\n",
       " ('34', 49),\n",
       " ('43', 49)]"
      ]
     },
     "execution_count": 15,
     "metadata": {},
     "output_type": "execute_result"
    }
   ],
   "source": [
    "profiles.column('PRECINCT').get('topValues')"
   ]
  },
  {
   "cell_type": "code",
   "execution_count": 16,
   "id": "88d191e3",
   "metadata": {},
   "outputs": [
    {
     "data": {
      "text/plain": [
       "[('MULTI DWELL - PUBLIC HOUS', 250),\n",
       " ('MULTI DWELL - APT BUILD', 99),\n",
       " ('GROCERY/BODEGA', 38),\n",
       " ('COMMERCIAL BLDG', 28),\n",
       " ('PVT HOUSE', 16),\n",
       " ('BAR/NIGHT CLUB', 15),\n",
       " ('GAS STATION', 8),\n",
       " ('HOSPITAL', 7),\n",
       " ('HOTEL/MOTEL', 7),\n",
       " ('RESTAURANT/DINER', 6)]"
      ]
     },
     "execution_count": 16,
     "metadata": {},
     "output_type": "execute_result"
    }
   ],
   "source": [
    "profiles.column('LOCATION_DESC').get('topValues')"
   ]
  },
  {
   "cell_type": "code",
   "execution_count": 17,
   "id": "b321a8f0",
   "metadata": {
    "scrolled": true
   },
   "outputs": [
    {
     "data": {
      "text/plain": [
       "Counter({'': 1045,\n",
       "         'MULTI DWELL - PUBLIC HOUS': 250,\n",
       "         'PVT HOUSE': 16,\n",
       "         'HOSPITAL': 7,\n",
       "         'MULTI DWELL - APT BUILD': 99,\n",
       "         'GROCERY/BODEGA': 38,\n",
       "         'GAS STATION': 8,\n",
       "         'BAR/NIGHT CLUB': 15,\n",
       "         'COMMERCIAL BLDG': 28,\n",
       "         'DEPT STORE': 4,\n",
       "         'HOTEL/MOTEL': 7,\n",
       "         'BEAUTY/NAIL SALON': 5,\n",
       "         'RESTAURANT/DINER': 6,\n",
       "         'BANK': 2,\n",
       "         'FAST FOOD': 1})"
      ]
     },
     "execution_count": 17,
     "metadata": {},
     "output_type": "execute_result"
    }
   ],
   "source": [
    "ds_full.distinct('LOCATION_DESC')"
   ]
  },
  {
   "cell_type": "code",
   "execution_count": 18,
   "id": "05b7fcfd",
   "metadata": {},
   "outputs": [
    {
     "data": {
      "text/plain": [
       "Counter({'false': 1218, 'true': 313})"
      ]
     },
     "execution_count": 18,
     "metadata": {},
     "output_type": "execute_result"
    }
   ],
   "source": [
    "ds_full.distinct('STATISTICAL_MURDER_FLAG')"
   ]
  },
  {
   "cell_type": "code",
   "execution_count": 20,
   "id": "ebcd0f37",
   "metadata": {},
   "outputs": [],
   "source": [
    "def validate_crime_indicator(sourceValue):\n",
    "    UNKNOWN = \"3\"\n",
    "    \n",
    "    try:\n",
    "        crime_indicator_list = [\"0\", \"1\", \"2\"]\n",
    "        \n",
    "        if sourceValue in crime_indicator_list:\n",
    "            return sourceValue\n",
    "        else:\n",
    "            return UNKNOWN\n",
    "    except:\n",
    "        return UNKNOWN\n",
    "\n",
    "    \n",
    "ds_full = ds_full.update('JURISDICTION_CODE', validate_crime_indicator)"
   ]
  },
  {
   "cell_type": "code",
   "execution_count": 21,
   "id": "6e31b796",
   "metadata": {
    "scrolled": true
   },
   "outputs": [
    {
     "data": {
      "text/plain": [
       "Counter({'0': 1281, '2': 248, '1': 1, '3': 1})"
      ]
     },
     "execution_count": 21,
     "metadata": {},
     "output_type": "execute_result"
    }
   ],
   "source": [
    "ds_full.distinct('JURISDICTION_CODE')"
   ]
  },
  {
   "cell_type": "code",
   "execution_count": 22,
   "id": "428f5d50",
   "metadata": {},
   "outputs": [
    {
     "data": {
      "text/html": [
       "<div>\n",
       "<style scoped>\n",
       "    .dataframe tbody tr th:only-of-type {\n",
       "        vertical-align: middle;\n",
       "    }\n",
       "\n",
       "    .dataframe tbody tr th {\n",
       "        vertical-align: top;\n",
       "    }\n",
       "\n",
       "    .dataframe thead th {\n",
       "        text-align: right;\n",
       "    }\n",
       "</style>\n",
       "<table border=\"1\" class=\"dataframe\">\n",
       "  <thead>\n",
       "    <tr style=\"text-align: right;\">\n",
       "      <th></th>\n",
       "      <th>min</th>\n",
       "      <th>max</th>\n",
       "    </tr>\n",
       "  </thead>\n",
       "  <tbody>\n",
       "    <tr>\n",
       "      <th>int</th>\n",
       "      <td>938074</td>\n",
       "      <td>1059372</td>\n",
       "    </tr>\n",
       "  </tbody>\n",
       "</table>\n",
       "</div>"
      ],
      "text/plain": [
       "        min      max\n",
       "int  938074  1059372"
      ]
     },
     "execution_count": 22,
     "metadata": {},
     "output_type": "execute_result"
    }
   ],
   "source": [
    "profiles.minmax('X_COORD_CD')"
   ]
  },
  {
   "cell_type": "code",
   "execution_count": 23,
   "id": "89c5767b",
   "metadata": {},
   "outputs": [
    {
     "data": {
      "text/html": [
       "<div>\n",
       "<style scoped>\n",
       "    .dataframe tbody tr th:only-of-type {\n",
       "        vertical-align: middle;\n",
       "    }\n",
       "\n",
       "    .dataframe tbody tr th {\n",
       "        vertical-align: top;\n",
       "    }\n",
       "\n",
       "    .dataframe thead th {\n",
       "        text-align: right;\n",
       "    }\n",
       "</style>\n",
       "<table border=\"1\" class=\"dataframe\">\n",
       "  <thead>\n",
       "    <tr style=\"text-align: right;\">\n",
       "      <th></th>\n",
       "      <th>min</th>\n",
       "      <th>max</th>\n",
       "    </tr>\n",
       "  </thead>\n",
       "  <tbody>\n",
       "    <tr>\n",
       "      <th>int</th>\n",
       "      <td>148363</td>\n",
       "      <td>269635</td>\n",
       "    </tr>\n",
       "  </tbody>\n",
       "</table>\n",
       "</div>"
      ],
      "text/plain": [
       "        min     max\n",
       "int  148363  269635"
      ]
     },
     "execution_count": 23,
     "metadata": {},
     "output_type": "execute_result"
    }
   ],
   "source": [
    "profiles.minmax('Y_COORD_CD')"
   ]
  },
  {
   "cell_type": "code",
   "execution_count": 24,
   "id": "065ac076",
   "metadata": {
    "scrolled": true
   },
   "outputs": [
    {
     "data": {
      "text/plain": [
       "[('25-44', 366), ('18-24', 242), ('<18', 76), ('45-64', 33), ('65+', 3)]"
      ]
     },
     "execution_count": 24,
     "metadata": {},
     "output_type": "execute_result"
    }
   ],
   "source": [
    "profiles.column('PERP_AGE_GROUP').get('topValues')"
   ]
  },
  {
   "cell_type": "code",
   "execution_count": 27,
   "id": "1357c1ab",
   "metadata": {},
   "outputs": [
    {
     "data": {
      "text/plain": [
       "Counter({'UNKNOWN': 811,\n",
       "         '<18': 76,\n",
       "         '25-44': 366,\n",
       "         '18-24': 242,\n",
       "         '45-64': 33,\n",
       "         '65+': 3})"
      ]
     },
     "execution_count": 27,
     "metadata": {},
     "output_type": "execute_result"
    }
   ],
   "source": [
    "ds_full.distinct('PERP_AGE_GROUP')"
   ]
  },
  {
   "cell_type": "code",
   "execution_count": 26,
   "id": "bc705bda",
   "metadata": {},
   "outputs": [],
   "source": [
    "def validate_age_group(sourceValue):\n",
    "    UNKNOWN = \"UNKNOWN\"\n",
    "    \n",
    "    try:\n",
    "        values = [\"25-44\", \"18-24\", \"45-64\", \"<18\", \"65+\"]\n",
    "        \n",
    "        if sourceValue in values:\n",
    "            return sourceValue\n",
    "        else:\n",
    "            return UNKNOWN\n",
    "    except:\n",
    "        return UNKNOWN\n",
    "\n",
    "    \n",
    "ds_full = ds_full.update('PERP_AGE_GROUP', validate_age_group)"
   ]
  },
  {
   "cell_type": "code",
   "execution_count": 28,
   "id": "f7ab5706",
   "metadata": {
    "scrolled": true
   },
   "outputs": [
    {
     "data": {
      "text/plain": [
       "[('BLACK', 479),\n",
       " ('WHITE HISPANIC', 136),\n",
       " ('BLACK HISPANIC', 82),\n",
       " ('WHITE', 12),\n",
       " ('ASIAN / PACIFIC ISLANDER', 11)]"
      ]
     },
     "execution_count": 28,
     "metadata": {},
     "output_type": "execute_result"
    }
   ],
   "source": [
    "profiles.column('PERP_RACE').get('topValues')"
   ]
  },
  {
   "cell_type": "code",
   "execution_count": 31,
   "id": "12dc211e",
   "metadata": {},
   "outputs": [
    {
     "data": {
      "text/plain": [
       "Counter({'UNKNOWN': 811,\n",
       "         'BLACK': 479,\n",
       "         'WHITE HISPANIC': 136,\n",
       "         'BLACK HISPANIC': 82,\n",
       "         'WHITE': 12,\n",
       "         'ASIAN / PACIFIC ISLANDER': 11})"
      ]
     },
     "execution_count": 31,
     "metadata": {},
     "output_type": "execute_result"
    }
   ],
   "source": [
    "ds_full.distinct('PERP_RACE')"
   ]
  },
  {
   "cell_type": "code",
   "execution_count": 30,
   "id": "4f28fd76",
   "metadata": {},
   "outputs": [],
   "source": [
    "def validate_race(sourceValue):\n",
    "    UNKNOWN = \"UNKNOWN\"\n",
    "    \n",
    "    try:\n",
    "        values = [\"WHITE HISPANIC\", \"BLACK\", \"BLACK HISPANIC\", \"WHITE\", \"ASIAN / PACIFIC ISLANDER\"]\n",
    "        \n",
    "        if sourceValue in values:\n",
    "            return sourceValue\n",
    "        else:\n",
    "            return UNKNOWN\n",
    "    except:\n",
    "        return UNKNOWN\n",
    "\n",
    "    \n",
    "ds_full = ds_full.update('PERP_RACE', validate_race)"
   ]
  },
  {
   "cell_type": "code",
   "execution_count": 32,
   "id": "339b19e1",
   "metadata": {
    "scrolled": true
   },
   "outputs": [
    {
     "data": {
      "text/plain": [
       "[('M', 696), ('F', 24)]"
      ]
     },
     "execution_count": 32,
     "metadata": {},
     "output_type": "execute_result"
    }
   ],
   "source": [
    "profiles.column('PERP_SEX').get('topValues')"
   ]
  },
  {
   "cell_type": "code",
   "execution_count": 35,
   "id": "06e70f63",
   "metadata": {},
   "outputs": [
    {
     "data": {
      "text/plain": [
       "Counter({'U': 811, 'M': 696, 'F': 24})"
      ]
     },
     "execution_count": 35,
     "metadata": {},
     "output_type": "execute_result"
    }
   ],
   "source": [
    "ds_full.distinct('PERP_SEX')"
   ]
  },
  {
   "cell_type": "code",
   "execution_count": 34,
   "id": "32244440",
   "metadata": {},
   "outputs": [],
   "source": [
    "def validate_sex(sourceValue):\n",
    "    UNKNOWN = \"U\"\n",
    "    \n",
    "    try:\n",
    "        values = [\"M\", \"F\"] \n",
    "        \n",
    "        if sourceValue in values:\n",
    "            return sourceValue\n",
    "        else:\n",
    "            return UNKNOWN\n",
    "    except:\n",
    "        return UNKNOWN\n",
    "\n",
    "    \n",
    "ds_full = ds_full.update('PERP_SEX', validate_sex)"
   ]
  },
  {
   "cell_type": "code",
   "execution_count": 36,
   "id": "3d0f0f4f",
   "metadata": {},
   "outputs": [
    {
     "data": {
      "text/html": [
       "<div>\n",
       "<style scoped>\n",
       "    .dataframe tbody tr th:only-of-type {\n",
       "        vertical-align: middle;\n",
       "    }\n",
       "\n",
       "    .dataframe tbody tr th {\n",
       "        vertical-align: top;\n",
       "    }\n",
       "\n",
       "    .dataframe thead th {\n",
       "        text-align: right;\n",
       "    }\n",
       "</style>\n",
       "<table border=\"1\" class=\"dataframe\">\n",
       "  <thead>\n",
       "    <tr style=\"text-align: right;\">\n",
       "      <th></th>\n",
       "      <th>min</th>\n",
       "      <th>max</th>\n",
       "    </tr>\n",
       "  </thead>\n",
       "  <tbody>\n",
       "    <tr>\n",
       "      <th>float</th>\n",
       "      <td>40.573906</td>\n",
       "      <td>40.906668</td>\n",
       "    </tr>\n",
       "  </tbody>\n",
       "</table>\n",
       "</div>"
      ],
      "text/plain": [
       "             min        max\n",
       "float  40.573906  40.906668"
      ]
     },
     "execution_count": 36,
     "metadata": {},
     "output_type": "execute_result"
    }
   ],
   "source": [
    "profiles.minmax('Latitude')"
   ]
  },
  {
   "cell_type": "code",
   "execution_count": 37,
   "id": "e6a5d968",
   "metadata": {},
   "outputs": [
    {
     "data": {
      "text/html": [
       "<div>\n",
       "<style scoped>\n",
       "    .dataframe tbody tr th:only-of-type {\n",
       "        vertical-align: middle;\n",
       "    }\n",
       "\n",
       "    .dataframe tbody tr th {\n",
       "        vertical-align: top;\n",
       "    }\n",
       "\n",
       "    .dataframe thead th {\n",
       "        text-align: right;\n",
       "    }\n",
       "</style>\n",
       "<table border=\"1\" class=\"dataframe\">\n",
       "  <thead>\n",
       "    <tr style=\"text-align: right;\">\n",
       "      <th></th>\n",
       "      <th>min</th>\n",
       "      <th>max</th>\n",
       "    </tr>\n",
       "  </thead>\n",
       "  <tbody>\n",
       "    <tr>\n",
       "      <th>float</th>\n",
       "      <td>-74.166325</td>\n",
       "      <td>-73.729056</td>\n",
       "    </tr>\n",
       "  </tbody>\n",
       "</table>\n",
       "</div>"
      ],
      "text/plain": [
       "             min        max\n",
       "float -74.166325 -73.729056"
      ]
     },
     "execution_count": 37,
     "metadata": {},
     "output_type": "execute_result"
    }
   ],
   "source": [
    "profiles.minmax('Longitude')"
   ]
  },
  {
   "cell_type": "code",
   "execution_count": 39,
   "id": "7eb04d08",
   "metadata": {
    "scrolled": true
   },
   "outputs": [
    {
     "data": {
      "text/html": [
       "<div>\n",
       "<style scoped>\n",
       "    .dataframe tbody tr th:only-of-type {\n",
       "        vertical-align: middle;\n",
       "    }\n",
       "\n",
       "    .dataframe tbody tr th {\n",
       "        vertical-align: top;\n",
       "    }\n",
       "\n",
       "    .dataframe thead th {\n",
       "        text-align: right;\n",
       "    }\n",
       "</style>\n",
       "<table border=\"1\" class=\"dataframe\">\n",
       "  <thead>\n",
       "    <tr style=\"text-align: right;\">\n",
       "      <th></th>\n",
       "      <th>min</th>\n",
       "      <th>max</th>\n",
       "    </tr>\n",
       "  </thead>\n",
       "  <tbody>\n",
       "    <tr>\n",
       "      <th>str</th>\n",
       "      <td>POINT (-73.72905567199997 40.70526581200004)</td>\n",
       "      <td>POINT (-74.16632541599995 40.61675307900003)</td>\n",
       "    </tr>\n",
       "  </tbody>\n",
       "</table>\n",
       "</div>"
      ],
      "text/plain": [
       "                                              min  \\\n",
       "str  POINT (-73.72905567199997 40.70526581200004)   \n",
       "\n",
       "                                              max  \n",
       "str  POINT (-74.16632541599995 40.61675307900003)  "
      ]
     },
     "execution_count": 39,
     "metadata": {},
     "output_type": "execute_result"
    }
   ],
   "source": [
    "profiles.minmax('New Georeferenced Column')"
   ]
  },
  {
   "cell_type": "code",
   "execution_count": 40,
   "id": "dd7fbb39",
   "metadata": {
    "scrolled": true
   },
   "outputs": [
    {
     "data": {
      "text/plain": [
       "[('BRONX', 536),\n",
       " ('BROOKLYN', 488),\n",
       " ('MANHATTAN', 259),\n",
       " ('QUEENS', 220),\n",
       " ('STATEN ISLAND', 28)]"
      ]
     },
     "execution_count": 40,
     "metadata": {},
     "output_type": "execute_result"
    }
   ],
   "source": [
    "profiles.column('BORO').get('topValues')"
   ]
  },
  {
   "cell_type": "code",
   "execution_count": 41,
   "id": "13337d6b",
   "metadata": {},
   "outputs": [
    {
     "data": {
      "text/plain": [
       "Counter({'BROOKLYN': 488,\n",
       "         'BRONX': 536,\n",
       "         'MANHATTAN': 259,\n",
       "         'QUEENS': 220,\n",
       "         'STATEN ISLAND': 28})"
      ]
     },
     "execution_count": 41,
     "metadata": {},
     "output_type": "execute_result"
    }
   ],
   "source": [
    "ds_full.distinct('BORO')"
   ]
  },
  {
   "cell_type": "code",
   "execution_count": 42,
   "id": "0a4db620",
   "metadata": {},
   "outputs": [
    {
     "data": {
      "text/plain": [
       "[('25-44', 821),\n",
       " ('18-24', 461),\n",
       " ('<18', 126),\n",
       " ('45-64', 109),\n",
       " ('65+', 11),\n",
       " ('UNKNOWN', 3)]"
      ]
     },
     "execution_count": 42,
     "metadata": {},
     "output_type": "execute_result"
    }
   ],
   "source": [
    "profiles.column('VIC_AGE_GROUP').get('topValues')"
   ]
  },
  {
   "cell_type": "code",
   "execution_count": 43,
   "id": "7860b4a6",
   "metadata": {},
   "outputs": [
    {
     "data": {
      "text/plain": [
       "Counter({'<18': 126,\n",
       "         '25-44': 821,\n",
       "         '18-24': 461,\n",
       "         '45-64': 109,\n",
       "         'UNKNOWN': 3,\n",
       "         '65+': 11})"
      ]
     },
     "execution_count": 43,
     "metadata": {},
     "output_type": "execute_result"
    }
   ],
   "source": [
    "ds_full.distinct('VIC_AGE_GROUP')"
   ]
  },
  {
   "cell_type": "code",
   "execution_count": 44,
   "id": "8e0c36ed",
   "metadata": {},
   "outputs": [],
   "source": [
    "ds_full = ds_full.update('VIC_AGE_GROUP', validate_age_group)"
   ]
  },
  {
   "cell_type": "code",
   "execution_count": 45,
   "id": "5e666279",
   "metadata": {},
   "outputs": [
    {
     "data": {
      "text/plain": [
       "[('BLACK', 1076),\n",
       " ('WHITE HISPANIC', 221),\n",
       " ('BLACK HISPANIC', 188),\n",
       " ('WHITE', 26),\n",
       " ('ASIAN / PACIFIC ISLANDER', 19),\n",
       " ('UNKNOWN', 1)]"
      ]
     },
     "execution_count": 45,
     "metadata": {},
     "output_type": "execute_result"
    }
   ],
   "source": [
    "profiles.column('VIC_RACE').get('topValues')"
   ]
  },
  {
   "cell_type": "code",
   "execution_count": 46,
   "id": "4a657f19",
   "metadata": {},
   "outputs": [
    {
     "data": {
      "text/plain": [
       "Counter({'BLACK': 1076,\n",
       "         'WHITE': 26,\n",
       "         'BLACK HISPANIC': 188,\n",
       "         'WHITE HISPANIC': 221,\n",
       "         'ASIAN / PACIFIC ISLANDER': 19,\n",
       "         'UNKNOWN': 1})"
      ]
     },
     "execution_count": 46,
     "metadata": {},
     "output_type": "execute_result"
    }
   ],
   "source": [
    "ds_full.distinct('VIC_RACE')"
   ]
  },
  {
   "cell_type": "code",
   "execution_count": 47,
   "id": "7dcdfb05",
   "metadata": {},
   "outputs": [],
   "source": [
    "ds_full = ds_full.update('VIC_RACE', validate_race)"
   ]
  },
  {
   "cell_type": "code",
   "execution_count": 48,
   "id": "9f6ba92c",
   "metadata": {},
   "outputs": [
    {
     "data": {
      "text/plain": [
       "[('M', 1369), ('F', 161), ('U', 1)]"
      ]
     },
     "execution_count": 48,
     "metadata": {},
     "output_type": "execute_result"
    }
   ],
   "source": [
    "profiles.column('VIC_SEX').get('topValues')"
   ]
  },
  {
   "cell_type": "code",
   "execution_count": 43,
   "id": "41550ab6",
   "metadata": {},
   "outputs": [
    {
     "data": {
      "text/plain": [
       "Counter({'F': 2204, 'M': 21370, 'U': 11})"
      ]
     },
     "execution_count": 43,
     "metadata": {},
     "output_type": "execute_result"
    }
   ],
   "source": [
    "ds_full.distinct('VIC_SEX')"
   ]
  },
  {
   "cell_type": "code",
   "execution_count": 44,
   "id": "8aa436c8",
   "metadata": {},
   "outputs": [],
   "source": [
    "ds_full = ds_full.update('VIC_SEX', validate_sex)"
   ]
  },
  {
   "cell_type": "code",
   "execution_count": 45,
   "id": "f24be502",
   "metadata": {},
   "outputs": [],
   "source": [
    "SELECTED_COLUMNS = [\\\n",
    "    'INCIDENT_KEY',\\\n",
    "    'OCCUR_DATE',\\\n",
    "    'OCCUR_TIME',\\\n",
    "    'BORO',\\\n",
    "    'PRECINCT',\\\n",
    "    'JURISDICTION_CODE',\\\n",
    "    'LOCATION_DESC',\\\n",
    "    'STATISTICAL_MURDER_FLAG',\\\n",
    "    'PERP_AGE_GROUP',\\\n",
    "    'PERP_SEX',\\\n",
    "    'PERP_RACE',\\\n",
    "    'VIC_AGE_GROUP',\\\n",
    "    'VIC_RACE',\\\n",
    "    'VIC_SEX',\\\n",
    "    'X_COORD_CD',\\\n",
    "    'Y_COORD_CD',\\\n",
    "    'Latitude',\\\n",
    "    'Longitude',\\\n",
    "    'Lon_Lat',\\\n",
    "]\n",
    "\n",
    "ds_full = ds_full.select(SELECTED_COLUMNS)"
   ]
  },
  {
   "cell_type": "code",
   "execution_count": 46,
   "id": "f9f36f8c",
   "metadata": {},
   "outputs": [
    {
     "data": {
      "text/html": [
       "<div>\n",
       "<style scoped>\n",
       "    .dataframe tbody tr th:only-of-type {\n",
       "        vertical-align: middle;\n",
       "    }\n",
       "\n",
       "    .dataframe tbody tr th {\n",
       "        vertical-align: top;\n",
       "    }\n",
       "\n",
       "    .dataframe thead th {\n",
       "        text-align: right;\n",
       "    }\n",
       "</style>\n",
       "<table border=\"1\" class=\"dataframe\">\n",
       "  <thead>\n",
       "    <tr style=\"text-align: right;\">\n",
       "      <th></th>\n",
       "      <th>INCIDENT_KEY</th>\n",
       "      <th>OCCUR_DATE</th>\n",
       "      <th>OCCUR_TIME</th>\n",
       "      <th>BORO</th>\n",
       "      <th>PRECINCT</th>\n",
       "      <th>JURISDICTION_CODE</th>\n",
       "      <th>LOCATION_DESC</th>\n",
       "      <th>STATISTICAL_MURDER_FLAG</th>\n",
       "      <th>PERP_AGE_GROUP</th>\n",
       "      <th>PERP_SEX</th>\n",
       "      <th>PERP_RACE</th>\n",
       "      <th>VIC_AGE_GROUP</th>\n",
       "      <th>VIC_RACE</th>\n",
       "      <th>VIC_SEX</th>\n",
       "      <th>X_COORD_CD</th>\n",
       "      <th>Y_COORD_CD</th>\n",
       "      <th>Latitude</th>\n",
       "      <th>Longitude</th>\n",
       "      <th>Lon_Lat</th>\n",
       "    </tr>\n",
       "  </thead>\n",
       "  <tbody>\n",
       "    <tr>\n",
       "      <th>0</th>\n",
       "      <td>24050482</td>\n",
       "      <td>2006-08-27</td>\n",
       "      <td>05:35:00</td>\n",
       "      <td>BRONX</td>\n",
       "      <td>52</td>\n",
       "      <td>0</td>\n",
       "      <td></td>\n",
       "      <td>true</td>\n",
       "      <td>UNKNOWN</td>\n",
       "      <td>U</td>\n",
       "      <td>UNKNOWN</td>\n",
       "      <td>25-44</td>\n",
       "      <td>BLACK HISPANIC</td>\n",
       "      <td>F</td>\n",
       "      <td>1017541.562500000000000</td>\n",
       "      <td>255918.875000000000000</td>\n",
       "      <td>40.869058190000032</td>\n",
       "      <td>-73.879631730999961</td>\n",
       "      <td>POINT (-73.87963173099996 40.86905819000003)</td>\n",
       "    </tr>\n",
       "    <tr>\n",
       "      <th>1</th>\n",
       "      <td>77673979</td>\n",
       "      <td>2011-03-11</td>\n",
       "      <td>12:03:00</td>\n",
       "      <td>QUEENS</td>\n",
       "      <td>106</td>\n",
       "      <td>0</td>\n",
       "      <td></td>\n",
       "      <td>false</td>\n",
       "      <td>UNKNOWN</td>\n",
       "      <td>U</td>\n",
       "      <td>UNKNOWN</td>\n",
       "      <td>65+</td>\n",
       "      <td>WHITE</td>\n",
       "      <td>M</td>\n",
       "      <td>1027543.000000000000000</td>\n",
       "      <td>186095.000000000000000</td>\n",
       "      <td>40.677366895000034</td>\n",
       "      <td>-73.843920191999985</td>\n",
       "      <td>POINT (-73.84392019199998 40.677366895000034)</td>\n",
       "    </tr>\n",
       "    <tr>\n",
       "      <th>2</th>\n",
       "      <td>203350417</td>\n",
       "      <td>2019-10-06</td>\n",
       "      <td>01:09:00</td>\n",
       "      <td>BROOKLYN</td>\n",
       "      <td>77</td>\n",
       "      <td>0</td>\n",
       "      <td></td>\n",
       "      <td>false</td>\n",
       "      <td>UNKNOWN</td>\n",
       "      <td>U</td>\n",
       "      <td>UNKNOWN</td>\n",
       "      <td>18-24</td>\n",
       "      <td>BLACK</td>\n",
       "      <td>F</td>\n",
       "      <td>995325.000000000000000</td>\n",
       "      <td>185155.000000000000000</td>\n",
       "      <td>40.674885741000026</td>\n",
       "      <td>-73.960075018999987</td>\n",
       "      <td>POINT (-73.96007501899999 40.674885741000026)</td>\n",
       "    </tr>\n",
       "    <tr>\n",
       "      <th>3</th>\n",
       "      <td>80584527</td>\n",
       "      <td>2011-09-04</td>\n",
       "      <td>03:35:00</td>\n",
       "      <td>BRONX</td>\n",
       "      <td>40</td>\n",
       "      <td>0</td>\n",
       "      <td></td>\n",
       "      <td>false</td>\n",
       "      <td>UNKNOWN</td>\n",
       "      <td>U</td>\n",
       "      <td>UNKNOWN</td>\n",
       "      <td>&lt;18</td>\n",
       "      <td>BLACK</td>\n",
       "      <td>M</td>\n",
       "      <td>1007453.000000000000000</td>\n",
       "      <td>233952.000000000000000</td>\n",
       "      <td>40.80879780500004</td>\n",
       "      <td>-73.916184131999955</td>\n",
       "      <td>POINT (-73.91618413199996 40.80879780500004)</td>\n",
       "    </tr>\n",
       "    <tr>\n",
       "      <th>4</th>\n",
       "      <td>90843766</td>\n",
       "      <td>2013-05-27</td>\n",
       "      <td>21:16:00</td>\n",
       "      <td>QUEENS</td>\n",
       "      <td>100</td>\n",
       "      <td>0</td>\n",
       "      <td></td>\n",
       "      <td>false</td>\n",
       "      <td>UNKNOWN</td>\n",
       "      <td>U</td>\n",
       "      <td>UNKNOWN</td>\n",
       "      <td>18-24</td>\n",
       "      <td>BLACK</td>\n",
       "      <td>M</td>\n",
       "      <td>1041267.375000000000000</td>\n",
       "      <td>157133.515625000000000</td>\n",
       "      <td>40.597796249000055</td>\n",
       "      <td>-73.794685537999953</td>\n",
       "      <td>POINT (-73.79468553799995 40.597796249000055)</td>\n",
       "    </tr>\n",
       "    <tr>\n",
       "      <th>5</th>\n",
       "      <td>92393427</td>\n",
       "      <td>2013-09-01</td>\n",
       "      <td>04:17:00</td>\n",
       "      <td>BROOKLYN</td>\n",
       "      <td>67</td>\n",
       "      <td>0</td>\n",
       "      <td></td>\n",
       "      <td>false</td>\n",
       "      <td>UNKNOWN</td>\n",
       "      <td>U</td>\n",
       "      <td>UNKNOWN</td>\n",
       "      <td>&lt;18</td>\n",
       "      <td>BLACK</td>\n",
       "      <td>M</td>\n",
       "      <td>1001693.937500000000000</td>\n",
       "      <td>170112.890625000000000</td>\n",
       "      <td>40.63358818100005</td>\n",
       "      <td>-73.93715330699996</td>\n",
       "      <td>POINT (-73.93715330699996 40.63358818100005)</td>\n",
       "    </tr>\n",
       "    <tr>\n",
       "      <th>6</th>\n",
       "      <td>73057167</td>\n",
       "      <td>2010-06-05</td>\n",
       "      <td>21:16:00</td>\n",
       "      <td>BROOKLYN</td>\n",
       "      <td>77</td>\n",
       "      <td>0</td>\n",
       "      <td></td>\n",
       "      <td>false</td>\n",
       "      <td>UNKNOWN</td>\n",
       "      <td>U</td>\n",
       "      <td>UNKNOWN</td>\n",
       "      <td>&lt;18</td>\n",
       "      <td>BLACK</td>\n",
       "      <td>M</td>\n",
       "      <td>1001506.750000000000000</td>\n",
       "      <td>184055.656250000000000</td>\n",
       "      <td>40.67185839800004</td>\n",
       "      <td>-73.93779204599997</td>\n",
       "      <td>POINT (-73.93779204599997 40.67185839800004)</td>\n",
       "    </tr>\n",
       "    <tr>\n",
       "      <th>7</th>\n",
       "      <td>211362213</td>\n",
       "      <td>2020-03-20</td>\n",
       "      <td>21:27:00</td>\n",
       "      <td>BROOKLYN</td>\n",
       "      <td>81</td>\n",
       "      <td>0</td>\n",
       "      <td></td>\n",
       "      <td>false</td>\n",
       "      <td>UNKNOWN</td>\n",
       "      <td>U</td>\n",
       "      <td>UNKNOWN</td>\n",
       "      <td>25-44</td>\n",
       "      <td>BLACK</td>\n",
       "      <td>M</td>\n",
       "      <td>1001586.375000000000000</td>\n",
       "      <td>189839.031250000000000</td>\n",
       "      <td>40.687732294000057</td>\n",
       "      <td>-73.937490124999954</td>\n",
       "      <td>POINT (-73.93749012499995 40.68773229400006)</td>\n",
       "    </tr>\n",
       "    <tr>\n",
       "      <th>8</th>\n",
       "      <td>137564752</td>\n",
       "      <td>2014-07-04</td>\n",
       "      <td>00:25:00</td>\n",
       "      <td>QUEENS</td>\n",
       "      <td>101</td>\n",
       "      <td>0</td>\n",
       "      <td></td>\n",
       "      <td>false</td>\n",
       "      <td>UNKNOWN</td>\n",
       "      <td>U</td>\n",
       "      <td>UNKNOWN</td>\n",
       "      <td>18-24</td>\n",
       "      <td>BLACK</td>\n",
       "      <td>M</td>\n",
       "      <td>1051520.375000000000000</td>\n",
       "      <td>155790.406250000000000</td>\n",
       "      <td>40.594037807000063</td>\n",
       "      <td>-73.757778691999988</td>\n",
       "      <td>POINT (-73.75777869199999 40.59403780700006)</td>\n",
       "    </tr>\n",
       "    <tr>\n",
       "      <th>9</th>\n",
       "      <td>147024011</td>\n",
       "      <td>2015-10-18</td>\n",
       "      <td>01:33:00</td>\n",
       "      <td>QUEENS</td>\n",
       "      <td>106</td>\n",
       "      <td>0</td>\n",
       "      <td></td>\n",
       "      <td>false</td>\n",
       "      <td>UNKNOWN</td>\n",
       "      <td>U</td>\n",
       "      <td>UNKNOWN</td>\n",
       "      <td>18-24</td>\n",
       "      <td>BLACK</td>\n",
       "      <td>M</td>\n",
       "      <td>1038231.312500000000000</td>\n",
       "      <td>184701.421875000000000</td>\n",
       "      <td>40.67348312300004</td>\n",
       "      <td>-73.805397634999963</td>\n",
       "      <td>POINT (-73.80539763499996 40.67348312300004)</td>\n",
       "    </tr>\n",
       "  </tbody>\n",
       "</table>\n",
       "</div>"
      ],
      "text/plain": [
       "  INCIDENT_KEY  OCCUR_DATE OCCUR_TIME      BORO PRECINCT JURISDICTION_CODE  \\\n",
       "0     24050482  2006-08-27   05:35:00     BRONX       52                 0   \n",
       "1     77673979  2011-03-11   12:03:00    QUEENS      106                 0   \n",
       "2    203350417  2019-10-06   01:09:00  BROOKLYN       77                 0   \n",
       "3     80584527  2011-09-04   03:35:00     BRONX       40                 0   \n",
       "4     90843766  2013-05-27   21:16:00    QUEENS      100                 0   \n",
       "5     92393427  2013-09-01   04:17:00  BROOKLYN       67                 0   \n",
       "6     73057167  2010-06-05   21:16:00  BROOKLYN       77                 0   \n",
       "7    211362213  2020-03-20   21:27:00  BROOKLYN       81                 0   \n",
       "8    137564752  2014-07-04   00:25:00    QUEENS      101                 0   \n",
       "9    147024011  2015-10-18   01:33:00    QUEENS      106                 0   \n",
       "\n",
       "  LOCATION_DESC STATISTICAL_MURDER_FLAG PERP_AGE_GROUP PERP_SEX PERP_RACE  \\\n",
       "0                                  true        UNKNOWN        U   UNKNOWN   \n",
       "1                                 false        UNKNOWN        U   UNKNOWN   \n",
       "2                                 false        UNKNOWN        U   UNKNOWN   \n",
       "3                                 false        UNKNOWN        U   UNKNOWN   \n",
       "4                                 false        UNKNOWN        U   UNKNOWN   \n",
       "5                                 false        UNKNOWN        U   UNKNOWN   \n",
       "6                                 false        UNKNOWN        U   UNKNOWN   \n",
       "7                                 false        UNKNOWN        U   UNKNOWN   \n",
       "8                                 false        UNKNOWN        U   UNKNOWN   \n",
       "9                                 false        UNKNOWN        U   UNKNOWN   \n",
       "\n",
       "  VIC_AGE_GROUP        VIC_RACE VIC_SEX               X_COORD_CD  \\\n",
       "0         25-44  BLACK HISPANIC       F  1017541.562500000000000   \n",
       "1           65+           WHITE       M  1027543.000000000000000   \n",
       "2         18-24           BLACK       F   995325.000000000000000   \n",
       "3           <18           BLACK       M  1007453.000000000000000   \n",
       "4         18-24           BLACK       M  1041267.375000000000000   \n",
       "5           <18           BLACK       M  1001693.937500000000000   \n",
       "6           <18           BLACK       M  1001506.750000000000000   \n",
       "7         25-44           BLACK       M  1001586.375000000000000   \n",
       "8         18-24           BLACK       M  1051520.375000000000000   \n",
       "9         18-24           BLACK       M  1038231.312500000000000   \n",
       "\n",
       "               Y_COORD_CD            Latitude            Longitude  \\\n",
       "0  255918.875000000000000  40.869058190000032  -73.879631730999961   \n",
       "1  186095.000000000000000  40.677366895000034  -73.843920191999985   \n",
       "2  185155.000000000000000  40.674885741000026  -73.960075018999987   \n",
       "3  233952.000000000000000   40.80879780500004  -73.916184131999955   \n",
       "4  157133.515625000000000  40.597796249000055  -73.794685537999953   \n",
       "5  170112.890625000000000   40.63358818100005   -73.93715330699996   \n",
       "6  184055.656250000000000   40.67185839800004   -73.93779204599997   \n",
       "7  189839.031250000000000  40.687732294000057  -73.937490124999954   \n",
       "8  155790.406250000000000  40.594037807000063  -73.757778691999988   \n",
       "9  184701.421875000000000   40.67348312300004  -73.805397634999963   \n",
       "\n",
       "                                         Lon_Lat  \n",
       "0   POINT (-73.87963173099996 40.86905819000003)  \n",
       "1  POINT (-73.84392019199998 40.677366895000034)  \n",
       "2  POINT (-73.96007501899999 40.674885741000026)  \n",
       "3   POINT (-73.91618413199996 40.80879780500004)  \n",
       "4  POINT (-73.79468553799995 40.597796249000055)  \n",
       "5   POINT (-73.93715330699996 40.63358818100005)  \n",
       "6   POINT (-73.93779204599997 40.67185839800004)  \n",
       "7   POINT (-73.93749012499995 40.68773229400006)  \n",
       "8   POINT (-73.75777869199999 40.59403780700006)  \n",
       "9   POINT (-73.80539763499996 40.67348312300004)  "
      ]
     },
     "execution_count": 46,
     "metadata": {},
     "output_type": "execute_result"
    }
   ],
   "source": [
    "ds_full.head()"
   ]
  },
  {
   "cell_type": "markdown",
   "id": "e4faed3a",
   "metadata": {},
   "source": [
    "# VALIDATING DATA AFTER CLEANING"
   ]
  },
  {
   "cell_type": "code",
   "execution_count": 47,
   "id": "d7f71707",
   "metadata": {},
   "outputs": [],
   "source": [
    "data_df = pd.read_csv(\"NYPD-Shooting_Incident_Data.csv\")"
   ]
  },
  {
   "cell_type": "code",
   "execution_count": 61,
   "id": "cd13a758",
   "metadata": {},
   "outputs": [
    {
     "data": {
      "text/plain": [
       "0        0.0\n",
       "1        0.0\n",
       "2        0.0\n",
       "3        0.0\n",
       "4        0.0\n",
       "        ... \n",
       "23580    0.0\n",
       "23581    0.0\n",
       "23582    0.0\n",
       "23583    0.0\n",
       "23584    0.0\n",
       "Name: JURISDICTION_CODE, Length: 23585, dtype: float64"
      ]
     },
     "execution_count": 61,
     "metadata": {},
     "output_type": "execute_result"
    }
   ],
   "source": [
    "\n",
    "pd.to_numeric(data_df[\"JURISDICTION_CODE\"])"
   ]
  },
  {
   "cell_type": "code",
   "execution_count": 63,
   "id": "08580a13",
   "metadata": {},
   "outputs": [],
   "source": [
    "def validate_jurisdiction_code(data,column_name):\n",
    "    data = data[data[column_name].between(0,2)]\n",
    "    return data"
   ]
  },
  {
   "cell_type": "code",
   "execution_count": 64,
   "id": "fbe9a01e",
   "metadata": {},
   "outputs": [],
   "source": [
    "data_df = validate_jurisdiction_code(data_df,'JURISDICTION_CODE')"
   ]
  },
  {
   "cell_type": "raw",
   "id": "974f42ef",
   "metadata": {},
   "source": [
    "Removed values that are empty"
   ]
  },
  {
   "cell_type": "code",
   "execution_count": 82,
   "id": "3d5aa1f3",
   "metadata": {},
   "outputs": [],
   "source": [
    "def validate_location_desc(data,column_name):\n",
    "    data[column_name].replace(np.nan, 'UNKNOWN', inplace=True)\n",
    "    return data"
   ]
  },
  {
   "cell_type": "code",
   "execution_count": 83,
   "id": "64d266b3",
   "metadata": {},
   "outputs": [],
   "source": [
    "data_df = validate_location_desc(data_df,'LOCATION_DESC')"
   ]
  },
  {
   "cell_type": "code",
   "execution_count": 91,
   "id": "9c0ea2c1",
   "metadata": {},
   "outputs": [],
   "source": [
    "def validate_perp(data,column_name):\n",
    "    data[column_name].replace(np.nan, 'UNKNOWN', inplace=True)\n",
    "    return data"
   ]
  },
  {
   "cell_type": "code",
   "execution_count": 92,
   "id": "d1710b4f",
   "metadata": {},
   "outputs": [],
   "source": [
    "data_df = validate_location_desc(data_df,'PERP_AGE_GROUP')"
   ]
  },
  {
   "cell_type": "code",
   "execution_count": 93,
   "id": "336cee45",
   "metadata": {},
   "outputs": [],
   "source": [
    "data_df = validate_location_desc(data_df,'PERP_SEX')"
   ]
  },
  {
   "cell_type": "code",
   "execution_count": 94,
   "id": "e6ab94c5",
   "metadata": {},
   "outputs": [],
   "source": [
    "data_df = validate_location_desc(data_df,'PERP_RACE')"
   ]
  },
  {
   "cell_type": "code",
   "execution_count": 95,
   "id": "b2ffaafc",
   "metadata": {},
   "outputs": [
    {
     "data": {
      "text/html": [
       "<div>\n",
       "<style scoped>\n",
       "    .dataframe tbody tr th:only-of-type {\n",
       "        vertical-align: middle;\n",
       "    }\n",
       "\n",
       "    .dataframe tbody tr th {\n",
       "        vertical-align: top;\n",
       "    }\n",
       "\n",
       "    .dataframe thead th {\n",
       "        text-align: right;\n",
       "    }\n",
       "</style>\n",
       "<table border=\"1\" class=\"dataframe\">\n",
       "  <thead>\n",
       "    <tr style=\"text-align: right;\">\n",
       "      <th></th>\n",
       "      <th>INCIDENT_KEY</th>\n",
       "      <th>OCCUR_DATE</th>\n",
       "      <th>OCCUR_TIME</th>\n",
       "      <th>BORO</th>\n",
       "      <th>PRECINCT</th>\n",
       "      <th>JURISDICTION_CODE</th>\n",
       "      <th>LOCATION_DESC</th>\n",
       "      <th>STATISTICAL_MURDER_FLAG</th>\n",
       "      <th>PERP_AGE_GROUP</th>\n",
       "      <th>PERP_SEX</th>\n",
       "      <th>PERP_RACE</th>\n",
       "      <th>VIC_AGE_GROUP</th>\n",
       "      <th>VIC_SEX</th>\n",
       "      <th>VIC_RACE</th>\n",
       "      <th>X_COORD_CD</th>\n",
       "      <th>Y_COORD_CD</th>\n",
       "      <th>Latitude</th>\n",
       "      <th>Longitude</th>\n",
       "      <th>Lon_Lat</th>\n",
       "    </tr>\n",
       "  </thead>\n",
       "  <tbody>\n",
       "    <tr>\n",
       "      <th>0</th>\n",
       "      <td>24050482</td>\n",
       "      <td>08/27/2006</td>\n",
       "      <td>05:35:00</td>\n",
       "      <td>BRONX</td>\n",
       "      <td>52</td>\n",
       "      <td>0.0</td>\n",
       "      <td>UNKNOWN</td>\n",
       "      <td>True</td>\n",
       "      <td>UNKNOWN</td>\n",
       "      <td>UNKNOWN</td>\n",
       "      <td>UNKNOWN</td>\n",
       "      <td>25-44</td>\n",
       "      <td>F</td>\n",
       "      <td>BLACK HISPANIC</td>\n",
       "      <td>1.017542e+06</td>\n",
       "      <td>255918.875000</td>\n",
       "      <td>40.869058</td>\n",
       "      <td>-73.879632</td>\n",
       "      <td>POINT (-73.87963173099996 40.86905819000003)</td>\n",
       "    </tr>\n",
       "    <tr>\n",
       "      <th>1</th>\n",
       "      <td>77673979</td>\n",
       "      <td>03/11/2011</td>\n",
       "      <td>12:03:00</td>\n",
       "      <td>QUEENS</td>\n",
       "      <td>106</td>\n",
       "      <td>0.0</td>\n",
       "      <td>UNKNOWN</td>\n",
       "      <td>False</td>\n",
       "      <td>UNKNOWN</td>\n",
       "      <td>UNKNOWN</td>\n",
       "      <td>UNKNOWN</td>\n",
       "      <td>65+</td>\n",
       "      <td>M</td>\n",
       "      <td>WHITE</td>\n",
       "      <td>1.027543e+06</td>\n",
       "      <td>186095.000000</td>\n",
       "      <td>40.677367</td>\n",
       "      <td>-73.843920</td>\n",
       "      <td>POINT (-73.84392019199998 40.677366895000034)</td>\n",
       "    </tr>\n",
       "    <tr>\n",
       "      <th>2</th>\n",
       "      <td>203350417</td>\n",
       "      <td>10/06/2019</td>\n",
       "      <td>01:09:00</td>\n",
       "      <td>BROOKLYN</td>\n",
       "      <td>77</td>\n",
       "      <td>0.0</td>\n",
       "      <td>UNKNOWN</td>\n",
       "      <td>False</td>\n",
       "      <td>UNKNOWN</td>\n",
       "      <td>UNKNOWN</td>\n",
       "      <td>UNKNOWN</td>\n",
       "      <td>18-24</td>\n",
       "      <td>F</td>\n",
       "      <td>BLACK</td>\n",
       "      <td>9.953250e+05</td>\n",
       "      <td>185155.000000</td>\n",
       "      <td>40.674886</td>\n",
       "      <td>-73.960075</td>\n",
       "      <td>POINT (-73.96007501899999 40.674885741000026)</td>\n",
       "    </tr>\n",
       "    <tr>\n",
       "      <th>3</th>\n",
       "      <td>80584527</td>\n",
       "      <td>09/04/2011</td>\n",
       "      <td>03:35:00</td>\n",
       "      <td>BRONX</td>\n",
       "      <td>40</td>\n",
       "      <td>0.0</td>\n",
       "      <td>UNKNOWN</td>\n",
       "      <td>False</td>\n",
       "      <td>UNKNOWN</td>\n",
       "      <td>UNKNOWN</td>\n",
       "      <td>UNKNOWN</td>\n",
       "      <td>&lt;18</td>\n",
       "      <td>M</td>\n",
       "      <td>BLACK</td>\n",
       "      <td>1.007453e+06</td>\n",
       "      <td>233952.000000</td>\n",
       "      <td>40.808798</td>\n",
       "      <td>-73.916184</td>\n",
       "      <td>POINT (-73.91618413199996 40.80879780500004)</td>\n",
       "    </tr>\n",
       "    <tr>\n",
       "      <th>4</th>\n",
       "      <td>90843766</td>\n",
       "      <td>05/27/2013</td>\n",
       "      <td>21:16:00</td>\n",
       "      <td>QUEENS</td>\n",
       "      <td>100</td>\n",
       "      <td>0.0</td>\n",
       "      <td>UNKNOWN</td>\n",
       "      <td>False</td>\n",
       "      <td>UNKNOWN</td>\n",
       "      <td>UNKNOWN</td>\n",
       "      <td>UNKNOWN</td>\n",
       "      <td>18-24</td>\n",
       "      <td>M</td>\n",
       "      <td>BLACK</td>\n",
       "      <td>1.041267e+06</td>\n",
       "      <td>157133.515625</td>\n",
       "      <td>40.597796</td>\n",
       "      <td>-73.794686</td>\n",
       "      <td>POINT (-73.79468553799995 40.597796249000055)</td>\n",
       "    </tr>\n",
       "    <tr>\n",
       "      <th>...</th>\n",
       "      <td>...</td>\n",
       "      <td>...</td>\n",
       "      <td>...</td>\n",
       "      <td>...</td>\n",
       "      <td>...</td>\n",
       "      <td>...</td>\n",
       "      <td>...</td>\n",
       "      <td>...</td>\n",
       "      <td>...</td>\n",
       "      <td>...</td>\n",
       "      <td>...</td>\n",
       "      <td>...</td>\n",
       "      <td>...</td>\n",
       "      <td>...</td>\n",
       "      <td>...</td>\n",
       "      <td>...</td>\n",
       "      <td>...</td>\n",
       "      <td>...</td>\n",
       "      <td>...</td>\n",
       "    </tr>\n",
       "    <tr>\n",
       "      <th>23580</th>\n",
       "      <td>186329304</td>\n",
       "      <td>08/12/2018</td>\n",
       "      <td>19:50:00</td>\n",
       "      <td>BROOKLYN</td>\n",
       "      <td>84</td>\n",
       "      <td>0.0</td>\n",
       "      <td>UNKNOWN</td>\n",
       "      <td>False</td>\n",
       "      <td>25-44</td>\n",
       "      <td>M</td>\n",
       "      <td>BLACK</td>\n",
       "      <td>65+</td>\n",
       "      <td>M</td>\n",
       "      <td>BLACK</td>\n",
       "      <td>9.891547e+05</td>\n",
       "      <td>193164.265625</td>\n",
       "      <td>40.696875</td>\n",
       "      <td>-73.982314</td>\n",
       "      <td>POINT (-73.98231375199998 40.69687491500008)</td>\n",
       "    </tr>\n",
       "    <tr>\n",
       "      <th>23581</th>\n",
       "      <td>29277330</td>\n",
       "      <td>05/26/2007</td>\n",
       "      <td>04:57:00</td>\n",
       "      <td>BROOKLYN</td>\n",
       "      <td>81</td>\n",
       "      <td>0.0</td>\n",
       "      <td>UNKNOWN</td>\n",
       "      <td>False</td>\n",
       "      <td>UNKNOWN</td>\n",
       "      <td>UNKNOWN</td>\n",
       "      <td>UNKNOWN</td>\n",
       "      <td>25-44</td>\n",
       "      <td>M</td>\n",
       "      <td>BLACK</td>\n",
       "      <td>1.005218e+06</td>\n",
       "      <td>190528.000000</td>\n",
       "      <td>40.689615</td>\n",
       "      <td>-73.924393</td>\n",
       "      <td>POINT (-73.92439311199996 40.689615497000034)</td>\n",
       "    </tr>\n",
       "    <tr>\n",
       "      <th>23582</th>\n",
       "      <td>77443443</td>\n",
       "      <td>02/25/2011</td>\n",
       "      <td>01:12:00</td>\n",
       "      <td>BROOKLYN</td>\n",
       "      <td>81</td>\n",
       "      <td>0.0</td>\n",
       "      <td>MULTI DWELL - APT BUILD</td>\n",
       "      <td>False</td>\n",
       "      <td>18-24</td>\n",
       "      <td>M</td>\n",
       "      <td>BLACK</td>\n",
       "      <td>&lt;18</td>\n",
       "      <td>M</td>\n",
       "      <td>BLACK</td>\n",
       "      <td>1.003999e+06</td>\n",
       "      <td>187611.031250</td>\n",
       "      <td>40.681612</td>\n",
       "      <td>-73.928798</td>\n",
       "      <td>POINT (-73.92879814299994 40.681611891000045)</td>\n",
       "    </tr>\n",
       "    <tr>\n",
       "      <th>23583</th>\n",
       "      <td>176027888</td>\n",
       "      <td>03/17/2018</td>\n",
       "      <td>00:46:00</td>\n",
       "      <td>BRONX</td>\n",
       "      <td>43</td>\n",
       "      <td>0.0</td>\n",
       "      <td>UNKNOWN</td>\n",
       "      <td>False</td>\n",
       "      <td>25-44</td>\n",
       "      <td>M</td>\n",
       "      <td>UNKNOWN</td>\n",
       "      <td>25-44</td>\n",
       "      <td>M</td>\n",
       "      <td>WHITE HISPANIC</td>\n",
       "      <td>1.018728e+06</td>\n",
       "      <td>242744.234375</td>\n",
       "      <td>40.832893</td>\n",
       "      <td>-73.875408</td>\n",
       "      <td>POINT (-73.87540796899998 40.83289318000004)</td>\n",
       "    </tr>\n",
       "    <tr>\n",
       "      <th>23584</th>\n",
       "      <td>218777493</td>\n",
       "      <td>10/05/2020</td>\n",
       "      <td>12:00:00</td>\n",
       "      <td>QUEENS</td>\n",
       "      <td>113</td>\n",
       "      <td>0.0</td>\n",
       "      <td>UNKNOWN</td>\n",
       "      <td>False</td>\n",
       "      <td>25-44</td>\n",
       "      <td>M</td>\n",
       "      <td>BLACK</td>\n",
       "      <td>25-44</td>\n",
       "      <td>M</td>\n",
       "      <td>BLACK</td>\n",
       "      <td>1.049416e+06</td>\n",
       "      <td>183677.000000</td>\n",
       "      <td>40.670596</td>\n",
       "      <td>-73.765087</td>\n",
       "      <td>POINT (-73.76508667399997 40.67059605900005)</td>\n",
       "    </tr>\n",
       "  </tbody>\n",
       "</table>\n",
       "<p>23583 rows × 19 columns</p>\n",
       "</div>"
      ],
      "text/plain": [
       "       INCIDENT_KEY  OCCUR_DATE OCCUR_TIME      BORO  PRECINCT  \\\n",
       "0          24050482  08/27/2006   05:35:00     BRONX        52   \n",
       "1          77673979  03/11/2011   12:03:00    QUEENS       106   \n",
       "2         203350417  10/06/2019   01:09:00  BROOKLYN        77   \n",
       "3          80584527  09/04/2011   03:35:00     BRONX        40   \n",
       "4          90843766  05/27/2013   21:16:00    QUEENS       100   \n",
       "...             ...         ...        ...       ...       ...   \n",
       "23580     186329304  08/12/2018   19:50:00  BROOKLYN        84   \n",
       "23581      29277330  05/26/2007   04:57:00  BROOKLYN        81   \n",
       "23582      77443443  02/25/2011   01:12:00  BROOKLYN        81   \n",
       "23583     176027888  03/17/2018   00:46:00     BRONX        43   \n",
       "23584     218777493  10/05/2020   12:00:00    QUEENS       113   \n",
       "\n",
       "       JURISDICTION_CODE            LOCATION_DESC  STATISTICAL_MURDER_FLAG  \\\n",
       "0                    0.0                  UNKNOWN                     True   \n",
       "1                    0.0                  UNKNOWN                    False   \n",
       "2                    0.0                  UNKNOWN                    False   \n",
       "3                    0.0                  UNKNOWN                    False   \n",
       "4                    0.0                  UNKNOWN                    False   \n",
       "...                  ...                      ...                      ...   \n",
       "23580                0.0                  UNKNOWN                    False   \n",
       "23581                0.0                  UNKNOWN                    False   \n",
       "23582                0.0  MULTI DWELL - APT BUILD                    False   \n",
       "23583                0.0                  UNKNOWN                    False   \n",
       "23584                0.0                  UNKNOWN                    False   \n",
       "\n",
       "      PERP_AGE_GROUP PERP_SEX PERP_RACE VIC_AGE_GROUP VIC_SEX        VIC_RACE  \\\n",
       "0            UNKNOWN  UNKNOWN   UNKNOWN         25-44       F  BLACK HISPANIC   \n",
       "1            UNKNOWN  UNKNOWN   UNKNOWN           65+       M           WHITE   \n",
       "2            UNKNOWN  UNKNOWN   UNKNOWN         18-24       F           BLACK   \n",
       "3            UNKNOWN  UNKNOWN   UNKNOWN           <18       M           BLACK   \n",
       "4            UNKNOWN  UNKNOWN   UNKNOWN         18-24       M           BLACK   \n",
       "...              ...      ...       ...           ...     ...             ...   \n",
       "23580          25-44        M     BLACK           65+       M           BLACK   \n",
       "23581        UNKNOWN  UNKNOWN   UNKNOWN         25-44       M           BLACK   \n",
       "23582          18-24        M     BLACK           <18       M           BLACK   \n",
       "23583          25-44        M   UNKNOWN         25-44       M  WHITE HISPANIC   \n",
       "23584          25-44        M     BLACK         25-44       M           BLACK   \n",
       "\n",
       "         X_COORD_CD     Y_COORD_CD   Latitude  Longitude  \\\n",
       "0      1.017542e+06  255918.875000  40.869058 -73.879632   \n",
       "1      1.027543e+06  186095.000000  40.677367 -73.843920   \n",
       "2      9.953250e+05  185155.000000  40.674886 -73.960075   \n",
       "3      1.007453e+06  233952.000000  40.808798 -73.916184   \n",
       "4      1.041267e+06  157133.515625  40.597796 -73.794686   \n",
       "...             ...            ...        ...        ...   \n",
       "23580  9.891547e+05  193164.265625  40.696875 -73.982314   \n",
       "23581  1.005218e+06  190528.000000  40.689615 -73.924393   \n",
       "23582  1.003999e+06  187611.031250  40.681612 -73.928798   \n",
       "23583  1.018728e+06  242744.234375  40.832893 -73.875408   \n",
       "23584  1.049416e+06  183677.000000  40.670596 -73.765087   \n",
       "\n",
       "                                             Lon_Lat  \n",
       "0       POINT (-73.87963173099996 40.86905819000003)  \n",
       "1      POINT (-73.84392019199998 40.677366895000034)  \n",
       "2      POINT (-73.96007501899999 40.674885741000026)  \n",
       "3       POINT (-73.91618413199996 40.80879780500004)  \n",
       "4      POINT (-73.79468553799995 40.597796249000055)  \n",
       "...                                              ...  \n",
       "23580   POINT (-73.98231375199998 40.69687491500008)  \n",
       "23581  POINT (-73.92439311199996 40.689615497000034)  \n",
       "23582  POINT (-73.92879814299994 40.681611891000045)  \n",
       "23583   POINT (-73.87540796899998 40.83289318000004)  \n",
       "23584   POINT (-73.76508667399997 40.67059605900005)  \n",
       "\n",
       "[23583 rows x 19 columns]"
      ]
     },
     "execution_count": 95,
     "metadata": {},
     "output_type": "execute_result"
    }
   ],
   "source": [
    "data_df"
   ]
  },
  {
   "cell_type": "code",
   "execution_count": 96,
   "id": "e1a0d562",
   "metadata": {},
   "outputs": [
    {
     "data": {
      "text/html": [
       "<div>\n",
       "<style scoped>\n",
       "    .dataframe tbody tr th:only-of-type {\n",
       "        vertical-align: middle;\n",
       "    }\n",
       "\n",
       "    .dataframe tbody tr th {\n",
       "        vertical-align: top;\n",
       "    }\n",
       "\n",
       "    .dataframe thead th {\n",
       "        text-align: right;\n",
       "    }\n",
       "</style>\n",
       "<table border=\"1\" class=\"dataframe\">\n",
       "  <thead>\n",
       "    <tr style=\"text-align: right;\">\n",
       "      <th></th>\n",
       "      <th>total</th>\n",
       "      <th>empty</th>\n",
       "      <th>distinct</th>\n",
       "      <th>uniqueness</th>\n",
       "      <th>entropy</th>\n",
       "    </tr>\n",
       "  </thead>\n",
       "  <tbody>\n",
       "    <tr>\n",
       "      <th>INCIDENT_KEY</th>\n",
       "      <td>23583</td>\n",
       "      <td>0</td>\n",
       "      <td>18562</td>\n",
       "      <td>0.787092</td>\n",
       "      <td>13.995405</td>\n",
       "    </tr>\n",
       "    <tr>\n",
       "      <th>OCCUR_DATE</th>\n",
       "      <td>23583</td>\n",
       "      <td>0</td>\n",
       "      <td>5054</td>\n",
       "      <td>0.214307</td>\n",
       "      <td>11.942653</td>\n",
       "    </tr>\n",
       "    <tr>\n",
       "      <th>OCCUR_TIME</th>\n",
       "      <td>23583</td>\n",
       "      <td>0</td>\n",
       "      <td>1401</td>\n",
       "      <td>0.059407</td>\n",
       "      <td>9.821714</td>\n",
       "    </tr>\n",
       "    <tr>\n",
       "      <th>BORO</th>\n",
       "      <td>23583</td>\n",
       "      <td>0</td>\n",
       "      <td>5</td>\n",
       "      <td>0.000212</td>\n",
       "      <td>1.976157</td>\n",
       "    </tr>\n",
       "    <tr>\n",
       "      <th>PRECINCT</th>\n",
       "      <td>23583</td>\n",
       "      <td>0</td>\n",
       "      <td>77</td>\n",
       "      <td>0.003265</td>\n",
       "      <td>5.574937</td>\n",
       "    </tr>\n",
       "    <tr>\n",
       "      <th>JURISDICTION_CODE</th>\n",
       "      <td>23583</td>\n",
       "      <td>0</td>\n",
       "      <td>3</td>\n",
       "      <td>0.000127</td>\n",
       "      <td>0.669795</td>\n",
       "    </tr>\n",
       "    <tr>\n",
       "      <th>LOCATION_DESC</th>\n",
       "      <td>23583</td>\n",
       "      <td>0</td>\n",
       "      <td>40</td>\n",
       "      <td>0.001696</td>\n",
       "      <td>2.099604</td>\n",
       "    </tr>\n",
       "    <tr>\n",
       "      <th>STATISTICAL_MURDER_FLAG</th>\n",
       "      <td>23583</td>\n",
       "      <td>0</td>\n",
       "      <td>2</td>\n",
       "      <td>0.000085</td>\n",
       "      <td>0.703174</td>\n",
       "    </tr>\n",
       "    <tr>\n",
       "      <th>PERP_AGE_GROUP</th>\n",
       "      <td>23583</td>\n",
       "      <td>0</td>\n",
       "      <td>9</td>\n",
       "      <td>0.000382</td>\n",
       "      <td>1.837660</td>\n",
       "    </tr>\n",
       "    <tr>\n",
       "      <th>PERP_SEX</th>\n",
       "      <td>23583</td>\n",
       "      <td>0</td>\n",
       "      <td>4</td>\n",
       "      <td>0.000170</td>\n",
       "      <td>1.331032</td>\n",
       "    </tr>\n",
       "    <tr>\n",
       "      <th>PERP_RACE</th>\n",
       "      <td>23583</td>\n",
       "      <td>0</td>\n",
       "      <td>7</td>\n",
       "      <td>0.000297</td>\n",
       "      <td>1.666145</td>\n",
       "    </tr>\n",
       "    <tr>\n",
       "      <th>VIC_AGE_GROUP</th>\n",
       "      <td>23583</td>\n",
       "      <td>0</td>\n",
       "      <td>6</td>\n",
       "      <td>0.000254</td>\n",
       "      <td>1.723641</td>\n",
       "    </tr>\n",
       "    <tr>\n",
       "      <th>VIC_SEX</th>\n",
       "      <td>23583</td>\n",
       "      <td>0</td>\n",
       "      <td>3</td>\n",
       "      <td>0.000127</td>\n",
       "      <td>0.453674</td>\n",
       "    </tr>\n",
       "    <tr>\n",
       "      <th>VIC_RACE</th>\n",
       "      <td>23583</td>\n",
       "      <td>0</td>\n",
       "      <td>7</td>\n",
       "      <td>0.000297</td>\n",
       "      <td>1.325777</td>\n",
       "    </tr>\n",
       "    <tr>\n",
       "      <th>X_COORD_CD</th>\n",
       "      <td>23583</td>\n",
       "      <td>0</td>\n",
       "      <td>9911</td>\n",
       "      <td>0.420260</td>\n",
       "      <td>12.658281</td>\n",
       "    </tr>\n",
       "    <tr>\n",
       "      <th>Y_COORD_CD</th>\n",
       "      <td>23583</td>\n",
       "      <td>0</td>\n",
       "      <td>9986</td>\n",
       "      <td>0.423441</td>\n",
       "      <td>12.668555</td>\n",
       "    </tr>\n",
       "    <tr>\n",
       "      <th>Latitude</th>\n",
       "      <td>23583</td>\n",
       "      <td>0</td>\n",
       "      <td>10055</td>\n",
       "      <td>0.426366</td>\n",
       "      <td>12.677490</td>\n",
       "    </tr>\n",
       "    <tr>\n",
       "      <th>Longitude</th>\n",
       "      <td>23583</td>\n",
       "      <td>0</td>\n",
       "      <td>10055</td>\n",
       "      <td>0.426366</td>\n",
       "      <td>12.677490</td>\n",
       "    </tr>\n",
       "    <tr>\n",
       "      <th>Lon_Lat</th>\n",
       "      <td>23583</td>\n",
       "      <td>0</td>\n",
       "      <td>10055</td>\n",
       "      <td>0.426366</td>\n",
       "      <td>12.677490</td>\n",
       "    </tr>\n",
       "  </tbody>\n",
       "</table>\n",
       "</div>"
      ],
      "text/plain": [
       "                         total  empty  distinct  uniqueness    entropy\n",
       "INCIDENT_KEY             23583      0     18562    0.787092  13.995405\n",
       "OCCUR_DATE               23583      0      5054    0.214307  11.942653\n",
       "OCCUR_TIME               23583      0      1401    0.059407   9.821714\n",
       "BORO                     23583      0         5    0.000212   1.976157\n",
       "PRECINCT                 23583      0        77    0.003265   5.574937\n",
       "JURISDICTION_CODE        23583      0         3    0.000127   0.669795\n",
       "LOCATION_DESC            23583      0        40    0.001696   2.099604\n",
       "STATISTICAL_MURDER_FLAG  23583      0         2    0.000085   0.703174\n",
       "PERP_AGE_GROUP           23583      0         9    0.000382   1.837660\n",
       "PERP_SEX                 23583      0         4    0.000170   1.331032\n",
       "PERP_RACE                23583      0         7    0.000297   1.666145\n",
       "VIC_AGE_GROUP            23583      0         6    0.000254   1.723641\n",
       "VIC_SEX                  23583      0         3    0.000127   0.453674\n",
       "VIC_RACE                 23583      0         7    0.000297   1.325777\n",
       "X_COORD_CD               23583      0      9911    0.420260  12.658281\n",
       "Y_COORD_CD               23583      0      9986    0.423441  12.668555\n",
       "Latitude                 23583      0     10055    0.426366  12.677490\n",
       "Longitude                23583      0     10055    0.426366  12.677490\n",
       "Lon_Lat                  23583      0     10055    0.426366  12.677490"
      ]
     },
     "execution_count": 96,
     "metadata": {},
     "output_type": "execute_result"
    }
   ],
   "source": [
    "ds_full_jc = stream(data_df)\n",
    "profiles = ds_full_jc.profile(default_profiler=DefaultColumnProfiler)\n",
    "profiles.stats()"
   ]
  },
  {
   "cell_type": "code",
   "execution_count": 97,
   "id": "3d1fdfc3",
   "metadata": {},
   "outputs": [],
   "source": [
    "data_df.to_csv('filtered2.csv')"
   ]
  }
 ],
 "metadata": {
  "kernelspec": {
   "display_name": "Python 3 (ipykernel)",
   "language": "python",
   "name": "python3"
  },
  "language_info": {
   "codemirror_mode": {
    "name": "ipython",
    "version": 3
   },
   "file_extension": ".py",
   "mimetype": "text/x-python",
   "name": "python",
   "nbconvert_exporter": "python",
   "pygments_lexer": "ipython3",
   "version": "3.8.8"
  }
 },
 "nbformat": 4,
 "nbformat_minor": 5
}
