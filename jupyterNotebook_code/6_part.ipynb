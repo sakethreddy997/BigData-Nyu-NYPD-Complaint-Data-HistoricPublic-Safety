{
 "cells": [
  {
   "cell_type": "markdown",
   "metadata": {},
   "source": [
    "#### Import dependencies:"
   ]
  },
  {
   "cell_type": "code",
   "execution_count": 1,
   "metadata": {},
   "outputs": [
    {
     "name": "stdout",
     "output_type": "stream",
     "text": [
      "Python version: 3.8.5 (default, Sep  4 2020, 02:22:02) \n",
      "[Clang 10.0.0 ]\n",
      "pandas version: 1.1.3\n",
      "matplotlib version: 3.3.2\n",
      "NumPy version: 1.19.5\n",
      "SciPy version: 1.5.2\n",
      "IPython version: 7.19.0\n",
      "scikit-learn version: 0.23.2\n",
      "-------------------------\n"
     ]
    }
   ],
   "source": [
    "import sys #access to system parameters https://docs.python.org/3/library/sys.html\n",
    "print(\"Python version: {}\". format(sys.version))\n",
    "\n",
    "import pandas as pd #collection of functions for data processing and analysis modeled after R dataframes with SQL like features\n",
    "print(\"pandas version: {}\". format(pd.__version__))\n",
    "\n",
    "import matplotlib #collection of functions for scientific and publication-ready visualization\n",
    "import matplotlib as plt\n",
    "print(\"matplotlib version: {}\". format(matplotlib.__version__))\n",
    "\n",
    "import numpy as np #foundational package for scientific computing\n",
    "print(\"NumPy version: {}\". format(np.__version__))\n",
    "\n",
    "import scipy as sp #collection of functions for scientific computing and advance mathematics\n",
    "print(\"SciPy version: {}\". format(sp.__version__)) \n",
    "\n",
    "import IPython\n",
    "from IPython import display #pretty printing of dataframes in Jupyter notebook\n",
    "print(\"IPython version: {}\". format(IPython.__version__)) \n",
    "\n",
    "import sklearn #collection of machine learning algorithms\n",
    "print(\"scikit-learn version: {}\". format(sklearn.__version__))\n",
    "\n",
    "#misc libraries\n",
    "import random\n",
    "import time\n",
    "#ignore warnings\n",
    "import warnings\n",
    "warnings.filterwarnings('ignore')\n",
    "print('-'*25)\n",
    "import re\n",
    "import os\n",
    "import matplotlib.pyplot as plt\n",
    "%matplotlib inline"
   ]
  },
  {
   "cell_type": "markdown",
   "metadata": {},
   "source": [
    "#### Download data file if it has not been downloaded already:"
   ]
  },
  {
   "cell_type": "code",
   "execution_count": 2,
   "metadata": {},
   "outputs": [
    {
     "name": "stdout",
     "output_type": "stream",
     "text": [
      "File NYPD-YTD-Criminal-Summons-Summary-Dashboard-2.csv has already been downloaded\n"
     ]
    }
   ],
   "source": [
    "#url = 'https://data.cityofnewyork.us/api/views/qgea-i56i/rows.csv?accessType=DOWNLOAD'\n",
    "fn_src = 'https://data.cityofnewyork.us/api/views/mv4k-y93f/rows.csv?accessType=DOWNLOAD'\n",
    "fn_dst = 'NYPD-YTD-Criminal-Summons-Summary-Dashboard-2.csv'\n",
    "\n",
    "from six.moves import urllib\n",
    "\n",
    "if os.path.isfile(fn_dst):\n",
    "    print('File %s has already been downloaded' % fn_dst)\n",
    "else:\n",
    "    print('Fetching file %s[2.4GB]. This may take a while...' % fn_dst)\n",
    "    urllib.request.urlretrieve(fn_src, fn_dst)\n",
    "    print('File %s has been downloaded' % fn_dst)"
   ]
  },
  {
   "cell_type": "markdown",
   "metadata": {},
   "source": [
    "#### Open a stream to the data file so we don't have to load the whole data set into main memory"
   ]
  },
  {
   "cell_type": "code",
   "execution_count": 3,
   "metadata": {},
   "outputs": [],
   "source": [
    "from openclean.pipeline import stream\n",
    "ds_full = stream(fn_dst)"
   ]
  },
  {
   "cell_type": "code",
   "execution_count": 4,
   "metadata": {},
   "outputs": [
    {
     "name": "stdout",
     "output_type": "stream",
     "text": [
      "The dataset contains 35,297 rows.\n"
     ]
    }
   ],
   "source": [
    "print(f'The dataset contains {ds_full.count():,} rows.')"
   ]
  },
  {
   "cell_type": "code",
   "execution_count": 5,
   "metadata": {},
   "outputs": [
    {
     "data": {
      "text/html": [
       "<div>\n",
       "<style scoped>\n",
       "    .dataframe tbody tr th:only-of-type {\n",
       "        vertical-align: middle;\n",
       "    }\n",
       "\n",
       "    .dataframe tbody tr th {\n",
       "        vertical-align: top;\n",
       "    }\n",
       "\n",
       "    .dataframe thead th {\n",
       "        text-align: right;\n",
       "    }\n",
       "</style>\n",
       "<table border=\"1\" class=\"dataframe\">\n",
       "  <thead>\n",
       "    <tr style=\"text-align: right;\">\n",
       "      <th></th>\n",
       "      <th>SUMMONS_KEY</th>\n",
       "      <th>SUMMONS_DATE</th>\n",
       "      <th>OFFENSE_DESCRIPTION</th>\n",
       "      <th>LAW_SECTION_NUMBER</th>\n",
       "      <th>LAW_DESCRIPTION</th>\n",
       "      <th>SUMMONS_CATEGORY_TYPE</th>\n",
       "      <th>AGE_GROUP</th>\n",
       "      <th>SEX</th>\n",
       "      <th>RACE</th>\n",
       "      <th>JURISDICTION_CODE</th>\n",
       "      <th>BORO</th>\n",
       "      <th>PRECINCT_OF_OCCUR</th>\n",
       "      <th>X_COORDINATE_CD</th>\n",
       "      <th>Y_COORDINATE_CD</th>\n",
       "      <th>Latitude</th>\n",
       "      <th>Longitude</th>\n",
       "      <th>New Georeferenced Column</th>\n",
       "    </tr>\n",
       "  </thead>\n",
       "  <tbody>\n",
       "    <tr>\n",
       "      <th>0</th>\n",
       "      <td>234450913</td>\n",
       "      <td>09/30/2021</td>\n",
       "      <td>KNIVES; PUBLIC POSSESSION (BLADE 4 INCHES OR M...</td>\n",
       "      <td>10-133(B)</td>\n",
       "      <td></td>\n",
       "      <td></td>\n",
       "      <td>25-44</td>\n",
       "      <td>M</td>\n",
       "      <td>BLACK</td>\n",
       "      <td>2</td>\n",
       "      <td>BRONX</td>\n",
       "      <td>40</td>\n",
       "      <td></td>\n",
       "      <td></td>\n",
       "      <td></td>\n",
       "      <td></td>\n",
       "      <td></td>\n",
       "    </tr>\n",
       "    <tr>\n",
       "      <th>1</th>\n",
       "      <td>234279627</td>\n",
       "      <td>09/30/2021</td>\n",
       "      <td>EQUIPMENT</td>\n",
       "      <td>375</td>\n",
       "      <td>VTL</td>\n",
       "      <td>VTL</td>\n",
       "      <td>UNKNOWN</td>\n",
       "      <td></td>\n",
       "      <td></td>\n",
       "      <td>0</td>\n",
       "      <td>BROOKLYN</td>\n",
       "      <td>76</td>\n",
       "      <td>1029932</td>\n",
       "      <td>214337</td>\n",
       "      <td>40.75487228900005</td>\n",
       "      <td>-73.835115665</td>\n",
       "      <td>POINT (-73.835115665 40.75487228900005)</td>\n",
       "    </tr>\n",
       "    <tr>\n",
       "      <th>2</th>\n",
       "      <td>234275352</td>\n",
       "      <td>09/30/2021</td>\n",
       "      <td>EQUIPMENT</td>\n",
       "      <td>375</td>\n",
       "      <td>VTL</td>\n",
       "      <td>VTL</td>\n",
       "      <td>UNKNOWN</td>\n",
       "      <td></td>\n",
       "      <td></td>\n",
       "      <td>0</td>\n",
       "      <td>BROOKLYN</td>\n",
       "      <td>71</td>\n",
       "      <td></td>\n",
       "      <td></td>\n",
       "      <td></td>\n",
       "      <td></td>\n",
       "      <td></td>\n",
       "    </tr>\n",
       "    <tr>\n",
       "      <th>3</th>\n",
       "      <td>234217681</td>\n",
       "      <td>09/29/2021</td>\n",
       "      <td>EQUIPMENT</td>\n",
       "      <td>375</td>\n",
       "      <td>VTL</td>\n",
       "      <td>VTL</td>\n",
       "      <td>UNKNOWN</td>\n",
       "      <td></td>\n",
       "      <td></td>\n",
       "      <td>0</td>\n",
       "      <td>BROOKLYN</td>\n",
       "      <td>66</td>\n",
       "      <td>982428</td>\n",
       "      <td>187606</td>\n",
       "      <td>40.68161992100005</td>\n",
       "      <td>-74.00657058999997</td>\n",
       "      <td>POINT (-74.00657058999997 40.68161992100005)</td>\n",
       "    </tr>\n",
       "    <tr>\n",
       "      <th>4</th>\n",
       "      <td>234260308</td>\n",
       "      <td>09/29/2021</td>\n",
       "      <td>RECKLESS DRIVING</td>\n",
       "      <td>1212</td>\n",
       "      <td>VTL</td>\n",
       "      <td>VTL</td>\n",
       "      <td>45-64</td>\n",
       "      <td>M</td>\n",
       "      <td>BLACK</td>\n",
       "      <td>2</td>\n",
       "      <td>BRONX</td>\n",
       "      <td>43</td>\n",
       "      <td>984014</td>\n",
       "      <td>185556</td>\n",
       "      <td>40.67599331900004</td>\n",
       "      <td>-74.00085226</td>\n",
       "      <td>POINT (-74.00085226 40.67599331900004)</td>\n",
       "    </tr>\n",
       "    <tr>\n",
       "      <th>5</th>\n",
       "      <td>234229955</td>\n",
       "      <td>09/28/2021</td>\n",
       "      <td>POSS. OF KNIFE</td>\n",
       "      <td>10-133</td>\n",
       "      <td>Administrative Code</td>\n",
       "      <td>KNIFE</td>\n",
       "      <td>25-44</td>\n",
       "      <td>M</td>\n",
       "      <td>BLACK</td>\n",
       "      <td>2</td>\n",
       "      <td>BRONX</td>\n",
       "      <td>42</td>\n",
       "      <td></td>\n",
       "      <td></td>\n",
       "      <td></td>\n",
       "      <td></td>\n",
       "      <td></td>\n",
       "    </tr>\n",
       "    <tr>\n",
       "      <th>6</th>\n",
       "      <td>234083252</td>\n",
       "      <td>09/25/2021</td>\n",
       "      <td>RECKLESS DRIVING</td>\n",
       "      <td>1212</td>\n",
       "      <td>VTL</td>\n",
       "      <td>VTL</td>\n",
       "      <td>65+</td>\n",
       "      <td>M</td>\n",
       "      <td>BLACK</td>\n",
       "      <td>0</td>\n",
       "      <td>BROOKLYN</td>\n",
       "      <td>67</td>\n",
       "      <td></td>\n",
       "      <td></td>\n",
       "      <td></td>\n",
       "      <td></td>\n",
       "      <td></td>\n",
       "    </tr>\n",
       "    <tr>\n",
       "      <th>7</th>\n",
       "      <td>233878429</td>\n",
       "      <td>09/21/2021</td>\n",
       "      <td>ALCOHOLIC BEVERAGE IN PUBLIC</td>\n",
       "      <td>10-125(2B)</td>\n",
       "      <td></td>\n",
       "      <td></td>\n",
       "      <td>25-44</td>\n",
       "      <td>M</td>\n",
       "      <td>WHITE HISPANIC</td>\n",
       "      <td>0</td>\n",
       "      <td>BROOKLYN</td>\n",
       "      <td>72</td>\n",
       "      <td></td>\n",
       "      <td></td>\n",
       "      <td></td>\n",
       "      <td></td>\n",
       "      <td></td>\n",
       "    </tr>\n",
       "    <tr>\n",
       "      <th>8</th>\n",
       "      <td>233817343</td>\n",
       "      <td>09/20/2021</td>\n",
       "      <td>MOTOR VEHICLE; ENGINE ON/KEY IN IGNITION (THER...</td>\n",
       "      <td>10-111(A)</td>\n",
       "      <td></td>\n",
       "      <td></td>\n",
       "      <td>25-44</td>\n",
       "      <td>F</td>\n",
       "      <td>BLACK</td>\n",
       "      <td>0</td>\n",
       "      <td>QUEENS</td>\n",
       "      <td>105</td>\n",
       "      <td></td>\n",
       "      <td></td>\n",
       "      <td></td>\n",
       "      <td></td>\n",
       "      <td></td>\n",
       "    </tr>\n",
       "    <tr>\n",
       "      <th>9</th>\n",
       "      <td>233755125</td>\n",
       "      <td>09/18/2021</td>\n",
       "      <td>UNLICENSED SALE OF ALCOHOL</td>\n",
       "      <td>100-1</td>\n",
       "      <td>ABC</td>\n",
       "      <td>ABC</td>\n",
       "      <td>25-44</td>\n",
       "      <td>F</td>\n",
       "      <td>BLACK</td>\n",
       "      <td>0</td>\n",
       "      <td>BROOKLYN</td>\n",
       "      <td>73</td>\n",
       "      <td>1016542</td>\n",
       "      <td>182634</td>\n",
       "      <td>40.66791419900005</td>\n",
       "      <td>-73.88359786099994</td>\n",
       "      <td>POINT (-73.88359786099994 40.66791419900005)</td>\n",
       "    </tr>\n",
       "  </tbody>\n",
       "</table>\n",
       "</div>"
      ],
      "text/plain": [
       "  SUMMONS_KEY SUMMONS_DATE                                OFFENSE_DESCRIPTION  \\\n",
       "0   234450913   09/30/2021  KNIVES; PUBLIC POSSESSION (BLADE 4 INCHES OR M...   \n",
       "1   234279627   09/30/2021                                          EQUIPMENT   \n",
       "2   234275352   09/30/2021                                          EQUIPMENT   \n",
       "3   234217681   09/29/2021                                          EQUIPMENT   \n",
       "4   234260308   09/29/2021                                   RECKLESS DRIVING   \n",
       "5   234229955   09/28/2021                                     POSS. OF KNIFE   \n",
       "6   234083252   09/25/2021                                   RECKLESS DRIVING   \n",
       "7   233878429   09/21/2021                       ALCOHOLIC BEVERAGE IN PUBLIC   \n",
       "8   233817343   09/20/2021  MOTOR VEHICLE; ENGINE ON/KEY IN IGNITION (THER...   \n",
       "9   233755125   09/18/2021                         UNLICENSED SALE OF ALCOHOL   \n",
       "\n",
       "  LAW_SECTION_NUMBER      LAW_DESCRIPTION SUMMONS_CATEGORY_TYPE AGE_GROUP SEX  \\\n",
       "0          10-133(B)                                                25-44   M   \n",
       "1                375                  VTL                   VTL   UNKNOWN       \n",
       "2                375                  VTL                   VTL   UNKNOWN       \n",
       "3                375                  VTL                   VTL   UNKNOWN       \n",
       "4               1212                  VTL                   VTL     45-64   M   \n",
       "5             10-133  Administrative Code                 KNIFE     25-44   M   \n",
       "6               1212                  VTL                   VTL       65+   M   \n",
       "7         10-125(2B)                                                25-44   M   \n",
       "8          10-111(A)                                                25-44   F   \n",
       "9              100-1                  ABC                   ABC     25-44   F   \n",
       "\n",
       "             RACE JURISDICTION_CODE      BORO PRECINCT_OF_OCCUR  \\\n",
       "0           BLACK                 2     BRONX                40   \n",
       "1                                 0  BROOKLYN                76   \n",
       "2                                 0  BROOKLYN                71   \n",
       "3                                 0  BROOKLYN                66   \n",
       "4           BLACK                 2     BRONX                43   \n",
       "5           BLACK                 2     BRONX                42   \n",
       "6           BLACK                 0  BROOKLYN                67   \n",
       "7  WHITE HISPANIC                 0  BROOKLYN                72   \n",
       "8           BLACK                 0    QUEENS               105   \n",
       "9           BLACK                 0  BROOKLYN                73   \n",
       "\n",
       "  X_COORDINATE_CD Y_COORDINATE_CD           Latitude           Longitude  \\\n",
       "0                                                                          \n",
       "1         1029932          214337  40.75487228900005       -73.835115665   \n",
       "2                                                                          \n",
       "3          982428          187606  40.68161992100005  -74.00657058999997   \n",
       "4          984014          185556  40.67599331900004        -74.00085226   \n",
       "5                                                                          \n",
       "6                                                                          \n",
       "7                                                                          \n",
       "8                                                                          \n",
       "9         1016542          182634  40.66791419900005  -73.88359786099994   \n",
       "\n",
       "                       New Georeferenced Column  \n",
       "0                                                \n",
       "1       POINT (-73.835115665 40.75487228900005)  \n",
       "2                                                \n",
       "3  POINT (-74.00657058999997 40.68161992100005)  \n",
       "4        POINT (-74.00085226 40.67599331900004)  \n",
       "5                                                \n",
       "6                                                \n",
       "7                                                \n",
       "8                                                \n",
       "9  POINT (-73.88359786099994 40.66791419900005)  "
      ]
     },
     "execution_count": 5,
     "metadata": {},
     "output_type": "execute_result"
    }
   ],
   "source": [
    "ds_full.head()"
   ]
  },
  {
   "cell_type": "markdown",
   "metadata": {},
   "source": [
    "#### Use openclean to profile the data set:"
   ]
  },
  {
   "cell_type": "code",
   "execution_count": 6,
   "metadata": {},
   "outputs": [],
   "source": [
    "from openclean.profiling.column import DefaultColumnProfiler\n",
    "\n",
    "#profiles = ds.profile(default_profiler=DefaultColumnProfiler)\n",
    "profiles = ds_full.profile(default_profiler=DefaultColumnProfiler)"
   ]
  },
  {
   "cell_type": "code",
   "execution_count": 7,
   "metadata": {
    "scrolled": false
   },
   "outputs": [
    {
     "data": {
      "text/html": [
       "<div>\n",
       "<style scoped>\n",
       "    .dataframe tbody tr th:only-of-type {\n",
       "        vertical-align: middle;\n",
       "    }\n",
       "\n",
       "    .dataframe tbody tr th {\n",
       "        vertical-align: top;\n",
       "    }\n",
       "\n",
       "    .dataframe thead th {\n",
       "        text-align: right;\n",
       "    }\n",
       "</style>\n",
       "<table border=\"1\" class=\"dataframe\">\n",
       "  <thead>\n",
       "    <tr style=\"text-align: right;\">\n",
       "      <th></th>\n",
       "      <th>total</th>\n",
       "      <th>empty</th>\n",
       "      <th>distinct</th>\n",
       "      <th>uniqueness</th>\n",
       "      <th>entropy</th>\n",
       "    </tr>\n",
       "  </thead>\n",
       "  <tbody>\n",
       "    <tr>\n",
       "      <th>SUMMONS_KEY</th>\n",
       "      <td>35297</td>\n",
       "      <td>0</td>\n",
       "      <td>35294</td>\n",
       "      <td>0.999915</td>\n",
       "      <td>15.107088</td>\n",
       "    </tr>\n",
       "    <tr>\n",
       "      <th>SUMMONS_DATE</th>\n",
       "      <td>35297</td>\n",
       "      <td>0</td>\n",
       "      <td>273</td>\n",
       "      <td>0.007734</td>\n",
       "      <td>7.953969</td>\n",
       "    </tr>\n",
       "    <tr>\n",
       "      <th>OFFENSE_DESCRIPTION</th>\n",
       "      <td>35297</td>\n",
       "      <td>0</td>\n",
       "      <td>388</td>\n",
       "      <td>0.010992</td>\n",
       "      <td>4.259884</td>\n",
       "    </tr>\n",
       "    <tr>\n",
       "      <th>LAW_SECTION_NUMBER</th>\n",
       "      <td>35297</td>\n",
       "      <td>0</td>\n",
       "      <td>347</td>\n",
       "      <td>0.009831</td>\n",
       "      <td>4.177027</td>\n",
       "    </tr>\n",
       "    <tr>\n",
       "      <th>LAW_DESCRIPTION</th>\n",
       "      <td>35297</td>\n",
       "      <td>8936</td>\n",
       "      <td>14</td>\n",
       "      <td>0.000531</td>\n",
       "      <td>1.981003</td>\n",
       "    </tr>\n",
       "    <tr>\n",
       "      <th>SUMMONS_CATEGORY_TYPE</th>\n",
       "      <td>35297</td>\n",
       "      <td>8936</td>\n",
       "      <td>44</td>\n",
       "      <td>0.001669</td>\n",
       "      <td>2.459580</td>\n",
       "    </tr>\n",
       "    <tr>\n",
       "      <th>AGE_GROUP</th>\n",
       "      <td>35297</td>\n",
       "      <td>0</td>\n",
       "      <td>6</td>\n",
       "      <td>0.000170</td>\n",
       "      <td>1.838390</td>\n",
       "    </tr>\n",
       "    <tr>\n",
       "      <th>SEX</th>\n",
       "      <td>35297</td>\n",
       "      <td>17436</td>\n",
       "      <td>3</td>\n",
       "      <td>0.000168</td>\n",
       "      <td>0.530843</td>\n",
       "    </tr>\n",
       "    <tr>\n",
       "      <th>RACE</th>\n",
       "      <td>35297</td>\n",
       "      <td>17437</td>\n",
       "      <td>8</td>\n",
       "      <td>0.000448</td>\n",
       "      <td>2.040680</td>\n",
       "    </tr>\n",
       "    <tr>\n",
       "      <th>JURISDICTION_CODE</th>\n",
       "      <td>35297</td>\n",
       "      <td>0</td>\n",
       "      <td>3</td>\n",
       "      <td>0.000085</td>\n",
       "      <td>0.476623</td>\n",
       "    </tr>\n",
       "    <tr>\n",
       "      <th>BORO</th>\n",
       "      <td>35297</td>\n",
       "      <td>0</td>\n",
       "      <td>6</td>\n",
       "      <td>0.000170</td>\n",
       "      <td>1.958136</td>\n",
       "    </tr>\n",
       "    <tr>\n",
       "      <th>PRECINCT_OF_OCCUR</th>\n",
       "      <td>35297</td>\n",
       "      <td>0</td>\n",
       "      <td>77</td>\n",
       "      <td>0.002181</td>\n",
       "      <td>5.345961</td>\n",
       "    </tr>\n",
       "    <tr>\n",
       "      <th>X_COORDINATE_CD</th>\n",
       "      <td>35297</td>\n",
       "      <td>181</td>\n",
       "      <td>7984</td>\n",
       "      <td>0.227361</td>\n",
       "      <td>10.642262</td>\n",
       "    </tr>\n",
       "    <tr>\n",
       "      <th>Y_COORDINATE_CD</th>\n",
       "      <td>35297</td>\n",
       "      <td>181</td>\n",
       "      <td>8138</td>\n",
       "      <td>0.231746</td>\n",
       "      <td>10.655154</td>\n",
       "    </tr>\n",
       "    <tr>\n",
       "      <th>Latitude</th>\n",
       "      <td>35297</td>\n",
       "      <td>181</td>\n",
       "      <td>8549</td>\n",
       "      <td>0.243450</td>\n",
       "      <td>10.704113</td>\n",
       "    </tr>\n",
       "    <tr>\n",
       "      <th>Longitude</th>\n",
       "      <td>35297</td>\n",
       "      <td>181</td>\n",
       "      <td>8551</td>\n",
       "      <td>0.243507</td>\n",
       "      <td>10.703326</td>\n",
       "    </tr>\n",
       "    <tr>\n",
       "      <th>New Georeferenced Column</th>\n",
       "      <td>35297</td>\n",
       "      <td>181</td>\n",
       "      <td>8552</td>\n",
       "      <td>0.243536</td>\n",
       "      <td>10.704345</td>\n",
       "    </tr>\n",
       "  </tbody>\n",
       "</table>\n",
       "</div>"
      ],
      "text/plain": [
       "                          total  empty  distinct  uniqueness    entropy\n",
       "SUMMONS_KEY               35297      0     35294    0.999915  15.107088\n",
       "SUMMONS_DATE              35297      0       273    0.007734   7.953969\n",
       "OFFENSE_DESCRIPTION       35297      0       388    0.010992   4.259884\n",
       "LAW_SECTION_NUMBER        35297      0       347    0.009831   4.177027\n",
       "LAW_DESCRIPTION           35297   8936        14    0.000531   1.981003\n",
       "SUMMONS_CATEGORY_TYPE     35297   8936        44    0.001669   2.459580\n",
       "AGE_GROUP                 35297      0         6    0.000170   1.838390\n",
       "SEX                       35297  17436         3    0.000168   0.530843\n",
       "RACE                      35297  17437         8    0.000448   2.040680\n",
       "JURISDICTION_CODE         35297      0         3    0.000085   0.476623\n",
       "BORO                      35297      0         6    0.000170   1.958136\n",
       "PRECINCT_OF_OCCUR         35297      0        77    0.002181   5.345961\n",
       "X_COORDINATE_CD           35297    181      7984    0.227361  10.642262\n",
       "Y_COORDINATE_CD           35297    181      8138    0.231746  10.655154\n",
       "Latitude                  35297    181      8549    0.243450  10.704113\n",
       "Longitude                 35297    181      8551    0.243507  10.703326\n",
       "New Georeferenced Column  35297    181      8552    0.243536  10.704345"
      ]
     },
     "execution_count": 7,
     "metadata": {},
     "output_type": "execute_result"
    }
   ],
   "source": [
    "profiles.stats()"
   ]
  },
  {
   "cell_type": "code",
   "execution_count": 8,
   "metadata": {},
   "outputs": [
    {
     "name": "stdout",
     "output_type": "stream",
     "text": [
      "Schema\n",
      "------\n",
      "  'SUMMONS_KEY' (int)\n",
      "  'SUMMONS_DATE' (date)\n",
      "  'OFFENSE_DESCRIPTION' (str)\n",
      "  'LAW_SECTION_NUMBER' (str)\n",
      "  'LAW_DESCRIPTION' (str)\n",
      "  'SUMMONS_CATEGORY_TYPE' (str)\n",
      "  'AGE_GROUP' (str)\n",
      "  'SEX' (str)\n",
      "  'RACE' (str)\n",
      "  'JURISDICTION_CODE' (int)\n",
      "  'BORO' (str)\n",
      "  'PRECINCT_OF_OCCUR' (int)\n",
      "  'X_COORDINATE_CD' (int)\n",
      "  'Y_COORDINATE_CD' (int)\n",
      "  'Latitude' (float)\n",
      "  'Longitude' (float)\n",
      "  'New Georeferenced Column' (str)\n"
     ]
    }
   ],
   "source": [
    "# Print the most frequent data type for each column.\n",
    "\n",
    "print('Schema\\n------')\n",
    "for col in ds_full.columns:\n",
    "    p = profiles.column(col)\n",
    "    print(\"  '{}' ({})\".format(col, p['datatypes']['distinct'].most_common(1)[0][0]))"
   ]
  },
  {
   "cell_type": "markdown",
   "metadata": {},
   "source": [
    "### Field Name & Description:\n",
    "    'CMPLNT_NUM' (int)                 Complaint Number\n",
    "    'CMPLNT_FR_DT' (date)              Complaint From Date\n",
    "    'CMPLNT_FR_TM' (date)              Complaint From Time\n",
    "    'CMPLNT_TO_DT' (date)              Complaint To Date\n",
    "    'CMPLNT_TO_TM' (date)              Complaint To Time\n",
    "    'ADDR_PCT_CD' (int)                Code of Precinct in which the Incident Occured\n",
    "    'RPT_DT' (date)                    Report Date\n",
    "    'KY_CD' (int)                      \"Key Code\": Offense Classification Code (3 digits)\n",
    "    'OFNS_DESC' (str)                  Offense Description\n",
    "    'PD_CD' (int)                      PD Code of Offense. More granular than Key Code\n",
    "    'PD_DESC' (str)                    PD Description of Offense.\n",
    "    'CRM_ATPT_CPTD_CD' (str)           Whether Crime was Atempted or Completed (values: 'COMPLETED', 'ATTEMPTED')\n",
    "    'LAW_CAT_CD' (str)                 Level of Offense (values: 'FELONY', 'VIOLATION', 'MISDEMEANOR')\n",
    "    'BORO_NM' (str)                    Name of Borough in which Incident Occurred\n",
    "    'LOC_OF_OCCUR_DESC' (str)          Description of where the incident occurred with respect to the premises\n",
    "                                       (values:'FRONT OF', 'REAR OF', 'OUTSIDE', 'INSIDE', 'OPPOSITE OF')\n",
    "    'PREM_TYP_DESC' (str)              Description of the type of premises in which the Incident Occurred\n",
    "    'JURIS_DESC' (str)                 Description of Jurisdiction in which Incident Occurred\n",
    "    'JURISDICTION_CODE' (int)          Jurisdiction Code\n",
    "    'PARKS_NM' (str)                   Name of Park in which Incident Occurred, if Applicable\n",
    "    'HADEVELOPT' (str)                 Name of NYCHA Housing Development in which Incident Occurred, if Applicable\n",
    "    'HOUSING_PSA' (int)                Housing PSA\n",
    "    'X_COORD_CD' (int)                 X-coordinate, New York State Plane Coordinate System\n",
    "    'Y_COORD_CD' (int)                 Y-coordinate, New York State Plane Coordinate System\n",
    "    'SUSP_AGE_GROUP' (int)             Age Group of Suspect\n",
    "    'SUSP_RACE' (str)                  Race of Suspect\n",
    "    'SUSP_SEX' (str)                   Sex of Suspect\n",
    "    'TRANSIT_DISTRICT' (int)           Transit-District code\n",
    "    'Latitude' (float)                 Global Latitude of Location where Incident Occurred\n",
    "    'Longitude' (float)                Global Longitude of Location where Incident Occured\n",
    "    'Lat_Lon' (str)                    'Latitude' and 'Longitude' together\n",
    "    'PATROL_BORO' (str)                Patrol Borough\n",
    "    'STATION_NAME' (str)               Station Name\n",
    "    'VIC_AGE_GROUP' (int)              Age Group of Victim\n",
    "    'VIC_RACE' (str)                   Race of Victim\n",
    "    'VIC_SEX' (str)                    Sex of Victim\n",
    "    \n",
    "    \n",
    "    (Note: some field descriptions were taken from https://www1.nyc.gov/assets/nypd/downloads/pdf/analysis_and_planning/incident_level_data_footnotes.pdf)\n",
    "   "
   ]
  },
  {
   "cell_type": "markdown",
   "metadata": {},
   "source": [
    "## Profiling & Cleaning of each field in the data set"
   ]
  },
  {
   "cell_type": "code",
   "execution_count": 9,
   "metadata": {},
   "outputs": [
    {
     "data": {
      "text/html": [
       "<div>\n",
       "<style scoped>\n",
       "    .dataframe tbody tr th:only-of-type {\n",
       "        vertical-align: middle;\n",
       "    }\n",
       "\n",
       "    .dataframe tbody tr th {\n",
       "        vertical-align: top;\n",
       "    }\n",
       "\n",
       "    .dataframe thead th {\n",
       "        text-align: right;\n",
       "    }\n",
       "</style>\n",
       "<table border=\"1\" class=\"dataframe\">\n",
       "  <thead>\n",
       "    <tr style=\"text-align: right;\">\n",
       "      <th></th>\n",
       "      <th>min</th>\n",
       "      <th>max</th>\n",
       "    </tr>\n",
       "  </thead>\n",
       "  <tbody>\n",
       "    <tr>\n",
       "      <th>int</th>\n",
       "      <td>6754670</td>\n",
       "      <td>234590979</td>\n",
       "    </tr>\n",
       "  </tbody>\n",
       "</table>\n",
       "</div>"
      ],
      "text/plain": [
       "         min        max\n",
       "int  6754670  234590979"
      ]
     },
     "execution_count": 9,
     "metadata": {},
     "output_type": "execute_result"
    }
   ],
   "source": [
    "profiles.minmax('SUMMONS_KEY')"
   ]
  },
  {
   "cell_type": "raw",
   "metadata": {},
   "source": [
    "All summons keys are distinct and no values are empty.Hence, no further cleaning is required."
   ]
  },
  {
   "cell_type": "code",
   "execution_count": 10,
   "metadata": {},
   "outputs": [
    {
     "data": {
      "text/html": [
       "<div>\n",
       "<style scoped>\n",
       "    .dataframe tbody tr th:only-of-type {\n",
       "        vertical-align: middle;\n",
       "    }\n",
       "\n",
       "    .dataframe tbody tr th {\n",
       "        vertical-align: top;\n",
       "    }\n",
       "\n",
       "    .dataframe thead th {\n",
       "        text-align: right;\n",
       "    }\n",
       "</style>\n",
       "<table border=\"1\" class=\"dataframe\">\n",
       "  <thead>\n",
       "    <tr style=\"text-align: right;\">\n",
       "      <th></th>\n",
       "      <th>min</th>\n",
       "      <th>max</th>\n",
       "    </tr>\n",
       "  </thead>\n",
       "  <tbody>\n",
       "    <tr>\n",
       "      <th>date</th>\n",
       "      <td>2021-01-01</td>\n",
       "      <td>2021-09-30</td>\n",
       "    </tr>\n",
       "  </tbody>\n",
       "</table>\n",
       "</div>"
      ],
      "text/plain": [
       "            min        max\n",
       "date 2021-01-01 2021-09-30"
      ]
     },
     "execution_count": 10,
     "metadata": {},
     "output_type": "execute_result"
    }
   ],
   "source": [
    "profiles.minmax('SUMMONS_DATE')"
   ]
  },
  {
   "cell_type": "code",
   "execution_count": 11,
   "metadata": {},
   "outputs": [],
   "source": [
    "from datetime import datetime\n",
    "#datetime.strptime('2014-12-04', '%Y-%m-%d').date()\n",
    "\n",
    "\n",
    "def validate_date(sourceValue):\n",
    "    dummy_date = datetime.strptime(\"01/01/1000\", '%m/%d/%Y').date()\n",
    "    \n",
    "    try:\n",
    "        source_date = sourceValue\n",
    "        start_date = datetime.strptime(\"01/01/2021\", '%m/%d/%Y').date()\n",
    "        end_date = datetime.strptime(\"09/31/2021\", '%m/%d/%Y').date()\n",
    "    \n",
    "        if source_date == '':\n",
    "            source_date = dummy_date\n",
    "        \n",
    "        source_date = datetime.strptime(sourceValue, '%m/%d/%Y').date()\n",
    "        \n",
    "        if source_date >= start_date and source_date <= end_date:\n",
    "            return source_date\n",
    "        else:\n",
    "            return dummy_date\n",
    "    except:\n",
    "        return dummy_date\n",
    "    \n",
    "\n",
    "ds_full = ds_full.update('SUMMONS_DATE', validate_date)"
   ]
  },
  {
   "cell_type": "code",
   "execution_count": 12,
   "metadata": {},
   "outputs": [
    {
     "data": {
      "text/html": [
       "<div>\n",
       "<style scoped>\n",
       "    .dataframe tbody tr th:only-of-type {\n",
       "        vertical-align: middle;\n",
       "    }\n",
       "\n",
       "    .dataframe tbody tr th {\n",
       "        vertical-align: top;\n",
       "    }\n",
       "\n",
       "    .dataframe thead th {\n",
       "        text-align: right;\n",
       "    }\n",
       "</style>\n",
       "<table border=\"1\" class=\"dataframe\">\n",
       "  <thead>\n",
       "    <tr style=\"text-align: right;\">\n",
       "      <th></th>\n",
       "      <th>min</th>\n",
       "      <th>max</th>\n",
       "    </tr>\n",
       "  </thead>\n",
       "  <tbody>\n",
       "    <tr>\n",
       "      <th>int</th>\n",
       "      <td>1</td>\n",
       "      <td>123</td>\n",
       "    </tr>\n",
       "  </tbody>\n",
       "</table>\n",
       "</div>"
      ],
      "text/plain": [
       "     min  max\n",
       "int    1  123"
      ]
     },
     "execution_count": 12,
     "metadata": {},
     "output_type": "execute_result"
    }
   ],
   "source": [
    "profiles.minmax('PRECINCT_OF_OCCUR')"
   ]
  },
  {
   "cell_type": "code",
   "execution_count": 13,
   "metadata": {},
   "outputs": [
    {
     "data": {
      "text/plain": [
       "[('76', 7305),\n",
       " ('72', 1321),\n",
       " ('40', 1231),\n",
       " ('44', 1201),\n",
       " ('109', 933),\n",
       " ('45', 925),\n",
       " ('41', 916),\n",
       " ('52', 790),\n",
       " ('25', 748),\n",
       " ('47', 747)]"
      ]
     },
     "execution_count": 13,
     "metadata": {},
     "output_type": "execute_result"
    }
   ],
   "source": [
    "profiles.column('PRECINCT_OF_OCCUR').get('topValues')"
   ]
  },
  {
   "cell_type": "code",
   "execution_count": 14,
   "metadata": {},
   "outputs": [
    {
     "data": {
      "text/html": [
       "<div>\n",
       "<style scoped>\n",
       "    .dataframe tbody tr th:only-of-type {\n",
       "        vertical-align: middle;\n",
       "    }\n",
       "\n",
       "    .dataframe tbody tr th {\n",
       "        vertical-align: top;\n",
       "    }\n",
       "\n",
       "    .dataframe thead th {\n",
       "        text-align: right;\n",
       "    }\n",
       "</style>\n",
       "<table border=\"1\" class=\"dataframe\">\n",
       "  <thead>\n",
       "    <tr style=\"text-align: right;\">\n",
       "      <th></th>\n",
       "      <th>min</th>\n",
       "      <th>max</th>\n",
       "    </tr>\n",
       "  </thead>\n",
       "  <tbody>\n",
       "    <tr>\n",
       "      <th>str</th>\n",
       "      <td>1-03</td>\n",
       "      <td>GBL 45</td>\n",
       "    </tr>\n",
       "    <tr>\n",
       "      <th>int</th>\n",
       "      <td>45</td>\n",
       "      <td>9999</td>\n",
       "    </tr>\n",
       "    <tr>\n",
       "      <th>float</th>\n",
       "      <td>20.453</td>\n",
       "      <td>1050.9</td>\n",
       "    </tr>\n",
       "    <tr>\n",
       "      <th>date</th>\n",
       "      <td>3003-03-03 00:00:00</td>\n",
       "      <td>3003-03-03 00:00:00</td>\n",
       "    </tr>\n",
       "  </tbody>\n",
       "</table>\n",
       "</div>"
      ],
      "text/plain": [
       "                       min                  max\n",
       "str                   1-03               GBL 45\n",
       "int                     45                 9999\n",
       "float               20.453               1050.9\n",
       "date   3003-03-03 00:00:00  3003-03-03 00:00:00"
      ]
     },
     "execution_count": 14,
     "metadata": {},
     "output_type": "execute_result"
    }
   ],
   "source": [
    "profiles.minmax('LAW_SECTION_NUMBER')"
   ]
  },
  {
   "cell_type": "code",
   "execution_count": 15,
   "metadata": {},
   "outputs": [
    {
     "data": {
      "text/plain": [
       "[('CFR 49', 14047),\n",
       " ('221.05', 3689),\n",
       " ('10-111(A)', 2606),\n",
       " ('10-125(2B)', 1191),\n",
       " ('1212', 912),\n",
       " ('11-809', 855),\n",
       " ('9999', 835),\n",
       " ('375', 664),\n",
       " ('140.05', 621),\n",
       " ('1050.4(A)', 615)]"
      ]
     },
     "execution_count": 15,
     "metadata": {},
     "output_type": "execute_result"
    }
   ],
   "source": [
    "profiles.column('LAW_SECTION_NUMBER').get('topValues')"
   ]
  },
  {
   "cell_type": "code",
   "execution_count": 16,
   "metadata": {},
   "outputs": [
    {
     "data": {
      "text/plain": [
       "[('FEDERAL MOTOR VEH. SAFETY REG', 14047),\n",
       " ('MARIJUANA, UNLAWFUL POSSESSION 2ND DEGREE', 3689),\n",
       " ('MOTOR VEHICLE; ENGINE ON/KEY IN IGNITION (THERE IS NO TIME REQUIREMENT)',\n",
       "  2606),\n",
       " ('ALCOHOLIC BEVERAGE IN PUBLIC', 1191),\n",
       " ('RECKLESS DRIVING', 912),\n",
       " ('NO TAX STAMP', 855),\n",
       " ('EQUIPMENT', 664),\n",
       " ('TRESPASS', 621),\n",
       " ('NON PAYMENT OF FARE (OTHER)', 615),\n",
       " ('UNREGISTERED VEHICLE', 511)]"
      ]
     },
     "execution_count": 16,
     "metadata": {},
     "output_type": "execute_result"
    }
   ],
   "source": [
    "profiles.column('OFFENSE_DESCRIPTION').get('topValues')"
   ]
  },
  {
   "cell_type": "code",
   "execution_count": 17,
   "metadata": {
    "scrolled": true
   },
   "outputs": [
    {
     "data": {
      "text/plain": [
       "Counter({'KNIVES; PUBLIC POSSESSION (BLADE 4 INCHES OR MORE)': 89,\n",
       "         'EQUIPMENT': 664,\n",
       "         'RECKLESS DRIVING': 912,\n",
       "         'POSS. OF KNIFE': 116,\n",
       "         'ALCOHOLIC BEVERAGE IN PUBLIC': 1191,\n",
       "         'MOTOR VEHICLE; ENGINE ON/KEY IN IGNITION (THERE IS NO TIME REQUIREMENT)': 2606,\n",
       "         'UNLICENSED SALE OF ALCOHOL': 33,\n",
       "         'FEDERAL MOTOR VEH. SAFETY REG': 14047,\n",
       "         'IMPROPER PLATES': 198,\n",
       "         'DISORDERLY CONDUCT': 357,\n",
       "         'OTHER ABC': 151,\n",
       "         'OVERWEIGHT (VEH)': 221,\n",
       "         'NO TAX STAMP': 855,\n",
       "         'OTHER VTL': 62,\n",
       "         'TRESPASS': 621,\n",
       "         'OTHER TAX LAW': 71,\n",
       "         'FAIL TO CONTROL CROWD': 2,\n",
       "         'UNREGISTERED VEHICLE': 511,\n",
       "         'UNLICENSED OPERATOR': 91,\n",
       "         'MARIJUANA, UNLAWFUL POSSESSION 2ND DEGREE': 3689,\n",
       "         'ILLEGAL BOTTLE CLUB': 43,\n",
       "         'AGG. UNLICENSED OPER.': 176,\n",
       "         'DISORDERLY PREMISE': 39,\n",
       "         'CONSUMPTION OF ALCOHOL': 430,\n",
       "         'IMPROPER ENTRANCE/EXIT': 64,\n",
       "         'OTHER TRAFFIC REG': 291,\n",
       "         'IMITATION PISTOL/AIR RIFLE, POSS. OF': 91,\n",
       "         'LOITERING (GAMBLING)': 35,\n",
       "         'NON PAYMENT OF FARE (OTHER)': 615,\n",
       "         'FOR GAMBLING': 162,\n",
       "         'FAILURE TO COMPLY WITH SIGN': 33,\n",
       "         'PUBLIC URINATION': 174,\n",
       "         'CREATES A HAZARDOUS OR PHYSICALLY OFFENSIVE CONDITION WITHOUT A LEGITIMATE PURPO': 182,\n",
       "         'HIGHWAY USE TAX (NYS)': 454,\n",
       "         'OPERATION WHILE REGISTRATION OR PRIVILEGE IS SUSPENDED OR REVOKED': 438,\n",
       "         'URINATE/DEFICATE IN PARK': 13,\n",
       "         'MARIJUANA, UNLAWFUL POSSESSION 1ST DEGREE': 44,\n",
       "         'SMOKING IN TRAIN STATION': 126,\n",
       "         'MAKES UNREASONABLE NOISE': 309,\n",
       "         'UNINSPECTED VEHICLE': 146,\n",
       "         'FIREWORKS, POSSESS/USE': 154,\n",
       "         'PROHIBITS VIOLATIONS OF ANY EMERGENCY MEASURES ESTABLISHED BY THE MAYOR': 70,\n",
       "         'ENGAGES IN FIGHTING, OR VIOLENT, TUMULTUOUS OR THREATENING BEHAVIOR': 462,\n",
       "         'ALCOHOL IN THE PARK': 23,\n",
       "         'DISCON: UNREASONABLE NOISE': 12,\n",
       "         'OBSTRUCTS VEHICULAR OR PEDESTRIAN TRAFFIC': 503,\n",
       "         'DISCON: FIGHTING': 42,\n",
       "         'CONGREGATES WITH OTHER PERSONS IN PUBLIC AND REFUSES TO DISPERSE BY LAWFUL POLIC': 154,\n",
       "         'FAIL TO DISPLAY': 1,\n",
       "         'COMMERCIAL VEHICLE; NAME/ADDRESS NOT DISPLAYED': 131,\n",
       "         'KEY IN IGNITION': 117,\n",
       "         'UNREASONABLE NOISE; FROM CAR MUFFLER/EXHAUST (HEARD FROM 150 FT AWAY)': 173,\n",
       "         'SOUND DEVICE; ADVERTISING PURPOSES': 28,\n",
       "         'OPEN FIRE': 11,\n",
       "         'NOISE (ENGINE EXHUST)': 94,\n",
       "         'KNIFE, ANY IN PUBLIC VIEW': 26,\n",
       "         'HOURS; PERMITTED TO BE IN PARK BETWEEN 6AM-1AM (UNLESS OTHERWISE POSTED)': 49,\n",
       "         'LITTERING FROM VEHICLE': 31,\n",
       "         'NOISE (DEVICE)': 31,\n",
       "         'HARASSMENT 2': 20,\n",
       "         'STREET, OBSTRUCTED WITH OTHER THAN VEHICLE': 34,\n",
       "         'URINATING IN PUBLIC': 37,\n",
       "         'OTHER ADMIN CODE': 87,\n",
       "         'FAIL TO MAINTAIN MEANS OF EGRESS': 11,\n",
       "         'BOTTLE CLUB; OPERATE UNLAWFULLY': 42,\n",
       "         'USE OF ROADWAYS, PEDESTRIANS, HORSES, BICYCLES AND LIMITED USE VEHICLES PROHIBIT': 3,\n",
       "         'DISCON: OBSTRUCT VEHICLE': 11,\n",
       "         'UNREASONABLE NOISE; GENERAL': 52,\n",
       "         'UNATTENDED VEH. (ENGINE RUNNING)': 54,\n",
       "         'IDLING OF VEHICLE': 142,\n",
       "         'RECEIVING MONEY OUTSIDE DAZ': 11,\n",
       "         'SOUND DEVICE; NON-COMMERCIAL WITHOUT PERMIT': 58,\n",
       "         'LITTERING': 61,\n",
       "         'PARK REGULATIONS': 7,\n",
       "         'OTHER TRANSIT REG': 74,\n",
       "         'RED LIGHT (DISOBEY)': 2,\n",
       "         'NO SECURITY GUARD LICENSE': 35,\n",
       "         'BICYCLE ON SIDEWALK': 59,\n",
       "         'PRACTICE OF BARBERING W/O A LICENSE': 2,\n",
       "         'NON PAYMENT OF FARE (BUS)': 28,\n",
       "         'UNLAWFUL POSSESSION SYTHETIC CANNABINOIDS': 24,\n",
       "         'OCCUPANCY SIGN NOT POSTED': 14,\n",
       "         'TICKET SELLERS OBSTRUCT PED FLOW': 8,\n",
       "         'NO \"BOOK OF DAILY ACTIVITIES\"': 25,\n",
       "         'OBSTRUCTED VIEW OF PREMISE': 9,\n",
       "         'LIQUOR LICENSE NOT POSTED IN A CONSPICUOUS PLACE': 19,\n",
       "         'DISCON: CREATE HAZARDOUS CONDITION': 18,\n",
       "         'UNLICENSED BARBER': 6,\n",
       "         'OPERATE MOTOR VEHICLE IN AN UNAUTHORIZED AREA': 36,\n",
       "         'OTHER ACA': 5,\n",
       "         'FAIL TO DISPLAY VALID BUSINESS CERTIFICATE': 5,\n",
       "         'TOW TRUCK VIOLATIONS (OTHER)': 1,\n",
       "         'EXPOSURE OF PERSON': 8,\n",
       "         'OPERATE WITHOUT BATTERY OPERATED HEADLIGHTS': 1,\n",
       "         'CONTAINER, NOT ORIGINAL OR TAMPERED': 10,\n",
       "         'EVICTION; UNLAWFUL (REMOVE PROPERTY/REMOVE DOOR/CHANGE OR DAMAGE LOCKS)': 22,\n",
       "         'POSSESS WITHOUT PERMIT': 6,\n",
       "         'PEDESTRIAN FLOW ZONE': 8,\n",
       "         'GLASS BOTTLE/CONTAINER; IN RESTRICTED AREA': 3,\n",
       "         'FAIL TO DISPLAY \"CERTIFICATE OF OCCUPANCY\"': 13,\n",
       "         'DISOBEY ANY PARK SIGN': 40,\n",
       "         'KNIVES; DISPLAYED OUTSIDE CLOTHING/CARRY IN THE OPEN WITHOUT A LAWFUL PURPOSE': 72,\n",
       "         'CONSUMPTION OF ALCOHOL IN VEHICLE': 15,\n",
       "         'DEFECTIVE BREAKLIGHT': 3,\n",
       "         'NOT IN A BIKE LANE OR IN THE RIGHT HAND SIDE OF TRAFFIC': 1,\n",
       "         'NOISE (UNREASONABLE)': 34,\n",
       "         'UNLICENSED GENERAL VENDOR': 16,\n",
       "         'AIR PISTOL/RIFLE; SELL OR POSSESS': 26,\n",
       "         'IN A PUBLIC PLACE AND USES ABUSIVE/OBSCENE LANGUAGE OR MAKES AN OBSCENE GESTURE': 14,\n",
       "         'UNSOLICITED RESPONSE TO ACCIDENT SCENE': 1,\n",
       "         'UNREASONABLE NOISE; FROM ANY VEHICLE HORN': 21,\n",
       "         'UNLAWFULLY POSTING ADVERTISEMENTS': 7,\n",
       "         'SELL ALCOHOLIC BEVERAGES WITHOUT LICENSE': 24,\n",
       "         'FAIL TO COMPLY WITH TLC REGULATIONS': 6,\n",
       "         'UNREASONABLE NOISE (FROM SOUND REPRODUCTION DEVICE)': 2,\n",
       "         'LICENSE, OPERATE WITH SUSPENDED/REVOKED/NONE': 31,\n",
       "         'OPERATE BIKE ON SIDEWALK *(NOT A C SUMMONS)*': 4,\n",
       "         'RECKLESS OPERATION OF A BICYCLE *( C SUMMONS)*': 38,\n",
       "         'FAILURE TO SURRENDER LICENSE OR REGISTRATION': 5,\n",
       "         'FAILURE TO DISPLAY \"BUSINESS CERTIFICATE\"': 6,\n",
       "         'UNLAWFUL SALE OF CANNABIS': 5,\n",
       "         'NO TRIP SHEET': 3,\n",
       "         'NO JUNCTION BOX COVERS': 6,\n",
       "         'CURTAIN PLACED OVER EXIT DOOR': 1,\n",
       "         'EVICTION; UNLAWFUL (INTERRUPT ESSENTIAL SERVICES)': 6,\n",
       "         'DEFECTIVE HEADLIGHT': 5,\n",
       "         'NO NAME OR ADDRESS DISPLAYED': 34,\n",
       "         'DRIVER DOES NOT POSSESS \"FOR HIRE-VEHICLE\" LICENSE': 1,\n",
       "         'PROHIBITED SALE': 1,\n",
       "         'FAIL TO POST \"NO SMOKING\" SIGNS WHERE REQUIRED': 4,\n",
       "         'UNLAWFUL POSSESSION OF CANNABIS': 24,\n",
       "         'EXIT DOOR SWINGS IN': 1,\n",
       "         'CRUELTY TO ANIMAL(S)': 7,\n",
       "         'UNINSURED VEHICLE': 34,\n",
       "         'WAREHOUSING ALCOHOL WITHOUT A PERMIT': 43,\n",
       "         'PEDICAB WITHOUT EXTIOR SIGN OF RATES': 9,\n",
       "         'OTHER SANITARY CODE': 30,\n",
       "         'PEDICAB DRIVER LICENSE': 11,\n",
       "         'HIGHWAY/PARKWAY; UNAUTHORIZED TOW': 1,\n",
       "         'OTHER PARK REGS': 5,\n",
       "         'POSSESSION OF AN IMITATION PISTOL (TOY) THAT LOOKS REAL': 43,\n",
       "         'DISCON: OBSTRUCT PEDESTRIAN': 17,\n",
       "         'RESTRICTIONS ON THE OPERATION OF PEDICABS': 4,\n",
       "         'FAIL TO MAINTAIN FIRE EXTINGUISHER INSPECTION': 20,\n",
       "         'WITHOUT LAWFUL AUTHORITY, DISTURBS ANY LAWFUL ASSEMBLY OR MEETING OF PERSONS': 14,\n",
       "         'OTHER HEALTH CODE': 24,\n",
       "         'OBSTRUCTED VIEW INTO BAR': 9,\n",
       "         'JAYWALKING': 24,\n",
       "         'OTHER ENVIRONMENTAL CONSERVATION LAW': 2,\n",
       "         'POSSESSION OF ALCOHOL BY A MINOR': 10,\n",
       "         'ACCEPT ON HAIL': 30,\n",
       "         'UNLICENSED VEHICLE FOR HIRE': 22,\n",
       "         'DISOBEY TRANSIT SIGN': 44,\n",
       "         'OPEN HYDRANT': 5,\n",
       "         'UN-MOUNTED FIRE EXTINGUISHER': 15,\n",
       "         'PERMIT ON-PREMISE CONSUMPTION': 5,\n",
       "         'DAZ RULES VIOLATED  CHARACTER': 3,\n",
       "         'FOOD PROTECTION/STORAGE/TRANSP': 20,\n",
       "         'NO \"NO CHOKING\" SIGN IN FOOD ESTABLISHMENT': 1,\n",
       "         'SALE TO A MINOR (UNDER 21)': 13,\n",
       "         'PREVENT CLEAR VIEW INTO LIQUOR STORE': 2,\n",
       "         'OBSTRUCTED FIRE EXTINGUISHER': 4,\n",
       "         'SALE OF TOBACCO TO MINORS (UNDER 18 YEARS OLD)': 7,\n",
       "         'AGGRESSIVE PANHANDLING': 7,\n",
       "         'OBSTRUCTED VIEW': 1,\n",
       "         'PISTOL, TOY/IMITATION; UNLAWFUL SALE, USE, ETC.': 13,\n",
       "         'CONSUMPTION OF ALCOHOL IN PARK': 13,\n",
       "         'FIREWORKS': 1,\n",
       "         'PICK UP FROM BUS STOP': 21,\n",
       "         'CROSS MIDDLE OF BLOCK WITH LIGHT SIGNALS AT BOTH ENDS OF STREET': 3,\n",
       "         'UNLICENSED SECOND BAR': 4,\n",
       "         'POLICE MACE; UNLAWFUL POSSESSION': 26,\n",
       "         'SMOKING IN ELEVATOR': 4,\n",
       "         'GRAFFITI PROHIBITED; PUBLIC/PRIVATE BUILDING/PROPERTY (INCLUDES STICKER/DECAL)': 2,\n",
       "         'ADVERTISE AS HACK WITHOUT LICENSE': 10,\n",
       "         'UNLAWFUL PREVENTION OF PUBLIC ACCESS TO RECORDS': 2,\n",
       "         'ONLY 1 EXIT AND OCCUPIED BY MORE THAN 75 PEOPLE': 5,\n",
       "         'POLICE/PRESS CARD; UNLAWFUL USE OR POSSESSION OF': 5,\n",
       "         'SOLICITING AT SCENE; UNREASONABLE/UNNECESSARY': 2,\n",
       "         'TRIP SHEET; WITH REQUIRED TRIP ENTRIES AND READINGS': 1,\n",
       "         'UNLICENSED CABARET, DANCE HALL, OR CATERING HALL': 3,\n",
       "         'EMPLOY BOUNCER (SECURITY GUARD) WITHOUT VALID REGISTRATION CARD': 21,\n",
       "         'FAIL TO CLEAN CANINE WASTE': 1,\n",
       "         \"LICENSE, TOW OPERATOR'S; OPERATE/ASSIST WITHOUT\": 5,\n",
       "         'POSSESSION OF A WILD ANIMAL': 5,\n",
       "         'BICYCLE INFRACTION (COMMERCIAL)': 10,\n",
       "         'PEDESTRIAN ON ROADWAY': 25,\n",
       "         'CARRY/POSSESS IN PUBLIC; UNLOADED & UNCONCEALED': 4,\n",
       "         'DISCON: REFUSE LAWFUL ORDER': 28,\n",
       "         'OTHER PENAL LAW': 23,\n",
       "         'NO CERTIFICATE OF OCCUPANCY': 10,\n",
       "         'SPITTING': 11,\n",
       "         'AMMUNITION; UNLAWFUL SALE/PURCHASE': 9,\n",
       "         'FAILURE TO CONSPICUOUSLY POST \"SLA LICENSE\" IN A SUITABLE FRAME': 5,\n",
       "         'FAIL TO MAINTAIN PROPRIETARY SECURITY GUARD LICENSE': 6,\n",
       "         'IMPROPER STICKER': 16,\n",
       "         'PEDESTRIAN WALKING INTO TRAFFIC UNSAFELY': 5,\n",
       "         'NOISE (HORN/ALARM)': 6,\n",
       "         'FAIL TO COMPLY WITH THE DIRECTIONS OF A POLICE OFFICER': 4,\n",
       "         'PARKED MOTOR VEHICLE, SALE FROM': 2,\n",
       "         'AFTER HOURS CONSUMPTION': 2,\n",
       "         'SMOKING ANYPLACE WITH COMBUSTIBLES PRESENT (EX: GAS STATION)': 1,\n",
       "         'POSS. OF MACE': 12,\n",
       "         'PRICE, FAILS TO DISPLAY': 1,\n",
       "         'ENGINE IDLE; CAUSE/PERMIT MORE THAN 3 MINUTES': 1,\n",
       "         'SPITTING IN PUBLIC': 9,\n",
       "         'UNAUTHORIZED POSTING (SIGNS/FLYERS)': 1,\n",
       "         'SPEED/DRIVING DANGEROUS TO PASSENGER/PEDESTRIAN/OTHER VEHICLE': 2,\n",
       "         'SMOKING IN AN ENCLOSED SPACE FOR 50 OR MORE PEOPLE': 2,\n",
       "         'POSSESSION OF AIR PISTOL/RIFLE': 23,\n",
       "         'POLICE UNIFORM/EMBLEM; UNLAWFUL USE OF': 4,\n",
       "         'FAIL TO CHECK ID': 1,\n",
       "         'LITTERING PROHIBITED': 13,\n",
       "         'TAKE OFFS AND LANDING': 5,\n",
       "         'OTHER MULTIPLE DWELLING': 2,\n",
       "         'RULES': 2,\n",
       "         'TICKETS OUTSIDE DAZ': 5,\n",
       "         'EXIT LIGHT INOPERABLE': 8,\n",
       "         'UNREASONABLE NOISE; FROM MOTORCYCLE MUFFLER/EXHAUST (HEARD FROM 200FT AWAY)': 4,\n",
       "         'FIRE HYDRANT, NEAR': 1,\n",
       "         'BARBER/HAIRSTYLIST NOT WEARING OUTER COAT OR UNIFORM': 3,\n",
       "         'NO SMOKING SIGN POSTED': 5,\n",
       "         'MOTORCYCLE HELMET REQUIRED': 3,\n",
       "         'DOG: FAILURE TO REMOVE CANINE WASTE': 1,\n",
       "         'LICENSE, ENGAGE IN TOWING BUSINESS WITHOUT': 6,\n",
       "         'ALCOHOLIC BEVERAGE; CONSUME/POSSESS WITH INTENT TO CONSUME BY SELF/OTHERS': 7,\n",
       "         'FAILURE TO POST \"PREGNANCY WARNING SIGN\"': 8,\n",
       "         'OPERATE BICYCLE IN A RECKLESS MANNER': 3,\n",
       "         'BOUNCER (SECURITY GUARD) WITHOUT A VALID REGISTRATION CARD': 5,\n",
       "         'ENFORCEMENT': 2,\n",
       "         'LEAVING THE SCENE OF AN ACCIDENT (PROP. DAM.)': 3,\n",
       "         'CARRY/POSSESS IN PUBLIC; LOADED': 3,\n",
       "         'INSPECTION STKR. (MISSING/EXPIRED)': 1,\n",
       "         'NO SIGN STATING \"CIGARETTE(TOBACCO PRODUCTS)SALE TO PERSONS UNDER 18 PROHIBITED\"': 2,\n",
       "         'NO NYC LICENSE TO SELL CIGARETTES': 2,\n",
       "         'REFUSE INSPECTION BY POLICE': 6,\n",
       "         'PANHANDLING': 4,\n",
       "         'UNLAWFUL EVICTION': 6,\n",
       "         'ALCOHOL, UNDER INFLUENCE OF (MAY ENDANGER ANYONE/PROPERTY)': 2,\n",
       "         'SALE OF ALCOHOL TO A MINOR': 8,\n",
       "         'VENDOR: UNLICENSED': 2,\n",
       "         'COUNTERFEIT INSPECTION STICKER': 7,\n",
       "         'ALLOW GAMBLING': 3,\n",
       "         'STRIKE, SHOVE, KICK, OR THREATEN/ATTEMPT': 7,\n",
       "         'MOTORCYCLE (OTHER)': 2,\n",
       "         'SMOKING': 4,\n",
       "         'LIQUIDS (NOXIOUS); POUR/DISCHARGE': 4,\n",
       "         'POLICE RADIO IN AUTO (UNLESS PERMISSION OF POLICE COMMISSIONER IS GRANTED)': 2,\n",
       "         'FRAUDULENT ACCOSTING': 1,\n",
       "         'SIDEWALK, OBSTRUCTED': 4,\n",
       "         'VEHICLE IN PARK': 6,\n",
       "         'NO CPR KIT SIGN': 2,\n",
       "         'USING EXTENSION CORD AS PERMANENT WIRING': 3,\n",
       "         'UNLICENSED SIDEWALK CAFE': 1,\n",
       "         'POSSESSION OF A BOX CUTTER (20 YES OLD OR YOUNGER)': 1,\n",
       "         'NO CPR KIT': 2,\n",
       "         'DISPLAY OF PEDICAB DRIVER?S IDENTIFICATION': 9,\n",
       "         'POSSESSION OF A POLICE EMBLEM': 4,\n",
       "         'FAIL TO MAINTAIN EMERGENCY LIGHTING': 8,\n",
       "         'CONTAMINATED LIQUORS (EX: FRUIT FLIES IN BOTTLE)': 2,\n",
       "         'NO PREGNANCY WARNING SIGN': 1,\n",
       "         'SALE OUT OF CLASS': 3,\n",
       "         'FAIL TO POST SIGN - \"PROHIBITED SALE TO MINOR/INTOX PERSON\"': 4,\n",
       "         'UNREASONABLE NOISE FROM A LICENSED PREMISE': 2,\n",
       "         'VENDOR: FAIL TO DISPLAY PRICES': 1,\n",
       "         'SELLING OUTSIDE DAZ': 5,\n",
       "         'OBSTRUCTING TRAFFIC': 2,\n",
       "         'UNAUTHORIZED FOR HIRE': 1,\n",
       "         'DISORDERLY PERSON IN PARK': 1,\n",
       "         'PRICES OF ALCOHOL NOT DISPLAYED': 2,\n",
       "         'OTHER NYS TRANSPORTATION': 19,\n",
       "         'SOUND REPRODUCTION DEVICE-NO PERMIT': 9,\n",
       "         'TOW TRUCK; RATE/INFO; SIGN NOT POSTED': 2,\n",
       "         'PLACE/TIME PROHIBITED': 1,\n",
       "         'FAIL TO DISPLAY SERVICE PRICES': 3,\n",
       "         'VENDOR: DISP MERCHANDISE ON SIDEWALK': 1,\n",
       "         'POSSESSION OF FIREWORKS': 3,\n",
       "         'OVER CROWDED BAR': 2,\n",
       "         'NO CIGARETTE LICENSE': 1,\n",
       "         'OTHER BUSINESS LAW': 7,\n",
       "         'PANHANDLING WITHIN 10 FT. OF BANK/ATM/CHECK CASHING BUSINESS': 3,\n",
       "         'REFUSAL TO TOW; WITHIN NYC, UNJUSTIFIABLE (REPORT OF VIOLATION PREPARED)': 2,\n",
       "         'SERIOUSLY ANNOY WITHOUT A LEGITIMATE PURPOSE': 6,\n",
       "         'MAP, NYC STREET; INDEX OF 5 BOROUGHS': 1,\n",
       "         'DOG: UNLEASHED': 4,\n",
       "         'UNLICENSED VENDOR': 3,\n",
       "         'UNLEASHED DOG WITH LEASH OVER 6 FEET': 2,\n",
       "         'SALE TO A MINOR': 3,\n",
       "         'RECKLESS OPERATION (REPORT OF VIOLATION PREPARED)': 1,\n",
       "         'POLICE RADIO OR EQUIPMENT': 1,\n",
       "         'POSS. OF RADIO ABLE TO RECEIVE POLICE FREQUENCIES W/O PERMIT FROM POL COMMIS.': 1,\n",
       "         'FAIL TO COMPLY WITH ORDER': 1,\n",
       "         'UNSECURED COMPRESSED GAS TANKS': 6,\n",
       "         'SALE OF LOOSE CIGARETTES': 2,\n",
       "         'INSPECTION; PEDICAB REGISTRATION PLATE': 3,\n",
       "         'UNTAXED BEVERAGE POSSESS/CONTROL': 4,\n",
       "         'TRIP SHEET; WITH REQUIRED IDENTIFICATION, DISPATCH INFO AND READINGS': 5,\n",
       "         'FIRE HYDRANT, OBSTRUCT': 3,\n",
       "         'POSSESSION OF A POLICE SCANNER': 3,\n",
       "         'BOOK TO BE OPEN TO INSPECTION': 2,\n",
       "         'STREET; OBSTRUCT WITHOUT PERMIT': 2,\n",
       "         'OPEN FIRE (CAUSE OR PERMIT)': 3,\n",
       "         'HANDCUFFS; UNLAWFUL POSSESSION OF (INCLUDES DISP. CINCH & THUMB CUFFS/LEG IRONS)': 2,\n",
       "         'VEHICLE; RIFLE/SHOTGUN/AMMO IN': 1,\n",
       "         'REFUSE TO TRANSPORT (WITHIN NYC)': 1,\n",
       "         'CROSSWALK': 1,\n",
       "         'SALE TO AN INTOXICATED PERSON': 2,\n",
       "         'LOITERING (UNCLASSIFIED)': 5,\n",
       "         'STOP SIGN': 1,\n",
       "         'NO TOW LICENSE': 4,\n",
       "         \"CHAUFFER'S LICENSE, OPERATE WITHOUT (NYS OR SIMILAR OF RESIDENT STATE)\": 1,\n",
       "         'LITTER FROM A VEHICLE': 1,\n",
       "         'NO SMOKING SIGNS NOT POSTED': 1,\n",
       "         'SALE AFTER HOURS (4AM-12PM, SUN)': 1,\n",
       "         'FIRE (WITHOUT PERMIT)': 3,\n",
       "         'SIDEWALK; MERCHANDISE ON DISPLAY; OR IMPROPER STAND': 1,\n",
       "         'CROSSWALK/DRIVEWAY/ETC, WITHIN 10 FEET': 1,\n",
       "         'NO \"CERTIFICATE OF OCCUPANCY\"': 2,\n",
       "         'FAILURE TO DISPLAY \"LIQUOR LICENSE\"': 3,\n",
       "         'LOITERING (BEGGING)': 1,\n",
       "         'NO DOG LICENSE (COLLAR)': 1,\n",
       "         'REQUIRED EQUIPMENT OF PEDICABS': 1,\n",
       "         'OCCUPIED BY OVER 75 PATRONS & NO SPRINKLER SYSTEM': 1,\n",
       "         'DRIVER CANNOT PRODUCE PROOF OF INSURANCE': 3,\n",
       "         'BROKEN WINDSHIELD': 1,\n",
       "         'NO EXIT SIGN AT DOOR OR NOT CLEARLY MARKED': 1,\n",
       "         'DESTROY PLANTS/TREES/SHRUBS/FLOWERS': 1,\n",
       "         '20-217(I)': 1,\n",
       "         'OBSTRUCTION OF VEHICLE/PEDESTRIAN TRAFFIC': 1,\n",
       "         'UNLICENSED CABARET': 3,\n",
       "         'BUILD/MAINTAIN/USE; OTHER THAN DESIGNATED LOCATION OR WITHOUT A PERMIT': 1,\n",
       "         'SALE OF TOBACCO/ROLLING PAPERS TO MINOR': 3,\n",
       "         'PICK-UP FARE IN BUS STOP': 1,\n",
       "         'LITTERNG': 1,\n",
       "         'AUTHORIZED FIRE; NOT PROPERLY CONTAINED': 1,\n",
       "         'EXIT NOT TO STREET OR BLOCKED FROM STREET': 5,\n",
       "         'DEFECTIVE REFLECTOR': 2,\n",
       "         'RECEIPT; FAIL TO PROVIDE IF REQUESTED': 1,\n",
       "         'DISPLAY; UNLAWFULLY': 1,\n",
       "         'VENDOR WITHOUT A LICENSE (EXCEPT NEWSPAPERS, PERIODICALS, BOOKS/PAMPHLETS, ETC)': 1,\n",
       "         'TRANSIT FACILITY FOR COMMERCIAL OR ENTERTAINMENT PURPOSE': 1,\n",
       "         'DISCON: DISTURB LAWFUL ASSEMBLY': 1,\n",
       "         'UNLEASHED ANIMAL': 1,\n",
       "         'FAIL TO SECURE WORKERS COMP INS.': 1,\n",
       "         'DRIVE ON SIDEWALK': 1,\n",
       "         'SMOKING IN A STORE': 1,\n",
       "         'NO HELMET': 1,\n",
       "         'LOITERING (SCHOOL)': 2,\n",
       "         'POSSESSION OF A LASER POINTER (18 YRS OLD OR YOUNGER IN PUBLIC PLACE)': 3,\n",
       "         'SALE/PURCHASE/USE OF ALCOHOL BY MINOR': 2,\n",
       "         'GRAFFITI; POSSESSION OF A BROAD TIPPED MARKER': 1,\n",
       "         'DUMPING': 1,\n",
       "         'SAFETY BELT (NO CHILD SEAT)': 1,\n",
       "         'FAIL TO DISPLAY BARBERS/BARBERSHOPS LICENSE': 1,\n",
       "         'RESTRICTIONS; FAIL TO COMPLY WITH': 1,\n",
       "         'POSSESSION OF A SIREN': 2,\n",
       "         'FAILURE TO YIELD TO PEDESTRIAN IN CROSSWALK': 1,\n",
       "         'UNLICENSED REPAIR SHOP': 1,\n",
       "         'PERMIT UNLICENSED': 4,\n",
       "         'IN PUBLIC UNDER DRUGS': 2,\n",
       "         'UNINSURED VEHICLES FOR HIRE': 1,\n",
       "         'PEDI CAB WITHSEATING FOR MORE THAN 3 PASSENGERS': 1,\n",
       "         'UNREASONABLE NOISE; FROM AN ANIMAL(10PM-7AM)CONTINUOUSLY FOR 5MIN OR MORE': 1,\n",
       "         'LICENSE/RECORDS/DOCUMENTS; FAIL TO PRODUCE WHEN REQUESTED': 2,\n",
       "         'DISCON: OBSCENE LANGUAGE/GESTURE': 3,\n",
       "         'DCA PEDICAB DRIVERS LICENSE NOT VISABLE': 1,\n",
       "         'IMPROPER TURN': 2,\n",
       "         'GRAFFITI; POSSESSION OF AEROSOL SPRAY CAN': 1,\n",
       "         'FAIL TO COMPLY WITH VACATE ORDER': 1,\n",
       "         'BOX CUTTER': 1,\n",
       "         'TOW:SOLICITING TOW AT SCENE OF ACCIDENT': 1,\n",
       "         'PERMIT DRUG ACTIVITY': 1,\n",
       "         'LOCKED/BOLTED/FASTENED DOOR': 1,\n",
       "         'FAIL TO YIELD AT LEFT TURN': 1,\n",
       "         'EXIT DOOR BLOCKED': 1,\n",
       "         'INVALID PROOF OF INSUR.': 1,\n",
       "         'RADIO, TWO-WAY; PROHIBITED WITHOUT PERMIT': 1,\n",
       "         'UNREASONABLE NOISE; FROM AN ANIMAL(7AM-10PM)CONTINUOUSLY FOR 10MIN OR MORE': 1,\n",
       "         'OTHER NYS EDUCATION LAW': 1,\n",
       "         'RIDING IN OTHER THAN PASSENGER COMPARTMENT': 1,\n",
       "         'CURB, AWAY FROM': 1,\n",
       "         'LOITERING (TRANSPORTATION FACILITY)': 1,\n",
       "         'LITTERING (DUMPING RUBBISH AND REFUSE)': 1,\n",
       "         'FOLLOW IN A PUBLIC PLACE': 1,\n",
       "         'OVERCROWDED': 1,\n",
       "         'PAVEMENT MARKING (DISOBEY)': 1,\n",
       "         'DUMPING BY; OPERATOR OR OWNER OF A VEHICLE': 1,\n",
       "         'SMOKING IN A SUPERMARKET': 1})"
      ]
     },
     "execution_count": 17,
     "metadata": {},
     "output_type": "execute_result"
    }
   ],
   "source": [
    "ds_full.distinct('OFFENSE_DESCRIPTION')"
   ]
  },
  {
   "cell_type": "code",
   "execution_count": 18,
   "metadata": {
    "scrolled": true
   },
   "outputs": [
    {
     "data": {
      "text/plain": [
       "[('NYS TRANS', 14066),\n",
       " ('MARIJUANA', 3689),\n",
       " ('VTL', 3593),\n",
       " ('TLC', 1080),\n",
       " ('OTHER ABC', 658),\n",
       " ('TRESPASS', 621),\n",
       " ('DISORDERLY CONDUCT', 489),\n",
       " ('ALCOHOL', 443),\n",
       " ('ABC', 212),\n",
       " ('VENDING', 191)]"
      ]
     },
     "execution_count": 18,
     "metadata": {},
     "output_type": "execute_result"
    }
   ],
   "source": [
    "# Print the most frequent values in column 'PD_DESC'\n",
    "\n",
    "profiles.column('SUMMONS_CATEGORY_TYPE').get('topValues')"
   ]
  },
  {
   "cell_type": "code",
   "execution_count": 19,
   "metadata": {},
   "outputs": [
    {
     "data": {
      "text/plain": [
       "Counter({'': 8936,\n",
       "         'VTL': 3593,\n",
       "         'KNIFE': 143,\n",
       "         'ABC': 212,\n",
       "         'NYS TRANS': 14066,\n",
       "         'DISORDERLY CONDUCT': 489,\n",
       "         'OTHER ABC': 658,\n",
       "         'TLC': 1080,\n",
       "         'TRESPASS': 621,\n",
       "         'MARIJUANA': 3689,\n",
       "         'ALCOHOL': 443,\n",
       "         'AIR GUN': 103,\n",
       "         'GAMBLING': 35,\n",
       "         'PARK REGS': 47,\n",
       "         'URINATING': 68,\n",
       "         'FIREWORKS': 155,\n",
       "         'VENDING': 191,\n",
       "         'KEY': 117,\n",
       "         'OPEN FIRE': 14,\n",
       "         'NOISE': 174,\n",
       "         'HARASSMENT 2': 20,\n",
       "         'OTHER ADMIN CODE': 87,\n",
       "         'LITTERING': 59,\n",
       "         'BUSINESS': 45,\n",
       "         'BIKE': 69,\n",
       "         'TOW TRUCK': 7,\n",
       "         'EXPOSURE': 8,\n",
       "         'POSTING ADVERTISEMENTS': 8,\n",
       "         'OTHER PARK REG': 5,\n",
       "         'TRAFFIC REGS': 29,\n",
       "         'OPEN HYDRANT': 5,\n",
       "         'SANITARY CODE': 20,\n",
       "         'SMOKING': 10,\n",
       "         'OTHER': 2,\n",
       "         'DOG': 8,\n",
       "         'OTHER PENAL LAW': 23,\n",
       "         'SPITTING': 20,\n",
       "         'AMMO': 9,\n",
       "         'AVIGATION': 5,\n",
       "         'PANHANDLING': 4,\n",
       "         'LITTERNG': 3,\n",
       "         'EDUCATION LAW': 4,\n",
       "         'LOITERING': 10,\n",
       "         'DUMPING': 1,\n",
       "         'IN PUBLIC UNDER DRUGS': 2})"
      ]
     },
     "execution_count": 19,
     "metadata": {},
     "output_type": "execute_result"
    }
   ],
   "source": [
    "ds_full.distinct('SUMMONS_CATEGORY_TYPE')"
   ]
  },
  {
   "cell_type": "code",
   "execution_count": 20,
   "metadata": {
    "scrolled": true
   },
   "outputs": [
    {
     "data": {
      "text/plain": [
       "Counter({'': 8936,\n",
       "         'VTL': 3139,\n",
       "         'Administrative Code': 2502,\n",
       "         'ABC': 870,\n",
       "         'NYS Transportation': 14066,\n",
       "         'Penal Law': 5060,\n",
       "         'Park Regs': 79,\n",
       "         'Tax Law': 475,\n",
       "         'General Business Law': 50,\n",
       "         'Health Code': 64,\n",
       "         'Traffic Regs': 29,\n",
       "         'Sanitary Code (NYS)': 20,\n",
       "         'Education Law (NYS)': 4,\n",
       "         'TLC': 2,\n",
       "         'NYS Workers Comp': 1})"
      ]
     },
     "execution_count": 20,
     "metadata": {},
     "output_type": "execute_result"
    }
   ],
   "source": [
    "ds_full.distinct('LAW_DESCRIPTION')"
   ]
  },
  {
   "cell_type": "code",
   "execution_count": 21,
   "metadata": {},
   "outputs": [],
   "source": [
    "def validate_law_cat_cd(sourceValue):\n",
    "    UNKNOWN = \"UNKNOWN\"\n",
    "    \n",
    "    try:\n",
    "        values = ['VTL',\n",
    "         'Administrative Code',\n",
    "         'ABC',\n",
    "         'NYS Transportation',\n",
    "         'Penal Law',\n",
    "         'Park Regs',\n",
    "         'Tax Law',\n",
    "         'General Business Law',\n",
    "         'Health Code',\n",
    "         'Traffic Regs',\n",
    "         'Sanitary Code (NYS)',\n",
    "         'Education Law (NYS)',\n",
    "         'TLC',\n",
    "         'NYS Workers Comp',\n",
    "] \n",
    "        \n",
    "        if sourceValue in values:\n",
    "            return sourceValue\n",
    "        else:\n",
    "            return UNKNOWN\n",
    "    except:\n",
    "        return UNKNOWN\n",
    "\n",
    "    \n",
    "ds_full = ds_full.update('LAW_DESCRIPTION', validate_law_cat_cd)"
   ]
  },
  {
   "cell_type": "code",
   "execution_count": 22,
   "metadata": {
    "scrolled": true
   },
   "outputs": [
    {
     "data": {
      "text/plain": [
       "Counter({'BRONX': 8136,\n",
       "         'BROOKLYN': 15956,\n",
       "         'QUEENS': 5797,\n",
       "         'STATEN ISLAND': 655,\n",
       "         'MANHATTAN': 4597,\n",
       "         'NEW YORK': 156})"
      ]
     },
     "execution_count": 22,
     "metadata": {},
     "output_type": "execute_result"
    }
   ],
   "source": [
    "ds_full.distinct('BORO')"
   ]
  },
  {
   "cell_type": "code",
   "execution_count": 23,
   "metadata": {
    "scrolled": true
   },
   "outputs": [
    {
     "data": {
      "text/plain": [
       "[('0', 32510), ('2', 1562), ('1', 1225)]"
      ]
     },
     "execution_count": 23,
     "metadata": {},
     "output_type": "execute_result"
    }
   ],
   "source": [
    "profiles.column('JURISDICTION_CODE').get('topValues')"
   ]
  },
  {
   "cell_type": "code",
   "execution_count": 24,
   "metadata": {
    "scrolled": false
   },
   "outputs": [
    {
     "data": {
      "text/plain": [
       "Counter({'2': 1562, '0': 32510, '1': 1225})"
      ]
     },
     "execution_count": 24,
     "metadata": {},
     "output_type": "execute_result"
    }
   ],
   "source": [
    "ds_full.distinct('JURISDICTION_CODE')"
   ]
  },
  {
   "cell_type": "code",
   "execution_count": 25,
   "metadata": {},
   "outputs": [
    {
     "data": {
      "text/html": [
       "<div>\n",
       "<style scoped>\n",
       "    .dataframe tbody tr th:only-of-type {\n",
       "        vertical-align: middle;\n",
       "    }\n",
       "\n",
       "    .dataframe tbody tr th {\n",
       "        vertical-align: top;\n",
       "    }\n",
       "\n",
       "    .dataframe thead th {\n",
       "        text-align: right;\n",
       "    }\n",
       "</style>\n",
       "<table border=\"1\" class=\"dataframe\">\n",
       "  <thead>\n",
       "    <tr style=\"text-align: right;\">\n",
       "      <th></th>\n",
       "      <th>min</th>\n",
       "      <th>max</th>\n",
       "    </tr>\n",
       "  </thead>\n",
       "  <tbody>\n",
       "    <tr>\n",
       "      <th>int</th>\n",
       "      <td>914216</td>\n",
       "      <td>1066108</td>\n",
       "    </tr>\n",
       "  </tbody>\n",
       "</table>\n",
       "</div>"
      ],
      "text/plain": [
       "        min      max\n",
       "int  914216  1066108"
      ]
     },
     "execution_count": 25,
     "metadata": {},
     "output_type": "execute_result"
    }
   ],
   "source": [
    "profiles.minmax('X_COORDINATE_CD')"
   ]
  },
  {
   "cell_type": "code",
   "execution_count": 26,
   "metadata": {},
   "outputs": [
    {
     "data": {
      "text/html": [
       "<div>\n",
       "<style scoped>\n",
       "    .dataframe tbody tr th:only-of-type {\n",
       "        vertical-align: middle;\n",
       "    }\n",
       "\n",
       "    .dataframe tbody tr th {\n",
       "        vertical-align: top;\n",
       "    }\n",
       "\n",
       "    .dataframe thead th {\n",
       "        text-align: right;\n",
       "    }\n",
       "</style>\n",
       "<table border=\"1\" class=\"dataframe\">\n",
       "  <thead>\n",
       "    <tr style=\"text-align: right;\">\n",
       "      <th></th>\n",
       "      <th>min</th>\n",
       "      <th>max</th>\n",
       "    </tr>\n",
       "  </thead>\n",
       "  <tbody>\n",
       "    <tr>\n",
       "      <th>int</th>\n",
       "      <td>122552</td>\n",
       "      <td>271578</td>\n",
       "    </tr>\n",
       "  </tbody>\n",
       "</table>\n",
       "</div>"
      ],
      "text/plain": [
       "        min     max\n",
       "int  122552  271578"
      ]
     },
     "execution_count": 26,
     "metadata": {},
     "output_type": "execute_result"
    }
   ],
   "source": [
    "profiles.minmax('Y_COORDINATE_CD')"
   ]
  },
  {
   "cell_type": "code",
   "execution_count": 27,
   "metadata": {
    "scrolled": true
   },
   "outputs": [
    {
     "data": {
      "text/plain": [
       "[('UNKNOWN', 17500),\n",
       " ('25-44', 9317),\n",
       " ('18-24', 4678),\n",
       " ('45-64', 3054),\n",
       " ('<18', 494),\n",
       " ('65+', 254)]"
      ]
     },
     "execution_count": 27,
     "metadata": {},
     "output_type": "execute_result"
    }
   ],
   "source": [
    "profiles.column('AGE_GROUP').get('topValues')"
   ]
  },
  {
   "cell_type": "code",
   "execution_count": 28,
   "metadata": {},
   "outputs": [
    {
     "data": {
      "text/plain": [
       "Counter({'25-44': 9317,\n",
       "         'UNKNOWN': 17500,\n",
       "         '45-64': 3054,\n",
       "         '65+': 254,\n",
       "         '18-24': 4678,\n",
       "         '<18': 494})"
      ]
     },
     "execution_count": 28,
     "metadata": {},
     "output_type": "execute_result"
    }
   ],
   "source": [
    "ds_full.distinct('AGE_GROUP')"
   ]
  },
  {
   "cell_type": "code",
   "execution_count": 29,
   "metadata": {
    "scrolled": true
   },
   "outputs": [
    {
     "data": {
      "text/plain": [
       "[('BLACK', 8707),\n",
       " ('WHITE HISPANIC', 4474),\n",
       " ('BLACK HISPANIC', 1764),\n",
       " ('WHITE', 1217),\n",
       " ('ASIAN / PACIFIC ISLANDER', 1217),\n",
       " ('UNKNOWN', 276),\n",
       " ('AMERICAN INDIAN/ALASKAN NATIVE', 143),\n",
       " ('OTHER', 62)]"
      ]
     },
     "execution_count": 29,
     "metadata": {},
     "output_type": "execute_result"
    }
   ],
   "source": [
    "profiles.column('RACE').get('topValues')"
   ]
  },
  {
   "cell_type": "code",
   "execution_count": 30,
   "metadata": {},
   "outputs": [
    {
     "data": {
      "text/plain": [
       "Counter({'BLACK': 8707,\n",
       "         '': 17437,\n",
       "         'WHITE HISPANIC': 4474,\n",
       "         'WHITE': 1217,\n",
       "         'OTHER': 62,\n",
       "         'BLACK HISPANIC': 1764,\n",
       "         'UNKNOWN': 276,\n",
       "         'ASIAN / PACIFIC ISLANDER': 1217,\n",
       "         'AMERICAN INDIAN/ALASKAN NATIVE': 143})"
      ]
     },
     "execution_count": 30,
     "metadata": {},
     "output_type": "execute_result"
    }
   ],
   "source": [
    "ds_full.distinct('RACE')"
   ]
  },
  {
   "cell_type": "code",
   "execution_count": 31,
   "metadata": {},
   "outputs": [],
   "source": [
    "def validate_race(sourceValue):\n",
    "    UNKNOWN = \"UNKNOWN\"\n",
    "    \n",
    "    try:\n",
    "        values = [\"UNKNOWN\", \"WHITE HISPANIC\", \"BLACK\", \"BLACK HISPANIC\", \"WHITE\", \"ASIAN / PACIFIC ISLANDER\",\"AMERICAN INDIAN/ALASKAN NATIVE\", \"OTHER\"]\n",
    "        \n",
    "        if sourceValue in values:\n",
    "            return sourceValue\n",
    "        else:\n",
    "            return UNKNOWN\n",
    "    except:\n",
    "        return UNKNOWN\n",
    "\n",
    "    \n",
    "ds_full = ds_full.update('RACE', validate_race)"
   ]
  },
  {
   "cell_type": "code",
   "execution_count": 32,
   "metadata": {
    "scrolled": true
   },
   "outputs": [
    {
     "data": {
      "text/plain": [
       "[('M', 15830), ('F', 1978), ('U', 53)]"
      ]
     },
     "execution_count": 32,
     "metadata": {},
     "output_type": "execute_result"
    }
   ],
   "source": [
    "profiles.column('SEX').get('topValues')"
   ]
  },
  {
   "cell_type": "code",
   "execution_count": 33,
   "metadata": {},
   "outputs": [
    {
     "data": {
      "text/plain": [
       "Counter({'M': 15830, '': 17436, 'F': 1978, 'U': 53})"
      ]
     },
     "execution_count": 33,
     "metadata": {},
     "output_type": "execute_result"
    }
   ],
   "source": [
    "ds_full.distinct('SEX')"
   ]
  },
  {
   "cell_type": "code",
   "execution_count": 34,
   "metadata": {},
   "outputs": [],
   "source": [
    "def validate_sex(sourceValue):\n",
    "    UNKNOWN = \"U\"\n",
    "    \n",
    "    try:\n",
    "        values = [\"M\", \"F\", \"U\"] \n",
    "        \n",
    "        if sourceValue in values:\n",
    "            return sourceValue\n",
    "        else:\n",
    "            return UNKNOWN\n",
    "    except:\n",
    "        return UNKNOWN\n",
    "\n",
    "    \n",
    "ds_full = ds_full.update('SEX', validate_sex)"
   ]
  },
  {
   "cell_type": "code",
   "execution_count": 35,
   "metadata": {},
   "outputs": [
    {
     "data": {
      "text/html": [
       "<div>\n",
       "<style scoped>\n",
       "    .dataframe tbody tr th:only-of-type {\n",
       "        vertical-align: middle;\n",
       "    }\n",
       "\n",
       "    .dataframe tbody tr th {\n",
       "        vertical-align: top;\n",
       "    }\n",
       "\n",
       "    .dataframe thead th {\n",
       "        text-align: right;\n",
       "    }\n",
       "</style>\n",
       "<table border=\"1\" class=\"dataframe\">\n",
       "  <thead>\n",
       "    <tr style=\"text-align: right;\">\n",
       "      <th></th>\n",
       "      <th>min</th>\n",
       "      <th>max</th>\n",
       "    </tr>\n",
       "  </thead>\n",
       "  <tbody>\n",
       "    <tr>\n",
       "      <th>float</th>\n",
       "      <td>40.502784</td>\n",
       "      <td>40.912057</td>\n",
       "    </tr>\n",
       "  </tbody>\n",
       "</table>\n",
       "</div>"
      ],
      "text/plain": [
       "             min        max\n",
       "float  40.502784  40.912057"
      ]
     },
     "execution_count": 35,
     "metadata": {},
     "output_type": "execute_result"
    }
   ],
   "source": [
    "profiles.minmax('Latitude')"
   ]
  },
  {
   "cell_type": "code",
   "execution_count": 36,
   "metadata": {},
   "outputs": [],
   "source": [
    "def validate_lat(sourceValue):\n",
    "    UNKNOWN = -999\n",
    "    \n",
    "    try:\n",
    "        if sourceValue >= 40 and sourceValue <= 41:  \n",
    "            return sourceValue\n",
    "        else:\n",
    "            return UNKNOWN\n",
    "    except:\n",
    "        return UNKNOWN\n",
    "\n",
    "    \n",
    "ds_full = ds_full.update('Latitude', validate_lat)"
   ]
  },
  {
   "cell_type": "code",
   "execution_count": 37,
   "metadata": {},
   "outputs": [
    {
     "data": {
      "text/html": [
       "<div>\n",
       "<style scoped>\n",
       "    .dataframe tbody tr th:only-of-type {\n",
       "        vertical-align: middle;\n",
       "    }\n",
       "\n",
       "    .dataframe tbody tr th {\n",
       "        vertical-align: top;\n",
       "    }\n",
       "\n",
       "    .dataframe thead th {\n",
       "        text-align: right;\n",
       "    }\n",
       "</style>\n",
       "<table border=\"1\" class=\"dataframe\">\n",
       "  <thead>\n",
       "    <tr style=\"text-align: right;\">\n",
       "      <th></th>\n",
       "      <th>min</th>\n",
       "      <th>max</th>\n",
       "    </tr>\n",
       "  </thead>\n",
       "  <tbody>\n",
       "    <tr>\n",
       "      <th>float</th>\n",
       "      <td>-74.251831</td>\n",
       "      <td>-73.704627</td>\n",
       "    </tr>\n",
       "  </tbody>\n",
       "</table>\n",
       "</div>"
      ],
      "text/plain": [
       "             min        max\n",
       "float -74.251831 -73.704627"
      ]
     },
     "execution_count": 37,
     "metadata": {},
     "output_type": "execute_result"
    }
   ],
   "source": [
    "profiles.minmax('Longitude')"
   ]
  },
  {
   "cell_type": "code",
   "execution_count": 38,
   "metadata": {},
   "outputs": [],
   "source": [
    "def validate_long(sourceValue):\n",
    "    UNKNOWN = -999\n",
    "    \n",
    "    try:\n",
    "        if sourceValue >= -74 and sourceValue <= -73:  \n",
    "            return sourceValue\n",
    "        else:\n",
    "            return UNKNOWN\n",
    "    except:\n",
    "        return UNKNOWN\n",
    "\n",
    "    \n",
    "ds_full = ds_full.update('Latitude', validate_long)"
   ]
  },
  {
   "cell_type": "code",
   "execution_count": 39,
   "metadata": {
    "scrolled": true
   },
   "outputs": [
    {
     "data": {
      "text/html": [
       "<div>\n",
       "<style scoped>\n",
       "    .dataframe tbody tr th:only-of-type {\n",
       "        vertical-align: middle;\n",
       "    }\n",
       "\n",
       "    .dataframe tbody tr th {\n",
       "        vertical-align: top;\n",
       "    }\n",
       "\n",
       "    .dataframe thead th {\n",
       "        text-align: right;\n",
       "    }\n",
       "</style>\n",
       "<table border=\"1\" class=\"dataframe\">\n",
       "  <thead>\n",
       "    <tr style=\"text-align: right;\">\n",
       "      <th></th>\n",
       "      <th>min</th>\n",
       "      <th>max</th>\n",
       "    </tr>\n",
       "  </thead>\n",
       "  <tbody>\n",
       "    <tr>\n",
       "      <th>str</th>\n",
       "      <td>POINT (-73.70462716899993 40.735370798000076)</td>\n",
       "      <td>POINT (-74.25183113799993 40.50278363800004)</td>\n",
       "    </tr>\n",
       "  </tbody>\n",
       "</table>\n",
       "</div>"
      ],
      "text/plain": [
       "                                               min  \\\n",
       "str  POINT (-73.70462716899993 40.735370798000076)   \n",
       "\n",
       "                                              max  \n",
       "str  POINT (-74.25183113799993 40.50278363800004)  "
      ]
     },
     "execution_count": 39,
     "metadata": {},
     "output_type": "execute_result"
    }
   ],
   "source": [
    "profiles.minmax('New Georeferenced Column')"
   ]
  },
  {
   "cell_type": "code",
   "execution_count": 40,
   "metadata": {},
   "outputs": [],
   "source": [
    "SELECTED_COLUMNS = [\\\n",
    "    'SUMMONS_KEY',\\\n",
    "    'SUMMONS_DATE',\\\n",
    "    'OFFENSE_DESCRIPTION',\\\n",
    "    'LAW_SECTION_NUMBER',\\\n",
    "    'LAW_DESCRIPTION',\\\n",
    "    'SUMMONS_CATEGORY_TYPE',\\\n",
    "    'AGE_GROUP',\\\n",
    "    'SEX',\\\n",
    "    'RACE',\\\n",
    "    'JURISDICTION_CODE',\\\n",
    "    'BORO',\\\n",
    "    'PRECINCT_OF_OCCUR',\\\n",
    "    'X_COORDINATE_CD',\\\n",
    "    'Y_COORDINATE_CD',\\\n",
    "    'Latitude',\\\n",
    "    'Longitude',\\\n",
    "    'New Georeferenced Column',\\\n",
    "]\n",
    "\n",
    "ds_full = ds_full.select(SELECTED_COLUMNS)"
   ]
  },
  {
   "cell_type": "code",
   "execution_count": 41,
   "metadata": {},
   "outputs": [
    {
     "data": {
      "text/plain": [
       "<openclean.pipeline.DataPipeline at 0x7fcf98b7db80>"
      ]
     },
     "execution_count": 41,
     "metadata": {},
     "output_type": "execute_result"
    }
   ],
   "source": [
    "ds_full"
   ]
  },
  {
   "cell_type": "markdown",
   "metadata": {},
   "source": [
    "# VALIDATING DATA AFTER CLEANING"
   ]
  },
  {
   "cell_type": "code",
   "execution_count": 42,
   "metadata": {},
   "outputs": [],
   "source": [
    "data_df = pd.read_csv(\"NYPD-YTD-Criminal-Summons-Summary-Dashboard-2.csv\")"
   ]
  },
  {
   "cell_type": "code",
   "execution_count": 43,
   "metadata": {},
   "outputs": [
    {
     "name": "stdout",
     "output_type": "stream",
     "text": [
      "<class 'pandas.core.frame.DataFrame'>\n",
      "RangeIndex: 35297 entries, 0 to 35296\n",
      "Data columns (total 17 columns):\n",
      " #   Column                    Non-Null Count  Dtype  \n",
      "---  ------                    --------------  -----  \n",
      " 0   SUMMONS_KEY               35297 non-null  int64  \n",
      " 1   SUMMONS_DATE              35297 non-null  object \n",
      " 2   OFFENSE_DESCRIPTION       35297 non-null  object \n",
      " 3   LAW_SECTION_NUMBER        35297 non-null  object \n",
      " 4   LAW_DESCRIPTION           26361 non-null  object \n",
      " 5   SUMMONS_CATEGORY_TYPE     26361 non-null  object \n",
      " 6   AGE_GROUP                 35297 non-null  object \n",
      " 7   SEX                       17861 non-null  object \n",
      " 8   RACE                      17860 non-null  object \n",
      " 9   JURISDICTION_CODE         35297 non-null  int64  \n",
      " 10  BORO                      35297 non-null  object \n",
      " 11  PRECINCT_OF_OCCUR         35297 non-null  int64  \n",
      " 12  X_COORDINATE_CD           35116 non-null  float64\n",
      " 13  Y_COORDINATE_CD           35116 non-null  float64\n",
      " 14  Latitude                  35116 non-null  float64\n",
      " 15  Longitude                 35116 non-null  float64\n",
      " 16  New Georeferenced Column  35116 non-null  object \n",
      "dtypes: float64(4), int64(3), object(10)\n",
      "memory usage: 4.6+ MB\n"
     ]
    }
   ],
   "source": [
    "data_df.info()"
   ]
  },
  {
   "cell_type": "code",
   "execution_count": 44,
   "metadata": {},
   "outputs": [
    {
     "data": {
      "text/html": [
       "<div>\n",
       "<style scoped>\n",
       "    .dataframe tbody tr th:only-of-type {\n",
       "        vertical-align: middle;\n",
       "    }\n",
       "\n",
       "    .dataframe tbody tr th {\n",
       "        vertical-align: top;\n",
       "    }\n",
       "\n",
       "    .dataframe thead th {\n",
       "        text-align: right;\n",
       "    }\n",
       "</style>\n",
       "<table border=\"1\" class=\"dataframe\">\n",
       "  <thead>\n",
       "    <tr style=\"text-align: right;\">\n",
       "      <th></th>\n",
       "      <th>total</th>\n",
       "      <th>empty</th>\n",
       "      <th>distinct</th>\n",
       "      <th>uniqueness</th>\n",
       "      <th>entropy</th>\n",
       "    </tr>\n",
       "  </thead>\n",
       "  <tbody>\n",
       "    <tr>\n",
       "      <th>SUMMONS_KEY</th>\n",
       "      <td>35297</td>\n",
       "      <td>0</td>\n",
       "      <td>35294</td>\n",
       "      <td>0.999915</td>\n",
       "      <td>15.107088</td>\n",
       "    </tr>\n",
       "    <tr>\n",
       "      <th>SUMMONS_DATE</th>\n",
       "      <td>35297</td>\n",
       "      <td>0</td>\n",
       "      <td>273</td>\n",
       "      <td>0.007734</td>\n",
       "      <td>7.953969</td>\n",
       "    </tr>\n",
       "    <tr>\n",
       "      <th>OFFENSE_DESCRIPTION</th>\n",
       "      <td>35297</td>\n",
       "      <td>0</td>\n",
       "      <td>388</td>\n",
       "      <td>0.010992</td>\n",
       "      <td>4.259884</td>\n",
       "    </tr>\n",
       "    <tr>\n",
       "      <th>LAW_SECTION_NUMBER</th>\n",
       "      <td>35297</td>\n",
       "      <td>0</td>\n",
       "      <td>347</td>\n",
       "      <td>0.009831</td>\n",
       "      <td>4.177027</td>\n",
       "    </tr>\n",
       "    <tr>\n",
       "      <th>LAW_DESCRIPTION</th>\n",
       "      <td>35297</td>\n",
       "      <td>8936</td>\n",
       "      <td>14</td>\n",
       "      <td>0.000531</td>\n",
       "      <td>1.981003</td>\n",
       "    </tr>\n",
       "    <tr>\n",
       "      <th>SUMMONS_CATEGORY_TYPE</th>\n",
       "      <td>35297</td>\n",
       "      <td>8936</td>\n",
       "      <td>44</td>\n",
       "      <td>0.001669</td>\n",
       "      <td>2.459580</td>\n",
       "    </tr>\n",
       "    <tr>\n",
       "      <th>AGE_GROUP</th>\n",
       "      <td>35297</td>\n",
       "      <td>0</td>\n",
       "      <td>6</td>\n",
       "      <td>0.000170</td>\n",
       "      <td>1.838390</td>\n",
       "    </tr>\n",
       "    <tr>\n",
       "      <th>SEX</th>\n",
       "      <td>35297</td>\n",
       "      <td>17436</td>\n",
       "      <td>3</td>\n",
       "      <td>0.000168</td>\n",
       "      <td>0.530843</td>\n",
       "    </tr>\n",
       "    <tr>\n",
       "      <th>RACE</th>\n",
       "      <td>35297</td>\n",
       "      <td>17437</td>\n",
       "      <td>8</td>\n",
       "      <td>0.000448</td>\n",
       "      <td>2.040680</td>\n",
       "    </tr>\n",
       "    <tr>\n",
       "      <th>JURISDICTION_CODE</th>\n",
       "      <td>35297</td>\n",
       "      <td>0</td>\n",
       "      <td>3</td>\n",
       "      <td>0.000085</td>\n",
       "      <td>0.476623</td>\n",
       "    </tr>\n",
       "    <tr>\n",
       "      <th>BORO</th>\n",
       "      <td>35297</td>\n",
       "      <td>0</td>\n",
       "      <td>6</td>\n",
       "      <td>0.000170</td>\n",
       "      <td>1.958136</td>\n",
       "    </tr>\n",
       "    <tr>\n",
       "      <th>PRECINCT_OF_OCCUR</th>\n",
       "      <td>35297</td>\n",
       "      <td>0</td>\n",
       "      <td>77</td>\n",
       "      <td>0.002181</td>\n",
       "      <td>5.345961</td>\n",
       "    </tr>\n",
       "    <tr>\n",
       "      <th>X_COORDINATE_CD</th>\n",
       "      <td>35297</td>\n",
       "      <td>181</td>\n",
       "      <td>7984</td>\n",
       "      <td>0.227361</td>\n",
       "      <td>10.642262</td>\n",
       "    </tr>\n",
       "    <tr>\n",
       "      <th>Y_COORDINATE_CD</th>\n",
       "      <td>35297</td>\n",
       "      <td>181</td>\n",
       "      <td>8138</td>\n",
       "      <td>0.231746</td>\n",
       "      <td>10.655154</td>\n",
       "    </tr>\n",
       "    <tr>\n",
       "      <th>Latitude</th>\n",
       "      <td>35297</td>\n",
       "      <td>181</td>\n",
       "      <td>8549</td>\n",
       "      <td>0.243450</td>\n",
       "      <td>10.704113</td>\n",
       "    </tr>\n",
       "    <tr>\n",
       "      <th>Longitude</th>\n",
       "      <td>35297</td>\n",
       "      <td>181</td>\n",
       "      <td>8551</td>\n",
       "      <td>0.243507</td>\n",
       "      <td>10.703326</td>\n",
       "    </tr>\n",
       "    <tr>\n",
       "      <th>New Georeferenced Column</th>\n",
       "      <td>35297</td>\n",
       "      <td>181</td>\n",
       "      <td>8552</td>\n",
       "      <td>0.243536</td>\n",
       "      <td>10.704345</td>\n",
       "    </tr>\n",
       "  </tbody>\n",
       "</table>\n",
       "</div>"
      ],
      "text/plain": [
       "                          total  empty  distinct  uniqueness    entropy\n",
       "SUMMONS_KEY               35297      0     35294    0.999915  15.107088\n",
       "SUMMONS_DATE              35297      0       273    0.007734   7.953969\n",
       "OFFENSE_DESCRIPTION       35297      0       388    0.010992   4.259884\n",
       "LAW_SECTION_NUMBER        35297      0       347    0.009831   4.177027\n",
       "LAW_DESCRIPTION           35297   8936        14    0.000531   1.981003\n",
       "SUMMONS_CATEGORY_TYPE     35297   8936        44    0.001669   2.459580\n",
       "AGE_GROUP                 35297      0         6    0.000170   1.838390\n",
       "SEX                       35297  17436         3    0.000168   0.530843\n",
       "RACE                      35297  17437         8    0.000448   2.040680\n",
       "JURISDICTION_CODE         35297      0         3    0.000085   0.476623\n",
       "BORO                      35297      0         6    0.000170   1.958136\n",
       "PRECINCT_OF_OCCUR         35297      0        77    0.002181   5.345961\n",
       "X_COORDINATE_CD           35297    181      7984    0.227361  10.642262\n",
       "Y_COORDINATE_CD           35297    181      8138    0.231746  10.655154\n",
       "Latitude                  35297    181      8549    0.243450  10.704113\n",
       "Longitude                 35297    181      8551    0.243507  10.703326\n",
       "New Georeferenced Column  35297    181      8552    0.243536  10.704345"
      ]
     },
     "execution_count": 44,
     "metadata": {},
     "output_type": "execute_result"
    }
   ],
   "source": [
    "ds_full_jc = stream(data_df)\n",
    "profiles = ds_full_jc.profile(default_profiler=DefaultColumnProfiler)\n",
    "profiles.stats()"
   ]
  },
  {
   "cell_type": "code",
   "execution_count": 45,
   "metadata": {},
   "outputs": [
    {
     "data": {
      "text/plain": [
       "array(['M', nan, 'F', 'U'], dtype=object)"
      ]
     },
     "execution_count": 45,
     "metadata": {},
     "output_type": "execute_result"
    }
   ],
   "source": [
    "data_df['SEX'].unique()"
   ]
  },
  {
   "cell_type": "code",
   "execution_count": 46,
   "metadata": {},
   "outputs": [],
   "source": [
    "def validate_SEX(data,column_name):\n",
    "    data[column_name].replace(np.nan, 'U', inplace=True)\n",
    "    return data"
   ]
  },
  {
   "cell_type": "code",
   "execution_count": 47,
   "metadata": {},
   "outputs": [],
   "source": [
    "data_df = validate_SEX(data_df,'SEX')"
   ]
  },
  {
   "cell_type": "code",
   "execution_count": 48,
   "metadata": {},
   "outputs": [
    {
     "data": {
      "text/plain": [
       "array(['BLACK', nan, 'WHITE HISPANIC', 'WHITE', 'OTHER', 'BLACK HISPANIC',\n",
       "       'UNKNOWN', 'ASIAN / PACIFIC ISLANDER',\n",
       "       'AMERICAN INDIAN/ALASKAN NATIVE'], dtype=object)"
      ]
     },
     "execution_count": 48,
     "metadata": {},
     "output_type": "execute_result"
    }
   ],
   "source": [
    "data_df['RACE'].unique()"
   ]
  },
  {
   "cell_type": "code",
   "execution_count": 49,
   "metadata": {},
   "outputs": [],
   "source": [
    "def validate_RACE(data,column_name):\n",
    "    data[column_name].replace(np.nan, 'UNKNOWN', inplace=True)\n",
    "    return data"
   ]
  },
  {
   "cell_type": "code",
   "execution_count": 50,
   "metadata": {},
   "outputs": [],
   "source": [
    "data_df = validate_RACE(data_df,'RACE')"
   ]
  },
  {
   "cell_type": "code",
   "execution_count": 51,
   "metadata": {},
   "outputs": [
    {
     "data": {
      "text/plain": [
       "array([nan, 'VTL', 'Administrative Code', 'ABC', 'NYS Transportation',\n",
       "       'Penal Law', 'Park Regs', 'Tax Law', 'General Business Law',\n",
       "       'Health Code', 'Traffic Regs', 'Sanitary Code (NYS)',\n",
       "       'Education Law (NYS)', 'TLC', 'NYS Workers Comp'], dtype=object)"
      ]
     },
     "execution_count": 51,
     "metadata": {},
     "output_type": "execute_result"
    }
   ],
   "source": [
    "data_df['LAW_DESCRIPTION'].unique()"
   ]
  },
  {
   "cell_type": "code",
   "execution_count": 52,
   "metadata": {},
   "outputs": [],
   "source": [
    "def validate_LAW_DESCRIPTION(data,column_name):\n",
    "    data[column_name].replace(np.nan, 'UNKNOWN', inplace=True)\n",
    "    return data\n",
    "data_df = validate_LAW_DESCRIPTION(data_df,'LAW_DESCRIPTION')"
   ]
  },
  {
   "cell_type": "code",
   "execution_count": 53,
   "metadata": {},
   "outputs": [
    {
     "data": {
      "text/plain": [
       "array([nan, 'VTL', 'KNIFE', 'ABC', 'NYS TRANS', 'DISORDERLY CONDUCT',\n",
       "       'OTHER ABC', 'TLC', 'TRESPASS', 'MARIJUANA', 'ALCOHOL', 'AIR GUN',\n",
       "       'GAMBLING', 'PARK REGS', 'URINATING', 'FIREWORKS', 'VENDING',\n",
       "       'KEY', 'OPEN FIRE', 'NOISE', 'HARASSMENT 2', 'OTHER ADMIN CODE',\n",
       "       'LITTERING', 'BUSINESS', 'BIKE', 'TOW TRUCK', 'EXPOSURE',\n",
       "       'POSTING ADVERTISEMENTS', 'OTHER PARK REG', 'TRAFFIC REGS',\n",
       "       'OPEN HYDRANT', 'SANITARY CODE', 'SMOKING', 'OTHER', 'DOG',\n",
       "       'OTHER PENAL LAW', 'SPITTING', 'AMMO', 'AVIGATION', 'PANHANDLING',\n",
       "       'LITTERNG', 'EDUCATION LAW', 'LOITERING', 'DUMPING',\n",
       "       'IN PUBLIC UNDER DRUGS'], dtype=object)"
      ]
     },
     "execution_count": 53,
     "metadata": {},
     "output_type": "execute_result"
    }
   ],
   "source": [
    "data_df['SUMMONS_CATEGORY_TYPE'].unique()"
   ]
  },
  {
   "cell_type": "code",
   "execution_count": 54,
   "metadata": {},
   "outputs": [],
   "source": [
    "def validate_SUMMONS_CATEGORY_TYPE(data,column_name):\n",
    "    data[column_name].replace(np.nan, 'UNKNOWN', inplace=True)\n",
    "    return data\n",
    "data_df = validate_SUMMONS_CATEGORY_TYPE(data_df,'SUMMONS_CATEGORY_TYPE')"
   ]
  },
  {
   "cell_type": "code",
   "execution_count": 55,
   "metadata": {},
   "outputs": [],
   "source": [
    "data_df = data_df.dropna()"
   ]
  },
  {
   "cell_type": "code",
   "execution_count": 60,
   "metadata": {},
   "outputs": [],
   "source": [
    "data_df = data_df.drop_duplicates(subset='SUMMONS_KEY',keep=\"first\")"
   ]
  },
  {
   "cell_type": "code",
   "execution_count": 61,
   "metadata": {},
   "outputs": [
    {
     "data": {
      "text/html": [
       "<div>\n",
       "<style scoped>\n",
       "    .dataframe tbody tr th:only-of-type {\n",
       "        vertical-align: middle;\n",
       "    }\n",
       "\n",
       "    .dataframe tbody tr th {\n",
       "        vertical-align: top;\n",
       "    }\n",
       "\n",
       "    .dataframe thead th {\n",
       "        text-align: right;\n",
       "    }\n",
       "</style>\n",
       "<table border=\"1\" class=\"dataframe\">\n",
       "  <thead>\n",
       "    <tr style=\"text-align: right;\">\n",
       "      <th></th>\n",
       "      <th>total</th>\n",
       "      <th>empty</th>\n",
       "      <th>distinct</th>\n",
       "      <th>uniqueness</th>\n",
       "      <th>entropy</th>\n",
       "    </tr>\n",
       "  </thead>\n",
       "  <tbody>\n",
       "    <tr>\n",
       "      <th>SUMMONS_KEY</th>\n",
       "      <td>35113</td>\n",
       "      <td>0</td>\n",
       "      <td>35113</td>\n",
       "      <td>1.000000</td>\n",
       "      <td>15.099718</td>\n",
       "    </tr>\n",
       "    <tr>\n",
       "      <th>SUMMONS_DATE</th>\n",
       "      <td>35113</td>\n",
       "      <td>0</td>\n",
       "      <td>273</td>\n",
       "      <td>0.007775</td>\n",
       "      <td>7.951915</td>\n",
       "    </tr>\n",
       "    <tr>\n",
       "      <th>OFFENSE_DESCRIPTION</th>\n",
       "      <td>35113</td>\n",
       "      <td>0</td>\n",
       "      <td>388</td>\n",
       "      <td>0.011050</td>\n",
       "      <td>4.258857</td>\n",
       "    </tr>\n",
       "    <tr>\n",
       "      <th>LAW_SECTION_NUMBER</th>\n",
       "      <td>35113</td>\n",
       "      <td>0</td>\n",
       "      <td>347</td>\n",
       "      <td>0.009882</td>\n",
       "      <td>4.176296</td>\n",
       "    </tr>\n",
       "    <tr>\n",
       "      <th>LAW_DESCRIPTION</th>\n",
       "      <td>35113</td>\n",
       "      <td>0</td>\n",
       "      <td>15</td>\n",
       "      <td>0.000427</td>\n",
       "      <td>2.296244</td>\n",
       "    </tr>\n",
       "    <tr>\n",
       "      <th>SUMMONS_CATEGORY_TYPE</th>\n",
       "      <td>35113</td>\n",
       "      <td>0</td>\n",
       "      <td>45</td>\n",
       "      <td>0.001282</td>\n",
       "      <td>2.653053</td>\n",
       "    </tr>\n",
       "    <tr>\n",
       "      <th>AGE_GROUP</th>\n",
       "      <td>35113</td>\n",
       "      <td>0</td>\n",
       "      <td>6</td>\n",
       "      <td>0.000171</td>\n",
       "      <td>1.838216</td>\n",
       "    </tr>\n",
       "    <tr>\n",
       "      <th>SEX</th>\n",
       "      <td>35113</td>\n",
       "      <td>0</td>\n",
       "      <td>3</td>\n",
       "      <td>0.000085</td>\n",
       "      <td>1.253582</td>\n",
       "    </tr>\n",
       "    <tr>\n",
       "      <th>RACE</th>\n",
       "      <td>35113</td>\n",
       "      <td>0</td>\n",
       "      <td>8</td>\n",
       "      <td>0.000228</td>\n",
       "      <td>1.974212</td>\n",
       "    </tr>\n",
       "    <tr>\n",
       "      <th>JURISDICTION_CODE</th>\n",
       "      <td>35113</td>\n",
       "      <td>0</td>\n",
       "      <td>3</td>\n",
       "      <td>0.000085</td>\n",
       "      <td>0.476827</td>\n",
       "    </tr>\n",
       "    <tr>\n",
       "      <th>BORO</th>\n",
       "      <td>35113</td>\n",
       "      <td>0</td>\n",
       "      <td>6</td>\n",
       "      <td>0.000171</td>\n",
       "      <td>1.958329</td>\n",
       "    </tr>\n",
       "    <tr>\n",
       "      <th>PRECINCT_OF_OCCUR</th>\n",
       "      <td>35113</td>\n",
       "      <td>0</td>\n",
       "      <td>77</td>\n",
       "      <td>0.002193</td>\n",
       "      <td>5.346321</td>\n",
       "    </tr>\n",
       "    <tr>\n",
       "      <th>X_COORDINATE_CD</th>\n",
       "      <td>35113</td>\n",
       "      <td>0</td>\n",
       "      <td>7984</td>\n",
       "      <td>0.227380</td>\n",
       "      <td>10.642295</td>\n",
       "    </tr>\n",
       "    <tr>\n",
       "      <th>Y_COORDINATE_CD</th>\n",
       "      <td>35113</td>\n",
       "      <td>0</td>\n",
       "      <td>8138</td>\n",
       "      <td>0.231766</td>\n",
       "      <td>10.655160</td>\n",
       "    </tr>\n",
       "    <tr>\n",
       "      <th>Latitude</th>\n",
       "      <td>35113</td>\n",
       "      <td>0</td>\n",
       "      <td>8549</td>\n",
       "      <td>0.243471</td>\n",
       "      <td>10.704119</td>\n",
       "    </tr>\n",
       "    <tr>\n",
       "      <th>Longitude</th>\n",
       "      <td>35113</td>\n",
       "      <td>0</td>\n",
       "      <td>8551</td>\n",
       "      <td>0.243528</td>\n",
       "      <td>10.703333</td>\n",
       "    </tr>\n",
       "    <tr>\n",
       "      <th>New Georeferenced Column</th>\n",
       "      <td>35113</td>\n",
       "      <td>0</td>\n",
       "      <td>8552</td>\n",
       "      <td>0.243557</td>\n",
       "      <td>10.704351</td>\n",
       "    </tr>\n",
       "  </tbody>\n",
       "</table>\n",
       "</div>"
      ],
      "text/plain": [
       "                          total  empty  distinct  uniqueness    entropy\n",
       "SUMMONS_KEY               35113      0     35113    1.000000  15.099718\n",
       "SUMMONS_DATE              35113      0       273    0.007775   7.951915\n",
       "OFFENSE_DESCRIPTION       35113      0       388    0.011050   4.258857\n",
       "LAW_SECTION_NUMBER        35113      0       347    0.009882   4.176296\n",
       "LAW_DESCRIPTION           35113      0        15    0.000427   2.296244\n",
       "SUMMONS_CATEGORY_TYPE     35113      0        45    0.001282   2.653053\n",
       "AGE_GROUP                 35113      0         6    0.000171   1.838216\n",
       "SEX                       35113      0         3    0.000085   1.253582\n",
       "RACE                      35113      0         8    0.000228   1.974212\n",
       "JURISDICTION_CODE         35113      0         3    0.000085   0.476827\n",
       "BORO                      35113      0         6    0.000171   1.958329\n",
       "PRECINCT_OF_OCCUR         35113      0        77    0.002193   5.346321\n",
       "X_COORDINATE_CD           35113      0      7984    0.227380  10.642295\n",
       "Y_COORDINATE_CD           35113      0      8138    0.231766  10.655160\n",
       "Latitude                  35113      0      8549    0.243471  10.704119\n",
       "Longitude                 35113      0      8551    0.243528  10.703333\n",
       "New Georeferenced Column  35113      0      8552    0.243557  10.704351"
      ]
     },
     "execution_count": 61,
     "metadata": {},
     "output_type": "execute_result"
    }
   ],
   "source": [
    "ds_full_jc = stream(data_df)\n",
    "profiles = ds_full_jc.profile(default_profiler=DefaultColumnProfiler)\n",
    "profiles.stats()"
   ]
  },
  {
   "cell_type": "code",
   "execution_count": 62,
   "metadata": {},
   "outputs": [],
   "source": [
    "data_df.to_csv('filtered6.csv')"
   ]
  }
 ],
 "metadata": {
  "kernelspec": {
   "display_name": "Python 3",
   "language": "python",
   "name": "python3"
  },
  "language_info": {
   "codemirror_mode": {
    "name": "ipython",
    "version": 3
   },
   "file_extension": ".py",
   "mimetype": "text/x-python",
   "name": "python",
   "nbconvert_exporter": "python",
   "pygments_lexer": "ipython3",
   "version": "3.8.5"
  }
 },
 "nbformat": 4,
 "nbformat_minor": 5
}
