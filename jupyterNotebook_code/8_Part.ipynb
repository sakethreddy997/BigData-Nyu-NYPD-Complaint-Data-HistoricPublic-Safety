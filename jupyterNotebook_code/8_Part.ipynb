{
 "cells": [
  {
   "cell_type": "markdown",
   "metadata": {},
   "source": [
    "#### Import dependencies:"
   ]
  },
  {
   "cell_type": "code",
   "execution_count": 1,
   "metadata": {},
   "outputs": [
    {
     "name": "stdout",
     "output_type": "stream",
     "text": [
      "Python version: 3.8.5 (default, Sep  4 2020, 02:22:02) \n",
      "[Clang 10.0.0 ]\n",
      "pandas version: 1.1.3\n",
      "matplotlib version: 3.3.2\n",
      "NumPy version: 1.19.5\n",
      "SciPy version: 1.5.2\n",
      "IPython version: 7.19.0\n",
      "scikit-learn version: 0.23.2\n",
      "-------------------------\n"
     ]
    }
   ],
   "source": [
    "import sys #access to system parameters https://docs.python.org/3/library/sys.html\n",
    "print(\"Python version: {}\". format(sys.version))\n",
    "\n",
    "import pandas as pd #collection of functions for data processing and analysis modeled after R dataframes with SQL like features\n",
    "print(\"pandas version: {}\". format(pd.__version__))\n",
    "\n",
    "import matplotlib #collection of functions for scientific and publication-ready visualization\n",
    "import matplotlib as plt\n",
    "print(\"matplotlib version: {}\". format(matplotlib.__version__))\n",
    "\n",
    "import numpy as np #foundational package for scientific computing\n",
    "print(\"NumPy version: {}\". format(np.__version__))\n",
    "\n",
    "import scipy as sp #collection of functions for scientific computing and advance mathematics\n",
    "print(\"SciPy version: {}\". format(sp.__version__)) \n",
    "\n",
    "import IPython\n",
    "from IPython import display #pretty printing of dataframes in Jupyter notebook\n",
    "print(\"IPython version: {}\". format(IPython.__version__)) \n",
    "\n",
    "import sklearn #collection of machine learning algorithms\n",
    "print(\"scikit-learn version: {}\". format(sklearn.__version__))\n",
    "\n",
    "#misc libraries\n",
    "import random\n",
    "import time\n",
    "#ignore warnings\n",
    "import warnings\n",
    "warnings.filterwarnings('ignore')\n",
    "print('-'*25)\n",
    "import re\n",
    "import os\n",
    "import matplotlib.pyplot as plt\n",
    "%matplotlib inline"
   ]
  },
  {
   "cell_type": "markdown",
   "metadata": {},
   "source": [
    "#### Download data file if it has not been downloaded already:"
   ]
  },
  {
   "cell_type": "code",
   "execution_count": 2,
   "metadata": {},
   "outputs": [
    {
     "name": "stdout",
     "output_type": "stream",
     "text": [
      "File NYPD-summary-dashboard-123.csv has already been downloaded\n"
     ]
    }
   ],
   "source": [
    "#url = 'https://data.cityofnewyork.us/api/views/qgea-i56i/rows.csv?accessType=DOWNLOAD'\n",
    "fn_src = 'https://data.cityofnewyork.us/api/views/uip8-fykc/rows.csv?accessType=DOWNLOAD'\n",
    "fn_dst = 'NYPD-summary-dashboard-123.csv'\n",
    "\n",
    "from six.moves import urllib\n",
    "\n",
    "if os.path.isfile(fn_dst):\n",
    "    print('File %s has already been downloaded' % fn_dst)\n",
    "else:\n",
    "    print('Fetching file %s[2.4GB]. This may take a while...' % fn_dst)\n",
    "    urllib.request.urlretrieve(fn_src, fn_dst)\n",
    "    print('File %s has been downloaded' % fn_dst)"
   ]
  },
  {
   "cell_type": "markdown",
   "metadata": {},
   "source": [
    "#### Open a stream to the data file so we don't have to load the whole data set into main memory"
   ]
  },
  {
   "cell_type": "code",
   "execution_count": 3,
   "metadata": {},
   "outputs": [],
   "source": [
    "from openclean.pipeline import stream\n",
    "ds_full = stream(fn_dst)"
   ]
  },
  {
   "cell_type": "code",
   "execution_count": 4,
   "metadata": {},
   "outputs": [
    {
     "name": "stdout",
     "output_type": "stream",
     "text": [
      "The dataset contains 115,299 rows.\n"
     ]
    }
   ],
   "source": [
    "print(f'The dataset contains {ds_full.count():,} rows.')"
   ]
  },
  {
   "cell_type": "code",
   "execution_count": 5,
   "metadata": {},
   "outputs": [
    {
     "data": {
      "text/html": [
       "<div>\n",
       "<style scoped>\n",
       "    .dataframe tbody tr th:only-of-type {\n",
       "        vertical-align: middle;\n",
       "    }\n",
       "\n",
       "    .dataframe tbody tr th {\n",
       "        vertical-align: top;\n",
       "    }\n",
       "\n",
       "    .dataframe thead th {\n",
       "        text-align: right;\n",
       "    }\n",
       "</style>\n",
       "<table border=\"1\" class=\"dataframe\">\n",
       "  <thead>\n",
       "    <tr style=\"text-align: right;\">\n",
       "      <th></th>\n",
       "      <th>ARREST_KEY</th>\n",
       "      <th>ARREST_DATE</th>\n",
       "      <th>PD_CD</th>\n",
       "      <th>PD_DESC</th>\n",
       "      <th>KY_CD</th>\n",
       "      <th>OFNS_DESC</th>\n",
       "      <th>LAW_CODE</th>\n",
       "      <th>LAW_CAT_CD</th>\n",
       "      <th>ARREST_BORO</th>\n",
       "      <th>ARREST_PRECINCT</th>\n",
       "      <th>JURISDICTION_CODE</th>\n",
       "      <th>AGE_GROUP</th>\n",
       "      <th>PERP_SEX</th>\n",
       "      <th>PERP_RACE</th>\n",
       "      <th>X_COORD_CD</th>\n",
       "      <th>Y_COORD_CD</th>\n",
       "      <th>Latitude</th>\n",
       "      <th>Longitude</th>\n",
       "      <th>New Georeferenced Column</th>\n",
       "    </tr>\n",
       "  </thead>\n",
       "  <tbody>\n",
       "    <tr>\n",
       "      <th>0</th>\n",
       "      <td>234233843</td>\n",
       "      <td>09/29/2021</td>\n",
       "      <td>105</td>\n",
       "      <td>STRANGULATION 1ST</td>\n",
       "      <td>106</td>\n",
       "      <td>FELONY ASSAULT</td>\n",
       "      <td>PL 1211200</td>\n",
       "      <td>F</td>\n",
       "      <td>B</td>\n",
       "      <td>42</td>\n",
       "      <td>0</td>\n",
       "      <td>25-44</td>\n",
       "      <td>M</td>\n",
       "      <td>BLACK</td>\n",
       "      <td>1009231</td>\n",
       "      <td>240290</td>\n",
       "      <td>40.82618898100003</td>\n",
       "      <td>-73.90973778899996</td>\n",
       "      <td>POINT (-73.90973778899996 40.82618898100003)</td>\n",
       "    </tr>\n",
       "    <tr>\n",
       "      <th>1</th>\n",
       "      <td>234129823</td>\n",
       "      <td>09/27/2021</td>\n",
       "      <td>157</td>\n",
       "      <td>RAPE 1</td>\n",
       "      <td>104</td>\n",
       "      <td>RAPE</td>\n",
       "      <td>PL 1303501</td>\n",
       "      <td>F</td>\n",
       "      <td>K</td>\n",
       "      <td>77</td>\n",
       "      <td>0</td>\n",
       "      <td>25-44</td>\n",
       "      <td>M</td>\n",
       "      <td>BLACK</td>\n",
       "      <td>1003606</td>\n",
       "      <td>185050</td>\n",
       "      <td>40.67458330800008</td>\n",
       "      <td>-73.93022154099998</td>\n",
       "      <td>POINT (-73.93022154099998 40.67458330800008)</td>\n",
       "    </tr>\n",
       "    <tr>\n",
       "      <th>2</th>\n",
       "      <td>234040747</td>\n",
       "      <td>09/25/2021</td>\n",
       "      <td>109</td>\n",
       "      <td>ASSAULT 2,1,UNCLASSIFIED</td>\n",
       "      <td>106</td>\n",
       "      <td>FELONY ASSAULT</td>\n",
       "      <td>PL 1200501</td>\n",
       "      <td>F</td>\n",
       "      <td>Q</td>\n",
       "      <td>101</td>\n",
       "      <td>0</td>\n",
       "      <td>25-44</td>\n",
       "      <td>M</td>\n",
       "      <td>BLACK</td>\n",
       "      <td>1049232</td>\n",
       "      <td>159210</td>\n",
       "      <td>40.60344094100003</td>\n",
       "      <td>-73.76598558899997</td>\n",
       "      <td>POINT (-73.76598558899997 40.60344094100003)</td>\n",
       "    </tr>\n",
       "    <tr>\n",
       "      <th>3</th>\n",
       "      <td>234047720</td>\n",
       "      <td>09/25/2021</td>\n",
       "      <td>101</td>\n",
       "      <td>ASSAULT 3</td>\n",
       "      <td>344</td>\n",
       "      <td>ASSAULT 3 &amp; RELATED OFFENSES</td>\n",
       "      <td>PL 1200001</td>\n",
       "      <td>M</td>\n",
       "      <td>B</td>\n",
       "      <td>44</td>\n",
       "      <td>0</td>\n",
       "      <td>25-44</td>\n",
       "      <td>M</td>\n",
       "      <td>BLACK</td>\n",
       "      <td>1006537</td>\n",
       "      <td>244511</td>\n",
       "      <td>40.83778161800007</td>\n",
       "      <td>-73.91945797099999</td>\n",
       "      <td>POINT (-73.91945797099999 40.83778161800007)</td>\n",
       "    </tr>\n",
       "    <tr>\n",
       "      <th>4</th>\n",
       "      <td>234042526</td>\n",
       "      <td>09/25/2021</td>\n",
       "      <td>101</td>\n",
       "      <td>ASSAULT 3</td>\n",
       "      <td>344</td>\n",
       "      <td>ASSAULT 3 &amp; RELATED OFFENSES</td>\n",
       "      <td>PL 1200001</td>\n",
       "      <td>M</td>\n",
       "      <td>B</td>\n",
       "      <td>44</td>\n",
       "      <td>0</td>\n",
       "      <td>25-44</td>\n",
       "      <td>M</td>\n",
       "      <td>BLACK</td>\n",
       "      <td>1007418</td>\n",
       "      <td>243859</td>\n",
       "      <td>40.83598980000005</td>\n",
       "      <td>-73.91627635999998</td>\n",
       "      <td>POINT (-73.91627635999998 40.83598980000005)</td>\n",
       "    </tr>\n",
       "    <tr>\n",
       "      <th>5</th>\n",
       "      <td>234006839</td>\n",
       "      <td>09/24/2021</td>\n",
       "      <td>582</td>\n",
       "      <td></td>\n",
       "      <td></td>\n",
       "      <td></td>\n",
       "      <td>PL 2225501</td>\n",
       "      <td>F</td>\n",
       "      <td>M</td>\n",
       "      <td>23</td>\n",
       "      <td>0</td>\n",
       "      <td>25-44</td>\n",
       "      <td>M</td>\n",
       "      <td>BLACK</td>\n",
       "      <td>998659</td>\n",
       "      <td>228177</td>\n",
       "      <td>40.79296572700008</td>\n",
       "      <td>-73.94796350499998</td>\n",
       "      <td>POINT (-73.94796350499998 40.79296572700008)</td>\n",
       "    </tr>\n",
       "    <tr>\n",
       "      <th>6</th>\n",
       "      <td>233952333</td>\n",
       "      <td>09/23/2021</td>\n",
       "      <td>397</td>\n",
       "      <td>ROBBERY,OPEN AREA UNCLASSIFIED</td>\n",
       "      <td>105</td>\n",
       "      <td>ROBBERY</td>\n",
       "      <td>PL 1600500</td>\n",
       "      <td>F</td>\n",
       "      <td>K</td>\n",
       "      <td>75</td>\n",
       "      <td>0</td>\n",
       "      <td>18-24</td>\n",
       "      <td>M</td>\n",
       "      <td>BLACK</td>\n",
       "      <td>1017119</td>\n",
       "      <td>183909</td>\n",
       "      <td>40.67141166300007</td>\n",
       "      <td>-73.88151172399995</td>\n",
       "      <td>POINT (-73.88151172399995 40.67141166300007)</td>\n",
       "    </tr>\n",
       "    <tr>\n",
       "      <th>7</th>\n",
       "      <td>233878488</td>\n",
       "      <td>09/21/2021</td>\n",
       "      <td>105</td>\n",
       "      <td>STRANGULATION 1ST</td>\n",
       "      <td>106</td>\n",
       "      <td>FELONY ASSAULT</td>\n",
       "      <td>PL 1211300</td>\n",
       "      <td>F</td>\n",
       "      <td>B</td>\n",
       "      <td>40</td>\n",
       "      <td>0</td>\n",
       "      <td>25-44</td>\n",
       "      <td>M</td>\n",
       "      <td>WHITE</td>\n",
       "      <td>1010679</td>\n",
       "      <td>234533</td>\n",
       "      <td>40.81038342800008</td>\n",
       "      <td>-73.90452841699994</td>\n",
       "      <td>POINT (-73.90452841699994 40.81038342800008)</td>\n",
       "    </tr>\n",
       "    <tr>\n",
       "      <th>8</th>\n",
       "      <td>233784866</td>\n",
       "      <td>09/19/2021</td>\n",
       "      <td>101</td>\n",
       "      <td>ASSAULT 3</td>\n",
       "      <td>344</td>\n",
       "      <td>ASSAULT 3 &amp; RELATED OFFENSES</td>\n",
       "      <td>PL 1200001</td>\n",
       "      <td>M</td>\n",
       "      <td>B</td>\n",
       "      <td>44</td>\n",
       "      <td>0</td>\n",
       "      <td>25-44</td>\n",
       "      <td>F</td>\n",
       "      <td>BLACK</td>\n",
       "      <td>1004489</td>\n",
       "      <td>237844</td>\n",
       "      <td>40.81948754300004</td>\n",
       "      <td>-73.926879392</td>\n",
       "      <td>POINT (-73.926879392 40.81948754300004)</td>\n",
       "    </tr>\n",
       "    <tr>\n",
       "      <th>9</th>\n",
       "      <td>233647454</td>\n",
       "      <td>09/16/2021</td>\n",
       "      <td>397</td>\n",
       "      <td>ROBBERY,OPEN AREA UNCLASSIFIED</td>\n",
       "      <td>105</td>\n",
       "      <td>ROBBERY</td>\n",
       "      <td>PL 1601503</td>\n",
       "      <td>F</td>\n",
       "      <td>K</td>\n",
       "      <td>61</td>\n",
       "      <td>0</td>\n",
       "      <td>18-24</td>\n",
       "      <td>M</td>\n",
       "      <td>BLACK</td>\n",
       "      <td>995834</td>\n",
       "      <td>161062</td>\n",
       "      <td>40.60875497300003</td>\n",
       "      <td>-73.95828138999997</td>\n",
       "      <td>POINT (-73.95828138999997 40.60875497300003)</td>\n",
       "    </tr>\n",
       "  </tbody>\n",
       "</table>\n",
       "</div>"
      ],
      "text/plain": [
       "  ARREST_KEY ARREST_DATE PD_CD                         PD_DESC KY_CD  \\\n",
       "0  234233843  09/29/2021   105               STRANGULATION 1ST   106   \n",
       "1  234129823  09/27/2021   157                          RAPE 1   104   \n",
       "2  234040747  09/25/2021   109        ASSAULT 2,1,UNCLASSIFIED   106   \n",
       "3  234047720  09/25/2021   101                       ASSAULT 3   344   \n",
       "4  234042526  09/25/2021   101                       ASSAULT 3   344   \n",
       "5  234006839  09/24/2021   582                                         \n",
       "6  233952333  09/23/2021   397  ROBBERY,OPEN AREA UNCLASSIFIED   105   \n",
       "7  233878488  09/21/2021   105               STRANGULATION 1ST   106   \n",
       "8  233784866  09/19/2021   101                       ASSAULT 3   344   \n",
       "9  233647454  09/16/2021   397  ROBBERY,OPEN AREA UNCLASSIFIED   105   \n",
       "\n",
       "                      OFNS_DESC    LAW_CODE LAW_CAT_CD ARREST_BORO  \\\n",
       "0                FELONY ASSAULT  PL 1211200          F           B   \n",
       "1                          RAPE  PL 1303501          F           K   \n",
       "2                FELONY ASSAULT  PL 1200501          F           Q   \n",
       "3  ASSAULT 3 & RELATED OFFENSES  PL 1200001          M           B   \n",
       "4  ASSAULT 3 & RELATED OFFENSES  PL 1200001          M           B   \n",
       "5                                PL 2225501          F           M   \n",
       "6                       ROBBERY  PL 1600500          F           K   \n",
       "7                FELONY ASSAULT  PL 1211300          F           B   \n",
       "8  ASSAULT 3 & RELATED OFFENSES  PL 1200001          M           B   \n",
       "9                       ROBBERY  PL 1601503          F           K   \n",
       "\n",
       "  ARREST_PRECINCT JURISDICTION_CODE AGE_GROUP PERP_SEX PERP_RACE X_COORD_CD  \\\n",
       "0              42                 0     25-44        M     BLACK    1009231   \n",
       "1              77                 0     25-44        M     BLACK    1003606   \n",
       "2             101                 0     25-44        M     BLACK    1049232   \n",
       "3              44                 0     25-44        M     BLACK    1006537   \n",
       "4              44                 0     25-44        M     BLACK    1007418   \n",
       "5              23                 0     25-44        M     BLACK     998659   \n",
       "6              75                 0     18-24        M     BLACK    1017119   \n",
       "7              40                 0     25-44        M     WHITE    1010679   \n",
       "8              44                 0     25-44        F     BLACK    1004489   \n",
       "9              61                 0     18-24        M     BLACK     995834   \n",
       "\n",
       "  Y_COORD_CD           Latitude           Longitude  \\\n",
       "0     240290  40.82618898100003  -73.90973778899996   \n",
       "1     185050  40.67458330800008  -73.93022154099998   \n",
       "2     159210  40.60344094100003  -73.76598558899997   \n",
       "3     244511  40.83778161800007  -73.91945797099999   \n",
       "4     243859  40.83598980000005  -73.91627635999998   \n",
       "5     228177  40.79296572700008  -73.94796350499998   \n",
       "6     183909  40.67141166300007  -73.88151172399995   \n",
       "7     234533  40.81038342800008  -73.90452841699994   \n",
       "8     237844  40.81948754300004       -73.926879392   \n",
       "9     161062  40.60875497300003  -73.95828138999997   \n",
       "\n",
       "                       New Georeferenced Column  \n",
       "0  POINT (-73.90973778899996 40.82618898100003)  \n",
       "1  POINT (-73.93022154099998 40.67458330800008)  \n",
       "2  POINT (-73.76598558899997 40.60344094100003)  \n",
       "3  POINT (-73.91945797099999 40.83778161800007)  \n",
       "4  POINT (-73.91627635999998 40.83598980000005)  \n",
       "5  POINT (-73.94796350499998 40.79296572700008)  \n",
       "6  POINT (-73.88151172399995 40.67141166300007)  \n",
       "7  POINT (-73.90452841699994 40.81038342800008)  \n",
       "8       POINT (-73.926879392 40.81948754300004)  \n",
       "9  POINT (-73.95828138999997 40.60875497300003)  "
      ]
     },
     "execution_count": 5,
     "metadata": {},
     "output_type": "execute_result"
    }
   ],
   "source": [
    "ds_full.head()"
   ]
  },
  {
   "cell_type": "markdown",
   "metadata": {},
   "source": [
    "#### Use openclean to profile the data set:"
   ]
  },
  {
   "cell_type": "code",
   "execution_count": 6,
   "metadata": {},
   "outputs": [],
   "source": [
    "from openclean.profiling.column import DefaultColumnProfiler\n",
    "\n",
    "#profiles = ds.profile(default_profiler=DefaultColumnProfiler)\n",
    "profiles = ds_full.profile(default_profiler=DefaultColumnProfiler)"
   ]
  },
  {
   "cell_type": "code",
   "execution_count": 7,
   "metadata": {
    "scrolled": true
   },
   "outputs": [
    {
     "data": {
      "text/html": [
       "<div>\n",
       "<style scoped>\n",
       "    .dataframe tbody tr th:only-of-type {\n",
       "        vertical-align: middle;\n",
       "    }\n",
       "\n",
       "    .dataframe tbody tr th {\n",
       "        vertical-align: top;\n",
       "    }\n",
       "\n",
       "    .dataframe thead th {\n",
       "        text-align: right;\n",
       "    }\n",
       "</style>\n",
       "<table border=\"1\" class=\"dataframe\">\n",
       "  <thead>\n",
       "    <tr style=\"text-align: right;\">\n",
       "      <th></th>\n",
       "      <th>total</th>\n",
       "      <th>empty</th>\n",
       "      <th>distinct</th>\n",
       "      <th>uniqueness</th>\n",
       "      <th>entropy</th>\n",
       "    </tr>\n",
       "  </thead>\n",
       "  <tbody>\n",
       "    <tr>\n",
       "      <th>ARREST_KEY</th>\n",
       "      <td>115299</td>\n",
       "      <td>0</td>\n",
       "      <td>115299</td>\n",
       "      <td>1.000000</td>\n",
       "      <td>16.815020</td>\n",
       "    </tr>\n",
       "    <tr>\n",
       "      <th>ARREST_DATE</th>\n",
       "      <td>115299</td>\n",
       "      <td>0</td>\n",
       "      <td>273</td>\n",
       "      <td>0.002368</td>\n",
       "      <td>8.047698</td>\n",
       "    </tr>\n",
       "    <tr>\n",
       "      <th>PD_CD</th>\n",
       "      <td>115299</td>\n",
       "      <td>21</td>\n",
       "      <td>252</td>\n",
       "      <td>0.002186</td>\n",
       "      <td>5.401154</td>\n",
       "    </tr>\n",
       "    <tr>\n",
       "      <th>PD_DESC</th>\n",
       "      <td>115299</td>\n",
       "      <td>61</td>\n",
       "      <td>233</td>\n",
       "      <td>0.002022</td>\n",
       "      <td>5.366524</td>\n",
       "    </tr>\n",
       "    <tr>\n",
       "      <th>KY_CD</th>\n",
       "      <td>115299</td>\n",
       "      <td>61</td>\n",
       "      <td>66</td>\n",
       "      <td>0.000573</td>\n",
       "      <td>4.534242</td>\n",
       "    </tr>\n",
       "    <tr>\n",
       "      <th>OFNS_DESC</th>\n",
       "      <td>115299</td>\n",
       "      <td>61</td>\n",
       "      <td>63</td>\n",
       "      <td>0.000547</td>\n",
       "      <td>4.339051</td>\n",
       "    </tr>\n",
       "    <tr>\n",
       "      <th>LAW_CODE</th>\n",
       "      <td>115299</td>\n",
       "      <td>0</td>\n",
       "      <td>922</td>\n",
       "      <td>0.007997</td>\n",
       "      <td>6.328932</td>\n",
       "    </tr>\n",
       "    <tr>\n",
       "      <th>LAW_CAT_CD</th>\n",
       "      <td>115299</td>\n",
       "      <td>1078</td>\n",
       "      <td>4</td>\n",
       "      <td>0.000035</td>\n",
       "      <td>1.032090</td>\n",
       "    </tr>\n",
       "    <tr>\n",
       "      <th>ARREST_BORO</th>\n",
       "      <td>115299</td>\n",
       "      <td>0</td>\n",
       "      <td>5</td>\n",
       "      <td>0.000043</td>\n",
       "      <td>2.172560</td>\n",
       "    </tr>\n",
       "    <tr>\n",
       "      <th>ARREST_PRECINCT</th>\n",
       "      <td>115299</td>\n",
       "      <td>0</td>\n",
       "      <td>77</td>\n",
       "      <td>0.000668</td>\n",
       "      <td>6.119069</td>\n",
       "    </tr>\n",
       "    <tr>\n",
       "      <th>JURISDICTION_CODE</th>\n",
       "      <td>115299</td>\n",
       "      <td>0</td>\n",
       "      <td>25</td>\n",
       "      <td>0.000217</td>\n",
       "      <td>0.618718</td>\n",
       "    </tr>\n",
       "    <tr>\n",
       "      <th>AGE_GROUP</th>\n",
       "      <td>115299</td>\n",
       "      <td>0</td>\n",
       "      <td>5</td>\n",
       "      <td>0.000043</td>\n",
       "      <td>1.615421</td>\n",
       "    </tr>\n",
       "    <tr>\n",
       "      <th>PERP_SEX</th>\n",
       "      <td>115299</td>\n",
       "      <td>0</td>\n",
       "      <td>2</td>\n",
       "      <td>0.000017</td>\n",
       "      <td>0.654703</td>\n",
       "    </tr>\n",
       "    <tr>\n",
       "      <th>PERP_RACE</th>\n",
       "      <td>115299</td>\n",
       "      <td>0</td>\n",
       "      <td>7</td>\n",
       "      <td>0.000061</td>\n",
       "      <td>1.943492</td>\n",
       "    </tr>\n",
       "    <tr>\n",
       "      <th>X_COORD_CD</th>\n",
       "      <td>115299</td>\n",
       "      <td>0</td>\n",
       "      <td>23851</td>\n",
       "      <td>0.206862</td>\n",
       "      <td>12.430475</td>\n",
       "    </tr>\n",
       "    <tr>\n",
       "      <th>Y_COORD_CD</th>\n",
       "      <td>115299</td>\n",
       "      <td>0</td>\n",
       "      <td>25306</td>\n",
       "      <td>0.219482</td>\n",
       "      <td>12.501218</td>\n",
       "    </tr>\n",
       "    <tr>\n",
       "      <th>Latitude</th>\n",
       "      <td>115299</td>\n",
       "      <td>0</td>\n",
       "      <td>28856</td>\n",
       "      <td>0.250271</td>\n",
       "      <td>12.637352</td>\n",
       "    </tr>\n",
       "    <tr>\n",
       "      <th>Longitude</th>\n",
       "      <td>115299</td>\n",
       "      <td>0</td>\n",
       "      <td>28855</td>\n",
       "      <td>0.250262</td>\n",
       "      <td>12.637364</td>\n",
       "    </tr>\n",
       "    <tr>\n",
       "      <th>New Georeferenced Column</th>\n",
       "      <td>115299</td>\n",
       "      <td>0</td>\n",
       "      <td>28859</td>\n",
       "      <td>0.250297</td>\n",
       "      <td>12.637470</td>\n",
       "    </tr>\n",
       "  </tbody>\n",
       "</table>\n",
       "</div>"
      ],
      "text/plain": [
       "                           total  empty  distinct  uniqueness    entropy\n",
       "ARREST_KEY                115299      0    115299    1.000000  16.815020\n",
       "ARREST_DATE               115299      0       273    0.002368   8.047698\n",
       "PD_CD                     115299     21       252    0.002186   5.401154\n",
       "PD_DESC                   115299     61       233    0.002022   5.366524\n",
       "KY_CD                     115299     61        66    0.000573   4.534242\n",
       "OFNS_DESC                 115299     61        63    0.000547   4.339051\n",
       "LAW_CODE                  115299      0       922    0.007997   6.328932\n",
       "LAW_CAT_CD                115299   1078         4    0.000035   1.032090\n",
       "ARREST_BORO               115299      0         5    0.000043   2.172560\n",
       "ARREST_PRECINCT           115299      0        77    0.000668   6.119069\n",
       "JURISDICTION_CODE         115299      0        25    0.000217   0.618718\n",
       "AGE_GROUP                 115299      0         5    0.000043   1.615421\n",
       "PERP_SEX                  115299      0         2    0.000017   0.654703\n",
       "PERP_RACE                 115299      0         7    0.000061   1.943492\n",
       "X_COORD_CD                115299      0     23851    0.206862  12.430475\n",
       "Y_COORD_CD                115299      0     25306    0.219482  12.501218\n",
       "Latitude                  115299      0     28856    0.250271  12.637352\n",
       "Longitude                 115299      0     28855    0.250262  12.637364\n",
       "New Georeferenced Column  115299      0     28859    0.250297  12.637470"
      ]
     },
     "execution_count": 7,
     "metadata": {},
     "output_type": "execute_result"
    }
   ],
   "source": [
    "profiles.stats()"
   ]
  },
  {
   "cell_type": "markdown",
   "metadata": {},
   "source": [
    "### Field Name & Description:\n",
    "    'CMPLNT_NUM' (int)                 Complaint Number\n",
    "    'CMPLNT_FR_DT' (date)              Complaint From Date\n",
    "    'CMPLNT_FR_TM' (date)              Complaint From Time\n",
    "    'CMPLNT_TO_DT' (date)              Complaint To Date\n",
    "    'CMPLNT_TO_TM' (date)              Complaint To Time\n",
    "    'ADDR_PCT_CD' (int)                Code of Precinct in which the Incident Occured\n",
    "    'RPT_DT' (date)                    Report Date\n",
    "    'KY_CD' (int)                      \"Key Code\": Offense Classification Code (3 digits)\n",
    "    'OFNS_DESC' (str)                  Offense Description\n",
    "    'PD_CD' (int)                      PD Code of Offense. More granular than Key Code\n",
    "    'PD_DESC' (str)                    PD Description of Offense.\n",
    "    'CRM_ATPT_CPTD_CD' (str)           Whether Crime was Atempted or Completed (values: 'COMPLETED', 'ATTEMPTED')\n",
    "    'LAW_CAT_CD' (str)                 Level of Offense (values: 'FELONY', 'VIOLATION', 'MISDEMEANOR')\n",
    "    'BORO_NM' (str)                    Name of Borough in which Incident Occurred\n",
    "    'LOC_OF_OCCUR_DESC' (str)          Description of where the incident occurred with respect to the premises\n",
    "                                       (values:'FRONT OF', 'REAR OF', 'OUTSIDE', 'INSIDE', 'OPPOSITE OF')\n",
    "    'PREM_TYP_DESC' (str)              Description of the type of premises in which the Incident Occurred\n",
    "    'JURIS_DESC' (str)                 Description of Jurisdiction in which Incident Occurred\n",
    "    'JURISDICTION_CODE' (int)          Jurisdiction Code\n",
    "    'PARKS_NM' (str)                   Name of Park in which Incident Occurred, if Applicable\n",
    "    'HADEVELOPT' (str)                 Name of NYCHA Housing Development in which Incident Occurred, if Applicable\n",
    "    'HOUSING_PSA' (int)                Housing PSA\n",
    "    'X_COORD_CD' (int)                 X-coordinate, New York State Plane Coordinate System\n",
    "    'Y_COORD_CD' (int)                 Y-coordinate, New York State Plane Coordinate System\n",
    "    'SUSP_AGE_GROUP' (int)             Age Group of Suspect\n",
    "    'SUSP_RACE' (str)                  Race of Suspect\n",
    "    'SUSP_SEX' (str)                   Sex of Suspect\n",
    "    'TRANSIT_DISTRICT' (int)           Transit-District code\n",
    "    'Latitude' (float)                 Global Latitude of Location where Incident Occurred\n",
    "    'Longitude' (float)                Global Longitude of Location where Incident Occured\n",
    "    'Lat_Lon' (str)                    'Latitude' and 'Longitude' together\n",
    "    'PATROL_BORO' (str)                Patrol Borough\n",
    "    'STATION_NAME' (str)               Station Name\n",
    "    'VIC_AGE_GROUP' (int)              Age Group of Victim\n",
    "    'VIC_RACE' (str)                   Race of Victim\n",
    "    'VIC_SEX' (str)                    Sex of Victim\n",
    "    \n",
    "    \n",
    "    (Note: some field descriptions were taken from https://www1.nyc.gov/assets/nypd/downloads/pdf/analysis_and_planning/incident_level_data_footnotes.pdf)\n",
    "   "
   ]
  },
  {
   "cell_type": "markdown",
   "metadata": {},
   "source": [
    "## Profiling & Cleaning of each field in the data set"
   ]
  },
  {
   "cell_type": "code",
   "execution_count": 9,
   "metadata": {},
   "outputs": [
    {
     "data": {
      "text/html": [
       "<div>\n",
       "<style scoped>\n",
       "    .dataframe tbody tr th:only-of-type {\n",
       "        vertical-align: middle;\n",
       "    }\n",
       "\n",
       "    .dataframe tbody tr th {\n",
       "        vertical-align: top;\n",
       "    }\n",
       "\n",
       "    .dataframe thead th {\n",
       "        text-align: right;\n",
       "    }\n",
       "</style>\n",
       "<table border=\"1\" class=\"dataframe\">\n",
       "  <thead>\n",
       "    <tr style=\"text-align: right;\">\n",
       "      <th></th>\n",
       "      <th>min</th>\n",
       "      <th>max</th>\n",
       "    </tr>\n",
       "  </thead>\n",
       "  <tbody>\n",
       "    <tr>\n",
       "      <th>int</th>\n",
       "      <td>222471128</td>\n",
       "      <td>234352983</td>\n",
       "    </tr>\n",
       "  </tbody>\n",
       "</table>\n",
       "</div>"
      ],
      "text/plain": [
       "           min        max\n",
       "int  222471128  234352983"
      ]
     },
     "execution_count": 9,
     "metadata": {},
     "output_type": "execute_result"
    }
   ],
   "source": [
    "profiles.minmax('ARREST_KEY')"
   ]
  },
  {
   "cell_type": "code",
   "execution_count": 10,
   "metadata": {},
   "outputs": [
    {
     "data": {
      "text/html": [
       "<div>\n",
       "<style scoped>\n",
       "    .dataframe tbody tr th:only-of-type {\n",
       "        vertical-align: middle;\n",
       "    }\n",
       "\n",
       "    .dataframe tbody tr th {\n",
       "        vertical-align: top;\n",
       "    }\n",
       "\n",
       "    .dataframe thead th {\n",
       "        text-align: right;\n",
       "    }\n",
       "</style>\n",
       "<table border=\"1\" class=\"dataframe\">\n",
       "  <thead>\n",
       "    <tr style=\"text-align: right;\">\n",
       "      <th></th>\n",
       "      <th>min</th>\n",
       "      <th>max</th>\n",
       "    </tr>\n",
       "  </thead>\n",
       "  <tbody>\n",
       "    <tr>\n",
       "      <th>date</th>\n",
       "      <td>2021-01-01</td>\n",
       "      <td>2021-09-30</td>\n",
       "    </tr>\n",
       "  </tbody>\n",
       "</table>\n",
       "</div>"
      ],
      "text/plain": [
       "            min        max\n",
       "date 2021-01-01 2021-09-30"
      ]
     },
     "execution_count": 10,
     "metadata": {},
     "output_type": "execute_result"
    }
   ],
   "source": [
    "profiles.minmax('ARREST_DATE')"
   ]
  },
  {
   "cell_type": "code",
   "execution_count": 11,
   "metadata": {},
   "outputs": [],
   "source": [
    "from datetime import datetime\n",
    "#datetime.strptime('2014-12-04', '%Y-%m-%d').date()\n",
    "\n",
    "\n",
    "def validate_date(sourceValue):\n",
    "    dummy_date = datetime.strptime(\"01/01/1000\", '%m/%d/%Y').date()\n",
    "    \n",
    "    try:\n",
    "        source_date = sourceValue\n",
    "        start_date = datetime.strptime(\"01/01/2021\", '%m/%d/%Y').date()\n",
    "        end_date = datetime.strptime(\"09/31/2021\", '%m/%d/%Y').date()\n",
    "    \n",
    "        if source_date == '':\n",
    "            source_date = dummy_date\n",
    "        \n",
    "        source_date = datetime.strptime(sourceValue, '%m/%d/%Y').date()\n",
    "        \n",
    "        if source_date >= start_date and source_date <= end_date:\n",
    "            return source_date\n",
    "        else:\n",
    "            return dummy_date\n",
    "    except:\n",
    "        return dummy_date\n",
    "    \n",
    "\n",
    "ds_full = ds_full.update('ARREST_DATE', validate_date)"
   ]
  },
  {
   "cell_type": "code",
   "execution_count": 12,
   "metadata": {},
   "outputs": [
    {
     "data": {
      "text/html": [
       "<div>\n",
       "<style scoped>\n",
       "    .dataframe tbody tr th:only-of-type {\n",
       "        vertical-align: middle;\n",
       "    }\n",
       "\n",
       "    .dataframe tbody tr th {\n",
       "        vertical-align: top;\n",
       "    }\n",
       "\n",
       "    .dataframe thead th {\n",
       "        text-align: right;\n",
       "    }\n",
       "</style>\n",
       "<table border=\"1\" class=\"dataframe\">\n",
       "  <thead>\n",
       "    <tr style=\"text-align: right;\">\n",
       "      <th></th>\n",
       "      <th>min</th>\n",
       "      <th>max</th>\n",
       "    </tr>\n",
       "  </thead>\n",
       "  <tbody>\n",
       "    <tr>\n",
       "      <th>int</th>\n",
       "      <td>1</td>\n",
       "      <td>123</td>\n",
       "    </tr>\n",
       "  </tbody>\n",
       "</table>\n",
       "</div>"
      ],
      "text/plain": [
       "     min  max\n",
       "int    1  123"
      ]
     },
     "execution_count": 12,
     "metadata": {},
     "output_type": "execute_result"
    }
   ],
   "source": [
    "profiles.minmax('ARREST_PRECINCT')"
   ]
  },
  {
   "cell_type": "code",
   "execution_count": 13,
   "metadata": {},
   "outputs": [
    {
     "data": {
      "text/plain": [
       "[('14', 3301),\n",
       " ('44', 3205),\n",
       " ('75', 3178),\n",
       " ('40', 3040),\n",
       " ('47', 2640),\n",
       " ('114', 2568),\n",
       " ('43', 2509),\n",
       " ('103', 2491),\n",
       " ('46', 2438),\n",
       " ('52', 2399)]"
      ]
     },
     "execution_count": 13,
     "metadata": {},
     "output_type": "execute_result"
    }
   ],
   "source": [
    "profiles.column('ARREST_PRECINCT').get('topValues')"
   ]
  },
  {
   "cell_type": "code",
   "execution_count": 14,
   "metadata": {},
   "outputs": [
    {
     "data": {
      "text/html": [
       "<div>\n",
       "<style scoped>\n",
       "    .dataframe tbody tr th:only-of-type {\n",
       "        vertical-align: middle;\n",
       "    }\n",
       "\n",
       "    .dataframe tbody tr th {\n",
       "        vertical-align: top;\n",
       "    }\n",
       "\n",
       "    .dataframe thead th {\n",
       "        text-align: right;\n",
       "    }\n",
       "</style>\n",
       "<table border=\"1\" class=\"dataframe\">\n",
       "  <thead>\n",
       "    <tr style=\"text-align: right;\">\n",
       "      <th></th>\n",
       "      <th>min</th>\n",
       "      <th>max</th>\n",
       "    </tr>\n",
       "  </thead>\n",
       "  <tbody>\n",
       "    <tr>\n",
       "      <th>int</th>\n",
       "      <td>101</td>\n",
       "      <td>995</td>\n",
       "    </tr>\n",
       "  </tbody>\n",
       "</table>\n",
       "</div>"
      ],
      "text/plain": [
       "     min  max\n",
       "int  101  995"
      ]
     },
     "execution_count": 14,
     "metadata": {},
     "output_type": "execute_result"
    }
   ],
   "source": [
    "profiles.minmax('KY_CD')"
   ]
  },
  {
   "cell_type": "code",
   "execution_count": 15,
   "metadata": {},
   "outputs": [
    {
     "data": {
      "text/plain": [
       "[('344', 19937),\n",
       " ('106', 11472),\n",
       " ('341', 9132),\n",
       " ('126', 7577),\n",
       " ('105', 5706),\n",
       " ('109', 4760),\n",
       " ('117', 4260),\n",
       " ('118', 4135),\n",
       " ('348', 3995),\n",
       " ('235', 3903)]"
      ]
     },
     "execution_count": 15,
     "metadata": {},
     "output_type": "execute_result"
    }
   ],
   "source": [
    "profiles.column('KY_CD').get('topValues')"
   ]
  },
  {
   "cell_type": "code",
   "execution_count": 16,
   "metadata": {},
   "outputs": [
    {
     "data": {
      "text/plain": [
       "[('ASSAULT 3 & RELATED OFFENSES', 19937),\n",
       " ('FELONY ASSAULT', 11472),\n",
       " ('PETIT LARCENY', 9132),\n",
       " ('DANGEROUS DRUGS', 8163),\n",
       " ('MISCELLANEOUS PENAL LAW', 7629),\n",
       " ('CRIMINAL MISCHIEF & RELATED OF', 7007),\n",
       " ('ROBBERY', 5706),\n",
       " ('DANGEROUS WEAPONS', 5460),\n",
       " ('GRAND LARCENY', 4760),\n",
       " ('VEHICLE AND TRAFFIC LAWS', 3995)]"
      ]
     },
     "execution_count": 16,
     "metadata": {},
     "output_type": "execute_result"
    }
   ],
   "source": [
    "profiles.column('OFNS_DESC').get('topValues')"
   ]
  },
  {
   "cell_type": "code",
   "execution_count": 17,
   "metadata": {
    "scrolled": true
   },
   "outputs": [
    {
     "data": {
      "text/plain": [
       "Counter({'FELONY ASSAULT': 11472,\n",
       "         'RAPE': 459,\n",
       "         'ASSAULT 3 & RELATED OFFENSES': 19937,\n",
       "         '': 61,\n",
       "         'ROBBERY': 5706,\n",
       "         'BURGLARY': 3507,\n",
       "         'SEX CRIMES': 2600,\n",
       "         'ARSON': 86,\n",
       "         'OFFENSES AGAINST PUBLIC ADMINI': 3462,\n",
       "         'DANGEROUS DRUGS': 8163,\n",
       "         'MISCELLANEOUS PENAL LAW': 7629,\n",
       "         'FORGERY': 2487,\n",
       "         'PETIT LARCENY': 9132,\n",
       "         'POSSESSION OF STOLEN PROPERTY': 1359,\n",
       "         'VEHICLE AND TRAFFIC LAWS': 3995,\n",
       "         'INTOXICATED/IMPAIRED DRIVING': 284,\n",
       "         'NYS LAWS-UNCLASSIFIED FELONY': 566,\n",
       "         'CRIMINAL MISCHIEF & RELATED OF': 7007,\n",
       "         'DANGEROUS WEAPONS': 5460,\n",
       "         'OFFENSES INVOLVING FRAUD': 2966,\n",
       "         'GRAND LARCENY': 4760,\n",
       "         'OTHER TRAFFIC INFRACTION': 1209,\n",
       "         'OFF. AGNST PUB ORD SENSBLTY &': 2548,\n",
       "         'MURDER & NON-NEGL. MANSLAUGHTE': 1157,\n",
       "         'ALCOHOLIC BEVERAGE CONTROL LAW': 279,\n",
       "         'GAMBLING': 244,\n",
       "         'FOR OTHER AUTHORITIES': 1078,\n",
       "         \"BURGLAR'S TOOLS\": 292,\n",
       "         'UNAUTHORIZED USE OF A VEHICLE': 350,\n",
       "         'CRIMINAL TRESPASS': 945,\n",
       "         'OFFENSES AGAINST THE PERSON': 737,\n",
       "         'THEFT OF SERVICES': 137,\n",
       "         'GRAND LARCENY OF MOTOR VEHICLE': 840,\n",
       "         'OTHER OFFENSES RELATED TO THEF': 971,\n",
       "         'OTHER STATE LAWS (NON PENAL LA': 490,\n",
       "         'INTOXICATED & IMPAIRED DRIVING': 1711,\n",
       "         'AGRICULTURE & MRKTS LAW-UNCLASSIFIED': 57,\n",
       "         'FRAUDS': 244,\n",
       "         'OTHER STATE LAWS': 110,\n",
       "         'THEFT-FRAUD': 149,\n",
       "         'ADMINISTRATIVE CODE': 66,\n",
       "         'PROSTITUTION & RELATED OFFENSES': 163,\n",
       "         'MOVING INFRACTIONS': 23,\n",
       "         'KIDNAPPING & RELATED OFFENSES': 62,\n",
       "         'FRAUDULENT ACCOSTING': 25,\n",
       "         'CHILD ABANDONMENT/NON SUPPORT': 25,\n",
       "         'OFFENSES AGAINST PUBLIC SAFETY': 67,\n",
       "         'HARRASSMENT 2': 33,\n",
       "         'HOMICIDE-NEGLIGENT,UNCLASSIFIE': 20,\n",
       "         'ENDAN WELFARE INCOMP': 28,\n",
       "         'ANTICIPATORY OFFENSES': 56,\n",
       "         'DISORDERLY CONDUCT': 27,\n",
       "         'HOMICIDE-NEGLIGENT-VEHICLE': 6,\n",
       "         'FELONY SEX CRIMES': 2,\n",
       "         'PARKING OFFENSES': 2,\n",
       "         'ESCAPE 3': 6,\n",
       "         'JOSTLING': 4,\n",
       "         'ADMINISTRATIVE CODES': 2,\n",
       "         'OTHER STATE LAWS (NON PENAL LAW)': 14,\n",
       "         'NEW YORK CITY HEALTH CODE': 1,\n",
       "         'KIDNAPPING AND RELATED OFFENSES': 1,\n",
       "         'KIDNAPPING': 9,\n",
       "         'LOITERING/GAMBLING (CARDS, DIC': 4,\n",
       "         'OFFENSES RELATED TO CHILDREN': 7})"
      ]
     },
     "execution_count": 17,
     "metadata": {},
     "output_type": "execute_result"
    }
   ],
   "source": [
    "ds_full.distinct('OFNS_DESC')"
   ]
  },
  {
   "cell_type": "code",
   "execution_count": 18,
   "metadata": {},
   "outputs": [
    {
     "data": {
      "text/html": [
       "<div>\n",
       "<style scoped>\n",
       "    .dataframe tbody tr th:only-of-type {\n",
       "        vertical-align: middle;\n",
       "    }\n",
       "\n",
       "    .dataframe tbody tr th {\n",
       "        vertical-align: top;\n",
       "    }\n",
       "\n",
       "    .dataframe thead th {\n",
       "        text-align: right;\n",
       "    }\n",
       "</style>\n",
       "<table border=\"1\" class=\"dataframe\">\n",
       "  <thead>\n",
       "    <tr style=\"text-align: right;\">\n",
       "      <th></th>\n",
       "      <th>min</th>\n",
       "      <th>max</th>\n",
       "    </tr>\n",
       "  </thead>\n",
       "  <tbody>\n",
       "    <tr>\n",
       "      <th>int</th>\n",
       "      <td>0</td>\n",
       "      <td>997</td>\n",
       "    </tr>\n",
       "  </tbody>\n",
       "</table>\n",
       "</div>"
      ],
      "text/plain": [
       "     min  max\n",
       "int    0  997"
      ]
     },
     "execution_count": 18,
     "metadata": {},
     "output_type": "execute_result"
    }
   ],
   "source": [
    "profiles.minmax('PD_CD')"
   ]
  },
  {
   "cell_type": "code",
   "execution_count": 19,
   "metadata": {},
   "outputs": [
    {
     "data": {
      "text/plain": [
       "[('101', 14678),\n",
       " ('339', 9110),\n",
       " ('109', 8591),\n",
       " ('397', 5678),\n",
       " ('779', 5256),\n",
       " ('439', 4100),\n",
       " ('922', 3728),\n",
       " ('792', 3461),\n",
       " ('113', 3296),\n",
       " ('244', 3208)]"
      ]
     },
     "execution_count": 19,
     "metadata": {},
     "output_type": "execute_result"
    }
   ],
   "source": [
    "# Print the most frequent values in column ''\n",
    "\n",
    "profiles.column('PD_CD').get('topValues')"
   ]
  },
  {
   "cell_type": "code",
   "execution_count": 21,
   "metadata": {
    "scrolled": true
   },
   "outputs": [
    {
     "data": {
      "text/plain": [
       "[('ASSAULT 3', 14678),\n",
       " ('LARCENY,PETIT FROM OPEN AREAS,', 9110),\n",
       " ('ASSAULT 2,1,UNCLASSIFIED', 8591),\n",
       " ('ROBBERY,OPEN AREA UNCLASSIFIED', 5678),\n",
       " ('PUBLIC ADMINISTRATION,UNCLASSI', 5256),\n",
       " ('LARCENY,GRAND FROM OPEN AREAS, UNATTENDED', 4100),\n",
       " ('TRAFFIC,UNCLASSIFIED MISDEMEAN', 3728),\n",
       " ('CONTROLLED SUBSTANCE, POSSESSI', 3463),\n",
       " ('WEAPONS POSSESSION 1 & 2', 3461),\n",
       " ('MENACING,UNCLASSIFIED', 3296)]"
      ]
     },
     "execution_count": 21,
     "metadata": {},
     "output_type": "execute_result"
    }
   ],
   "source": [
    "# Print the most frequent values in column 'PD_DESC'\n",
    "\n",
    "profiles.column('PD_DESC').get('topValues')"
   ]
  },
  {
   "cell_type": "code",
   "execution_count": 22,
   "metadata": {},
   "outputs": [
    {
     "data": {
      "text/plain": [
       "Counter({'STRANGULATION 1ST': 2106,\n",
       "         'RAPE 1': 258,\n",
       "         'ASSAULT 2,1,UNCLASSIFIED': 8591,\n",
       "         'ASSAULT 3': 14678,\n",
       "         '': 61,\n",
       "         'ROBBERY,OPEN AREA UNCLASSIFIED': 5678,\n",
       "         'BURGLARY,UNCLASSIFIED,UNKNOWN': 3208,\n",
       "         'SODOMY 2': 9,\n",
       "         'RAPE 3': 149,\n",
       "         'ARSON 2,3,4': 81,\n",
       "         'CONTEMPT,CRIMINAL': 1815,\n",
       "         'CONTROLLED SUBSTANCE,SALE 3': 937,\n",
       "         'PUBLIC ADMINISTRATION,UNCLASSI': 5256,\n",
       "         'CHILD, ENDANGERING WELFARE': 1351,\n",
       "         'FORGERY,ETC.,UNCLASSIFIED-FELO': 2444,\n",
       "         'CONSPIRACY 2, 1': 103,\n",
       "         'RAPE 2': 52,\n",
       "         'SEXUAL ABUSE': 258,\n",
       "         'LARCENY,PETIT FROM OPEN AREAS,': 9110,\n",
       "         'SEXUAL ABUSE 3,2': 716,\n",
       "         'RESISTING ARREST': 879,\n",
       "         'STOLEN PROPERTY 3,POSSESSION': 534,\n",
       "         'TRAFFIC,UNCLASSIFIED MISDEMEAN': 3728,\n",
       "         'CONTROLLED SUBSTANCE, POSSESSI': 3463,\n",
       "         'INTOXICATED DRIVING,ALCOHOL': 1919,\n",
       "         'NY STATE LAWS,UNCLASSIFIED FEL': 558,\n",
       "         'CRIMINAL MISCHIEF,UNCLASSIFIED 4': 2540,\n",
       "         'MENACING,UNCLASSIFIED': 3296,\n",
       "         'WEAPONS POSSESSION 1 & 2': 3461,\n",
       "         'FORGERY,ETC.-MISD.': 2956,\n",
       "         'LARCENY,GRAND FROM OPEN AREAS, UNATTENDED': 4100,\n",
       "         'WEAPONS, POSSESSION, ETC': 1320,\n",
       "         'STOLEN PROPERTY-MOTOR VEH 2ND,': 150,\n",
       "         'TRAFFIC,UNCLASSIFIED INFRACTIO': 1109,\n",
       "         'POSSESSION HYPODERMIC INSTRUME': 31,\n",
       "         'AGGRAVATED HARASSMENT 2': 2165,\n",
       "         'CRIMINAL MIS 2 & 3': 2617,\n",
       "         'MANSLAUGHTER,UNCLASSIFIED - NO': 35,\n",
       "         'ALCOHOLIC BEVERAGE CONTROL LAW': 279,\n",
       "         'RECKLESS ENDANGERMENT 1': 580,\n",
       "         'GAMBLING, DEVICE, POSSESSION': 66,\n",
       "         'CONTROLLED SUBSTANCE,INTENT TO': 1852,\n",
       "         'FALSE REPORT UNCLASSIFIED': 67,\n",
       "         'U.S. CODE UNCLASSIFIED': 974,\n",
       "         'BURGLARS TOOLS,UNCLASSIFIED': 292,\n",
       "         'UNAUTHORIZED USE VEHICLE 3': 350,\n",
       "         'LARCENY,GRAND BY EXTORTION': 56,\n",
       "         'TRESPASS 2, CRIMINAL': 339,\n",
       "         'STOLEN PROPERTY 2,1,POSSESSION': 674,\n",
       "         'OBSTR BREATH/CIRCUL': 1963,\n",
       "         'CRIMINAL MISCHIEF 4TH, GRAFFIT': 941,\n",
       "         'ASSAULT POLICE/PEACE OFFICER': 775,\n",
       "         'PUBLIC ADMINISTATION,UNCLASS M': 641,\n",
       "         'RECKLESS ENDANGERMENT 2': 645,\n",
       "         'TRESPASS 3, CRIMINAL': 606,\n",
       "         'POSS METH MANUFACT MATERIAL': 6,\n",
       "         'MISCHIEF,CRIMINAL,    UNCL 2ND': 435,\n",
       "         'UNAUTH. SALE OF TRANS. SERVICE': 137,\n",
       "         'LARCENY,GRAND OF AUTO': 840,\n",
       "         'LARCENY,GRAND FROM PERSON,UNCL': 500,\n",
       "         'THEFT OF SERVICES, UNCLASSIFIE': 940,\n",
       "         'LARCENY,PETIT BY ACQUIRING LOS': 22,\n",
       "         'AGGRAVATED CRIMINAL CONTEMPT': 160,\n",
       "         'LEAVING THE SCENE / PROPERTY DAMAGE / INJURED ANIMAL': 92,\n",
       "         'MENACING 1ST DEGREE (VICT NOT': 129,\n",
       "         'WEAPONS POSSESSION 3': 661,\n",
       "         'MURDER,UNCLASSIFIED': 1122,\n",
       "         'NY STATE LAWS,UNCLASSIFIED MIS': 406,\n",
       "         'LEWDNESS,PUBLIC': 188,\n",
       "         'BRIBERY,PUBLIC ADMINISTRATION': 178,\n",
       "         'TORTURE/INJURE ANIMAL CRUELTY': 56,\n",
       "         'CRIMINAL CONTEMPT 1': 440,\n",
       "         'UNAUTHORIZED USE VEHICLE 2': 210,\n",
       "         'SODOMY 1': 94,\n",
       "         'IMPERSONATION 2, PUBLIC SERVAN': 209,\n",
       "         'MISCHIEF, CRIMINAL 4, BY FIRE': 21,\n",
       "         'CONTROLLED SUBSTANCE, INTENT T': 305,\n",
       "         'RECKLESS DRIVING': 58,\n",
       "         'CONTROLLED SUBSTANCE,POSSESS.': 506,\n",
       "         'AGGRAVATED HARASSMENT 1': 70,\n",
       "         'CONTROLLED SUBSTANCE,SALE 1': 54,\n",
       "         'FORGERY-ILLEGAL POSSESSION,VEH': 164,\n",
       "         'NY STATE LAWS,UNCLASSIFIED VIO': 110,\n",
       "         'LEAVING SCENE-ACCIDENT-PERSONA': 209,\n",
       "         'GAMBLING 2,PROMOTING,UNCLASSIF': 146,\n",
       "         'TRESPASS 4,CRIMINAL SUB 2': 15,\n",
       "         'PERJURY 3,ETC.': 82,\n",
       "         'TAX LAW': 78,\n",
       "         'FRAUD,UNCLASSIFIED-FELONY': 127,\n",
       "         'ALCOHOLIC BEVERAGES,PUBLIC CON': 35,\n",
       "         'FRAUD,UNCLASSIFIED-MISDEMEANOR': 33,\n",
       "         'CONTROLLED SUBSTANCE,SALE 2': 64,\n",
       "         'PROSTITUTION': 66,\n",
       "         'BURGLARY,RESIDENCE,NIGHT': 299,\n",
       "         'CONSPIRACY 4, 3': 43,\n",
       "         'BAIL JUMPING 1 & 2': 58,\n",
       "         'DRUG PARAPHERNALIA,   POSSESSE': 272,\n",
       "         'OBSCENE MATERIAL - UNDER 17 YE': 36,\n",
       "         'UNLICENSED OPERATOR': 17,\n",
       "         'AGGRAVATED GRAND LARCENY OF ATM': 92,\n",
       "         'COURSE OF SEXUAL CONDUCT AGAIN': 46,\n",
       "         'SEXUAL MISCONDUCT,INTERCOURSE': 24,\n",
       "         'TAMPERING 1,CRIMINAL': 376,\n",
       "         'FORGERY,M.V. REGISTRATION': 40,\n",
       "         'CUSTODIAL INTERFERENCE 1': 10,\n",
       "         'IMPRISONMENT 2,UNLAWFUL': 84,\n",
       "         'SEX CRIMES': 11,\n",
       "         'SALE SCHOOL GROUNDS': 65,\n",
       "         'ASSEMBLY,UNLAWFUL': 22,\n",
       "         'ACCOSTING,FRAUDULENT': 25,\n",
       "         'CHILD ABANDONMENT': 25,\n",
       "         'CRIMINAL DISPOSAL FIREARM 1 &': 12,\n",
       "         'IMPERSONATION 1, POLICE OFFICE': 18,\n",
       "         'IMPRISONMENT 1,UNLAWFUL': 34,\n",
       "         'PUBLIC SAFETY,UNCLASSIFIED MIS': 24,\n",
       "         'SODOMY 3': 28,\n",
       "         'NYS UNCLASSIFIED': 1,\n",
       "         'HARASSMENT,SUBD 3,4,5': 22,\n",
       "         'KIDNAPPING 2': 15,\n",
       "         'HOMICIDE,NEGLIGENT,UNCLASSIFIE': 20,\n",
       "         'FUGITIVE/OTHER STATES': 97,\n",
       "         'MATERIAL              OFFENSIV': 95,\n",
       "         'GAMBLING 1,PROMOTING,BOOKMAKIN': 23,\n",
       "         'INCOMPETENT PERSON,KNOWINGLY ENDANGERING': 11,\n",
       "         'CONTROLLED SUBSTANCE, SALE 5': 23,\n",
       "         'FACILITATION 4, CRIMINAL': 55,\n",
       "         'UNLAWFUL DISCLOSURE OF AN INTIMATE IMAGE': 13,\n",
       "         'NYS PAROLE VIOLATION': 4,\n",
       "         'IMPAIRED DRIVING,DRUG': 67,\n",
       "         'USE OF A CHILD IN A SEXUAL PER': 9,\n",
       "         'DISORDERLY CONDUCT': 27,\n",
       "         'PROSTITUTION, PATRONIZING 4, 3': 37,\n",
       "         'SEAT BELTS': 1,\n",
       "         'GAMBLING 1,PROMOTING,POLICY': 9,\n",
       "         'VEHICULAR ASSAULT (INTOX DRIVE': 37,\n",
       "         'HOMICIDE, NEGLIGENT, VEHICLE,': 6,\n",
       "         'ESCAPE 2,1': 6,\n",
       "         'MAKING TERRORISTIC THREAT': 42,\n",
       "         'PROSTITUTION 4,PROMOTING&SECUR': 24,\n",
       "         'INCOMPETENT PERSON,RECKLESSY ENDANGERING': 17,\n",
       "         'RECKLESS ENDANGERMENT OF PROPE': 14,\n",
       "         'WEAPONS,PROHIBITED USE IMITATI': 1,\n",
       "         'ADM.CODE,UNCLASSIFIED VIOLATIO': 7,\n",
       "         'FACILITATION 3,2,1, CRIMINAL': 6,\n",
       "         'OBSCENITY 1': 14,\n",
       "         'CREDIT CARD,UNLAWFUL USE OF': 3,\n",
       "         'BAIL JUMPING 3': 44,\n",
       "         'PROMOTING A SEXUAL PERFORMANCE': 24,\n",
       "         'ADM.CODE,UNCLASSIFIED MISDEMEA': 7,\n",
       "         'END WELFARE VULNERABLE ELDERLY PERSON': 6,\n",
       "         'PEDESTRIAN / UNCLASSIDIED': 3,\n",
       "         'PROSTITUTION 3, PROMOTING UNDE': 2,\n",
       "         'FUGITIVE/OTHER JURISDICTION NYS': 2,\n",
       "         'STALKING COMMIT SEX OFFENSE': 2,\n",
       "         'UNCLASSIFIED': 2,\n",
       "         'FALSE ALARM FIRE': 13,\n",
       "         'ESCAPE 3': 6,\n",
       "         'PUBLIC HEALTH LAW,UNCLASSIFIED': 6,\n",
       "         'WEAPONS,MFR,TRANSPORT,ETC.': 4,\n",
       "         'JOSTLING': 4,\n",
       "         'TAMPERING 3,2, CRIMINAL': 11,\n",
       "         'MISCHIEF 1,CRIMINAL,EXPLOSIVE': 24,\n",
       "         'NOISE,UNECESSARY': 2,\n",
       "         'GENERAL BUSINESS LAW / UNCLASSIFIED': 14,\n",
       "         'SEXUAL MISCONDUCT,DEVIATE': 1,\n",
       "         'AGGRAVATED SEXUAL ASBUSE': 9,\n",
       "         'ENTERPRISE CORRUPTION': 2,\n",
       "         'HEALTH CODE,VIOLATION': 1,\n",
       "         'SOLICITATION 4, CRIMINAL': 1,\n",
       "         'ROBBERY,CAR JACKING': 27,\n",
       "         'VIOLATION OF ORDER OF PROTECTI': 1,\n",
       "         'LABOR TRAFFICKING': 1,\n",
       "         'IMPAIRED DRIVING / ALCOHOL': 3,\n",
       "         'THEFT OF SERVICES- CABLE TV SE': 2,\n",
       "         'RIOT 2/INCITING': 6,\n",
       "         'BRIBERY,COMMERCIAL': 4,\n",
       "         'THEFT,RELATED OFFENSES,UNCLASS': 28,\n",
       "         'CAUSE SPI/KILL ANIMAL': 8,\n",
       "         'COMPUTER TAMPER/TRESSPASS': 3,\n",
       "         'LURING A CHILD': 9,\n",
       "         'MONEY LAUNDERING 1 & 2': 19,\n",
       "         'MISCHIEF, CRIMINAL 3 & 2, OF M': 10,\n",
       "         'CUSTODIAL INTERFERENCE 2': 4,\n",
       "         'NUISANCE,CRIMINAL,UNCLASSIFIED': 4,\n",
       "         'SEX TRAFFICKING': 19,\n",
       "         'FIREWORKS, SALE': 43,\n",
       "         'STOLEN PROPERTY 2,POSSESSION B': 1,\n",
       "         'LARCENY,GRAND FROM BUILDING (NON-RESIDENCE) UNATTENDED': 4,\n",
       "         'NEGLECT/POISON ANIMAL': 1,\n",
       "         'CONTROLLED SUBSTANCE, SALE 4': 9,\n",
       "         'INCEST 3': 2,\n",
       "         'ONE WAY STREET': 1,\n",
       "         'MANUFATURE, TRANSPORT, DEFACE, ETC...': 1,\n",
       "         'LOITERING,GAMBLING,OTHER': 4,\n",
       "         'PARKR&R,UNCLASSIFIED VIOLATION': 1,\n",
       "         'PERJURY 2,1,ETC': 3,\n",
       "         'CHILD,OFFENSES AGAINST,UNCLASS': 5,\n",
       "         'HARASSMENT,SUBD 1,CIVILIAN': 11,\n",
       "         'COMPUTER UNAUTH. USE/TAMPER': 1,\n",
       "         'PROSTITUTION 2, UNDER 16': 6,\n",
       "         'IMPROPER LIGHTS': 3,\n",
       "         'LARCENY,GRAND BY THEFT OF CREDIT CARD': 8,\n",
       "         'PROSTITUTION,PERMITTING': 6,\n",
       "         'OBSCENITY, MATERIAL 3': 1,\n",
       "         'COERCION 1': 16,\n",
       "         'RECORDS,FALSIFY-TAMPER': 6,\n",
       "         'BRIBERY,FRAUD': 1,\n",
       "         'CHECK,BAD': 1,\n",
       "         'EAVESDROPPING': 1,\n",
       "         'COERCION 2': 4,\n",
       "         'MISCHIEF, CRIMINAL 4, OF MOTOR': 5,\n",
       "         'FIREWORKS, POSSESS/USE': 6,\n",
       "         'PEDDLING,UNLAWFUL': 3,\n",
       "         'FORGERY,PRESCRIPTION': 3,\n",
       "         'ARSON 1': 5,\n",
       "         'CHILD,LICENSED PREMISES': 2,\n",
       "         'IMPAIRED DRIVING, DRUGS': 9,\n",
       "         'PROSTITUTION 3,PROMOTING BUSIN': 3,\n",
       "         'TRESPASS 1,CRIMINAL': 2,\n",
       "         'RADIO DEVICES,UNLAWFUL POSSESS': 1,\n",
       "         'MARIJUANA, SALE 4 & 5': 274,\n",
       "         'MARIJUANA, POSSESSION 1, 2 & 3': 153,\n",
       "         'MARIJUANA, POSSESSION 4 & 5': 134,\n",
       "         'TAMPERING WITH A WITNESS': 1,\n",
       "         'RIOT 1': 8,\n",
       "         'MARIJUANA, POSSESSION': 29,\n",
       "         'KIDNAPPING 1': 3,\n",
       "         'MARIJUANA, SALE 1, 2 & 3': 15,\n",
       "         'FAIL TO SIGNAL': 1,\n",
       "         'SPEEDING': 2,\n",
       "         'ROBBERY,GAS STATION': 1,\n",
       "         'FIREWORKS PREV CONV 5 YEARS': 1,\n",
       "         'PLACE FALSE BOMB': 2,\n",
       "         'FALSE REPORT 1,FIRE': 1})"
      ]
     },
     "execution_count": 22,
     "metadata": {},
     "output_type": "execute_result"
    }
   ],
   "source": [
    "ds_full.distinct('PD_DESC')"
   ]
  },
  {
   "cell_type": "code",
   "execution_count": 23,
   "metadata": {
    "scrolled": true
   },
   "outputs": [
    {
     "data": {
      "text/plain": [
       "Counter({'F': 52578, 'M': 61204, '': 1078, 'I': 169, 'V': 270})"
      ]
     },
     "execution_count": 23,
     "metadata": {},
     "output_type": "execute_result"
    }
   ],
   "source": [
    "ds_full.distinct('LAW_CAT_CD')"
   ]
  },
  {
   "cell_type": "code",
   "execution_count": 24,
   "metadata": {},
   "outputs": [],
   "source": [
    "def validate_law_cat_cd(sourceValue):\n",
    "    UNKNOWN = \"UNKNOWN\"\n",
    "    \n",
    "    try:\n",
    "        values = [\"F\", \"M\", \"V\", \"I\"] \n",
    "        \n",
    "        if sourceValue in values:\n",
    "            return sourceValue\n",
    "        else:\n",
    "            return UNKNOWN\n",
    "    except:\n",
    "        return UNKNOWN\n",
    "\n",
    "    \n",
    "ds_full = ds_full.update('LAW_CAT_CD', validate_law_cat_cd)"
   ]
  },
  {
   "cell_type": "code",
   "execution_count": 25,
   "metadata": {},
   "outputs": [
    {
     "data": {
      "text/plain": [
       "Counter({'F': 52578, 'M': 61204, 'UNKNOWN': 1078, 'I': 169, 'V': 270})"
      ]
     },
     "execution_count": 25,
     "metadata": {},
     "output_type": "execute_result"
    }
   ],
   "source": [
    "ds_full.distinct('LAW_CAT_CD')"
   ]
  },
  {
   "cell_type": "code",
   "execution_count": 27,
   "metadata": {
    "scrolled": true
   },
   "outputs": [
    {
     "data": {
      "text/plain": [
       "Counter({'B': 25312, 'K': 31004, 'Q': 24654, 'M': 28948, 'S': 5381})"
      ]
     },
     "execution_count": 27,
     "metadata": {},
     "output_type": "execute_result"
    }
   ],
   "source": [
    "ds_full.distinct('ARREST_BORO')"
   ]
  },
  {
   "cell_type": "code",
   "execution_count": 28,
   "metadata": {
    "scrolled": true
   },
   "outputs": [
    {
     "data": {
      "text/plain": [
       "[('0', 105588),\n",
       " ('2', 3803),\n",
       " ('1', 3162),\n",
       " ('3', 1034),\n",
       " ('97', 493),\n",
       " ('15', 262),\n",
       " ('72', 189),\n",
       " ('11', 187),\n",
       " ('73', 142),\n",
       " ('71', 125)]"
      ]
     },
     "execution_count": 28,
     "metadata": {},
     "output_type": "execute_result"
    }
   ],
   "source": [
    "profiles.column('JURISDICTION_CODE').get('topValues')"
   ]
  },
  {
   "cell_type": "code",
   "execution_count": 30,
   "metadata": {
    "scrolled": false
   },
   "outputs": [
    {
     "data": {
      "text/plain": [
       "Counter({'0': 105588,\n",
       "         '1': 3162,\n",
       "         '71': 125,\n",
       "         '2': 3803,\n",
       "         '3': 1034,\n",
       "         '15': 262,\n",
       "         '97': 493,\n",
       "         '72': 189,\n",
       "         '73': 142,\n",
       "         '7': 83,\n",
       "         '11': 187,\n",
       "         '14': 89,\n",
       "         '87': 24,\n",
       "         '4': 69,\n",
       "         '12': 1,\n",
       "         '85': 8,\n",
       "         '13': 11,\n",
       "         '6': 10,\n",
       "         '88': 8,\n",
       "         '74': 3,\n",
       "         '16': 2,\n",
       "         '8': 1,\n",
       "         '69': 3,\n",
       "         '76': 1,\n",
       "         '9': 1})"
      ]
     },
     "execution_count": 30,
     "metadata": {},
     "output_type": "execute_result"
    }
   ],
   "source": [
    "ds_full.distinct('JURISDICTION_CODE')"
   ]
  },
  {
   "cell_type": "code",
   "execution_count": 31,
   "metadata": {},
   "outputs": [
    {
     "data": {
      "text/html": [
       "<div>\n",
       "<style scoped>\n",
       "    .dataframe tbody tr th:only-of-type {\n",
       "        vertical-align: middle;\n",
       "    }\n",
       "\n",
       "    .dataframe tbody tr th {\n",
       "        vertical-align: top;\n",
       "    }\n",
       "\n",
       "    .dataframe thead th {\n",
       "        text-align: right;\n",
       "    }\n",
       "</style>\n",
       "<table border=\"1\" class=\"dataframe\">\n",
       "  <thead>\n",
       "    <tr style=\"text-align: right;\">\n",
       "      <th></th>\n",
       "      <th>min</th>\n",
       "      <th>max</th>\n",
       "    </tr>\n",
       "  </thead>\n",
       "  <tbody>\n",
       "    <tr>\n",
       "      <th>int</th>\n",
       "      <td>914214</td>\n",
       "      <td>1066556</td>\n",
       "    </tr>\n",
       "  </tbody>\n",
       "</table>\n",
       "</div>"
      ],
      "text/plain": [
       "        min      max\n",
       "int  914214  1066556"
      ]
     },
     "execution_count": 31,
     "metadata": {},
     "output_type": "execute_result"
    }
   ],
   "source": [
    "profiles.minmax('X_COORD_CD')"
   ]
  },
  {
   "cell_type": "code",
   "execution_count": 32,
   "metadata": {},
   "outputs": [
    {
     "data": {
      "text/html": [
       "<div>\n",
       "<style scoped>\n",
       "    .dataframe tbody tr th:only-of-type {\n",
       "        vertical-align: middle;\n",
       "    }\n",
       "\n",
       "    .dataframe tbody tr th {\n",
       "        vertical-align: top;\n",
       "    }\n",
       "\n",
       "    .dataframe thead th {\n",
       "        text-align: right;\n",
       "    }\n",
       "</style>\n",
       "<table border=\"1\" class=\"dataframe\">\n",
       "  <thead>\n",
       "    <tr style=\"text-align: right;\">\n",
       "      <th></th>\n",
       "      <th>min</th>\n",
       "      <th>max</th>\n",
       "    </tr>\n",
       "  </thead>\n",
       "  <tbody>\n",
       "    <tr>\n",
       "      <th>int</th>\n",
       "      <td>121312</td>\n",
       "      <td>271820</td>\n",
       "    </tr>\n",
       "  </tbody>\n",
       "</table>\n",
       "</div>"
      ],
      "text/plain": [
       "        min     max\n",
       "int  121312  271820"
      ]
     },
     "execution_count": 32,
     "metadata": {},
     "output_type": "execute_result"
    }
   ],
   "source": [
    "profiles.minmax('Y_COORD_CD')"
   ]
  },
  {
   "cell_type": "code",
   "execution_count": 33,
   "metadata": {
    "scrolled": true
   },
   "outputs": [
    {
     "data": {
      "text/plain": [
       "[('25-44', 65846),\n",
       " ('45-64', 22438),\n",
       " ('18-24', 21931),\n",
       " ('<18', 3408),\n",
       " ('65+', 1676)]"
      ]
     },
     "execution_count": 33,
     "metadata": {},
     "output_type": "execute_result"
    }
   ],
   "source": [
    "profiles.column('AGE_GROUP').get('topValues')"
   ]
  },
  {
   "cell_type": "code",
   "execution_count": 34,
   "metadata": {},
   "outputs": [
    {
     "data": {
      "text/plain": [
       "Counter({'25-44': 65846,\n",
       "         '18-24': 21931,\n",
       "         '45-64': 22438,\n",
       "         '<18': 3408,\n",
       "         '65+': 1676})"
      ]
     },
     "execution_count": 34,
     "metadata": {},
     "output_type": "execute_result"
    }
   ],
   "source": [
    "ds_full.distinct('AGE_GROUP')"
   ]
  },
  {
   "cell_type": "code",
   "execution_count": 35,
   "metadata": {
    "scrolled": true
   },
   "outputs": [
    {
     "data": {
      "text/plain": [
       "[('BLACK', 57011),\n",
       " ('WHITE HISPANIC', 28355),\n",
       " ('WHITE', 12586),\n",
       " ('BLACK HISPANIC', 10208),\n",
       " ('ASIAN / PACIFIC ISLANDER', 6389),\n",
       " ('UNKNOWN', 431),\n",
       " ('AMERICAN INDIAN/ALASKAN NATIVE', 319)]"
      ]
     },
     "execution_count": 35,
     "metadata": {},
     "output_type": "execute_result"
    }
   ],
   "source": [
    "profiles.column('PERP_RACE').get('topValues')"
   ]
  },
  {
   "cell_type": "code",
   "execution_count": 36,
   "metadata": {},
   "outputs": [
    {
     "data": {
      "text/plain": [
       "Counter({'BLACK': 57011,\n",
       "         'WHITE': 12586,\n",
       "         'WHITE HISPANIC': 28355,\n",
       "         'BLACK HISPANIC': 10208,\n",
       "         'ASIAN / PACIFIC ISLANDER': 6389,\n",
       "         'AMERICAN INDIAN/ALASKAN NATIVE': 319,\n",
       "         'UNKNOWN': 431})"
      ]
     },
     "execution_count": 36,
     "metadata": {},
     "output_type": "execute_result"
    }
   ],
   "source": [
    "ds_full.distinct('PERP_RACE')"
   ]
  },
  {
   "cell_type": "code",
   "execution_count": 37,
   "metadata": {
    "scrolled": true
   },
   "outputs": [
    {
     "data": {
      "text/plain": [
       "[('M', 95849), ('F', 19450)]"
      ]
     },
     "execution_count": 37,
     "metadata": {},
     "output_type": "execute_result"
    }
   ],
   "source": [
    "profiles.column('PERP_SEX').get('topValues')"
   ]
  },
  {
   "cell_type": "code",
   "execution_count": 38,
   "metadata": {},
   "outputs": [
    {
     "data": {
      "text/plain": [
       "Counter({'M': 95849, 'F': 19450})"
      ]
     },
     "execution_count": 38,
     "metadata": {},
     "output_type": "execute_result"
    }
   ],
   "source": [
    "ds_full.distinct('PERP_SEX')"
   ]
  },
  {
   "cell_type": "code",
   "execution_count": 39,
   "metadata": {},
   "outputs": [
    {
     "data": {
      "text/html": [
       "<div>\n",
       "<style scoped>\n",
       "    .dataframe tbody tr th:only-of-type {\n",
       "        vertical-align: middle;\n",
       "    }\n",
       "\n",
       "    .dataframe tbody tr th {\n",
       "        vertical-align: top;\n",
       "    }\n",
       "\n",
       "    .dataframe thead th {\n",
       "        text-align: right;\n",
       "    }\n",
       "</style>\n",
       "<table border=\"1\" class=\"dataframe\">\n",
       "  <thead>\n",
       "    <tr style=\"text-align: right;\">\n",
       "      <th></th>\n",
       "      <th>min</th>\n",
       "      <th>max</th>\n",
       "    </tr>\n",
       "  </thead>\n",
       "  <tbody>\n",
       "    <tr>\n",
       "      <th>float</th>\n",
       "      <td>40.499401</td>\n",
       "      <td>40.912723</td>\n",
       "    </tr>\n",
       "  </tbody>\n",
       "</table>\n",
       "</div>"
      ],
      "text/plain": [
       "             min        max\n",
       "float  40.499401  40.912723"
      ]
     },
     "execution_count": 39,
     "metadata": {},
     "output_type": "execute_result"
    }
   ],
   "source": [
    "profiles.minmax('Latitude')"
   ]
  },
  {
   "cell_type": "code",
   "execution_count": 40,
   "metadata": {},
   "outputs": [],
   "source": [
    "def validate_lat(sourceValue):\n",
    "    UNKNOWN = -999\n",
    "    \n",
    "    try:\n",
    "        if sourceValue >= 40 and sourceValue <= 41:  \n",
    "            return sourceValue\n",
    "        else:\n",
    "            return UNKNOWN\n",
    "    except:\n",
    "        return UNKNOWN\n",
    "\n",
    "    \n",
    "ds_full = ds_full.update('Latitude', validate_lat)"
   ]
  },
  {
   "cell_type": "code",
   "execution_count": 41,
   "metadata": {},
   "outputs": [
    {
     "data": {
      "text/html": [
       "<div>\n",
       "<style scoped>\n",
       "    .dataframe tbody tr th:only-of-type {\n",
       "        vertical-align: middle;\n",
       "    }\n",
       "\n",
       "    .dataframe tbody tr th {\n",
       "        vertical-align: top;\n",
       "    }\n",
       "\n",
       "    .dataframe thead th {\n",
       "        text-align: right;\n",
       "    }\n",
       "</style>\n",
       "<table border=\"1\" class=\"dataframe\">\n",
       "  <thead>\n",
       "    <tr style=\"text-align: right;\">\n",
       "      <th></th>\n",
       "      <th>min</th>\n",
       "      <th>max</th>\n",
       "    </tr>\n",
       "  </thead>\n",
       "  <tbody>\n",
       "    <tr>\n",
       "      <th>float</th>\n",
       "      <td>-74.251844</td>\n",
       "      <td>-73.703</td>\n",
       "    </tr>\n",
       "  </tbody>\n",
       "</table>\n",
       "</div>"
      ],
      "text/plain": [
       "             min     max\n",
       "float -74.251844 -73.703"
      ]
     },
     "execution_count": 41,
     "metadata": {},
     "output_type": "execute_result"
    }
   ],
   "source": [
    "profiles.minmax('Longitude')"
   ]
  },
  {
   "cell_type": "code",
   "execution_count": 42,
   "metadata": {},
   "outputs": [],
   "source": [
    "def validate_long(sourceValue):\n",
    "    UNKNOWN = -999\n",
    "    \n",
    "    try:\n",
    "        if sourceValue >= -74 and sourceValue <= -73:  \n",
    "            return sourceValue\n",
    "        else:\n",
    "            return UNKNOWN\n",
    "    except:\n",
    "        return UNKNOWN\n",
    "\n",
    "    \n",
    "ds_full = ds_full.update('Latitude', validate_long)"
   ]
  },
  {
   "cell_type": "code",
   "execution_count": 43,
   "metadata": {
    "scrolled": true
   },
   "outputs": [
    {
     "data": {
      "text/html": [
       "<div>\n",
       "<style scoped>\n",
       "    .dataframe tbody tr th:only-of-type {\n",
       "        vertical-align: middle;\n",
       "    }\n",
       "\n",
       "    .dataframe tbody tr th {\n",
       "        vertical-align: top;\n",
       "    }\n",
       "\n",
       "    .dataframe thead th {\n",
       "        text-align: right;\n",
       "    }\n",
       "</style>\n",
       "<table border=\"1\" class=\"dataframe\">\n",
       "  <thead>\n",
       "    <tr style=\"text-align: right;\">\n",
       "      <th></th>\n",
       "      <th>min</th>\n",
       "      <th>max</th>\n",
       "    </tr>\n",
       "  </thead>\n",
       "  <tbody>\n",
       "    <tr>\n",
       "      <th>str</th>\n",
       "      <td>POINT (-73.70300043899994 40.73765300700006)</td>\n",
       "      <td>POINT (-74.25184392199996 40.50426856400002)</td>\n",
       "    </tr>\n",
       "  </tbody>\n",
       "</table>\n",
       "</div>"
      ],
      "text/plain": [
       "                                              min  \\\n",
       "str  POINT (-73.70300043899994 40.73765300700006)   \n",
       "\n",
       "                                              max  \n",
       "str  POINT (-74.25184392199996 40.50426856400002)  "
      ]
     },
     "execution_count": 43,
     "metadata": {},
     "output_type": "execute_result"
    }
   ],
   "source": [
    "profiles.minmax('New Georeferenced Column')"
   ]
  },
  {
   "cell_type": "code",
   "execution_count": 50,
   "metadata": {},
   "outputs": [],
   "source": [
    "SELECTED_COLUMNS = [\\\n",
    "    'ARREST_KEY',\\\n",
    "    'ARREST_DATE',\\\n",
    "    'PD_CD',\\\n",
    "    'PD_DESC',\\\n",
    "    'KY_CD',\\\n",
    "    'OFNS_DESC',\\\n",
    "    'LAW_CODE',\\\n",
    "    'LAW_CAT_CD',\\\n",
    "    'ARREST_BORO',\\\n",
    "    'ARREST_PRECINCT',\\\n",
    "    'JURISDICTION_CODE',\\\n",
    "    'AGE_GROUP',\\\n",
    "    'PERP_SEX',\\\n",
    "    'PERP_RACE',\\\n",
    "    'X_COORD_CD',\\\n",
    "    'Y_COORD_CD',\\\n",
    "    'Latitude',\\\n",
    "    'Longitude',\\\n",
    "    'New Georeferenced Column',\\\n",
    "]\n",
    "ds_full = ds_full.select(SELECTED_COLUMNS)"
   ]
  },
  {
   "cell_type": "code",
   "execution_count": 51,
   "metadata": {},
   "outputs": [
    {
     "data": {
      "text/plain": [
       "<openclean.pipeline.DataPipeline at 0x7fa2b2824eb0>"
      ]
     },
     "execution_count": 51,
     "metadata": {},
     "output_type": "execute_result"
    }
   ],
   "source": [
    "ds_full"
   ]
  },
  {
   "cell_type": "markdown",
   "metadata": {},
   "source": [
    "# VALIDATING DATA AFTER CLEANING"
   ]
  },
  {
   "cell_type": "code",
   "execution_count": 52,
   "metadata": {},
   "outputs": [],
   "source": [
    "data_df = pd.read_csv(\"NYPD-summary-dashboard-123.csv\")"
   ]
  },
  {
   "cell_type": "code",
   "execution_count": 53,
   "metadata": {},
   "outputs": [
    {
     "name": "stdout",
     "output_type": "stream",
     "text": [
      "<class 'pandas.core.frame.DataFrame'>\n",
      "RangeIndex: 115299 entries, 0 to 115298\n",
      "Data columns (total 19 columns):\n",
      " #   Column                    Non-Null Count   Dtype  \n",
      "---  ------                    --------------   -----  \n",
      " 0   ARREST_KEY                115299 non-null  int64  \n",
      " 1   ARREST_DATE               115299 non-null  object \n",
      " 2   PD_CD                     115278 non-null  float64\n",
      " 3   PD_DESC                   115238 non-null  object \n",
      " 4   KY_CD                     115238 non-null  float64\n",
      " 5   OFNS_DESC                 115238 non-null  object \n",
      " 6   LAW_CODE                  115299 non-null  object \n",
      " 7   LAW_CAT_CD                114221 non-null  object \n",
      " 8   ARREST_BORO               115299 non-null  object \n",
      " 9   ARREST_PRECINCT           115299 non-null  int64  \n",
      " 10  JURISDICTION_CODE         115299 non-null  int64  \n",
      " 11  AGE_GROUP                 115299 non-null  object \n",
      " 12  PERP_SEX                  115299 non-null  object \n",
      " 13  PERP_RACE                 115299 non-null  object \n",
      " 14  X_COORD_CD                115299 non-null  int64  \n",
      " 15  Y_COORD_CD                115299 non-null  int64  \n",
      " 16  Latitude                  115299 non-null  float64\n",
      " 17  Longitude                 115299 non-null  float64\n",
      " 18  New Georeferenced Column  115299 non-null  object \n",
      "dtypes: float64(4), int64(5), object(10)\n",
      "memory usage: 16.7+ MB\n"
     ]
    }
   ],
   "source": [
    "data_df.info()"
   ]
  },
  {
   "cell_type": "code",
   "execution_count": 54,
   "metadata": {},
   "outputs": [
    {
     "data": {
      "text/html": [
       "<div>\n",
       "<style scoped>\n",
       "    .dataframe tbody tr th:only-of-type {\n",
       "        vertical-align: middle;\n",
       "    }\n",
       "\n",
       "    .dataframe tbody tr th {\n",
       "        vertical-align: top;\n",
       "    }\n",
       "\n",
       "    .dataframe thead th {\n",
       "        text-align: right;\n",
       "    }\n",
       "</style>\n",
       "<table border=\"1\" class=\"dataframe\">\n",
       "  <thead>\n",
       "    <tr style=\"text-align: right;\">\n",
       "      <th></th>\n",
       "      <th>total</th>\n",
       "      <th>empty</th>\n",
       "      <th>distinct</th>\n",
       "      <th>uniqueness</th>\n",
       "      <th>entropy</th>\n",
       "    </tr>\n",
       "  </thead>\n",
       "  <tbody>\n",
       "    <tr>\n",
       "      <th>ARREST_KEY</th>\n",
       "      <td>115299</td>\n",
       "      <td>0</td>\n",
       "      <td>115299</td>\n",
       "      <td>1.000000</td>\n",
       "      <td>16.815020</td>\n",
       "    </tr>\n",
       "    <tr>\n",
       "      <th>ARREST_DATE</th>\n",
       "      <td>115299</td>\n",
       "      <td>0</td>\n",
       "      <td>273</td>\n",
       "      <td>0.002368</td>\n",
       "      <td>8.047698</td>\n",
       "    </tr>\n",
       "    <tr>\n",
       "      <th>PD_CD</th>\n",
       "      <td>115299</td>\n",
       "      <td>21</td>\n",
       "      <td>252</td>\n",
       "      <td>0.002186</td>\n",
       "      <td>5.401154</td>\n",
       "    </tr>\n",
       "    <tr>\n",
       "      <th>PD_DESC</th>\n",
       "      <td>115299</td>\n",
       "      <td>61</td>\n",
       "      <td>233</td>\n",
       "      <td>0.002022</td>\n",
       "      <td>5.366524</td>\n",
       "    </tr>\n",
       "    <tr>\n",
       "      <th>KY_CD</th>\n",
       "      <td>115299</td>\n",
       "      <td>61</td>\n",
       "      <td>66</td>\n",
       "      <td>0.000573</td>\n",
       "      <td>4.534242</td>\n",
       "    </tr>\n",
       "    <tr>\n",
       "      <th>OFNS_DESC</th>\n",
       "      <td>115299</td>\n",
       "      <td>61</td>\n",
       "      <td>63</td>\n",
       "      <td>0.000547</td>\n",
       "      <td>4.339051</td>\n",
       "    </tr>\n",
       "    <tr>\n",
       "      <th>LAW_CODE</th>\n",
       "      <td>115299</td>\n",
       "      <td>0</td>\n",
       "      <td>922</td>\n",
       "      <td>0.007997</td>\n",
       "      <td>6.328932</td>\n",
       "    </tr>\n",
       "    <tr>\n",
       "      <th>LAW_CAT_CD</th>\n",
       "      <td>115299</td>\n",
       "      <td>1078</td>\n",
       "      <td>4</td>\n",
       "      <td>0.000035</td>\n",
       "      <td>1.032090</td>\n",
       "    </tr>\n",
       "    <tr>\n",
       "      <th>ARREST_BORO</th>\n",
       "      <td>115299</td>\n",
       "      <td>0</td>\n",
       "      <td>5</td>\n",
       "      <td>0.000043</td>\n",
       "      <td>2.172560</td>\n",
       "    </tr>\n",
       "    <tr>\n",
       "      <th>ARREST_PRECINCT</th>\n",
       "      <td>115299</td>\n",
       "      <td>0</td>\n",
       "      <td>77</td>\n",
       "      <td>0.000668</td>\n",
       "      <td>6.119069</td>\n",
       "    </tr>\n",
       "    <tr>\n",
       "      <th>JURISDICTION_CODE</th>\n",
       "      <td>115299</td>\n",
       "      <td>0</td>\n",
       "      <td>25</td>\n",
       "      <td>0.000217</td>\n",
       "      <td>0.618718</td>\n",
       "    </tr>\n",
       "    <tr>\n",
       "      <th>AGE_GROUP</th>\n",
       "      <td>115299</td>\n",
       "      <td>0</td>\n",
       "      <td>5</td>\n",
       "      <td>0.000043</td>\n",
       "      <td>1.615421</td>\n",
       "    </tr>\n",
       "    <tr>\n",
       "      <th>PERP_SEX</th>\n",
       "      <td>115299</td>\n",
       "      <td>0</td>\n",
       "      <td>2</td>\n",
       "      <td>0.000017</td>\n",
       "      <td>0.654703</td>\n",
       "    </tr>\n",
       "    <tr>\n",
       "      <th>PERP_RACE</th>\n",
       "      <td>115299</td>\n",
       "      <td>0</td>\n",
       "      <td>7</td>\n",
       "      <td>0.000061</td>\n",
       "      <td>1.943492</td>\n",
       "    </tr>\n",
       "    <tr>\n",
       "      <th>X_COORD_CD</th>\n",
       "      <td>115299</td>\n",
       "      <td>0</td>\n",
       "      <td>23851</td>\n",
       "      <td>0.206862</td>\n",
       "      <td>12.430475</td>\n",
       "    </tr>\n",
       "    <tr>\n",
       "      <th>Y_COORD_CD</th>\n",
       "      <td>115299</td>\n",
       "      <td>0</td>\n",
       "      <td>25306</td>\n",
       "      <td>0.219482</td>\n",
       "      <td>12.501218</td>\n",
       "    </tr>\n",
       "    <tr>\n",
       "      <th>Latitude</th>\n",
       "      <td>115299</td>\n",
       "      <td>0</td>\n",
       "      <td>28856</td>\n",
       "      <td>0.250271</td>\n",
       "      <td>12.637352</td>\n",
       "    </tr>\n",
       "    <tr>\n",
       "      <th>Longitude</th>\n",
       "      <td>115299</td>\n",
       "      <td>0</td>\n",
       "      <td>28855</td>\n",
       "      <td>0.250262</td>\n",
       "      <td>12.637364</td>\n",
       "    </tr>\n",
       "    <tr>\n",
       "      <th>New Georeferenced Column</th>\n",
       "      <td>115299</td>\n",
       "      <td>0</td>\n",
       "      <td>28859</td>\n",
       "      <td>0.250297</td>\n",
       "      <td>12.637470</td>\n",
       "    </tr>\n",
       "  </tbody>\n",
       "</table>\n",
       "</div>"
      ],
      "text/plain": [
       "                           total  empty  distinct  uniqueness    entropy\n",
       "ARREST_KEY                115299      0    115299    1.000000  16.815020\n",
       "ARREST_DATE               115299      0       273    0.002368   8.047698\n",
       "PD_CD                     115299     21       252    0.002186   5.401154\n",
       "PD_DESC                   115299     61       233    0.002022   5.366524\n",
       "KY_CD                     115299     61        66    0.000573   4.534242\n",
       "OFNS_DESC                 115299     61        63    0.000547   4.339051\n",
       "LAW_CODE                  115299      0       922    0.007997   6.328932\n",
       "LAW_CAT_CD                115299   1078         4    0.000035   1.032090\n",
       "ARREST_BORO               115299      0         5    0.000043   2.172560\n",
       "ARREST_PRECINCT           115299      0        77    0.000668   6.119069\n",
       "JURISDICTION_CODE         115299      0        25    0.000217   0.618718\n",
       "AGE_GROUP                 115299      0         5    0.000043   1.615421\n",
       "PERP_SEX                  115299      0         2    0.000017   0.654703\n",
       "PERP_RACE                 115299      0         7    0.000061   1.943492\n",
       "X_COORD_CD                115299      0     23851    0.206862  12.430475\n",
       "Y_COORD_CD                115299      0     25306    0.219482  12.501218\n",
       "Latitude                  115299      0     28856    0.250271  12.637352\n",
       "Longitude                 115299      0     28855    0.250262  12.637364\n",
       "New Georeferenced Column  115299      0     28859    0.250297  12.637470"
      ]
     },
     "execution_count": 54,
     "metadata": {},
     "output_type": "execute_result"
    }
   ],
   "source": [
    "ds_full_jc = stream(data_df)\n",
    "profiles = ds_full_jc.profile(default_profiler=DefaultColumnProfiler)\n",
    "profiles.stats()"
   ]
  },
  {
   "cell_type": "code",
   "execution_count": 55,
   "metadata": {},
   "outputs": [],
   "source": [
    "data_df = data_df.dropna()"
   ]
  },
  {
   "cell_type": "code",
   "execution_count": 56,
   "metadata": {},
   "outputs": [
    {
     "data": {
      "text/html": [
       "<div>\n",
       "<style scoped>\n",
       "    .dataframe tbody tr th:only-of-type {\n",
       "        vertical-align: middle;\n",
       "    }\n",
       "\n",
       "    .dataframe tbody tr th {\n",
       "        vertical-align: top;\n",
       "    }\n",
       "\n",
       "    .dataframe thead th {\n",
       "        text-align: right;\n",
       "    }\n",
       "</style>\n",
       "<table border=\"1\" class=\"dataframe\">\n",
       "  <thead>\n",
       "    <tr style=\"text-align: right;\">\n",
       "      <th></th>\n",
       "      <th>total</th>\n",
       "      <th>empty</th>\n",
       "      <th>distinct</th>\n",
       "      <th>uniqueness</th>\n",
       "      <th>entropy</th>\n",
       "    </tr>\n",
       "  </thead>\n",
       "  <tbody>\n",
       "    <tr>\n",
       "      <th>ARREST_KEY</th>\n",
       "      <td>114160</td>\n",
       "      <td>0</td>\n",
       "      <td>114160</td>\n",
       "      <td>1.000000</td>\n",
       "      <td>16.800698</td>\n",
       "    </tr>\n",
       "    <tr>\n",
       "      <th>ARREST_DATE</th>\n",
       "      <td>114160</td>\n",
       "      <td>0</td>\n",
       "      <td>273</td>\n",
       "      <td>0.002391</td>\n",
       "      <td>8.048743</td>\n",
       "    </tr>\n",
       "    <tr>\n",
       "      <th>PD_CD</th>\n",
       "      <td>114160</td>\n",
       "      <td>0</td>\n",
       "      <td>237</td>\n",
       "      <td>0.002076</td>\n",
       "      <td>5.366757</td>\n",
       "    </tr>\n",
       "    <tr>\n",
       "      <th>PD_DESC</th>\n",
       "      <td>114160</td>\n",
       "      <td>0</td>\n",
       "      <td>228</td>\n",
       "      <td>0.001997</td>\n",
       "      <td>5.335263</td>\n",
       "    </tr>\n",
       "    <tr>\n",
       "      <th>KY_CD</th>\n",
       "      <td>114160</td>\n",
       "      <td>0</td>\n",
       "      <td>65</td>\n",
       "      <td>0.000569</td>\n",
       "      <td>4.499853</td>\n",
       "    </tr>\n",
       "    <tr>\n",
       "      <th>OFNS_DESC</th>\n",
       "      <td>114160</td>\n",
       "      <td>0</td>\n",
       "      <td>62</td>\n",
       "      <td>0.000543</td>\n",
       "      <td>4.302819</td>\n",
       "    </tr>\n",
       "    <tr>\n",
       "      <th>LAW_CODE</th>\n",
       "      <td>114160</td>\n",
       "      <td>0</td>\n",
       "      <td>898</td>\n",
       "      <td>0.007866</td>\n",
       "      <td>6.301579</td>\n",
       "    </tr>\n",
       "    <tr>\n",
       "      <th>LAW_CAT_CD</th>\n",
       "      <td>114160</td>\n",
       "      <td>0</td>\n",
       "      <td>4</td>\n",
       "      <td>0.000035</td>\n",
       "      <td>1.032110</td>\n",
       "    </tr>\n",
       "    <tr>\n",
       "      <th>ARREST_BORO</th>\n",
       "      <td>114160</td>\n",
       "      <td>0</td>\n",
       "      <td>5</td>\n",
       "      <td>0.000044</td>\n",
       "      <td>2.173442</td>\n",
       "    </tr>\n",
       "    <tr>\n",
       "      <th>ARREST_PRECINCT</th>\n",
       "      <td>114160</td>\n",
       "      <td>0</td>\n",
       "      <td>77</td>\n",
       "      <td>0.000674</td>\n",
       "      <td>6.117894</td>\n",
       "    </tr>\n",
       "    <tr>\n",
       "      <th>JURISDICTION_CODE</th>\n",
       "      <td>114160</td>\n",
       "      <td>0</td>\n",
       "      <td>25</td>\n",
       "      <td>0.000219</td>\n",
       "      <td>0.622363</td>\n",
       "    </tr>\n",
       "    <tr>\n",
       "      <th>AGE_GROUP</th>\n",
       "      <td>114160</td>\n",
       "      <td>0</td>\n",
       "      <td>5</td>\n",
       "      <td>0.000044</td>\n",
       "      <td>1.617267</td>\n",
       "    </tr>\n",
       "    <tr>\n",
       "      <th>PERP_SEX</th>\n",
       "      <td>114160</td>\n",
       "      <td>0</td>\n",
       "      <td>2</td>\n",
       "      <td>0.000018</td>\n",
       "      <td>0.656236</td>\n",
       "    </tr>\n",
       "    <tr>\n",
       "      <th>PERP_RACE</th>\n",
       "      <td>114160</td>\n",
       "      <td>0</td>\n",
       "      <td>7</td>\n",
       "      <td>0.000061</td>\n",
       "      <td>1.940655</td>\n",
       "    </tr>\n",
       "    <tr>\n",
       "      <th>X_COORD_CD</th>\n",
       "      <td>114160</td>\n",
       "      <td>0</td>\n",
       "      <td>23745</td>\n",
       "      <td>0.207998</td>\n",
       "      <td>12.426958</td>\n",
       "    </tr>\n",
       "    <tr>\n",
       "      <th>Y_COORD_CD</th>\n",
       "      <td>114160</td>\n",
       "      <td>0</td>\n",
       "      <td>25194</td>\n",
       "      <td>0.220690</td>\n",
       "      <td>12.497634</td>\n",
       "    </tr>\n",
       "    <tr>\n",
       "      <th>Latitude</th>\n",
       "      <td>114160</td>\n",
       "      <td>0</td>\n",
       "      <td>28707</td>\n",
       "      <td>0.251463</td>\n",
       "      <td>12.633470</td>\n",
       "    </tr>\n",
       "    <tr>\n",
       "      <th>Longitude</th>\n",
       "      <td>114160</td>\n",
       "      <td>0</td>\n",
       "      <td>28706</td>\n",
       "      <td>0.251454</td>\n",
       "      <td>12.633482</td>\n",
       "    </tr>\n",
       "    <tr>\n",
       "      <th>New Georeferenced Column</th>\n",
       "      <td>114160</td>\n",
       "      <td>0</td>\n",
       "      <td>28710</td>\n",
       "      <td>0.251489</td>\n",
       "      <td>12.633589</td>\n",
       "    </tr>\n",
       "  </tbody>\n",
       "</table>\n",
       "</div>"
      ],
      "text/plain": [
       "                           total  empty  distinct  uniqueness    entropy\n",
       "ARREST_KEY                114160      0    114160    1.000000  16.800698\n",
       "ARREST_DATE               114160      0       273    0.002391   8.048743\n",
       "PD_CD                     114160      0       237    0.002076   5.366757\n",
       "PD_DESC                   114160      0       228    0.001997   5.335263\n",
       "KY_CD                     114160      0        65    0.000569   4.499853\n",
       "OFNS_DESC                 114160      0        62    0.000543   4.302819\n",
       "LAW_CODE                  114160      0       898    0.007866   6.301579\n",
       "LAW_CAT_CD                114160      0         4    0.000035   1.032110\n",
       "ARREST_BORO               114160      0         5    0.000044   2.173442\n",
       "ARREST_PRECINCT           114160      0        77    0.000674   6.117894\n",
       "JURISDICTION_CODE         114160      0        25    0.000219   0.622363\n",
       "AGE_GROUP                 114160      0         5    0.000044   1.617267\n",
       "PERP_SEX                  114160      0         2    0.000018   0.656236\n",
       "PERP_RACE                 114160      0         7    0.000061   1.940655\n",
       "X_COORD_CD                114160      0     23745    0.207998  12.426958\n",
       "Y_COORD_CD                114160      0     25194    0.220690  12.497634\n",
       "Latitude                  114160      0     28707    0.251463  12.633470\n",
       "Longitude                 114160      0     28706    0.251454  12.633482\n",
       "New Georeferenced Column  114160      0     28710    0.251489  12.633589"
      ]
     },
     "execution_count": 56,
     "metadata": {},
     "output_type": "execute_result"
    }
   ],
   "source": [
    "ds_full_jc = stream(data_df)\n",
    "profiles = ds_full_jc.profile(default_profiler=DefaultColumnProfiler)\n",
    "profiles.stats()"
   ]
  },
  {
   "cell_type": "code",
   "execution_count": 57,
   "metadata": {},
   "outputs": [],
   "source": [
    "data_df.to_csv('filtered8.csv')"
   ]
  },
  {
   "cell_type": "code",
   "execution_count": null,
   "metadata": {},
   "outputs": [],
   "source": []
  }
 ],
 "metadata": {
  "kernelspec": {
   "display_name": "Python 3",
   "language": "python",
   "name": "python3"
  },
  "language_info": {
   "codemirror_mode": {
    "name": "ipython",
    "version": 3
   },
   "file_extension": ".py",
   "mimetype": "text/x-python",
   "name": "python",
   "nbconvert_exporter": "python",
   "pygments_lexer": "ipython3",
   "version": "3.8.5"
  }
 },
 "nbformat": 4,
 "nbformat_minor": 5
}
