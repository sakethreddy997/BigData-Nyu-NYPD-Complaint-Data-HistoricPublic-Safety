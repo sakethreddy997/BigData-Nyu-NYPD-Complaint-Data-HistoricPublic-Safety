{
 "cells": [
  {
   "cell_type": "markdown",
   "metadata": {},
   "source": [
    "#### Import dependencies:"
   ]
  },
  {
   "cell_type": "code",
   "execution_count": 2,
   "metadata": {},
   "outputs": [
    {
     "name": "stdout",
     "output_type": "stream",
     "text": [
      "Python version: 3.8.5 (default, Sep  4 2020, 02:22:02) \n",
      "[Clang 10.0.0 ]\n",
      "pandas version: 1.1.3\n",
      "matplotlib version: 3.3.2\n",
      "NumPy version: 1.19.5\n",
      "SciPy version: 1.5.2\n",
      "IPython version: 7.19.0\n",
      "scikit-learn version: 0.23.2\n",
      "-------------------------\n"
     ]
    }
   ],
   "source": [
    "import sys #access to system parameters https://docs.python.org/3/library/sys.html\n",
    "print(\"Python version: {}\". format(sys.version))\n",
    "\n",
    "import pandas as pd #collection of functions for data processing and analysis modeled after R dataframes with SQL like features\n",
    "print(\"pandas version: {}\". format(pd.__version__))\n",
    "\n",
    "import matplotlib #collection of functions for scientific and publication-ready visualization\n",
    "import matplotlib as plt\n",
    "print(\"matplotlib version: {}\". format(matplotlib.__version__))\n",
    "\n",
    "import numpy as np #foundational package for scientific computing\n",
    "print(\"NumPy version: {}\". format(np.__version__))\n",
    "\n",
    "import scipy as sp #collection of functions for scientific computing and advance mathematics\n",
    "print(\"SciPy version: {}\". format(sp.__version__)) \n",
    "\n",
    "import IPython\n",
    "from IPython import display #pretty printing of dataframes in Jupyter notebook\n",
    "print(\"IPython version: {}\". format(IPython.__version__)) \n",
    "\n",
    "import sklearn #collection of machine learning algorithms\n",
    "print(\"scikit-learn version: {}\". format(sklearn.__version__))\n",
    "\n",
    "#misc libraries\n",
    "import random\n",
    "import time\n",
    "#ignore warnings\n",
    "import warnings\n",
    "warnings.filterwarnings('ignore')\n",
    "print('-'*25)\n",
    "import re\n",
    "import os\n",
    "import matplotlib.pyplot as plt\n",
    "%matplotlib inline"
   ]
  },
  {
   "cell_type": "markdown",
   "metadata": {},
   "source": [
    "#### Download data file if it has not been downloaded already:"
   ]
  },
  {
   "cell_type": "code",
   "execution_count": 3,
   "metadata": {},
   "outputs": [
    {
     "name": "stdout",
     "output_type": "stream",
     "text": [
      "Fetching file NYPD-B-Summons-Year-to-Date.csv[2.4GB]. This may take a while...\n",
      "File NYPD-B-Summons-Year-to-Date.csv has been downloaded\n"
     ]
    }
   ],
   "source": [
    "#url = 'https://data.cityofnewyork.us/api/views/qgea-i56i/rows.csv?accessType=DOWNLOAD'\n",
    "fn_src = 'https://data.cityofnewyork.us/api/views/57p3-pdcj/rows.csv?accessType=DOWNLOAD'\n",
    "fn_dst = 'NYPD-B-Summons-Year-to-Date.csv'\n",
    "\n",
    "from six.moves import urllib\n",
    "\n",
    "if os.path.isfile(fn_dst):\n",
    "    print('File %s has already been downloaded' % fn_dst)\n",
    "else:\n",
    "    print('Fetching file %s[2.4GB]. This may take a while...' % fn_dst)\n",
    "    urllib.request.urlretrieve(fn_src, fn_dst)\n",
    "    print('File %s has been downloaded' % fn_dst)"
   ]
  },
  {
   "cell_type": "markdown",
   "metadata": {},
   "source": [
    "#### Open a stream to the data file so we don't have to load the whole data set into main memory"
   ]
  },
  {
   "cell_type": "code",
   "execution_count": 4,
   "metadata": {},
   "outputs": [],
   "source": [
    "from openclean.pipeline import stream\n",
    "ds_full = stream(fn_dst)"
   ]
  },
  {
   "cell_type": "code",
   "execution_count": 5,
   "metadata": {},
   "outputs": [
    {
     "name": "stdout",
     "output_type": "stream",
     "text": [
      "The dataset contains 377,501 rows.\n"
     ]
    }
   ],
   "source": [
    "print(f'The dataset contains {ds_full.count():,} rows.')"
   ]
  },
  {
   "cell_type": "code",
   "execution_count": 6,
   "metadata": {},
   "outputs": [
    {
     "data": {
      "text/html": [
       "<div>\n",
       "<style scoped>\n",
       "    .dataframe tbody tr th:only-of-type {\n",
       "        vertical-align: middle;\n",
       "    }\n",
       "\n",
       "    .dataframe tbody tr th {\n",
       "        vertical-align: top;\n",
       "    }\n",
       "\n",
       "    .dataframe thead th {\n",
       "        text-align: right;\n",
       "    }\n",
       "</style>\n",
       "<table border=\"1\" class=\"dataframe\">\n",
       "  <thead>\n",
       "    <tr style=\"text-align: right;\">\n",
       "      <th></th>\n",
       "      <th>EVNT_KEY</th>\n",
       "      <th>VIOLATION_DATE</th>\n",
       "      <th>VIOLATION_TIME</th>\n",
       "      <th>CHG_LAW_CD</th>\n",
       "      <th>VIOLATION_CODE</th>\n",
       "      <th>VEH_CATEGORY</th>\n",
       "      <th>CITY_NM</th>\n",
       "      <th>RPT_OWNING_CMD</th>\n",
       "      <th>X_COORD_CD</th>\n",
       "      <th>Y_COORD_CD</th>\n",
       "      <th>Latitude</th>\n",
       "      <th>Longitude</th>\n",
       "      <th>Location Point</th>\n",
       "      <th>JURIS_CD</th>\n",
       "    </tr>\n",
       "  </thead>\n",
       "  <tbody>\n",
       "    <tr>\n",
       "      <th>0</th>\n",
       "      <td>234185278</td>\n",
       "      <td>09/28/2021</td>\n",
       "      <td>19:02:56</td>\n",
       "      <td>VTL</td>\n",
       "      <td>1180D</td>\n",
       "      <td>CAR/SUV</td>\n",
       "      <td>BROOKLYN</td>\n",
       "      <td>412</td>\n",
       "      <td></td>\n",
       "      <td></td>\n",
       "      <td></td>\n",
       "      <td></td>\n",
       "      <td></td>\n",
       "      <td>1</td>\n",
       "    </tr>\n",
       "    <tr>\n",
       "      <th>1</th>\n",
       "      <td>234116090</td>\n",
       "      <td>09/27/2021</td>\n",
       "      <td>13:06:23</td>\n",
       "      <td>VTL</td>\n",
       "      <td>4011A</td>\n",
       "      <td>CAR/SUV</td>\n",
       "      <td>BRONX</td>\n",
       "      <td>47</td>\n",
       "      <td></td>\n",
       "      <td></td>\n",
       "      <td></td>\n",
       "      <td></td>\n",
       "      <td></td>\n",
       "      <td>1</td>\n",
       "    </tr>\n",
       "    <tr>\n",
       "      <th>2</th>\n",
       "      <td>234115701</td>\n",
       "      <td>09/27/2021</td>\n",
       "      <td>08:27:18</td>\n",
       "      <td>VTL</td>\n",
       "      <td>1180D</td>\n",
       "      <td>CAR/SUV</td>\n",
       "      <td>BRONX</td>\n",
       "      <td>411</td>\n",
       "      <td></td>\n",
       "      <td></td>\n",
       "      <td></td>\n",
       "      <td></td>\n",
       "      <td></td>\n",
       "      <td>1</td>\n",
       "    </tr>\n",
       "    <tr>\n",
       "      <th>3</th>\n",
       "      <td>234066027</td>\n",
       "      <td>09/26/2021</td>\n",
       "      <td>02:21:24</td>\n",
       "      <td>VTL</td>\n",
       "      <td>3752A1</td>\n",
       "      <td>CAR/SUV</td>\n",
       "      <td>BROOKLYN</td>\n",
       "      <td>412</td>\n",
       "      <td></td>\n",
       "      <td></td>\n",
       "      <td></td>\n",
       "      <td></td>\n",
       "      <td></td>\n",
       "      <td>1</td>\n",
       "    </tr>\n",
       "    <tr>\n",
       "      <th>4</th>\n",
       "      <td>234074374</td>\n",
       "      <td>09/26/2021</td>\n",
       "      <td>08:37:58</td>\n",
       "      <td>VTL</td>\n",
       "      <td>1180D</td>\n",
       "      <td>CAR/SUV</td>\n",
       "      <td>BROOKLYN</td>\n",
       "      <td>412</td>\n",
       "      <td></td>\n",
       "      <td></td>\n",
       "      <td></td>\n",
       "      <td></td>\n",
       "      <td></td>\n",
       "      <td>1</td>\n",
       "    </tr>\n",
       "    <tr>\n",
       "      <th>5</th>\n",
       "      <td>234065505</td>\n",
       "      <td>09/25/2021</td>\n",
       "      <td>23:50:00</td>\n",
       "      <td>VTL</td>\n",
       "      <td>3752A1</td>\n",
       "      <td>CAR/SUV</td>\n",
       "      <td>QUEENS</td>\n",
       "      <td>101</td>\n",
       "      <td></td>\n",
       "      <td></td>\n",
       "      <td></td>\n",
       "      <td></td>\n",
       "      <td></td>\n",
       "      <td>1</td>\n",
       "    </tr>\n",
       "    <tr>\n",
       "      <th>6</th>\n",
       "      <td>234086888</td>\n",
       "      <td>09/25/2021</td>\n",
       "      <td>22:23:00</td>\n",
       "      <td>VTL</td>\n",
       "      <td>1110A</td>\n",
       "      <td>CAR/SUV</td>\n",
       "      <td>BROOKLYN</td>\n",
       "      <td>73</td>\n",
       "      <td></td>\n",
       "      <td></td>\n",
       "      <td></td>\n",
       "      <td></td>\n",
       "      <td></td>\n",
       "      <td>1</td>\n",
       "    </tr>\n",
       "    <tr>\n",
       "      <th>7</th>\n",
       "      <td>233975375</td>\n",
       "      <td>09/23/2021</td>\n",
       "      <td>17:20:00</td>\n",
       "      <td>VTL</td>\n",
       "      <td>1229C1C</td>\n",
       "      <td>CAR/SUV</td>\n",
       "      <td>BRONX</td>\n",
       "      <td>50</td>\n",
       "      <td></td>\n",
       "      <td></td>\n",
       "      <td></td>\n",
       "      <td></td>\n",
       "      <td></td>\n",
       "      <td>1</td>\n",
       "    </tr>\n",
       "    <tr>\n",
       "      <th>8</th>\n",
       "      <td>233931258</td>\n",
       "      <td>09/22/2021</td>\n",
       "      <td>21:14:15</td>\n",
       "      <td>VTL</td>\n",
       "      <td>4011A</td>\n",
       "      <td>CAR/SUV</td>\n",
       "      <td>QUEENS</td>\n",
       "      <td>108</td>\n",
       "      <td></td>\n",
       "      <td></td>\n",
       "      <td></td>\n",
       "      <td></td>\n",
       "      <td></td>\n",
       "      <td>1</td>\n",
       "    </tr>\n",
       "    <tr>\n",
       "      <th>9</th>\n",
       "      <td>233869480</td>\n",
       "      <td>09/21/2021</td>\n",
       "      <td>19:18:00</td>\n",
       "      <td>VTL</td>\n",
       "      <td>1180D</td>\n",
       "      <td>CAR/SUV</td>\n",
       "      <td>BROOKLYN</td>\n",
       "      <td>412</td>\n",
       "      <td></td>\n",
       "      <td></td>\n",
       "      <td></td>\n",
       "      <td></td>\n",
       "      <td></td>\n",
       "      <td>1</td>\n",
       "    </tr>\n",
       "  </tbody>\n",
       "</table>\n",
       "</div>"
      ],
      "text/plain": [
       "    EVNT_KEY VIOLATION_DATE VIOLATION_TIME CHG_LAW_CD VIOLATION_CODE  \\\n",
       "0  234185278     09/28/2021       19:02:56        VTL          1180D   \n",
       "1  234116090     09/27/2021       13:06:23        VTL          4011A   \n",
       "2  234115701     09/27/2021       08:27:18        VTL          1180D   \n",
       "3  234066027     09/26/2021       02:21:24        VTL         3752A1   \n",
       "4  234074374     09/26/2021       08:37:58        VTL          1180D   \n",
       "5  234065505     09/25/2021       23:50:00        VTL         3752A1   \n",
       "6  234086888     09/25/2021       22:23:00        VTL          1110A   \n",
       "7  233975375     09/23/2021       17:20:00        VTL        1229C1C   \n",
       "8  233931258     09/22/2021       21:14:15        VTL          4011A   \n",
       "9  233869480     09/21/2021       19:18:00        VTL          1180D   \n",
       "\n",
       "  VEH_CATEGORY   CITY_NM RPT_OWNING_CMD X_COORD_CD Y_COORD_CD Latitude  \\\n",
       "0      CAR/SUV  BROOKLYN            412                                  \n",
       "1      CAR/SUV     BRONX             47                                  \n",
       "2      CAR/SUV     BRONX            411                                  \n",
       "3      CAR/SUV  BROOKLYN            412                                  \n",
       "4      CAR/SUV  BROOKLYN            412                                  \n",
       "5      CAR/SUV    QUEENS            101                                  \n",
       "6      CAR/SUV  BROOKLYN             73                                  \n",
       "7      CAR/SUV     BRONX             50                                  \n",
       "8      CAR/SUV    QUEENS            108                                  \n",
       "9      CAR/SUV  BROOKLYN            412                                  \n",
       "\n",
       "  Longitude Location Point JURIS_CD  \n",
       "0                                 1  \n",
       "1                                 1  \n",
       "2                                 1  \n",
       "3                                 1  \n",
       "4                                 1  \n",
       "5                                 1  \n",
       "6                                 1  \n",
       "7                                 1  \n",
       "8                                 1  \n",
       "9                                 1  "
      ]
     },
     "execution_count": 6,
     "metadata": {},
     "output_type": "execute_result"
    }
   ],
   "source": [
    "ds_full.head()"
   ]
  },
  {
   "cell_type": "markdown",
   "metadata": {},
   "source": [
    "#### Use openclean to profile the data set:"
   ]
  },
  {
   "cell_type": "code",
   "execution_count": 7,
   "metadata": {},
   "outputs": [],
   "source": [
    "from openclean.profiling.column import DefaultColumnProfiler\n",
    "\n",
    "#profiles = ds.profile(default_profiler=DefaultColumnProfiler)\n",
    "profiles = ds_full.profile(default_profiler=DefaultColumnProfiler)"
   ]
  },
  {
   "cell_type": "code",
   "execution_count": 8,
   "metadata": {
    "scrolled": false
   },
   "outputs": [
    {
     "data": {
      "text/html": [
       "<div>\n",
       "<style scoped>\n",
       "    .dataframe tbody tr th:only-of-type {\n",
       "        vertical-align: middle;\n",
       "    }\n",
       "\n",
       "    .dataframe tbody tr th {\n",
       "        vertical-align: top;\n",
       "    }\n",
       "\n",
       "    .dataframe thead th {\n",
       "        text-align: right;\n",
       "    }\n",
       "</style>\n",
       "<table border=\"1\" class=\"dataframe\">\n",
       "  <thead>\n",
       "    <tr style=\"text-align: right;\">\n",
       "      <th></th>\n",
       "      <th>total</th>\n",
       "      <th>empty</th>\n",
       "      <th>distinct</th>\n",
       "      <th>uniqueness</th>\n",
       "      <th>entropy</th>\n",
       "    </tr>\n",
       "  </thead>\n",
       "  <tbody>\n",
       "    <tr>\n",
       "      <th>EVNT_KEY</th>\n",
       "      <td>377501</td>\n",
       "      <td>0</td>\n",
       "      <td>377501</td>\n",
       "      <td>1.000000</td>\n",
       "      <td>18.526121</td>\n",
       "    </tr>\n",
       "    <tr>\n",
       "      <th>VIOLATION_DATE</th>\n",
       "      <td>377501</td>\n",
       "      <td>0</td>\n",
       "      <td>273</td>\n",
       "      <td>0.000723</td>\n",
       "      <td>7.972660</td>\n",
       "    </tr>\n",
       "    <tr>\n",
       "      <th>VIOLATION_TIME</th>\n",
       "      <td>377501</td>\n",
       "      <td>0</td>\n",
       "      <td>58833</td>\n",
       "      <td>0.155849</td>\n",
       "      <td>13.781449</td>\n",
       "    </tr>\n",
       "    <tr>\n",
       "      <th>CHG_LAW_CD</th>\n",
       "      <td>377501</td>\n",
       "      <td>0</td>\n",
       "      <td>2</td>\n",
       "      <td>0.000005</td>\n",
       "      <td>0.559410</td>\n",
       "    </tr>\n",
       "    <tr>\n",
       "      <th>VIOLATION_CODE</th>\n",
       "      <td>377501</td>\n",
       "      <td>0</td>\n",
       "      <td>375</td>\n",
       "      <td>0.000993</td>\n",
       "      <td>5.079496</td>\n",
       "    </tr>\n",
       "    <tr>\n",
       "      <th>VEH_CATEGORY</th>\n",
       "      <td>377501</td>\n",
       "      <td>0</td>\n",
       "      <td>6</td>\n",
       "      <td>0.000016</td>\n",
       "      <td>0.772714</td>\n",
       "    </tr>\n",
       "    <tr>\n",
       "      <th>CITY_NM</th>\n",
       "      <td>377501</td>\n",
       "      <td>8</td>\n",
       "      <td>6</td>\n",
       "      <td>0.000016</td>\n",
       "      <td>2.298109</td>\n",
       "    </tr>\n",
       "    <tr>\n",
       "      <th>RPT_OWNING_CMD</th>\n",
       "      <td>377501</td>\n",
       "      <td>0</td>\n",
       "      <td>83</td>\n",
       "      <td>0.000220</td>\n",
       "      <td>6.186397</td>\n",
       "    </tr>\n",
       "    <tr>\n",
       "      <th>X_COORD_CD</th>\n",
       "      <td>377501</td>\n",
       "      <td>1966</td>\n",
       "      <td>17489</td>\n",
       "      <td>0.046571</td>\n",
       "      <td>11.514411</td>\n",
       "    </tr>\n",
       "    <tr>\n",
       "      <th>Y_COORD_CD</th>\n",
       "      <td>377501</td>\n",
       "      <td>1966</td>\n",
       "      <td>18113</td>\n",
       "      <td>0.048233</td>\n",
       "      <td>11.536104</td>\n",
       "    </tr>\n",
       "    <tr>\n",
       "      <th>Latitude</th>\n",
       "      <td>377501</td>\n",
       "      <td>1966</td>\n",
       "      <td>19189</td>\n",
       "      <td>0.051098</td>\n",
       "      <td>11.575040</td>\n",
       "    </tr>\n",
       "    <tr>\n",
       "      <th>Longitude</th>\n",
       "      <td>377501</td>\n",
       "      <td>1966</td>\n",
       "      <td>19143</td>\n",
       "      <td>0.050975</td>\n",
       "      <td>11.574046</td>\n",
       "    </tr>\n",
       "    <tr>\n",
       "      <th>Location Point</th>\n",
       "      <td>377501</td>\n",
       "      <td>1966</td>\n",
       "      <td>19948</td>\n",
       "      <td>0.053119</td>\n",
       "      <td>11.612397</td>\n",
       "    </tr>\n",
       "    <tr>\n",
       "      <th>JURIS_CD</th>\n",
       "      <td>377501</td>\n",
       "      <td>0</td>\n",
       "      <td>1</td>\n",
       "      <td>0.000003</td>\n",
       "      <td>0.000000</td>\n",
       "    </tr>\n",
       "  </tbody>\n",
       "</table>\n",
       "</div>"
      ],
      "text/plain": [
       "                 total  empty  distinct  uniqueness    entropy\n",
       "EVNT_KEY        377501      0    377501    1.000000  18.526121\n",
       "VIOLATION_DATE  377501      0       273    0.000723   7.972660\n",
       "VIOLATION_TIME  377501      0     58833    0.155849  13.781449\n",
       "CHG_LAW_CD      377501      0         2    0.000005   0.559410\n",
       "VIOLATION_CODE  377501      0       375    0.000993   5.079496\n",
       "VEH_CATEGORY    377501      0         6    0.000016   0.772714\n",
       "CITY_NM         377501      8         6    0.000016   2.298109\n",
       "RPT_OWNING_CMD  377501      0        83    0.000220   6.186397\n",
       "X_COORD_CD      377501   1966     17489    0.046571  11.514411\n",
       "Y_COORD_CD      377501   1966     18113    0.048233  11.536104\n",
       "Latitude        377501   1966     19189    0.051098  11.575040\n",
       "Longitude       377501   1966     19143    0.050975  11.574046\n",
       "Location Point  377501   1966     19948    0.053119  11.612397\n",
       "JURIS_CD        377501      0         1    0.000003   0.000000"
      ]
     },
     "execution_count": 8,
     "metadata": {},
     "output_type": "execute_result"
    }
   ],
   "source": [
    "profiles.stats()"
   ]
  },
  {
   "cell_type": "code",
   "execution_count": 9,
   "metadata": {},
   "outputs": [
    {
     "name": "stdout",
     "output_type": "stream",
     "text": [
      "Schema\n",
      "------\n",
      "  'EVNT_KEY' (int)\n",
      "  'VIOLATION_DATE' (date)\n",
      "  'VIOLATION_TIME' (date)\n",
      "  'CHG_LAW_CD' (str)\n",
      "  'VIOLATION_CODE' (str)\n",
      "  'VEH_CATEGORY' (str)\n",
      "  'CITY_NM' (str)\n",
      "  'RPT_OWNING_CMD' (int)\n",
      "  'X_COORD_CD' (int)\n",
      "  'Y_COORD_CD' (int)\n",
      "  'Latitude' (float)\n",
      "  'Longitude' (float)\n",
      "  'Location Point' (str)\n",
      "  'JURIS_CD' (int)\n"
     ]
    }
   ],
   "source": [
    "# Print the most frequent data type for each column.\n",
    "\n",
    "print('Schema\\n------')\n",
    "for col in ds_full.columns:\n",
    "    p = profiles.column(col)\n",
    "    print(\"  '{}' ({})\".format(col, p['datatypes']['distinct'].most_common(1)[0][0]))"
   ]
  },
  {
   "cell_type": "markdown",
   "metadata": {},
   "source": [
    "### Field Name & Description:\n",
    "    'CMPLNT_NUM' (int)                 Complaint Number\n",
    "    'CMPLNT_FR_DT' (date)              Complaint From Date\n",
    "    'CMPLNT_FR_TM' (date)              Complaint From Time\n",
    "    'CMPLNT_TO_DT' (date)              Complaint To Date\n",
    "    'CMPLNT_TO_TM' (date)              Complaint To Time\n",
    "    'ADDR_PCT_CD' (int)                Code of Precinct in which the Incident Occured\n",
    "    'RPT_DT' (date)                    Report Date\n",
    "    'KY_CD' (int)                      \"Key Code\": Offense Classification Code (3 digits)\n",
    "    'OFNS_DESC' (str)                  Offense Description\n",
    "    'PD_CD' (int)                      PD Code of Offense. More granular than Key Code\n",
    "    'PD_DESC' (str)                    PD Description of Offense.\n",
    "    'CRM_ATPT_CPTD_CD' (str)           Whether Crime was Atempted or Completed (values: 'COMPLETED', 'ATTEMPTED')\n",
    "    'LAW_CAT_CD' (str)                 Level of Offense (values: 'FELONY', 'VIOLATION', 'MISDEMEANOR')\n",
    "    'BORO_NM' (str)                    Name of Borough in which Incident Occurred\n",
    "    'LOC_OF_OCCUR_DESC' (str)          Description of where the incident occurred with respect to the premises\n",
    "                                       (values:'FRONT OF', 'REAR OF', 'OUTSIDE', 'INSIDE', 'OPPOSITE OF')\n",
    "    'PREM_TYP_DESC' (str)              Description of the type of premises in which the Incident Occurred\n",
    "    'JURIS_DESC' (str)                 Description of Jurisdiction in which Incident Occurred\n",
    "    'JURISDICTION_CODE' (int)          Jurisdiction Code\n",
    "    'PARKS_NM' (str)                   Name of Park in which Incident Occurred, if Applicable\n",
    "    'HADEVELOPT' (str)                 Name of NYCHA Housing Development in which Incident Occurred, if Applicable\n",
    "    'HOUSING_PSA' (int)                Housing PSA\n",
    "    'X_COORD_CD' (int)                 X-coordinate, New York State Plane Coordinate System\n",
    "    'Y_COORD_CD' (int)                 Y-coordinate, New York State Plane Coordinate System\n",
    "    'SUSP_AGE_GROUP' (int)             Age Group of Suspect\n",
    "    'SUSP_RACE' (str)                  Race of Suspect\n",
    "    'SUSP_SEX' (str)                   Sex of Suspect\n",
    "    'TRANSIT_DISTRICT' (int)           Transit-District code\n",
    "    'Latitude' (float)                 Global Latitude of Location where Incident Occurred\n",
    "    'Longitude' (float)                Global Longitude of Location where Incident Occured\n",
    "    'Lat_Lon' (str)                    'Latitude' and 'Longitude' together\n",
    "    'PATROL_BORO' (str)                Patrol Borough\n",
    "    'STATION_NAME' (str)               Station Name\n",
    "    'VIC_AGE_GROUP' (int)              Age Group of Victim\n",
    "    'VIC_RACE' (str)                   Race of Victim\n",
    "    'VIC_SEX' (str)                    Sex of Victim\n",
    "    \n",
    "    \n",
    "    (Note: some field descriptions were taken from https://www1.nyc.gov/assets/nypd/downloads/pdf/analysis_and_planning/incident_level_data_footnotes.pdf)\n",
    "   "
   ]
  },
  {
   "cell_type": "markdown",
   "metadata": {},
   "source": [
    "## Profiling & Cleaning of each field in the data set"
   ]
  },
  {
   "cell_type": "code",
   "execution_count": 10,
   "metadata": {},
   "outputs": [
    {
     "data": {
      "text/html": [
       "<div>\n",
       "<style scoped>\n",
       "    .dataframe tbody tr th:only-of-type {\n",
       "        vertical-align: middle;\n",
       "    }\n",
       "\n",
       "    .dataframe tbody tr th {\n",
       "        vertical-align: top;\n",
       "    }\n",
       "\n",
       "    .dataframe thead th {\n",
       "        text-align: right;\n",
       "    }\n",
       "</style>\n",
       "<table border=\"1\" class=\"dataframe\">\n",
       "  <thead>\n",
       "    <tr style=\"text-align: right;\">\n",
       "      <th></th>\n",
       "      <th>min</th>\n",
       "      <th>max</th>\n",
       "    </tr>\n",
       "  </thead>\n",
       "  <tbody>\n",
       "    <tr>\n",
       "      <th>int</th>\n",
       "      <td>144077558</td>\n",
       "      <td>234617922</td>\n",
       "    </tr>\n",
       "  </tbody>\n",
       "</table>\n",
       "</div>"
      ],
      "text/plain": [
       "           min        max\n",
       "int  144077558  234617922"
      ]
     },
     "execution_count": 10,
     "metadata": {},
     "output_type": "execute_result"
    }
   ],
   "source": [
    "profiles.minmax('EVNT_KEY')"
   ]
  },
  {
   "cell_type": "raw",
   "metadata": {},
   "source": [
    "All event keys are distinct and no values are empty.Hence, no further cleaning is required."
   ]
  },
  {
   "cell_type": "code",
   "execution_count": 12,
   "metadata": {},
   "outputs": [
    {
     "data": {
      "text/html": [
       "<div>\n",
       "<style scoped>\n",
       "    .dataframe tbody tr th:only-of-type {\n",
       "        vertical-align: middle;\n",
       "    }\n",
       "\n",
       "    .dataframe tbody tr th {\n",
       "        vertical-align: top;\n",
       "    }\n",
       "\n",
       "    .dataframe thead th {\n",
       "        text-align: right;\n",
       "    }\n",
       "</style>\n",
       "<table border=\"1\" class=\"dataframe\">\n",
       "  <thead>\n",
       "    <tr style=\"text-align: right;\">\n",
       "      <th></th>\n",
       "      <th>min</th>\n",
       "      <th>max</th>\n",
       "    </tr>\n",
       "  </thead>\n",
       "  <tbody>\n",
       "    <tr>\n",
       "      <th>date</th>\n",
       "      <td>2021-01-01</td>\n",
       "      <td>2021-09-30</td>\n",
       "    </tr>\n",
       "  </tbody>\n",
       "</table>\n",
       "</div>"
      ],
      "text/plain": [
       "            min        max\n",
       "date 2021-01-01 2021-09-30"
      ]
     },
     "execution_count": 12,
     "metadata": {},
     "output_type": "execute_result"
    }
   ],
   "source": [
    "profiles.minmax('VIOLATION_DATE')"
   ]
  },
  {
   "cell_type": "code",
   "execution_count": 13,
   "metadata": {},
   "outputs": [],
   "source": [
    "from datetime import datetime\n",
    "#datetime.strptime('2014-12-04', '%Y-%m-%d').date()\n",
    "\n",
    "\n",
    "def validate_date(sourceValue):\n",
    "    dummy_date = datetime.strptime(\"01/01/1000\", '%m/%d/%Y').date()\n",
    "    \n",
    "    try:\n",
    "        source_date = sourceValue\n",
    "        start_date = datetime.strptime(\"01/01/2021\", '%m/%d/%Y').date()\n",
    "        end_date = datetime.strptime(\"09/30/2019\", '%m/%d/%Y').date()\n",
    "    \n",
    "        if source_date == '':\n",
    "            source_date = dummy_date\n",
    "        \n",
    "        source_date = datetime.strptime(sourceValue, '%m/%d/%Y').date()\n",
    "        \n",
    "        if source_date >= start_date and source_date <= end_date:\n",
    "            return source_date\n",
    "        else:\n",
    "            return dummy_date\n",
    "    except:\n",
    "        return dummy_date\n",
    "    \n",
    "\n",
    "ds_full = ds_full.update('VIOLATION_DATE', validate_date)"
   ]
  },
  {
   "cell_type": "code",
   "execution_count": 14,
   "metadata": {},
   "outputs": [
    {
     "data": {
      "text/html": [
       "<div>\n",
       "<style scoped>\n",
       "    .dataframe tbody tr th:only-of-type {\n",
       "        vertical-align: middle;\n",
       "    }\n",
       "\n",
       "    .dataframe tbody tr th {\n",
       "        vertical-align: top;\n",
       "    }\n",
       "\n",
       "    .dataframe thead th {\n",
       "        text-align: right;\n",
       "    }\n",
       "</style>\n",
       "<table border=\"1\" class=\"dataframe\">\n",
       "  <thead>\n",
       "    <tr style=\"text-align: right;\">\n",
       "      <th></th>\n",
       "      <th>min</th>\n",
       "      <th>max</th>\n",
       "    </tr>\n",
       "  </thead>\n",
       "  <tbody>\n",
       "    <tr>\n",
       "      <th>date</th>\n",
       "      <td>2021-12-11</td>\n",
       "      <td>2021-12-11 23:59:59</td>\n",
       "    </tr>\n",
       "  </tbody>\n",
       "</table>\n",
       "</div>"
      ],
      "text/plain": [
       "            min                 max\n",
       "date 2021-12-11 2021-12-11 23:59:59"
      ]
     },
     "execution_count": 14,
     "metadata": {},
     "output_type": "execute_result"
    }
   ],
   "source": [
    "profiles.minmax('VIOLATION_TIME')"
   ]
  },
  {
   "cell_type": "code",
   "execution_count": 15,
   "metadata": {},
   "outputs": [
    {
     "data": {
      "text/html": [
       "<div>\n",
       "<style scoped>\n",
       "    .dataframe tbody tr th:only-of-type {\n",
       "        vertical-align: middle;\n",
       "    }\n",
       "\n",
       "    .dataframe tbody tr th {\n",
       "        vertical-align: top;\n",
       "    }\n",
       "\n",
       "    .dataframe thead th {\n",
       "        text-align: right;\n",
       "    }\n",
       "</style>\n",
       "<table border=\"1\" class=\"dataframe\">\n",
       "  <thead>\n",
       "    <tr style=\"text-align: right;\">\n",
       "      <th></th>\n",
       "      <th>min</th>\n",
       "      <th>max</th>\n",
       "    </tr>\n",
       "  </thead>\n",
       "  <tbody>\n",
       "    <tr>\n",
       "      <th>int</th>\n",
       "      <td>1</td>\n",
       "      <td>442</td>\n",
       "    </tr>\n",
       "  </tbody>\n",
       "</table>\n",
       "</div>"
      ],
      "text/plain": [
       "     min  max\n",
       "int    1  442"
      ]
     },
     "execution_count": 15,
     "metadata": {},
     "output_type": "execute_result"
    }
   ],
   "source": [
    "profiles.minmax('RPT_OWNING_CMD')"
   ]
  },
  {
   "cell_type": "code",
   "execution_count": 16,
   "metadata": {},
   "outputs": [
    {
     "data": {
      "text/plain": [
       "[('411', 14787),\n",
       " ('413', 14328),\n",
       " ('412', 14086),\n",
       " ('442', 10940),\n",
       " ('70', 7123),\n",
       " ('40', 7060),\n",
       " ('14', 6782),\n",
       " ('75', 6752),\n",
       " ('17', 6447),\n",
       " ('113', 6148)]"
      ]
     },
     "execution_count": 16,
     "metadata": {},
     "output_type": "execute_result"
    }
   ],
   "source": [
    "profiles.column('RPT_OWNING_CMD').get('topValues')"
   ]
  },
  {
   "cell_type": "code",
   "execution_count": 19,
   "metadata": {},
   "outputs": [
    {
     "data": {
      "text/html": [
       "<div>\n",
       "<style scoped>\n",
       "    .dataframe tbody tr th:only-of-type {\n",
       "        vertical-align: middle;\n",
       "    }\n",
       "\n",
       "    .dataframe tbody tr th {\n",
       "        vertical-align: top;\n",
       "    }\n",
       "\n",
       "    .dataframe thead th {\n",
       "        text-align: right;\n",
       "    }\n",
       "</style>\n",
       "<table border=\"1\" class=\"dataframe\">\n",
       "  <thead>\n",
       "    <tr style=\"text-align: right;\">\n",
       "      <th></th>\n",
       "      <th>min</th>\n",
       "      <th>max</th>\n",
       "    </tr>\n",
       "  </thead>\n",
       "  <tbody>\n",
       "    <tr>\n",
       "      <th>str</th>\n",
       "      <td>NYC</td>\n",
       "      <td>VTL</td>\n",
       "    </tr>\n",
       "  </tbody>\n",
       "</table>\n",
       "</div>"
      ],
      "text/plain": [
       "     min  max\n",
       "str  NYC  VTL"
      ]
     },
     "execution_count": 19,
     "metadata": {},
     "output_type": "execute_result"
    }
   ],
   "source": [
    "profiles.minmax('CHG_LAW_CD')"
   ]
  },
  {
   "cell_type": "code",
   "execution_count": 20,
   "metadata": {},
   "outputs": [
    {
     "data": {
      "text/plain": [
       "[('VTL', 328154), ('NYC', 49347)]"
      ]
     },
     "execution_count": 20,
     "metadata": {},
     "output_type": "execute_result"
    }
   ],
   "source": [
    "profiles.column('CHG_LAW_CD').get('topValues')"
   ]
  },
  {
   "cell_type": "code",
   "execution_count": 21,
   "metadata": {},
   "outputs": [
    {
     "data": {
      "text/plain": [
       "[('CAR/SUV', 328738),\n",
       " ('MCL', 20861),\n",
       " ('TRUCK/BUS', 15411),\n",
       " ('BIKE', 11202),\n",
       " ('ZZZ', 1209),\n",
       " ('ATV', 80)]"
      ]
     },
     "execution_count": 21,
     "metadata": {},
     "output_type": "execute_result"
    }
   ],
   "source": [
    "profiles.column('VEH_CATEGORY').get('topValues')"
   ]
  },
  {
   "cell_type": "code",
   "execution_count": 22,
   "metadata": {
    "scrolled": true
   },
   "outputs": [
    {
     "data": {
      "text/plain": [
       "Counter({'CAR/SUV': 328738,\n",
       "         'MCL': 20861,\n",
       "         'TRUCK/BUS': 15411,\n",
       "         'BIKE': 11202,\n",
       "         'ZZZ': 1209,\n",
       "         'ATV': 80})"
      ]
     },
     "execution_count": 22,
     "metadata": {},
     "output_type": "execute_result"
    }
   ],
   "source": [
    "ds_full.distinct('VEH_CATEGORY')"
   ]
  },
  {
   "cell_type": "code",
   "execution_count": 23,
   "metadata": {},
   "outputs": [
    {
     "data": {
      "text/html": [
       "<div>\n",
       "<style scoped>\n",
       "    .dataframe tbody tr th:only-of-type {\n",
       "        vertical-align: middle;\n",
       "    }\n",
       "\n",
       "    .dataframe tbody tr th {\n",
       "        vertical-align: top;\n",
       "    }\n",
       "\n",
       "    .dataframe thead th {\n",
       "        text-align: right;\n",
       "    }\n",
       "</style>\n",
       "<table border=\"1\" class=\"dataframe\">\n",
       "  <thead>\n",
       "    <tr style=\"text-align: right;\">\n",
       "      <th></th>\n",
       "      <th>min</th>\n",
       "      <th>max</th>\n",
       "    </tr>\n",
       "  </thead>\n",
       "  <tbody>\n",
       "    <tr>\n",
       "      <th>str</th>\n",
       "      <td>10127B</td>\n",
       "      <td>6001A</td>\n",
       "    </tr>\n",
       "    <tr>\n",
       "      <th>int</th>\n",
       "      <td>413</td>\n",
       "      <td>375415</td>\n",
       "    </tr>\n",
       "    <tr>\n",
       "      <th>float</th>\n",
       "      <td>4.08e+07</td>\n",
       "      <td>4.08e+07</td>\n",
       "    </tr>\n",
       "  </tbody>\n",
       "</table>\n",
       "</div>"
      ],
      "text/plain": [
       "            min       max\n",
       "str      10127B     6001A\n",
       "int         413    375415\n",
       "float  4.08e+07  4.08e+07"
      ]
     },
     "execution_count": 23,
     "metadata": {},
     "output_type": "execute_result"
    }
   ],
   "source": [
    "profiles.minmax('VIOLATION_CODE')"
   ]
  },
  {
   "cell_type": "code",
   "execution_count": 24,
   "metadata": {},
   "outputs": [
    {
     "data": {
      "text/plain": [
       "[('1180D', 64518),\n",
       " ('1110A', 41947),\n",
       " ('5091', 24723),\n",
       " ('1225D', 23730),\n",
       " ('403A1', 18785),\n",
       " ('1111D1N', 18638),\n",
       " ('1229C3A', 18078),\n",
       " ('406A1', 13293),\n",
       " ('1225C2A', 11155),\n",
       " ('1163AT', 9512)]"
      ]
     },
     "execution_count": 24,
     "metadata": {},
     "output_type": "execute_result"
    }
   ],
   "source": [
    "profiles.column('VIOLATION_CODE').get('topValues')"
   ]
  },
  {
   "cell_type": "code",
   "execution_count": 27,
   "metadata": {
    "scrolled": true
   },
   "outputs": [
    {
     "data": {
      "text/plain": [
       "Counter({'BROOKLYN': 120032,\n",
       "         'BRONX': 61634,\n",
       "         'QUEENS': 88150,\n",
       "         'MANHATTAN': 71581,\n",
       "         'NEW YORK': 8872,\n",
       "         'STATEN ISLAND': 27232})"
      ]
     },
     "execution_count": 27,
     "metadata": {},
     "output_type": "execute_result"
    }
   ],
   "source": [
    "ds_full.distinct('CITY_NM')"
   ]
  },
  {
   "cell_type": "code",
   "execution_count": 26,
   "metadata": {},
   "outputs": [],
   "source": [
    "def validate_boro_nm(sourceValue):\n",
    "    UNKNOWN = \"NEW YORK\"\n",
    "    \n",
    "    try:\n",
    "        values = [\"BRONX\",\"BROOKLYN\",\"MANHATTAN\",\"QUEENS\",\"STATEN ISLAND\",\"NEW YORK\"]\n",
    "        \n",
    "        if sourceValue in values:\n",
    "            return sourceValue\n",
    "        else:\n",
    "            return UNKNOWN\n",
    "    except:\n",
    "        return UNKNOWN\n",
    "\n",
    "    \n",
    "ds_full = ds_full.update('CITY_NM', validate_boro_nm)"
   ]
  },
  {
   "cell_type": "code",
   "execution_count": 28,
   "metadata": {},
   "outputs": [
    {
     "data": {
      "text/plain": [
       "[('1', 377501)]"
      ]
     },
     "execution_count": 28,
     "metadata": {},
     "output_type": "execute_result"
    }
   ],
   "source": [
    "profiles.column('JURIS_CD').get('topValues')"
   ]
  },
  {
   "cell_type": "code",
   "execution_count": 30,
   "metadata": {},
   "outputs": [
    {
     "data": {
      "text/plain": [
       "Counter({'1': 377501})"
      ]
     },
     "execution_count": 30,
     "metadata": {},
     "output_type": "execute_result"
    }
   ],
   "source": [
    "ds_full.distinct('JURIS_CD')"
   ]
  },
  {
   "cell_type": "code",
   "execution_count": 31,
   "metadata": {},
   "outputs": [
    {
     "data": {
      "text/html": [
       "<div>\n",
       "<style scoped>\n",
       "    .dataframe tbody tr th:only-of-type {\n",
       "        vertical-align: middle;\n",
       "    }\n",
       "\n",
       "    .dataframe tbody tr th {\n",
       "        vertical-align: top;\n",
       "    }\n",
       "\n",
       "    .dataframe thead th {\n",
       "        text-align: right;\n",
       "    }\n",
       "</style>\n",
       "<table border=\"1\" class=\"dataframe\">\n",
       "  <thead>\n",
       "    <tr style=\"text-align: right;\">\n",
       "      <th></th>\n",
       "      <th>min</th>\n",
       "      <th>max</th>\n",
       "    </tr>\n",
       "  </thead>\n",
       "  <tbody>\n",
       "    <tr>\n",
       "      <th>int</th>\n",
       "      <td>914210</td>\n",
       "      <td>1067113</td>\n",
       "    </tr>\n",
       "  </tbody>\n",
       "</table>\n",
       "</div>"
      ],
      "text/plain": [
       "        min      max\n",
       "int  914210  1067113"
      ]
     },
     "execution_count": 31,
     "metadata": {},
     "output_type": "execute_result"
    }
   ],
   "source": [
    "profiles.minmax('X_COORD_CD')"
   ]
  },
  {
   "cell_type": "code",
   "execution_count": 32,
   "metadata": {},
   "outputs": [
    {
     "data": {
      "text/html": [
       "<div>\n",
       "<style scoped>\n",
       "    .dataframe tbody tr th:only-of-type {\n",
       "        vertical-align: middle;\n",
       "    }\n",
       "\n",
       "    .dataframe tbody tr th {\n",
       "        vertical-align: top;\n",
       "    }\n",
       "\n",
       "    .dataframe thead th {\n",
       "        text-align: right;\n",
       "    }\n",
       "</style>\n",
       "<table border=\"1\" class=\"dataframe\">\n",
       "  <thead>\n",
       "    <tr style=\"text-align: right;\">\n",
       "      <th></th>\n",
       "      <th>min</th>\n",
       "      <th>max</th>\n",
       "    </tr>\n",
       "  </thead>\n",
       "  <tbody>\n",
       "    <tr>\n",
       "      <th>int</th>\n",
       "      <td>122552</td>\n",
       "      <td>271128</td>\n",
       "    </tr>\n",
       "  </tbody>\n",
       "</table>\n",
       "</div>"
      ],
      "text/plain": [
       "        min     max\n",
       "int  122552  271128"
      ]
     },
     "execution_count": 32,
     "metadata": {},
     "output_type": "execute_result"
    }
   ],
   "source": [
    "profiles.minmax('Y_COORD_CD')"
   ]
  },
  {
   "cell_type": "code",
   "execution_count": 33,
   "metadata": {},
   "outputs": [
    {
     "data": {
      "text/html": [
       "<div>\n",
       "<style scoped>\n",
       "    .dataframe tbody tr th:only-of-type {\n",
       "        vertical-align: middle;\n",
       "    }\n",
       "\n",
       "    .dataframe tbody tr th {\n",
       "        vertical-align: top;\n",
       "    }\n",
       "\n",
       "    .dataframe thead th {\n",
       "        text-align: right;\n",
       "    }\n",
       "</style>\n",
       "<table border=\"1\" class=\"dataframe\">\n",
       "  <thead>\n",
       "    <tr style=\"text-align: right;\">\n",
       "      <th></th>\n",
       "      <th>min</th>\n",
       "      <th>max</th>\n",
       "    </tr>\n",
       "  </thead>\n",
       "  <tbody>\n",
       "    <tr>\n",
       "      <th>float</th>\n",
       "      <td>40.502784</td>\n",
       "      <td>40.910819</td>\n",
       "    </tr>\n",
       "  </tbody>\n",
       "</table>\n",
       "</div>"
      ],
      "text/plain": [
       "             min        max\n",
       "float  40.502784  40.910819"
      ]
     },
     "execution_count": 33,
     "metadata": {},
     "output_type": "execute_result"
    }
   ],
   "source": [
    "profiles.minmax('Latitude')"
   ]
  },
  {
   "cell_type": "code",
   "execution_count": 34,
   "metadata": {},
   "outputs": [],
   "source": [
    "def validate_lat(sourceValue):\n",
    "    UNKNOWN = -999\n",
    "    \n",
    "    try:\n",
    "        if sourceValue >= 40 and sourceValue <= 41:  \n",
    "            return sourceValue\n",
    "        else:\n",
    "            return UNKNOWN\n",
    "    except:\n",
    "        return UNKNOWN\n",
    "\n",
    "    \n",
    "ds_full = ds_full.update('Latitude', validate_lat)"
   ]
  },
  {
   "cell_type": "code",
   "execution_count": 35,
   "metadata": {},
   "outputs": [
    {
     "data": {
      "text/html": [
       "<div>\n",
       "<style scoped>\n",
       "    .dataframe tbody tr th:only-of-type {\n",
       "        vertical-align: middle;\n",
       "    }\n",
       "\n",
       "    .dataframe tbody tr th {\n",
       "        vertical-align: top;\n",
       "    }\n",
       "\n",
       "    .dataframe thead th {\n",
       "        text-align: right;\n",
       "    }\n",
       "</style>\n",
       "<table border=\"1\" class=\"dataframe\">\n",
       "  <thead>\n",
       "    <tr style=\"text-align: right;\">\n",
       "      <th></th>\n",
       "      <th>min</th>\n",
       "      <th>max</th>\n",
       "    </tr>\n",
       "  </thead>\n",
       "  <tbody>\n",
       "    <tr>\n",
       "      <th>float</th>\n",
       "      <td>-74.251853</td>\n",
       "      <td>-73.700985</td>\n",
       "    </tr>\n",
       "  </tbody>\n",
       "</table>\n",
       "</div>"
      ],
      "text/plain": [
       "             min        max\n",
       "float -74.251853 -73.700985"
      ]
     },
     "execution_count": 35,
     "metadata": {},
     "output_type": "execute_result"
    }
   ],
   "source": [
    "profiles.minmax('Longitude')"
   ]
  },
  {
   "cell_type": "code",
   "execution_count": 36,
   "metadata": {},
   "outputs": [],
   "source": [
    "def validate_long(sourceValue):\n",
    "    UNKNOWN = -999\n",
    "    \n",
    "    try:\n",
    "        if sourceValue >= -74 and sourceValue <= -73:  \n",
    "            return sourceValue\n",
    "        else:\n",
    "            return UNKNOWN\n",
    "    except:\n",
    "        return UNKNOWN\n",
    "\n",
    "    \n",
    "ds_full = ds_full.update('Latitude', validate_long)"
   ]
  },
  {
   "cell_type": "code",
   "execution_count": 37,
   "metadata": {
    "scrolled": true
   },
   "outputs": [
    {
     "data": {
      "text/html": [
       "<div>\n",
       "<style scoped>\n",
       "    .dataframe tbody tr th:only-of-type {\n",
       "        vertical-align: middle;\n",
       "    }\n",
       "\n",
       "    .dataframe tbody tr th {\n",
       "        vertical-align: top;\n",
       "    }\n",
       "\n",
       "    .dataframe thead th {\n",
       "        text-align: right;\n",
       "    }\n",
       "</style>\n",
       "<table border=\"1\" class=\"dataframe\">\n",
       "  <thead>\n",
       "    <tr style=\"text-align: right;\">\n",
       "      <th></th>\n",
       "      <th>min</th>\n",
       "      <th>max</th>\n",
       "    </tr>\n",
       "  </thead>\n",
       "  <tbody>\n",
       "    <tr>\n",
       "      <th>str</th>\n",
       "      <td>POINT (-73.70098487999996 40.738904895000076)</td>\n",
       "      <td>POINT (-74.25185282599993 40.502813784000075)</td>\n",
       "    </tr>\n",
       "  </tbody>\n",
       "</table>\n",
       "</div>"
      ],
      "text/plain": [
       "                                               min  \\\n",
       "str  POINT (-73.70098487999996 40.738904895000076)   \n",
       "\n",
       "                                               max  \n",
       "str  POINT (-74.25185282599993 40.502813784000075)  "
      ]
     },
     "execution_count": 37,
     "metadata": {},
     "output_type": "execute_result"
    }
   ],
   "source": [
    "profiles.minmax('Location Point')"
   ]
  },
  {
   "cell_type": "code",
   "execution_count": 38,
   "metadata": {},
   "outputs": [],
   "source": [
    "SELECTED_COLUMNS = [\\\n",
    "    'EVNT_KEY',\\\n",
    "    'VIOLATION_DATE',\\\n",
    "    'VIOLATION_TIME',\\\n",
    "    'CHG_LAW_CD',\\\n",
    "    'VIOLATION_CODE',\\\n",
    "    'VEH_CATEGORY',\\\n",
    "    'CITY_NM',\\\n",
    "    'RPT_OWNING_CMD',\\\n",
    "    'X_COORD_CD',\\\n",
    "    'Y_COORD_CD',\\\n",
    "    'Latitude',\\\n",
    "    'Longitude',\\\n",
    "    'Location Point',\\\n",
    "    'JURIS_CD',\\\n",
    "\n",
    "]\n",
    "\n",
    "ds_full = ds_full.select(SELECTED_COLUMNS)"
   ]
  },
  {
   "cell_type": "code",
   "execution_count": 39,
   "metadata": {},
   "outputs": [
    {
     "data": {
      "text/plain": [
       "<openclean.pipeline.DataPipeline at 0x7fadd19fc9d0>"
      ]
     },
     "execution_count": 39,
     "metadata": {},
     "output_type": "execute_result"
    }
   ],
   "source": [
    "ds_full"
   ]
  },
  {
   "cell_type": "markdown",
   "metadata": {},
   "source": [
    "# VALIDATING DATA AFTER CLEANING"
   ]
  },
  {
   "cell_type": "code",
   "execution_count": 40,
   "metadata": {},
   "outputs": [],
   "source": [
    "data_df = pd.read_csv(\"NYPD-B-Summons-Year-to-Date.csv\")"
   ]
  },
  {
   "cell_type": "code",
   "execution_count": 42,
   "metadata": {},
   "outputs": [
    {
     "data": {
      "text/plain": [
       "0         1\n",
       "1         1\n",
       "2         1\n",
       "3         1\n",
       "4         1\n",
       "         ..\n",
       "377496    1\n",
       "377497    1\n",
       "377498    1\n",
       "377499    1\n",
       "377500    1\n",
       "Name: JURIS_CD, Length: 377501, dtype: int64"
      ]
     },
     "execution_count": 42,
     "metadata": {},
     "output_type": "execute_result"
    }
   ],
   "source": [
    "pd.to_numeric(data_df[\"JURIS_CD\"])"
   ]
  },
  {
   "cell_type": "code",
   "execution_count": 44,
   "metadata": {},
   "outputs": [],
   "source": [
    "data_df = data_df.dropna()"
   ]
  },
  {
   "cell_type": "code",
   "execution_count": 45,
   "metadata": {},
   "outputs": [
    {
     "name": "stdout",
     "output_type": "stream",
     "text": [
      "<class 'pandas.core.frame.DataFrame'>\n",
      "Int64Index: 375527 entries, 32 to 377500\n",
      "Data columns (total 14 columns):\n",
      " #   Column          Non-Null Count   Dtype  \n",
      "---  ------          --------------   -----  \n",
      " 0   EVNT_KEY        375527 non-null  int64  \n",
      " 1   VIOLATION_DATE  375527 non-null  object \n",
      " 2   VIOLATION_TIME  375527 non-null  object \n",
      " 3   CHG_LAW_CD      375527 non-null  object \n",
      " 4   VIOLATION_CODE  375527 non-null  object \n",
      " 5   VEH_CATEGORY    375527 non-null  object \n",
      " 6   CITY_NM         375527 non-null  object \n",
      " 7   RPT_OWNING_CMD  375527 non-null  int64  \n",
      " 8   X_COORD_CD      375527 non-null  float64\n",
      " 9   Y_COORD_CD      375527 non-null  float64\n",
      " 10  Latitude        375527 non-null  float64\n",
      " 11  Longitude       375527 non-null  float64\n",
      " 12  Location Point  375527 non-null  object \n",
      " 13  JURIS_CD        375527 non-null  int64  \n",
      "dtypes: float64(4), int64(3), object(7)\n",
      "memory usage: 43.0+ MB\n"
     ]
    }
   ],
   "source": [
    "data_df.info()"
   ]
  },
  {
   "cell_type": "code",
   "execution_count": 46,
   "metadata": {},
   "outputs": [
    {
     "data": {
      "text/html": [
       "<div>\n",
       "<style scoped>\n",
       "    .dataframe tbody tr th:only-of-type {\n",
       "        vertical-align: middle;\n",
       "    }\n",
       "\n",
       "    .dataframe tbody tr th {\n",
       "        vertical-align: top;\n",
       "    }\n",
       "\n",
       "    .dataframe thead th {\n",
       "        text-align: right;\n",
       "    }\n",
       "</style>\n",
       "<table border=\"1\" class=\"dataframe\">\n",
       "  <thead>\n",
       "    <tr style=\"text-align: right;\">\n",
       "      <th></th>\n",
       "      <th>total</th>\n",
       "      <th>empty</th>\n",
       "      <th>distinct</th>\n",
       "      <th>uniqueness</th>\n",
       "      <th>entropy</th>\n",
       "    </tr>\n",
       "  </thead>\n",
       "  <tbody>\n",
       "    <tr>\n",
       "      <th>EVNT_KEY</th>\n",
       "      <td>375527</td>\n",
       "      <td>0</td>\n",
       "      <td>375527</td>\n",
       "      <td>1.000000</td>\n",
       "      <td>18.518557</td>\n",
       "    </tr>\n",
       "    <tr>\n",
       "      <th>VIOLATION_DATE</th>\n",
       "      <td>375527</td>\n",
       "      <td>0</td>\n",
       "      <td>273</td>\n",
       "      <td>0.000727</td>\n",
       "      <td>7.973223</td>\n",
       "    </tr>\n",
       "    <tr>\n",
       "      <th>VIOLATION_TIME</th>\n",
       "      <td>375527</td>\n",
       "      <td>0</td>\n",
       "      <td>58758</td>\n",
       "      <td>0.156468</td>\n",
       "      <td>13.781430</td>\n",
       "    </tr>\n",
       "    <tr>\n",
       "      <th>CHG_LAW_CD</th>\n",
       "      <td>375527</td>\n",
       "      <td>0</td>\n",
       "      <td>2</td>\n",
       "      <td>0.000005</td>\n",
       "      <td>0.559163</td>\n",
       "    </tr>\n",
       "    <tr>\n",
       "      <th>VIOLATION_CODE</th>\n",
       "      <td>375527</td>\n",
       "      <td>0</td>\n",
       "      <td>375</td>\n",
       "      <td>0.000999</td>\n",
       "      <td>5.078146</td>\n",
       "    </tr>\n",
       "    <tr>\n",
       "      <th>VEH_CATEGORY</th>\n",
       "      <td>375527</td>\n",
       "      <td>0</td>\n",
       "      <td>6</td>\n",
       "      <td>0.000016</td>\n",
       "      <td>0.771661</td>\n",
       "    </tr>\n",
       "    <tr>\n",
       "      <th>CITY_NM</th>\n",
       "      <td>375527</td>\n",
       "      <td>0</td>\n",
       "      <td>6</td>\n",
       "      <td>0.000016</td>\n",
       "      <td>2.298166</td>\n",
       "    </tr>\n",
       "    <tr>\n",
       "      <th>RPT_OWNING_CMD</th>\n",
       "      <td>375527</td>\n",
       "      <td>0</td>\n",
       "      <td>83</td>\n",
       "      <td>0.000221</td>\n",
       "      <td>6.186042</td>\n",
       "    </tr>\n",
       "    <tr>\n",
       "      <th>X_COORD_CD</th>\n",
       "      <td>375527</td>\n",
       "      <td>0</td>\n",
       "      <td>17489</td>\n",
       "      <td>0.046572</td>\n",
       "      <td>11.514424</td>\n",
       "    </tr>\n",
       "    <tr>\n",
       "      <th>Y_COORD_CD</th>\n",
       "      <td>375527</td>\n",
       "      <td>0</td>\n",
       "      <td>18113</td>\n",
       "      <td>0.048234</td>\n",
       "      <td>11.536118</td>\n",
       "    </tr>\n",
       "    <tr>\n",
       "      <th>Latitude</th>\n",
       "      <td>375527</td>\n",
       "      <td>0</td>\n",
       "      <td>19189</td>\n",
       "      <td>0.051099</td>\n",
       "      <td>11.575054</td>\n",
       "    </tr>\n",
       "    <tr>\n",
       "      <th>Longitude</th>\n",
       "      <td>375527</td>\n",
       "      <td>0</td>\n",
       "      <td>19143</td>\n",
       "      <td>0.050976</td>\n",
       "      <td>11.574060</td>\n",
       "    </tr>\n",
       "    <tr>\n",
       "      <th>Location Point</th>\n",
       "      <td>375527</td>\n",
       "      <td>0</td>\n",
       "      <td>19948</td>\n",
       "      <td>0.053120</td>\n",
       "      <td>11.612411</td>\n",
       "    </tr>\n",
       "    <tr>\n",
       "      <th>JURIS_CD</th>\n",
       "      <td>375527</td>\n",
       "      <td>0</td>\n",
       "      <td>1</td>\n",
       "      <td>0.000003</td>\n",
       "      <td>0.000000</td>\n",
       "    </tr>\n",
       "  </tbody>\n",
       "</table>\n",
       "</div>"
      ],
      "text/plain": [
       "                 total  empty  distinct  uniqueness    entropy\n",
       "EVNT_KEY        375527      0    375527    1.000000  18.518557\n",
       "VIOLATION_DATE  375527      0       273    0.000727   7.973223\n",
       "VIOLATION_TIME  375527      0     58758    0.156468  13.781430\n",
       "CHG_LAW_CD      375527      0         2    0.000005   0.559163\n",
       "VIOLATION_CODE  375527      0       375    0.000999   5.078146\n",
       "VEH_CATEGORY    375527      0         6    0.000016   0.771661\n",
       "CITY_NM         375527      0         6    0.000016   2.298166\n",
       "RPT_OWNING_CMD  375527      0        83    0.000221   6.186042\n",
       "X_COORD_CD      375527      0     17489    0.046572  11.514424\n",
       "Y_COORD_CD      375527      0     18113    0.048234  11.536118\n",
       "Latitude        375527      0     19189    0.051099  11.575054\n",
       "Longitude       375527      0     19143    0.050976  11.574060\n",
       "Location Point  375527      0     19948    0.053120  11.612411\n",
       "JURIS_CD        375527      0         1    0.000003   0.000000"
      ]
     },
     "execution_count": 46,
     "metadata": {},
     "output_type": "execute_result"
    }
   ],
   "source": [
    "ds_full_jc = stream(data_df)\n",
    "profiles = ds_full_jc.profile(default_profiler=DefaultColumnProfiler)\n",
    "profiles.stats()"
   ]
  },
  {
   "cell_type": "code",
   "execution_count": 47,
   "metadata": {},
   "outputs": [],
   "source": [
    "data_df.to_csv('filtered5.csv')"
   ]
  },
  {
   "cell_type": "code",
   "execution_count": null,
   "metadata": {},
   "outputs": [],
   "source": []
  }
 ],
 "metadata": {
  "kernelspec": {
   "display_name": "Python 3",
   "language": "python",
   "name": "python3"
  },
  "language_info": {
   "codemirror_mode": {
    "name": "ipython",
    "version": 3
   },
   "file_extension": ".py",
   "mimetype": "text/x-python",
   "name": "python",
   "nbconvert_exporter": "python",
   "pygments_lexer": "ipython3",
   "version": "3.8.5"
  }
 },
 "nbformat": 4,
 "nbformat_minor": 5
}
